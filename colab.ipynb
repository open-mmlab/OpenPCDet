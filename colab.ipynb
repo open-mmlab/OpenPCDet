{
  "nbformat": 4,
  "nbformat_minor": 0,
  "metadata": {
    "colab": {
      "name": "Git_repos.ipynb",
      "provenance": [],
      "include_colab_link": true
    },
    "kernelspec": {
      "display_name": "Python 3",
      "name": "python3"
    },
    "language_info": {
      "name": "python"
    },
    "accelerator": "GPU",
    "gpuClass": "standard"
  },
  "cells": [
    {
      "cell_type": "markdown",
      "metadata": {
        "id": "view-in-github",
        "colab_type": "text"
      },
      "source": [
        "<a href=\"https://colab.research.google.com/github/souravraha/OpenPCDet/blob/master/colab.ipynb\" target=\"_parent\"><img src=\"https://colab.research.google.com/assets/colab-badge.svg\" alt=\"Open In Colab\"/></a>"
      ]
    },
    {
      "cell_type": "markdown",
      "source": [
        "## OpenPCDet"
      ],
      "metadata": {
        "id": "6C0WfYnk1U_Y"
      }
    },
    {
      "cell_type": "code",
      "metadata": {
        "colab": {
          "base_uri": "https://localhost:8080/"
        },
        "id": "CilkAW8b_Ywb",
        "outputId": "9e05f0e6-df3b-4e9a-83ae-8ccbe2d3d378"
      },
      "source": [
        "!git clone https://github.com/souravraha/OpenPCDet.git\n",
        "%cd OpenPCDet/"
      ],
      "execution_count": 1,
      "outputs": [
        {
          "output_type": "stream",
          "name": "stdout",
          "text": [
            "Cloning into 'OpenPCDet'...\n",
            "remote: Enumerating objects: 3002, done.\u001b[K\n",
            "remote: Counting objects: 100% (102/102), done.\u001b[K\n",
            "remote: Compressing objects: 100% (66/66), done.\u001b[K\n",
            "remote: Total 3002 (delta 41), reused 77 (delta 34), pack-reused 2900\u001b[K\n",
            "Receiving objects: 100% (3002/3002), 2.69 MiB | 4.17 MiB/s, done.\n",
            "Resolving deltas: 100% (1850/1850), done.\n",
            "/content/OpenPCDet\n"
          ]
        }
      ]
    },
    {
      "cell_type": "code",
      "source": [
        "# !git remote add origin https://github.com/souravraha/OpenPCDet.git\n",
        "!git remote add upstream https://github.com/open-mmlab/OpenPCDet.git\n",
        "!git remote -v"
      ],
      "metadata": {
        "colab": {
          "base_uri": "https://localhost:8080/"
        },
        "id": "71DEk6u32b5u",
        "outputId": "2ded14c8-950e-4993-c9be-27500d31817a"
      },
      "execution_count": 2,
      "outputs": [
        {
          "output_type": "stream",
          "name": "stdout",
          "text": [
            "origin\thttps://github.com/souravraha/OpenPCDet.git (fetch)\n",
            "origin\thttps://github.com/souravraha/OpenPCDet.git (push)\n",
            "upstream\thttps://github.com/open-mmlab/OpenPCDet.git (fetch)\n",
            "upstream\thttps://github.com/open-mmlab/OpenPCDet.git (push)\n"
          ]
        }
      ]
    },
    {
      "cell_type": "code",
      "source": [
        "!git pull upstream master\n",
        "!git checkout -b dry_run\n",
        "!git branch"
      ],
      "metadata": {
        "colab": {
          "base_uri": "https://localhost:8080/"
        },
        "id": "Iu7KcF9S2-Qj",
        "outputId": "961d7f51-45c0-482e-c463-c0c7136fd343"
      },
      "execution_count": 3,
      "outputs": [
        {
          "output_type": "stream",
          "name": "stdout",
          "text": [
            "From https://github.com/open-mmlab/OpenPCDet\n",
            " * branch            master     -> FETCH_HEAD\n",
            " * [new branch]      master     -> upstream/master\n",
            "Already up to date.\n",
            "Switched to a new branch 'dry_run'\n",
            "* \u001b[32mdry_run\u001b[m\n",
            "  master\u001b[m\n"
          ]
        }
      ]
    },
    {
      "cell_type": "code",
      "source": [
        "!nvcc --version\n",
        "!pip install spconv-cu111\n",
        "%run -i setup.py develop"
      ],
      "metadata": {
        "colab": {
          "base_uri": "https://localhost:8080/"
        },
        "id": "1bCNdpX_9mNU",
        "outputId": "f1f4bbec-b60c-4c01-d5de-367a8318e675",
        "collapsed": true
      },
      "execution_count": 4,
      "outputs": [
        {
          "output_type": "stream",
          "name": "stdout",
          "text": [
            "nvcc: NVIDIA (R) Cuda compiler driver\n",
            "Copyright (c) 2005-2020 NVIDIA Corporation\n",
            "Built on Mon_Oct_12_20:09:46_PDT_2020\n",
            "Cuda compilation tools, release 11.1, V11.1.105\n",
            "Build cuda_11.1.TC455_06.29190527_0\n",
            "Looking in indexes: https://pypi.org/simple, https://us-python.pkg.dev/colab-wheels/public/simple/\n",
            "Collecting spconv-cu111\n",
            "  Downloading spconv_cu111-2.1.21-cp37-cp37m-manylinux_2_17_x86_64.manylinux2014_x86_64.whl (34.2 MB)\n",
            "\u001b[K     |████████████████████████████████| 34.2 MB 1.3 MB/s \n",
            "\u001b[?25hCollecting cumm-cu111>=0.2.8\n",
            "  Downloading cumm_cu111-0.2.8-cp37-cp37m-manylinux_2_17_x86_64.manylinux2014_x86_64.whl (1.1 MB)\n",
            "\u001b[K     |████████████████████████████████| 1.1 MB 47.7 MB/s \n",
            "\u001b[?25hRequirement already satisfied: numpy in /usr/local/lib/python3.7/dist-packages (from spconv-cu111) (1.21.6)\n",
            "Collecting pccm>=0.2.21\n",
            "  Downloading pccm-0.3.4-py3-none-any.whl (64 kB)\n",
            "\u001b[K     |████████████████████████████████| 64 kB 3.5 MB/s \n",
            "\u001b[?25hCollecting pybind11>=2.6.0\n",
            "  Downloading pybind11-2.10.0-py3-none-any.whl (213 kB)\n",
            "\u001b[K     |████████████████████████████████| 213 kB 77.0 MB/s \n",
            "\u001b[?25hCollecting fire\n",
            "  Downloading fire-0.4.0.tar.gz (87 kB)\n",
            "\u001b[K     |████████████████████████████████| 87 kB 7.8 MB/s \n",
            "\u001b[?25hCollecting portalocker>=2.3.2\n",
            "  Downloading portalocker-2.5.1-py2.py3-none-any.whl (15 kB)\n",
            "Collecting lark>=1.0.0\n",
            "  Downloading lark-1.1.2-py2.py3-none-any.whl (104 kB)\n",
            "\u001b[K     |████████████████████████████████| 104 kB 67.7 MB/s \n",
            "\u001b[?25hCollecting ccimport>=0.3.1\n",
            "  Downloading ccimport-0.3.7-py3-none-any.whl (27 kB)\n",
            "Requirement already satisfied: requests in /usr/local/lib/python3.7/dist-packages (from ccimport>=0.3.1->pccm>=0.2.21->spconv-cu111) (2.23.0)\n",
            "Requirement already satisfied: importlib-metadata>=2.0 in /usr/local/lib/python3.7/dist-packages (from ccimport>=0.3.1->pccm>=0.2.21->spconv-cu111) (4.12.0)\n",
            "Collecting ninja\n",
            "  Downloading ninja-1.10.2.3-py2.py3-none-manylinux_2_5_x86_64.manylinux1_x86_64.whl (108 kB)\n",
            "\u001b[K     |████████████████████████████████| 108 kB 60.8 MB/s \n",
            "\u001b[?25hRequirement already satisfied: zipp>=0.5 in /usr/local/lib/python3.7/dist-packages (from importlib-metadata>=2.0->ccimport>=0.3.1->pccm>=0.2.21->spconv-cu111) (3.8.1)\n",
            "Requirement already satisfied: typing-extensions>=3.6.4 in /usr/local/lib/python3.7/dist-packages (from importlib-metadata>=2.0->ccimport>=0.3.1->pccm>=0.2.21->spconv-cu111) (4.1.1)\n",
            "Requirement already satisfied: six in /usr/local/lib/python3.7/dist-packages (from fire->spconv-cu111) (1.15.0)\n",
            "Requirement already satisfied: termcolor in /usr/local/lib/python3.7/dist-packages (from fire->spconv-cu111) (1.1.0)\n",
            "Requirement already satisfied: chardet<4,>=3.0.2 in /usr/local/lib/python3.7/dist-packages (from requests->ccimport>=0.3.1->pccm>=0.2.21->spconv-cu111) (3.0.4)\n",
            "Requirement already satisfied: idna<3,>=2.5 in /usr/local/lib/python3.7/dist-packages (from requests->ccimport>=0.3.1->pccm>=0.2.21->spconv-cu111) (2.10)\n",
            "Requirement already satisfied: certifi>=2017.4.17 in /usr/local/lib/python3.7/dist-packages (from requests->ccimport>=0.3.1->pccm>=0.2.21->spconv-cu111) (2022.6.15)\n",
            "Requirement already satisfied: urllib3!=1.25.0,!=1.25.1,<1.26,>=1.21.1 in /usr/local/lib/python3.7/dist-packages (from requests->ccimport>=0.3.1->pccm>=0.2.21->spconv-cu111) (1.24.3)\n",
            "Building wheels for collected packages: fire\n",
            "  Building wheel for fire (setup.py) ... \u001b[?25l\u001b[?25hdone\n",
            "  Created wheel for fire: filename=fire-0.4.0-py2.py3-none-any.whl size=115942 sha256=035ef652b7e1bd670595b26489720c675396e7583f1da9934a98915b2f427621\n",
            "  Stored in directory: /root/.cache/pip/wheels/8a/67/fb/2e8a12fa16661b9d5af1f654bd199366799740a85c64981226\n",
            "Successfully built fire\n",
            "Installing collected packages: pybind11, ninja, portalocker, lark, fire, ccimport, pccm, cumm-cu111, spconv-cu111\n",
            "Successfully installed ccimport-0.3.7 cumm-cu111-0.2.8 fire-0.4.0 lark-1.1.2 ninja-1.10.2.3 pccm-0.3.4 portalocker-2.5.1 pybind11-2.10.0 spconv-cu111-2.1.21\n",
            "running develop\n",
            "running egg_info\n",
            "creating pcdet.egg-info\n",
            "writing pcdet.egg-info/PKG-INFO\n",
            "writing dependency_links to pcdet.egg-info/dependency_links.txt\n",
            "writing requirements to pcdet.egg-info/requires.txt\n",
            "writing top-level names to pcdet.egg-info/top_level.txt\n",
            "writing manifest file 'pcdet.egg-info/SOURCES.txt'\n",
            "adding license file 'LICENSE'\n",
            "writing manifest file 'pcdet.egg-info/SOURCES.txt'\n",
            "running build_ext\n",
            "building 'pcdet.ops.iou3d_nms.iou3d_nms_cuda' extension\n",
            "creating /content/OpenPCDet/build\n",
            "creating /content/OpenPCDet/build/temp.linux-x86_64-3.7\n",
            "creating /content/OpenPCDet/build/temp.linux-x86_64-3.7/pcdet\n",
            "creating /content/OpenPCDet/build/temp.linux-x86_64-3.7/pcdet/ops\n",
            "creating /content/OpenPCDet/build/temp.linux-x86_64-3.7/pcdet/ops/iou3d_nms\n",
            "creating /content/OpenPCDet/build/temp.linux-x86_64-3.7/pcdet/ops/iou3d_nms/src\n",
            "Emitting ninja build file /content/OpenPCDet/build/temp.linux-x86_64-3.7/build.ninja...\n",
            "Compiling objects...\n",
            "Allowing ninja to set a default number of workers... (overridable by setting the environment variable MAX_JOBS=N)\n"
          ]
        },
        {
          "output_type": "stream",
          "name": "stderr",
          "text": [
            "/usr/local/lib/python3.7/dist-packages/torch/utils/cpp_extension.py:813: UserWarning: The detected CUDA version (11.1) has a minor version mismatch with the version that was used to compile PyTorch (11.3). Most likely this shouldn't be a problem.\n",
            "  warnings.warn(CUDA_MISMATCH_WARN.format(cuda_str_version, torch.version.cuda))\n"
          ]
        },
        {
          "output_type": "stream",
          "name": "stdout",
          "text": [
            "creating build/lib.linux-x86_64-3.7\n",
            "creating build/lib.linux-x86_64-3.7/pcdet\n",
            "creating build/lib.linux-x86_64-3.7/pcdet/ops\n",
            "creating build/lib.linux-x86_64-3.7/pcdet/ops/iou3d_nms\n",
            "x86_64-linux-gnu-g++ -pthread -shared -Wl,-O1 -Wl,-Bsymbolic-functions -Wl,-Bsymbolic-functions -g -fwrapv -O2 -Wl,-Bsymbolic-functions -g -fwrapv -O2 -g -fstack-protector-strong -Wformat -Werror=format-security -Wdate-time -D_FORTIFY_SOURCE=2 /content/OpenPCDet/build/temp.linux-x86_64-3.7/pcdet/ops/iou3d_nms/src/iou3d_cpu.o /content/OpenPCDet/build/temp.linux-x86_64-3.7/pcdet/ops/iou3d_nms/src/iou3d_nms_api.o /content/OpenPCDet/build/temp.linux-x86_64-3.7/pcdet/ops/iou3d_nms/src/iou3d_nms.o /content/OpenPCDet/build/temp.linux-x86_64-3.7/pcdet/ops/iou3d_nms/src/iou3d_nms_kernel.o -L/usr/local/lib/python3.7/dist-packages/torch/lib -L/usr/local/cuda/lib64 -lc10 -ltorch -ltorch_cpu -ltorch_python -lcudart -lc10_cuda -ltorch_cuda_cu -ltorch_cuda_cpp -o build/lib.linux-x86_64-3.7/pcdet/ops/iou3d_nms/iou3d_nms_cuda.cpython-37m-x86_64-linux-gnu.so\n",
            "building 'pcdet.ops.roiaware_pool3d.roiaware_pool3d_cuda' extension\n",
            "creating /content/OpenPCDet/build/temp.linux-x86_64-3.7/pcdet/ops/roiaware_pool3d\n",
            "creating /content/OpenPCDet/build/temp.linux-x86_64-3.7/pcdet/ops/roiaware_pool3d/src\n",
            "Emitting ninja build file /content/OpenPCDet/build/temp.linux-x86_64-3.7/build.ninja...\n",
            "Compiling objects...\n",
            "Allowing ninja to set a default number of workers... (overridable by setting the environment variable MAX_JOBS=N)\n",
            "creating build/lib.linux-x86_64-3.7/pcdet/ops/roiaware_pool3d\n",
            "x86_64-linux-gnu-g++ -pthread -shared -Wl,-O1 -Wl,-Bsymbolic-functions -Wl,-Bsymbolic-functions -g -fwrapv -O2 -Wl,-Bsymbolic-functions -g -fwrapv -O2 -g -fstack-protector-strong -Wformat -Werror=format-security -Wdate-time -D_FORTIFY_SOURCE=2 /content/OpenPCDet/build/temp.linux-x86_64-3.7/pcdet/ops/roiaware_pool3d/src/roiaware_pool3d.o /content/OpenPCDet/build/temp.linux-x86_64-3.7/pcdet/ops/roiaware_pool3d/src/roiaware_pool3d_kernel.o -L/usr/local/lib/python3.7/dist-packages/torch/lib -L/usr/local/cuda/lib64 -lc10 -ltorch -ltorch_cpu -ltorch_python -lcudart -lc10_cuda -ltorch_cuda_cu -ltorch_cuda_cpp -o build/lib.linux-x86_64-3.7/pcdet/ops/roiaware_pool3d/roiaware_pool3d_cuda.cpython-37m-x86_64-linux-gnu.so\n",
            "building 'pcdet.ops.roipoint_pool3d.roipoint_pool3d_cuda' extension\n",
            "creating /content/OpenPCDet/build/temp.linux-x86_64-3.7/pcdet/ops/roipoint_pool3d\n",
            "creating /content/OpenPCDet/build/temp.linux-x86_64-3.7/pcdet/ops/roipoint_pool3d/src\n",
            "Emitting ninja build file /content/OpenPCDet/build/temp.linux-x86_64-3.7/build.ninja...\n",
            "Compiling objects...\n",
            "Allowing ninja to set a default number of workers... (overridable by setting the environment variable MAX_JOBS=N)\n",
            "creating build/lib.linux-x86_64-3.7/pcdet/ops/roipoint_pool3d\n",
            "x86_64-linux-gnu-g++ -pthread -shared -Wl,-O1 -Wl,-Bsymbolic-functions -Wl,-Bsymbolic-functions -g -fwrapv -O2 -Wl,-Bsymbolic-functions -g -fwrapv -O2 -g -fstack-protector-strong -Wformat -Werror=format-security -Wdate-time -D_FORTIFY_SOURCE=2 /content/OpenPCDet/build/temp.linux-x86_64-3.7/pcdet/ops/roipoint_pool3d/src/roipoint_pool3d.o /content/OpenPCDet/build/temp.linux-x86_64-3.7/pcdet/ops/roipoint_pool3d/src/roipoint_pool3d_kernel.o -L/usr/local/lib/python3.7/dist-packages/torch/lib -L/usr/local/cuda/lib64 -lc10 -ltorch -ltorch_cpu -ltorch_python -lcudart -lc10_cuda -ltorch_cuda_cu -ltorch_cuda_cpp -o build/lib.linux-x86_64-3.7/pcdet/ops/roipoint_pool3d/roipoint_pool3d_cuda.cpython-37m-x86_64-linux-gnu.so\n",
            "building 'pcdet.ops.pointnet2.pointnet2_stack.pointnet2_stack_cuda' extension\n",
            "creating /content/OpenPCDet/build/temp.linux-x86_64-3.7/pcdet/ops/pointnet2\n",
            "creating /content/OpenPCDet/build/temp.linux-x86_64-3.7/pcdet/ops/pointnet2/pointnet2_stack\n",
            "creating /content/OpenPCDet/build/temp.linux-x86_64-3.7/pcdet/ops/pointnet2/pointnet2_stack/src\n",
            "Emitting ninja build file /content/OpenPCDet/build/temp.linux-x86_64-3.7/build.ninja...\n",
            "Compiling objects...\n",
            "Allowing ninja to set a default number of workers... (overridable by setting the environment variable MAX_JOBS=N)\n",
            "creating build/lib.linux-x86_64-3.7/pcdet/ops/pointnet2\n",
            "creating build/lib.linux-x86_64-3.7/pcdet/ops/pointnet2/pointnet2_stack\n",
            "x86_64-linux-gnu-g++ -pthread -shared -Wl,-O1 -Wl,-Bsymbolic-functions -Wl,-Bsymbolic-functions -g -fwrapv -O2 -Wl,-Bsymbolic-functions -g -fwrapv -O2 -g -fstack-protector-strong -Wformat -Werror=format-security -Wdate-time -D_FORTIFY_SOURCE=2 /content/OpenPCDet/build/temp.linux-x86_64-3.7/pcdet/ops/pointnet2/pointnet2_stack/src/pointnet2_api.o /content/OpenPCDet/build/temp.linux-x86_64-3.7/pcdet/ops/pointnet2/pointnet2_stack/src/ball_query.o /content/OpenPCDet/build/temp.linux-x86_64-3.7/pcdet/ops/pointnet2/pointnet2_stack/src/ball_query_gpu.o /content/OpenPCDet/build/temp.linux-x86_64-3.7/pcdet/ops/pointnet2/pointnet2_stack/src/group_points.o /content/OpenPCDet/build/temp.linux-x86_64-3.7/pcdet/ops/pointnet2/pointnet2_stack/src/group_points_gpu.o /content/OpenPCDet/build/temp.linux-x86_64-3.7/pcdet/ops/pointnet2/pointnet2_stack/src/sampling.o /content/OpenPCDet/build/temp.linux-x86_64-3.7/pcdet/ops/pointnet2/pointnet2_stack/src/sampling_gpu.o /content/OpenPCDet/build/temp.linux-x86_64-3.7/pcdet/ops/pointnet2/pointnet2_stack/src/interpolate.o /content/OpenPCDet/build/temp.linux-x86_64-3.7/pcdet/ops/pointnet2/pointnet2_stack/src/interpolate_gpu.o /content/OpenPCDet/build/temp.linux-x86_64-3.7/pcdet/ops/pointnet2/pointnet2_stack/src/voxel_query.o /content/OpenPCDet/build/temp.linux-x86_64-3.7/pcdet/ops/pointnet2/pointnet2_stack/src/voxel_query_gpu.o /content/OpenPCDet/build/temp.linux-x86_64-3.7/pcdet/ops/pointnet2/pointnet2_stack/src/vector_pool.o /content/OpenPCDet/build/temp.linux-x86_64-3.7/pcdet/ops/pointnet2/pointnet2_stack/src/vector_pool_gpu.o -L/usr/local/lib/python3.7/dist-packages/torch/lib -L/usr/local/cuda/lib64 -lc10 -ltorch -ltorch_cpu -ltorch_python -lcudart -lc10_cuda -ltorch_cuda_cu -ltorch_cuda_cpp -o build/lib.linux-x86_64-3.7/pcdet/ops/pointnet2/pointnet2_stack/pointnet2_stack_cuda.cpython-37m-x86_64-linux-gnu.so\n",
            "building 'pcdet.ops.pointnet2.pointnet2_batch.pointnet2_batch_cuda' extension\n",
            "creating /content/OpenPCDet/build/temp.linux-x86_64-3.7/pcdet/ops/pointnet2/pointnet2_batch\n",
            "creating /content/OpenPCDet/build/temp.linux-x86_64-3.7/pcdet/ops/pointnet2/pointnet2_batch/src\n",
            "Emitting ninja build file /content/OpenPCDet/build/temp.linux-x86_64-3.7/build.ninja...\n",
            "Compiling objects...\n",
            "Allowing ninja to set a default number of workers... (overridable by setting the environment variable MAX_JOBS=N)\n",
            "creating build/lib.linux-x86_64-3.7/pcdet/ops/pointnet2/pointnet2_batch\n",
            "x86_64-linux-gnu-g++ -pthread -shared -Wl,-O1 -Wl,-Bsymbolic-functions -Wl,-Bsymbolic-functions -g -fwrapv -O2 -Wl,-Bsymbolic-functions -g -fwrapv -O2 -g -fstack-protector-strong -Wformat -Werror=format-security -Wdate-time -D_FORTIFY_SOURCE=2 /content/OpenPCDet/build/temp.linux-x86_64-3.7/pcdet/ops/pointnet2/pointnet2_batch/src/pointnet2_api.o /content/OpenPCDet/build/temp.linux-x86_64-3.7/pcdet/ops/pointnet2/pointnet2_batch/src/ball_query.o /content/OpenPCDet/build/temp.linux-x86_64-3.7/pcdet/ops/pointnet2/pointnet2_batch/src/ball_query_gpu.o /content/OpenPCDet/build/temp.linux-x86_64-3.7/pcdet/ops/pointnet2/pointnet2_batch/src/group_points.o /content/OpenPCDet/build/temp.linux-x86_64-3.7/pcdet/ops/pointnet2/pointnet2_batch/src/group_points_gpu.o /content/OpenPCDet/build/temp.linux-x86_64-3.7/pcdet/ops/pointnet2/pointnet2_batch/src/interpolate.o /content/OpenPCDet/build/temp.linux-x86_64-3.7/pcdet/ops/pointnet2/pointnet2_batch/src/interpolate_gpu.o /content/OpenPCDet/build/temp.linux-x86_64-3.7/pcdet/ops/pointnet2/pointnet2_batch/src/sampling.o /content/OpenPCDet/build/temp.linux-x86_64-3.7/pcdet/ops/pointnet2/pointnet2_batch/src/sampling_gpu.o -L/usr/local/lib/python3.7/dist-packages/torch/lib -L/usr/local/cuda/lib64 -lc10 -ltorch -ltorch_cpu -ltorch_python -lcudart -lc10_cuda -ltorch_cuda_cu -ltorch_cuda_cpp -o build/lib.linux-x86_64-3.7/pcdet/ops/pointnet2/pointnet2_batch/pointnet2_batch_cuda.cpython-37m-x86_64-linux-gnu.so\n",
            "copying build/lib.linux-x86_64-3.7/pcdet/ops/iou3d_nms/iou3d_nms_cuda.cpython-37m-x86_64-linux-gnu.so -> pcdet/ops/iou3d_nms\n",
            "copying build/lib.linux-x86_64-3.7/pcdet/ops/roiaware_pool3d/roiaware_pool3d_cuda.cpython-37m-x86_64-linux-gnu.so -> pcdet/ops/roiaware_pool3d\n",
            "copying build/lib.linux-x86_64-3.7/pcdet/ops/roipoint_pool3d/roipoint_pool3d_cuda.cpython-37m-x86_64-linux-gnu.so -> pcdet/ops/roipoint_pool3d\n",
            "copying build/lib.linux-x86_64-3.7/pcdet/ops/pointnet2/pointnet2_stack/pointnet2_stack_cuda.cpython-37m-x86_64-linux-gnu.so -> pcdet/ops/pointnet2/pointnet2_stack\n",
            "copying build/lib.linux-x86_64-3.7/pcdet/ops/pointnet2/pointnet2_batch/pointnet2_batch_cuda.cpython-37m-x86_64-linux-gnu.so -> pcdet/ops/pointnet2/pointnet2_batch\n",
            "Creating /usr/local/lib/python3.7/dist-packages/pcdet.egg-link (link to .)\n",
            "Adding pcdet 0.5.2+81541bf to easy-install.pth file\n",
            "\n",
            "Installed /content/OpenPCDet\n",
            "Processing dependencies for pcdet==0.5.2+81541bf\n",
            "Searching for SharedArray\n",
            "Reading https://pypi.org/simple/SharedArray/\n",
            "Downloading https://files.pythonhosted.org/packages/74/73/1f66da2d3c074a00aa38bbb225870e7d45fe52d0bf50985773939dd692fd/SharedArray-3.2.1.tar.gz#sha256=ae7bba4f0ae33e209bbe58e5688d709a707b0390f3160e63fe5be8908b8e3902\n",
            "Best match: SharedArray 3.2.1\n",
            "Processing SharedArray-3.2.1.tar.gz\n",
            "Writing /tmp/easy_install-35w54hkx/SharedArray-3.2.1/setup.cfg\n",
            "Running SharedArray-3.2.1/setup.py -q bdist_egg --dist-dir /tmp/easy_install-35w54hkx/SharedArray-3.2.1/egg-dist-tmp-bvdcbicq\n"
          ]
        },
        {
          "output_type": "stream",
          "name": "stderr",
          "text": [
            "zip_safe flag not set; analyzing archive contents...\n",
            "__pycache__.SharedArray.cpython-37: module references __file__\n"
          ]
        },
        {
          "output_type": "stream",
          "name": "stdout",
          "text": [
            "creating /usr/local/lib/python3.7/dist-packages/SharedArray-3.2.1-py3.7-linux-x86_64.egg\n",
            "Extracting SharedArray-3.2.1-py3.7-linux-x86_64.egg to /usr/local/lib/python3.7/dist-packages\n",
            "Adding SharedArray 3.2.1 to easy-install.pth file\n",
            "\n",
            "Installed /usr/local/lib/python3.7/dist-packages/SharedArray-3.2.1-py3.7-linux-x86_64.egg\n",
            "Searching for tensorboardX\n",
            "Reading https://pypi.org/simple/tensorboardX/\n",
            "Downloading https://files.pythonhosted.org/packages/96/47/9004f6b182920e921b6937a345019c9317fda4cbfcbeeb2af618b3b7a53e/tensorboardX-2.5.1-py2.py3-none-any.whl#sha256=8808133ccca673cd04076f6f2a85cf2d39bb2d0393a0f20d0f9cbb06d472b57e\n",
            "Best match: tensorboardX 2.5.1\n",
            "Processing tensorboardX-2.5.1-py2.py3-none-any.whl\n",
            "Installing tensorboardX-2.5.1-py2.py3-none-any.whl to /usr/local/lib/python3.7/dist-packages\n",
            "Adding tensorboardX 2.5.1 to easy-install.pth file\n",
            "\n",
            "Installed /usr/local/lib/python3.7/dist-packages/tensorboardX-2.5.1-py3.7.egg\n",
            "Searching for tqdm==4.64.0\n",
            "Best match: tqdm 4.64.0\n",
            "Adding tqdm 4.64.0 to easy-install.pth file\n",
            "Installing tqdm script to /usr/local/bin\n",
            "\n",
            "Using /usr/local/lib/python3.7/dist-packages\n",
            "Searching for scikit-image==0.18.3\n",
            "Best match: scikit-image 0.18.3\n",
            "Adding scikit-image 0.18.3 to easy-install.pth file\n",
            "Installing skivi script to /usr/local/bin\n",
            "\n",
            "Using /usr/local/lib/python3.7/dist-packages\n",
            "Searching for PyYAML==6.0\n",
            "Best match: PyYAML 6.0\n",
            "Adding PyYAML 6.0 to easy-install.pth file\n",
            "\n",
            "Using /usr/local/lib/python3.7/dist-packages\n",
            "Searching for easydict==1.9\n",
            "Best match: easydict 1.9\n",
            "Adding easydict 1.9 to easy-install.pth file\n",
            "\n",
            "Using /usr/local/lib/python3.7/dist-packages\n",
            "Searching for numba==0.56.0\n",
            "Best match: numba 0.56.0\n",
            "Adding numba 0.56.0 to easy-install.pth file\n",
            "\n",
            "Using /usr/local/lib/python3.7/dist-packages\n",
            "Searching for llvmlite==0.39.0\n",
            "Best match: llvmlite 0.39.0\n",
            "Adding llvmlite 0.39.0 to easy-install.pth file\n",
            "\n",
            "Using /usr/local/lib/python3.7/dist-packages\n",
            "Searching for numpy==1.21.6\n",
            "Best match: numpy 1.21.6\n",
            "Adding numpy 1.21.6 to easy-install.pth file\n",
            "Installing f2py script to /usr/local/bin\n",
            "Installing f2py3 script to /usr/local/bin\n",
            "Installing f2py3.7 script to /usr/local/bin\n",
            "\n",
            "Using /usr/local/lib/python3.7/dist-packages\n",
            "Searching for networkx==2.6.3\n",
            "Best match: networkx 2.6.3\n",
            "Adding networkx 2.6.3 to easy-install.pth file\n",
            "\n",
            "Using /usr/local/lib/python3.7/dist-packages\n",
            "Searching for imageio==2.9.0\n",
            "Best match: imageio 2.9.0\n",
            "Adding imageio 2.9.0 to easy-install.pth file\n",
            "Installing imageio_download_bin script to /usr/local/bin\n",
            "Installing imageio_remove_bin script to /usr/local/bin\n",
            "\n",
            "Using /usr/local/lib/python3.7/dist-packages\n",
            "Searching for matplotlib==3.2.2\n",
            "Best match: matplotlib 3.2.2\n",
            "Adding matplotlib 3.2.2 to easy-install.pth file\n",
            "\n",
            "Using /usr/local/lib/python3.7/dist-packages\n",
            "Searching for PyWavelets==1.3.0\n",
            "Best match: PyWavelets 1.3.0\n",
            "Adding PyWavelets 1.3.0 to easy-install.pth file\n",
            "\n",
            "Using /usr/local/lib/python3.7/dist-packages\n",
            "Searching for Pillow==7.1.2\n",
            "Best match: Pillow 7.1.2\n",
            "Adding Pillow 7.1.2 to easy-install.pth file\n",
            "\n",
            "Using /usr/local/lib/python3.7/dist-packages\n",
            "Searching for tifffile==2021.11.2\n",
            "Best match: tifffile 2021.11.2\n",
            "Adding tifffile 2021.11.2 to easy-install.pth file\n",
            "Installing lsm2bin script to /usr/local/bin\n",
            "Installing tiff2fsspec script to /usr/local/bin\n",
            "Installing tiffcomment script to /usr/local/bin\n",
            "Installing tifffile script to /usr/local/bin\n",
            "\n",
            "Using /usr/local/lib/python3.7/dist-packages\n",
            "Searching for scipy==1.7.3\n",
            "Best match: scipy 1.7.3\n",
            "Adding scipy 1.7.3 to easy-install.pth file\n",
            "\n",
            "Using /usr/local/lib/python3.7/dist-packages\n",
            "Searching for protobuf==3.17.3\n",
            "Best match: protobuf 3.17.3\n",
            "Adding protobuf 3.17.3 to easy-install.pth file\n",
            "\n",
            "Using /usr/local/lib/python3.7/dist-packages\n",
            "Searching for setuptools==57.4.0\n",
            "Best match: setuptools 57.4.0\n",
            "Adding setuptools 57.4.0 to easy-install.pth file\n",
            "\n",
            "Using /usr/local/lib/python3.7/dist-packages\n",
            "Searching for importlib-metadata==4.12.0\n",
            "Best match: importlib-metadata 4.12.0\n",
            "Adding importlib-metadata 4.12.0 to easy-install.pth file\n",
            "\n",
            "Using /usr/local/lib/python3.7/dist-packages\n",
            "Searching for kiwisolver==1.4.4\n",
            "Best match: kiwisolver 1.4.4\n",
            "Adding kiwisolver 1.4.4 to easy-install.pth file\n",
            "\n",
            "Using /usr/local/lib/python3.7/dist-packages\n",
            "Searching for python-dateutil==2.8.2\n",
            "Best match: python-dateutil 2.8.2\n",
            "Adding python-dateutil 2.8.2 to easy-install.pth file\n",
            "\n",
            "Using /usr/local/lib/python3.7/dist-packages\n",
            "Searching for pyparsing==3.0.9\n",
            "Best match: pyparsing 3.0.9\n",
            "Adding pyparsing 3.0.9 to easy-install.pth file\n",
            "\n",
            "Using /usr/local/lib/python3.7/dist-packages\n",
            "Searching for cycler==0.11.0\n",
            "Best match: cycler 0.11.0\n",
            "Adding cycler 0.11.0 to easy-install.pth file\n",
            "\n",
            "Using /usr/local/lib/python3.7/dist-packages\n",
            "Searching for six==1.15.0\n",
            "Best match: six 1.15.0\n",
            "Adding six 1.15.0 to easy-install.pth file\n",
            "\n",
            "Using /usr/local/lib/python3.7/dist-packages\n",
            "Searching for zipp==3.8.1\n",
            "Best match: zipp 3.8.1\n",
            "Adding zipp 3.8.1 to easy-install.pth file\n",
            "\n",
            "Using /usr/local/lib/python3.7/dist-packages\n",
            "Searching for typing-extensions==4.1.1\n",
            "Best match: typing-extensions 4.1.1\n",
            "Adding typing-extensions 4.1.1 to easy-install.pth file\n",
            "\n",
            "Using /usr/local/lib/python3.7/dist-packages\n",
            "Finished processing dependencies for pcdet==0.5.2+81541bf\n"
          ]
        }
      ]
    },
    {
      "cell_type": "code",
      "source": [
        "# !pip install open3d pillow==8.2.0\n",
        "# !pip install -q --upgrade --no-cache-dir gdown\n",
        "# !gdown 1lIOq4Hxr0W3qsX83ilQv0nk1Cls6KAr-\n",
        "\n",
        "# from torchvision import datasets\n",
        "# _ = datasets.Kitti('./', train=False, download=True)\n",
        "# !rm ./Kitti/raw/data_object_*\n",
        "# !mv ./Kitti/raw/* data/kitti/\n",
        "# !rm -rf ./Kitti\n",
        "# %run -i demo.py --cfg_file tools/cfgs/kitti_models/pv_rcnn.yaml --ckpt pv_rcnn_8369.pth --data_path data/kitti"
      ],
      "metadata": {
        "id": "y-_r1ubWAy1p"
      },
      "execution_count": 6,
      "outputs": []
    },
    {
      "cell_type": "code",
      "source": [
        "!git config --global user.email \"souravahar@gmail.com\"\n",
        "!git config --global user.name \"Sourav Raha\"\n",
        "!git add -A\n",
        "!git commit -m \"downloaded ckpt and partial data\"\n",
        "!git push origin dry_run"
      ],
      "metadata": {
        "id": "bidV56YHwS9u",
        "outputId": "56c07622-96b1-4b13-c91b-146424a9fa48",
        "colab": {
          "base_uri": "https://localhost:8080/"
        }
      },
      "execution_count": 11,
      "outputs": [
        {
          "output_type": "stream",
          "name": "stdout",
          "text": [
            "On branch dry_run\n",
            "nothing to commit, working tree clean\n",
            "fatal: could not read Username for 'https://github.com': No such device or address\n"
          ]
        }
      ]
    },
    {
      "cell_type": "code",
      "source": [],
      "metadata": {
        "id": "nE_sWiiT6bQ4"
      },
      "execution_count": 8,
      "outputs": []
    },
    {
      "cell_type": "code",
      "source": [],
      "metadata": {
        "id": "iBcuD-uq6tuF"
      },
      "execution_count": null,
      "outputs": []
    }
  ]
}