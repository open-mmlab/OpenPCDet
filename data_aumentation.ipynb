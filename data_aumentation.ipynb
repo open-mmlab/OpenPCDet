{
 "metadata": {
  "language_info": {
   "codemirror_mode": {
    "name": "ipython",
    "version": 3
   },
   "file_extension": ".py",
   "mimetype": "text/x-python",
   "name": "python",
   "nbconvert_exporter": "python",
   "pygments_lexer": "ipython3",
   "version": "3.8.5"
  },
  "orig_nbformat": 2,
  "kernelspec": {
   "name": "python38564bitbe64631982d24ffbb2f77ea698e3ac22",
   "display_name": "Python 3.8.5 64-bit",
   "language": "python"
  }
 },
 "nbformat": 4,
 "nbformat_minor": 2,
 "cells": [
  {
   "source": [
    "# KITTI Dataset augmentation visualization"
   ],
   "cell_type": "markdown",
   "metadata": {}
  },
  {
   "source": [
    "## Dataset structure\n",
    "\n",
    "```\n",
    "📦gta\n",
    "┗ 📂training\n",
    "  ┣ 📂calib\n",
    "  ┃ ┣ 📜<file_id>.txt\n",
    "  ┃ ┗ 📜 ...\n",
    "  ┣ 📂image_2\n",
    "  ┃ ┣ 📜<file_id>.png\n",
    "  ┃ ┗ 📜 ...\n",
    "  ┣ 📂label_2\n",
    "  ┃ ┣ 📜<file_id>.txt\n",
    "  ┃ ┗ 📜 ...\n",
    "  ┗ 📂velodyne\n",
    "    ┣ 📜<file_id>.bin\n",
    "    ┗ 📜 ...\n",
    "```"
   ],
   "cell_type": "markdown",
   "metadata": {}
  },
  {
   "cell_type": "code",
   "execution_count": 136,
   "metadata": {},
   "outputs": [
    {
     "output_type": "stream",
     "name": "stdout",
     "text": [
      "Notebook initialized with ipy backend.\n"
     ]
    }
   ],
   "source": [
    "import os\n",
    "import mayavi.mlab as mlab\n",
    "import numpy as np\n",
    "from copy import deepcopy\n",
    "\n",
    "import pcdet.datasets.augmentor\n",
    "\n",
    "from pcdet.config import cfg, cfg_from_yaml_file\n",
    "from pcdet.datasets import build_dataloader\n",
    "from pcdet.utils import common_utils\n",
    "from tools.visual_utils import visualize_utils as V\n",
    "\n",
    "mlab.init_notebook()"
   ]
  },
  {
   "cell_type": "code",
   "execution_count": 137,
   "metadata": {},
   "outputs": [
    {
     "output_type": "execute_result",
     "data": {
      "text/plain": [
       "0"
      ]
     },
     "metadata": {},
     "execution_count": 137
    }
   ],
   "source": [
    "# generate pickles from the kitti data\n",
    "os.system(\"python -m pcdet.datasets.kitti.kitti_dataset create_kitti_infos tools/cfgs/dataset_configs/kitti_dataset.yaml\")"
   ]
  },
  {
   "source": [
    "## Visualizing the LiDAR point cloud with labels"
   ],
   "cell_type": "markdown",
   "metadata": {}
  },
  {
   "cell_type": "code",
   "execution_count": 138,
   "metadata": {},
   "outputs": [],
   "source": [
    "logger = common_utils.create_logger()"
   ]
  },
  {
   "cell_type": "code",
   "execution_count": 139,
   "metadata": {},
   "outputs": [
    {
     "output_type": "stream",
     "name": "stderr",
     "text": [
      "2021-04-02 17:07:58,548   INFO  Loading KITTI dataset\n",
      "2021-04-02 17:07:58,548   INFO  Loading KITTI dataset\n",
      "2021-04-02 17:07:58,548   INFO  Loading KITTI dataset\n",
      "2021-04-02 17:07:58,548   INFO  Loading KITTI dataset\n",
      "2021-04-02 17:07:58,548   INFO  Loading KITTI dataset\n",
      "2021-04-02 17:07:58,552   INFO  Total samples for KITTI dataset: 6\n",
      "2021-04-02 17:07:58,552   INFO  Total samples for KITTI dataset: 6\n",
      "2021-04-02 17:07:58,552   INFO  Total samples for KITTI dataset: 6\n",
      "2021-04-02 17:07:58,552   INFO  Total samples for KITTI dataset: 6\n",
      "2021-04-02 17:07:58,552   INFO  Total samples for KITTI dataset: 6\n",
      "2021-04-02 17:07:58,554   INFO  Total number of samples: \t6\n",
      "2021-04-02 17:07:58,554   INFO  Total number of samples: \t6\n",
      "2021-04-02 17:07:58,554   INFO  Total number of samples: \t6\n",
      "2021-04-02 17:07:58,554   INFO  Total number of samples: \t6\n",
      "2021-04-02 17:07:58,554   INFO  Total number of samples: \t6\n",
      "2021-04-02 17:07:58,557   INFO  Loading samples\n",
      "2021-04-02 17:07:58,557   INFO  Loading samples\n",
      "2021-04-02 17:07:58,557   INFO  Loading samples\n",
      "2021-04-02 17:07:58,557   INFO  Loading samples\n",
      "2021-04-02 17:07:58,557   INFO  Loading samples\n",
      "2021-04-02 17:07:58,597   INFO  Loaded sample index: \t1\n",
      "2021-04-02 17:07:58,597   INFO  Loaded sample index: \t1\n",
      "2021-04-02 17:07:58,597   INFO  Loaded sample index: \t1\n",
      "2021-04-02 17:07:58,597   INFO  Loaded sample index: \t1\n",
      "2021-04-02 17:07:58,597   INFO  Loaded sample index: \t1\n",
      "2021-04-02 17:07:58,637   INFO  Loaded sample index: \t2\n",
      "2021-04-02 17:07:58,637   INFO  Loaded sample index: \t2\n",
      "2021-04-02 17:07:58,637   INFO  Loaded sample index: \t2\n",
      "2021-04-02 17:07:58,637   INFO  Loaded sample index: \t2\n",
      "2021-04-02 17:07:58,637   INFO  Loaded sample index: \t2\n",
      "2021-04-02 17:07:58,677   INFO  Loaded sample index: \t3\n",
      "2021-04-02 17:07:58,677   INFO  Loaded sample index: \t3\n",
      "2021-04-02 17:07:58,677   INFO  Loaded sample index: \t3\n",
      "2021-04-02 17:07:58,677   INFO  Loaded sample index: \t3\n",
      "2021-04-02 17:07:58,677   INFO  Loaded sample index: \t3\n",
      "2021-04-02 17:07:58,710   INFO  Loaded sample index: \t4\n",
      "2021-04-02 17:07:58,710   INFO  Loaded sample index: \t4\n",
      "2021-04-02 17:07:58,710   INFO  Loaded sample index: \t4\n",
      "2021-04-02 17:07:58,710   INFO  Loaded sample index: \t4\n",
      "2021-04-02 17:07:58,710   INFO  Loaded sample index: \t4\n",
      "2021-04-02 17:07:58,749   INFO  Loaded sample index: \t5\n",
      "2021-04-02 17:07:58,749   INFO  Loaded sample index: \t5\n",
      "2021-04-02 17:07:58,749   INFO  Loaded sample index: \t5\n",
      "2021-04-02 17:07:58,749   INFO  Loaded sample index: \t5\n",
      "2021-04-02 17:07:58,749   INFO  Loaded sample index: \t5\n",
      "2021-04-02 17:07:58,770   INFO  Loaded sample index: \t6\n",
      "2021-04-02 17:07:58,770   INFO  Loaded sample index: \t6\n",
      "2021-04-02 17:07:58,770   INFO  Loaded sample index: \t6\n",
      "2021-04-02 17:07:58,770   INFO  Loaded sample index: \t6\n",
      "2021-04-02 17:07:58,770   INFO  Loaded sample index: \t6\n"
     ]
    }
   ],
   "source": [
    "cfg_from_yaml_file('tools/cfgs/dataset_configs/kitti_dataset.yaml', cfg)\n",
    "\n",
    "cfg.DATA_PATH = 'data/kitti'\n",
    "\n",
    "train_set, train_loader, train_sampler = build_dataloader(\n",
    "    dataset_cfg=cfg,\n",
    "    class_names=['Car', 'Pedestrian', 'Cyclist'],\n",
    "    batch_size=1,\n",
    "    dist=False,\n",
    "    workers=4,\n",
    "    logger=logger,\n",
    "    training=False,\n",
    "    merge_all_iters_to_one_epoch=False,\n",
    "    total_epochs=0\n",
    ")\n",
    "\n",
    "logger.info(f'Total number of samples: \\t{len(train_set)}')\n",
    "\n",
    "data_dict_list = []\n",
    "logger.info('Loading samples')\n",
    "for idx, data_dict in enumerate(train_set):\n",
    "    logger.info(f'Loaded sample index: \\t{idx + 1}')\n",
    "    data_dict = train_set.collate_batch([data_dict])\n",
    "    data_dict_list.append(data_dict)\n"
   ]
  },
  {
   "cell_type": "code",
   "execution_count": 140,
   "metadata": {},
   "outputs": [],
   "source": [
    "def show_pc(data_dict):\n",
    "    V.draw_scenes(\n",
    "        points=data_dict['points'][:, 1:], gt_boxes=data_dict['gt_boxes'][0]\n",
    "    )\n",
    "    return mlab.test_plot3d()\n"
   ]
  },
  {
   "cell_type": "code",
   "execution_count": 141,
   "metadata": {},
   "outputs": [
    {
     "output_type": "display_data",
     "data": {
      "text/plain": "Image(value=b'\\x89PNG\\r\\n\\x1a\\n\\x00\\x00\\x00\\rIHDR\\x00\\x00\\x02X\\x00\\x00\\x02X\\x08\\x02\\x00\\x00\\x001\\x04\\x0f\\x8b\\x…",
      "application/vnd.jupyter.widget-view+json": {
       "version_major": 2,
       "version_minor": 0,
       "model_id": "3599ebf8d670458995d8c1cd2bf77b3c"
      }
     },
     "metadata": {}
    }
   ],
   "source": [
    "show_pc(data_dict_list[1])"
   ]
  },
  {
   "source": [
    "## Augmentation methods"
   ],
   "cell_type": "markdown",
   "metadata": {}
  },
  {
   "cell_type": "code",
   "execution_count": 142,
   "metadata": {},
   "outputs": [],
   "source": [
    "def random_flip_along_x(gt_boxes, points):\n",
    "    \"\"\"\n",
    "    Args:\n",
    "        gt_boxes: (N, 7 + C), [x, y, z, dx, dy, dz, heading, [vx], [vy]]\n",
    "        points: (M, 3 + C)\n",
    "    Returns:\n",
    "    \"\"\"\n",
    "    enable = True\n",
    "    if enable:\n",
    "        gt_boxes[:, 1] = -gt_boxes[:, 1]\n",
    "        gt_boxes[:, 6] = -gt_boxes[:, 6]\n",
    "        points[:, 1] = -points[:, 1]\n",
    "\n",
    "        if gt_boxes.shape[1] > 8:\n",
    "            gt_boxes[:, 8] = -gt_boxes[:, 8]\n",
    "\n",
    "    return gt_boxes, points\n",
    "\n",
    "def random_flip_along_y(gt_boxes, points):\n",
    "    \"\"\"\n",
    "    Args:\n",
    "        gt_boxes: (N, 7 + C), [x, y, z, dx, dy, dz, heading, [vx], [vy]]\n",
    "        points: (M, 3 + C)\n",
    "    Returns:\n",
    "    \"\"\"\n",
    "    enable = True\n",
    "    if enable:\n",
    "        gt_boxes[:, 0] = -gt_boxes[:, 0]\n",
    "        gt_boxes[:, 6] = -(gt_boxes[:, 6] + np.pi)\n",
    "        points[:, 0] = -points[:, 0]\n",
    "\n",
    "        if gt_boxes.shape[1] > 7:\n",
    "            gt_boxes[:, 7] = -gt_boxes[:, 7]\n",
    "\n",
    "    return gt_boxes, points"
   ]
  },
  {
   "cell_type": "code",
   "execution_count": 143,
   "metadata": {},
   "outputs": [
    {
     "output_type": "display_data",
     "data": {
      "text/plain": "Image(value=b'\\x89PNG\\r\\n\\x1a\\n\\x00\\x00\\x00\\rIHDR\\x00\\x00\\x02X\\x00\\x00\\x02X\\x08\\x02\\x00\\x00\\x001\\x04\\x0f\\x8b\\x…",
      "application/vnd.jupyter.widget-view+json": {
       "version_major": 2,
       "version_minor": 0,
       "model_id": "beb0353ab7c6460a8f1295dd85f094e3"
      }
     },
     "metadata": {}
    }
   ],
   "source": [
    "flipped_y = deepcopy(data_dict_list[1])\n",
    "flipped_y['gt_boxes'][0], flipped_y['points'][:,1:] = random_flip_along_y(flipped_y['gt_boxes'][0], flipped_y['points'][:,1:])\n",
    "\n",
    "show_pc(flipped_y)"
   ]
  },
  {
   "cell_type": "code",
   "execution_count": 144,
   "metadata": {},
   "outputs": [
    {
     "output_type": "display_data",
     "data": {
      "text/plain": "Image(value=b'\\x89PNG\\r\\n\\x1a\\n\\x00\\x00\\x00\\rIHDR\\x00\\x00\\x02X\\x00\\x00\\x02X\\x08\\x02\\x00\\x00\\x001\\x04\\x0f\\x8b\\x…",
      "application/vnd.jupyter.widget-view+json": {
       "version_major": 2,
       "version_minor": 0,
       "model_id": "2ad44248575f4f68aea62570f5d0fdf3"
      }
     },
     "metadata": {}
    }
   ],
   "source": [
    "flipped_x = deepcopy(data_dict_list[1])\n",
    "flipped_x['gt_boxes'][0], flipped_x['points'][:,1:] = random_flip_along_x(flipped_x['gt_boxes'][0], flipped_x['points'][:,1:])\n",
    "\n",
    "show_pc(flipped_x)"
   ]
  },
  {
   "cell_type": "code",
   "execution_count": 145,
   "metadata": {},
   "outputs": [],
   "source": [
    "def global_rotation(gt_boxes, points, rot_range):\n",
    "    \"\"\"\n",
    "    Args:\n",
    "        gt_boxes: (N, 7 + C), [x, y, z, dx, dy, dz, heading, [vx], [vy]]\n",
    "        points: (M, 3 + C),\n",
    "        rot_range: [min, max]\n",
    "    Returns:\n",
    "    \"\"\"\n",
    "    noise_rotation = np.random.uniform(rot_range[0], rot_range[1])\n",
    "    points = common_utils.rotate_points_along_z(points[np.newaxis, :, :], np.array([noise_rotation]))[0]\n",
    "    gt_boxes[:, 0:3] = common_utils.rotate_points_along_z(gt_boxes[np.newaxis, :, 0:3], np.array([noise_rotation]))[0]\n",
    "    gt_boxes[:, 6] += noise_rotation\n",
    "    if gt_boxes.shape[1] > 8:\n",
    "        gt_boxes[:, 7:9] = common_utils.rotate_points_along_z(\n",
    "            np.hstack((gt_boxes[:, 7:9], np.zeros((gt_boxes.shape[0], 1))))[np.newaxis, :, :],\n",
    "            np.array([noise_rotation])\n",
    "        )[0][:, 0:2]\n",
    "\n",
    "    return gt_boxes, points"
   ]
  },
  {
   "cell_type": "code",
   "execution_count": 146,
   "metadata": {},
   "outputs": [
    {
     "output_type": "display_data",
     "data": {
      "text/plain": "Image(value=b'\\x89PNG\\r\\n\\x1a\\n\\x00\\x00\\x00\\rIHDR\\x00\\x00\\x02X\\x00\\x00\\x02X\\x08\\x02\\x00\\x00\\x001\\x04\\x0f\\x8b\\x…",
      "application/vnd.jupyter.widget-view+json": {
       "version_major": 2,
       "version_minor": 0,
       "model_id": "0b22297edc394f20aaeb85bffcab0f51"
      }
     },
     "metadata": {}
    }
   ],
   "source": [
    "rotated = deepcopy(data_dict_list[1])\n",
    "rotated['gt_boxes'][0], rotated['points'][:,1:] = global_rotation(rotated['gt_boxes'][0], rotated['points'][:,1:], [-0.78539816, 0.78539816])\n",
    "\n",
    "show_pc(rotated)"
   ]
  },
  {
   "cell_type": "code",
   "execution_count": 147,
   "metadata": {},
   "outputs": [],
   "source": [
    "def global_scaling(gt_boxes, points, scale_range):\n",
    "    \"\"\"\n",
    "    Args:\n",
    "        gt_boxes: (N, 7), [x, y, z, dx, dy, dz, heading]\n",
    "        points: (M, 3 + C),\n",
    "        scale_range: [min, max]\n",
    "    Returns:\n",
    "    \"\"\"\n",
    "    if scale_range[1] - scale_range[0] < 1e-3:\n",
    "        return gt_boxes, points\n",
    "    noise_scale = np.random.uniform(scale_range[0], scale_range[1])\n",
    "    points[:, :3] *= noise_scale\n",
    "    gt_boxes[:, :6] *= noise_scale\n",
    "    return gt_boxes, points"
   ]
  },
  {
   "cell_type": "code",
   "execution_count": 148,
   "metadata": {},
   "outputs": [
    {
     "output_type": "display_data",
     "data": {
      "text/plain": "Image(value=b'\\x89PNG\\r\\n\\x1a\\n\\x00\\x00\\x00\\rIHDR\\x00\\x00\\x02X\\x00\\x00\\x02X\\x08\\x02\\x00\\x00\\x001\\x04\\x0f\\x8b\\x…",
      "application/vnd.jupyter.widget-view+json": {
       "version_major": 2,
       "version_minor": 0,
       "model_id": "a49824d70efc418ca7f58e492133081c"
      }
     },
     "metadata": {}
    }
   ],
   "source": [
    "scaled = deepcopy(data_dict_list[1])\n",
    "scaled['gt_boxes'][0], scaled['points'][:,1:] = global_scaling(scaled['gt_boxes'][0], scaled['points'][:, 1:], [0.2, 0.5])\n",
    "\n",
    "show_pc(scaled)"
   ]
  },
  {
   "cell_type": "code",
   "execution_count": 149,
   "metadata": {},
   "outputs": [],
   "source": [
    "def global_translaction_along_x(gt_boxes, points, offset):\n",
    "    \"\"\"\n",
    "    Args:\n",
    "        gt_boxes: (N, 7), [x, y, z, dx, dy, dz, heading, [vx], [vy]]\n",
    "        points: (M, 3 + C),\n",
    "        offset: float\n",
    "    Returns:\n",
    "    \"\"\"\n",
    "    points[:, 0] += offset\n",
    "    gt_boxes[:, 0] += offset\n",
    "\n",
    "    if gt_boxes.shape[1] > 7:\n",
    "        gt_boxes[:, 7] += offset\n",
    "\n",
    "    return gt_boxes, points\n",
    "\n",
    "def global_translaction_along_y(gt_boxes, points, offset):\n",
    "    \"\"\"\n",
    "    Args:\n",
    "        gt_boxes: (N, 7), [x, y, z, dx, dy, dz, heading, [vx], [vy]]\n",
    "        points: (M, 3 + C),\n",
    "        offset: float\n",
    "    Returns:\n",
    "    \"\"\"\n",
    "    points[:, 1] += offset\n",
    "    gt_boxes[:, 1] += offset\n",
    "\n",
    "    if gt_boxes.shape[1] > 8:\n",
    "        gt_boxes[:, 8] += offset\n",
    "\n",
    "    return gt_boxes, points\n",
    "\n",
    "def global_translaction_along_z(gt_boxes, points, offset):\n",
    "    \"\"\"\n",
    "    Args:\n",
    "        gt_boxes: (N, 7), [x, y, z, dx, dy, dz, heading, [vx], [vy]]\n",
    "        points: (M, 3 + C),\n",
    "        offset: float\n",
    "    Returns:\n",
    "    \"\"\"\n",
    "    points[:, 2] += offset\n",
    "    gt_boxes[:, 2] += offset\n",
    "\n",
    "    return gt_boxes, points"
   ]
  },
  {
   "cell_type": "code",
   "execution_count": 150,
   "metadata": {},
   "outputs": [
    {
     "output_type": "display_data",
     "data": {
      "text/plain": "Image(value=b'\\x89PNG\\r\\n\\x1a\\n\\x00\\x00\\x00\\rIHDR\\x00\\x00\\x02X\\x00\\x00\\x02X\\x08\\x02\\x00\\x00\\x001\\x04\\x0f\\x8b\\x…",
      "application/vnd.jupyter.widget-view+json": {
       "version_major": 2,
       "version_minor": 0,
       "model_id": "2afb9c249a8c4b0e81dc999691e7a03d"
      }
     },
     "metadata": {}
    }
   ],
   "source": [
    "translaction_x = deepcopy(data_dict_list[1])\n",
    "translaction_x['gt_boxes'][0], translaction_x['points'][:,1:] = global_translaction_along_x(translaction_x['gt_boxes'][0], translaction_x['points'][:, 1:], 20)\n",
    "\n",
    "show_pc(translaction_x)"
   ]
  },
  {
   "cell_type": "code",
   "execution_count": 151,
   "metadata": {},
   "outputs": [
    {
     "output_type": "display_data",
     "data": {
      "text/plain": "Image(value=b'\\x89PNG\\r\\n\\x1a\\n\\x00\\x00\\x00\\rIHDR\\x00\\x00\\x02X\\x00\\x00\\x02X\\x08\\x02\\x00\\x00\\x001\\x04\\x0f\\x8b\\x…",
      "application/vnd.jupyter.widget-view+json": {
       "version_major": 2,
       "version_minor": 0,
       "model_id": "16c38e413b5047d5a8e5c7a2ba6da121"
      }
     },
     "metadata": {}
    }
   ],
   "source": [
    "translaction_y = deepcopy(data_dict_list[1])\n",
    "translaction_y['gt_boxes'][0], translaction_y['points'][:,1:] = global_translaction_along_y(translaction_y['gt_boxes'][0], translaction_y['points'][:, 1:], 20)\n",
    "\n",
    "show_pc(translaction_y)"
   ]
  },
  {
   "cell_type": "code",
   "execution_count": 152,
   "metadata": {},
   "outputs": [
    {
     "output_type": "display_data",
     "data": {
      "text/plain": "Image(value=b'\\x89PNG\\r\\n\\x1a\\n\\x00\\x00\\x00\\rIHDR\\x00\\x00\\x02X\\x00\\x00\\x02X\\x08\\x02\\x00\\x00\\x001\\x04\\x0f\\x8b\\x…",
      "application/vnd.jupyter.widget-view+json": {
       "version_major": 2,
       "version_minor": 0,
       "model_id": "efe99cb7b9f443d7b059dcd038f1c4b5"
      }
     },
     "metadata": {}
    }
   ],
   "source": [
    "translaction_z = deepcopy(data_dict_list[1])\n",
    "translaction_z['gt_boxes'][0], translaction_z['points'][:,1:] = global_translaction_along_z(translaction_z['gt_boxes'][0], translaction_z['points'][:, 1:], 20)\n",
    "\n",
    "show_pc(translaction_z)"
   ]
  },
  {
   "cell_type": "code",
   "execution_count": 153,
   "metadata": {},
   "outputs": [],
   "source": [
    "def filter_points_in_box(points, gt_box):\n",
    "    filter_arr = []\n",
    "    for point in points:\n",
    "        x, y, z, dx, dy, dz = gt_box[0], gt_box[1], gt_box[2], gt_box[3], gt_box[4], gt_box[5]\n",
    "        if point[0] <= x + dx/2 and point[0] >= x - dx/2 \\\n",
    "            and point[1] <= y + dy/2 and point[1] >= y - dy/2 \\\n",
    "                and point[2] <= z + dz/2 and point[2] >= z - dz/2:\n",
    "                    filter_arr.append(True)\n",
    "        else:\n",
    "            filter_arr.append(False)\n",
    "\n",
    "    # points_in_box = points[filter_arr]\n",
    "    return filter_arr\n"
   ]
  },
  {
   "cell_type": "code",
   "execution_count": 154,
   "metadata": {
    "tags": []
   },
   "outputs": [
    {
     "output_type": "display_data",
     "data": {
      "text/plain": "Image(value=b'\\x89PNG\\r\\n\\x1a\\n\\x00\\x00\\x00\\rIHDR\\x00\\x00\\x02X\\x00\\x00\\x02X\\x08\\x02\\x00\\x00\\x001\\x04\\x0f\\x8b\\x…",
      "application/vnd.jupyter.widget-view+json": {
       "version_major": 2,
       "version_minor": 0,
       "model_id": "de189efe1c4c4511a71857091292c0fa"
      }
     },
     "metadata": {}
    }
   ],
   "source": [
    "points_to_filter = deepcopy(data_dict_list[1])\n",
    "filter_arr = filter_points_in_box(points_to_filter['points'][:,1:], points_to_filter['gt_boxes'][0][1])\n",
    "filtered_points = points_to_filter['points'][:,1:][filter_arr]\n",
    "\n",
    "V.draw_scenes(\n",
    "        points=filtered_points, gt_boxes=points_to_filter['gt_boxes'][0,1:]\n",
    "    )"
   ]
  },
  {
   "cell_type": "code",
   "execution_count": 164,
   "metadata": {},
   "outputs": [],
   "source": [
    "def local_translaction_along_x(gt_boxes, points, offset):\n",
    "    \"\"\"\n",
    "    Args:\n",
    "        gt_boxes: (N, 7), [x, y, z, dx, dy, dz, heading, [vx], [vy]]\n",
    "        points: (M, 3 + C),\n",
    "        offset: float\n",
    "    Returns:\n",
    "    \"\"\"\n",
    "    for box in gt_boxes:\n",
    "        filter_arr = filter_points_in_box(points, box)\n",
    "        points_in_box = points[filter_arr]\n",
    "        for point in points:\n",
    "            if np.isin(point, points_in_box).all():\n",
    "                point[0] += offset\n",
    "\n",
    "    gt_boxes[:, 0] += offset\n",
    "\n",
    "    if gt_boxes.shape[1] > 7:\n",
    "        gt_boxes[:, 7] += offset\n",
    "\n",
    "    return gt_boxes, points\n",
    "\n",
    "def local_translaction_along_y(gt_boxes, points, offset):\n",
    "    \"\"\"\n",
    "    Args:\n",
    "        gt_boxes: (N, 7), [x, y, z, dx, dy, dz, heading, [vx], [vy]]\n",
    "        points: (M, 3 + C),\n",
    "        offset: float\n",
    "    Returns:\n",
    "    \"\"\"\n",
    "    for box in gt_boxes:\n",
    "        filter_arr = filter_points_in_box(points, box)\n",
    "        points_in_box = points[filter_arr]\n",
    "        for point in points:\n",
    "            if np.isin(point, points_in_box).all():\n",
    "                point[1] += offset\n",
    "\n",
    "    gt_boxes[:, 1] += offset\n",
    "\n",
    "    if gt_boxes.shape[1] > 8:\n",
    "        gt_boxes[:, 8] += offset\n",
    "\n",
    "    return gt_boxes, points\n",
    "\n",
    "def local_translaction_along_z(gt_boxes, points, offset):\n",
    "    \"\"\"\n",
    "    Args:\n",
    "        gt_boxes: (N, 7), [x, y, z, dx, dy, dz, heading, [vx], [vy]]\n",
    "        points: (M, 3 + C),\n",
    "        offset: float\n",
    "    Returns:\n",
    "    \"\"\"\n",
    "    for box in gt_boxes:\n",
    "        filter_arr = filter_points_in_box(points, box)\n",
    "        points_in_box = points[filter_arr]\n",
    "        for point in points:\n",
    "            if np.isin(point, points_in_box).all():\n",
    "                point[2] += offset\n",
    "\n",
    "    gt_boxes[:, 2] += offset\n",
    "\n",
    "    return gt_boxes, points"
   ]
  },
  {
   "cell_type": "code",
   "execution_count": 161,
   "metadata": {
    "tags": []
   },
   "outputs": [
    {
     "output_type": "display_data",
     "data": {
      "text/plain": "Image(value=b'\\x89PNG\\r\\n\\x1a\\n\\x00\\x00\\x00\\rIHDR\\x00\\x00\\x02X\\x00\\x00\\x02X\\x08\\x02\\x00\\x00\\x001\\x04\\x0f\\x8b\\x…",
      "application/vnd.jupyter.widget-view+json": {
       "version_major": 2,
       "version_minor": 0,
       "model_id": "7415f19acabb43b490d734f91da58be1"
      }
     },
     "metadata": {}
    }
   ],
   "source": [
    "local_translaction_x = deepcopy(data_dict_list[1])\n",
    "local_translaction_x['gt_boxes'][0], local_translaction_x['points'][:,1:] = local_translaction_along_x(local_translaction_x['gt_boxes'][0], local_translaction_x['points'][:, 1:], 10)\n",
    "\n",
    "show_pc(local_translaction_x)"
   ]
  },
  {
   "cell_type": "code",
   "execution_count": 165,
   "metadata": {},
   "outputs": [
    {
     "output_type": "display_data",
     "data": {
      "text/plain": "Image(value=b'\\x89PNG\\r\\n\\x1a\\n\\x00\\x00\\x00\\rIHDR\\x00\\x00\\x02X\\x00\\x00\\x02X\\x08\\x02\\x00\\x00\\x001\\x04\\x0f\\x8b\\x…",
      "application/vnd.jupyter.widget-view+json": {
       "version_major": 2,
       "version_minor": 0,
       "model_id": "a549ee710b4940afbf066931701f54dd"
      }
     },
     "metadata": {}
    }
   ],
   "source": [
    "local_translaction_y = deepcopy(data_dict_list[1])\n",
    "local_translaction_y['gt_boxes'][0], local_translaction_y['points'][:,1:] = local_translaction_along_y(local_translaction_y['gt_boxes'][0], local_translaction_y['points'][:, 1:], 10)\n",
    "\n",
    "show_pc(local_translaction_y)"
   ]
  },
  {
   "cell_type": "code",
   "execution_count": 166,
   "metadata": {},
   "outputs": [
    {
     "output_type": "display_data",
     "data": {
      "text/plain": "Image(value=b'\\x89PNG\\r\\n\\x1a\\n\\x00\\x00\\x00\\rIHDR\\x00\\x00\\x02X\\x00\\x00\\x02X\\x08\\x02\\x00\\x00\\x001\\x04\\x0f\\x8b\\x…",
      "application/vnd.jupyter.widget-view+json": {
       "version_major": 2,
       "version_minor": 0,
       "model_id": "1da8b596bf4942d8b574bfba8c70c73c"
      }
     },
     "metadata": {}
    }
   ],
   "source": [
    "local_translaction_z = deepcopy(data_dict_list[1])\n",
    "local_translaction_z['gt_boxes'][0], local_translaction_z['points'][:,1:] = local_translaction_along_z(local_translaction_z['gt_boxes'][0], local_translaction_z['points'][:, 1:], 10)\n",
    "\n",
    "show_pc(local_translaction_z)"
   ]
  },
  {
   "cell_type": "code",
   "execution_count": null,
   "metadata": {},
   "outputs": [],
   "source": []
  }
 ]
}