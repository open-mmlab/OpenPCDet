{
 "metadata": {
  "language_info": {
   "name": "python",
   "version": "3.8.10",
   "mimetype": "text/x-python",
   "codemirror_mode": {
    "name": "ipython",
    "version": 3
   },
   "pygments_lexer": "ipython3",
   "nbconvert_exporter": "python",
   "file_extension": ".py"
  },
  "orig_nbformat": 2,
  "kernelspec": {
   "name": "python3",
   "display_name": "Python 3.8.10 64-bit"
  },
  "metadata": {
   "interpreter": {
    "hash": "e7370f93d1d0cde622a1f8e1c04877d8463912d04d973331ad4851f04de6915a"
   }
  },
  "interpreter": {
   "hash": "e7370f93d1d0cde622a1f8e1c04877d8463912d04d973331ad4851f04de6915a"
  }
 },
 "nbformat": 4,
 "nbformat_minor": 2,
 "cells": [
  {
   "cell_type": "markdown",
   "source": [
    "# KITTI Dataset augmentation visualization"
   ],
   "metadata": {}
  },
  {
   "cell_type": "markdown",
   "source": [
    "## Dataset structure\n",
    "\n",
    "```\n",
    "📦gta\n",
    "┗ 📂training\n",
    "  ┣ 📂calib\n",
    "  ┃ ┣ 📜<file_id>.txt\n",
    "  ┃ ┗ 📜 ...\n",
    "  ┣ 📂image_2\n",
    "  ┃ ┣ 📜<file_id>.png\n",
    "  ┃ ┗ 📜 ...\n",
    "  ┣ 📂label_2\n",
    "  ┃ ┣ 📜<file_id>.txt\n",
    "  ┃ ┗ 📜 ...\n",
    "  ┗ 📂velodyne\n",
    "    ┣ 📜<file_id>.bin\n",
    "    ┗ 📜 ...\n",
    "```"
   ],
   "metadata": {}
  },
  {
   "cell_type": "code",
   "execution_count": 2,
   "source": [
    "import os\n",
    "import mayavi.mlab as mlab\n",
    "import numpy as np\n",
    "from copy import deepcopy\n",
    "import pickle\n",
    "import logging\n",
    "\n",
    "import pcdet.datasets.augmentor\n",
    "\n",
    "from pcdet.config import cfg, cfg_from_yaml_file\n",
    "from pcdet.datasets import build_dataloader\n",
    "from pcdet.utils import common_utils\n",
    "from pcdet.models import build_network\n",
    "from tools.visual_utils import visualize_utils as V\n",
    "\n",
    "mlab.init_notebook()"
   ],
   "outputs": [
    {
     "output_type": "stream",
     "name": "stdout",
     "text": [
      "Notebook initialized with ipy backend.\n"
     ]
    }
   ],
   "metadata": {}
  },
  {
   "cell_type": "code",
   "execution_count": 3,
   "source": [
    "# generate pickles from the kitti data\n",
    "# os.system(\"python -m pcdet.datasets.kitti.kitti_dataset create_kitti_infos tools/cfgs/dataset_configs/kitti_dataset.yaml\")"
   ],
   "outputs": [],
   "metadata": {}
  },
  {
   "cell_type": "markdown",
   "source": [
    "## Visualizing the LiDAR point cloud with labels"
   ],
   "metadata": {}
  },
  {
   "cell_type": "code",
   "execution_count": 4,
   "source": [
    "logger = common_utils.create_logger(log_level=logging.INFO)"
   ],
   "outputs": [],
   "metadata": {}
  },
  {
   "cell_type": "code",
   "execution_count": 5,
   "source": [
    "cfg_from_yaml_file('tools/cfgs/dataset_configs/kitti_dataset.yaml', cfg)\n",
    "# cfg_from_yaml_file('tools/cfgs/kitti_models/pointpillar_augs.yaml', cfg)\n",
    "\n",
    "cfg.DATA_PATH = 'data/kitti'\n",
    "\n",
    "train_set, train_loader, train_sampler = build_dataloader(\n",
    "    dataset_cfg=cfg,\n",
    "    class_names=['Car', 'Pedestrian', 'Cyclist'],\n",
    "    batch_size=1,\n",
    "    dist=False,\n",
    "    workers=4,\n",
    "    logger=logger,\n",
    "    training=True,\n",
    "    merge_all_iters_to_one_epoch=False,\n",
    "    total_epochs=0\n",
    ")\n",
    "\n",
    "logger.info(f'Total number of samples: \\t{len(train_set)}')\n",
    "\n",
    "data_dict_list = []\n",
    "logger.info('Loading samples')\n",
    "for idx, data_dict in enumerate(train_set):\n",
    "    logger.info(f'Loaded sample index: \\t{idx + 1}')\n",
    "    data_dict = train_set.collate_batch([data_dict])\n",
    "    data_dict_list.append(data_dict)\n",
    "    #if idx > 8: break\n"
   ],
   "outputs": [
    {
     "output_type": "stream",
     "name": "stderr",
     "text": [
      "2021-07-28 18:25:10,693   INFO  Database filter by min points Car: 189 => 177\n",
      "2021-07-28 18:25:10,694   INFO  Database filter by min points Pedestrian: 25 => 25\n",
      "2021-07-28 18:25:10,694   INFO  Database filter by min points Cyclist: 10 => 10\n",
      "2021-07-28 18:25:10,695   INFO  Database filter by difficulty Car: 177 => 137\n",
      "2021-07-28 18:25:10,695   INFO  Database filter by difficulty Pedestrian: 25 => 24\n",
      "2021-07-28 18:25:10,697   INFO  Database filter by difficulty Cyclist: 10 => 9\n",
      "2021-07-28 18:25:10,763   INFO  Loading KITTI dataset\n",
      "2021-07-28 18:25:10,775   INFO  Total samples for KITTI dataset: 58\n",
      "2021-07-28 18:25:10,777   INFO  Total number of samples: \t116\n",
      "2021-07-28 18:25:10,778   INFO  Loading samples\n",
      "2021-07-28 18:25:10,810   INFO  Loaded sample index: \t1\n",
      "2021-07-28 18:25:10,829   INFO  Loaded sample index: \t2\n",
      "2021-07-28 18:25:10,877   INFO  Loaded sample index: \t3\n",
      "2021-07-28 18:25:10,905   INFO  Loaded sample index: \t4\n",
      "2021-07-28 18:25:10,923   INFO  Loaded sample index: \t5\n",
      "2021-07-28 18:25:10,939   INFO  Loaded sample index: \t6\n",
      "2021-07-28 18:25:10,956   INFO  Loaded sample index: \t7\n",
      "2021-07-28 18:25:10,977   INFO  Loaded sample index: \t8\n",
      "2021-07-28 18:25:11,000   INFO  Loaded sample index: \t9\n",
      "2021-07-28 18:25:11,024   INFO  Loaded sample index: \t10\n",
      "2021-07-28 18:25:11,057   INFO  Loaded sample index: \t11\n",
      "2021-07-28 18:25:11,096   INFO  Loaded sample index: \t12\n",
      "2021-07-28 18:25:11,161   INFO  Loaded sample index: \t13\n",
      "2021-07-28 18:25:11,201   INFO  Loaded sample index: \t14\n",
      "2021-07-28 18:25:11,226   INFO  Loaded sample index: \t15\n",
      "2021-07-28 18:25:11,256   INFO  Loaded sample index: \t16\n",
      "2021-07-28 18:25:11,301   INFO  Loaded sample index: \t17\n",
      "2021-07-28 18:25:11,360   INFO  Loaded sample index: \t18\n",
      "2021-07-28 18:25:11,416   INFO  Loaded sample index: \t19\n",
      "2021-07-28 18:25:11,458   INFO  Loaded sample index: \t20\n",
      "2021-07-28 18:25:11,496   INFO  Loaded sample index: \t21\n",
      "2021-07-28 18:25:11,550   INFO  Loaded sample index: \t22\n",
      "2021-07-28 18:25:11,592   INFO  Loaded sample index: \t23\n",
      "2021-07-28 18:25:11,637   INFO  Loaded sample index: \t24\n",
      "2021-07-28 18:25:11,686   INFO  Loaded sample index: \t25\n",
      "2021-07-28 18:25:11,732   INFO  Loaded sample index: \t26\n",
      "2021-07-28 18:25:11,779   INFO  Loaded sample index: \t27\n",
      "2021-07-28 18:25:11,820   INFO  Loaded sample index: \t28\n",
      "2021-07-28 18:25:11,865   INFO  Loaded sample index: \t29\n",
      "2021-07-28 18:25:11,910   INFO  Loaded sample index: \t30\n",
      "2021-07-28 18:25:11,954   INFO  Loaded sample index: \t31\n",
      "2021-07-28 18:25:11,994   INFO  Loaded sample index: \t32\n",
      "2021-07-28 18:25:12,022   INFO  Loaded sample index: \t33\n",
      "2021-07-28 18:25:12,064   INFO  Loaded sample index: \t34\n",
      "2021-07-28 18:25:12,100   INFO  Loaded sample index: \t35\n",
      "2021-07-28 18:25:12,138   INFO  Loaded sample index: \t36\n",
      "2021-07-28 18:25:12,167   INFO  Loaded sample index: \t37\n",
      "2021-07-28 18:25:12,193   INFO  Loaded sample index: \t38\n",
      "2021-07-28 18:25:12,219   INFO  Loaded sample index: \t39\n",
      "2021-07-28 18:25:12,252   INFO  Loaded sample index: \t40\n",
      "2021-07-28 18:25:12,293   INFO  Loaded sample index: \t41\n",
      "2021-07-28 18:25:12,325   INFO  Loaded sample index: \t42\n",
      "2021-07-28 18:25:12,353   INFO  Loaded sample index: \t43\n",
      "2021-07-28 18:25:12,413   INFO  Loaded sample index: \t44\n",
      "2021-07-28 18:25:12,437   INFO  Loaded sample index: \t45\n",
      "2021-07-28 18:25:12,470   INFO  Loaded sample index: \t46\n",
      "2021-07-28 18:25:12,522   INFO  Loaded sample index: \t47\n",
      "2021-07-28 18:25:12,569   INFO  Loaded sample index: \t48\n",
      "2021-07-28 18:25:12,606   INFO  Loaded sample index: \t49\n",
      "2021-07-28 18:25:12,638   INFO  Loaded sample index: \t50\n",
      "2021-07-28 18:25:12,689   INFO  Loaded sample index: \t51\n",
      "2021-07-28 18:25:12,720   INFO  Loaded sample index: \t52\n",
      "2021-07-28 18:25:12,756   INFO  Loaded sample index: \t53\n",
      "2021-07-28 18:25:12,796   INFO  Loaded sample index: \t54\n",
      "2021-07-28 18:25:12,841   INFO  Loaded sample index: \t55\n",
      "2021-07-28 18:25:12,868   INFO  Loaded sample index: \t56\n",
      "2021-07-28 18:25:12,901   INFO  Loaded sample index: \t57\n",
      "2021-07-28 18:25:12,942   INFO  Loaded sample index: \t58\n",
      "2021-07-28 18:25:13,176   INFO  Loaded sample index: \t59\n",
      "2021-07-28 18:25:13,408   INFO  Loaded sample index: \t60\n",
      "2021-07-28 18:25:13,674   INFO  Loaded sample index: \t61\n",
      "2021-07-28 18:25:13,810   INFO  Loaded sample index: \t62\n",
      "2021-07-28 18:25:14,020   INFO  Loaded sample index: \t63\n",
      "2021-07-28 18:25:14,169   INFO  Loaded sample index: \t64\n",
      "2021-07-28 18:25:14,361   INFO  Loaded sample index: \t65\n",
      "2021-07-28 18:25:14,534   INFO  Loaded sample index: \t66\n",
      "2021-07-28 18:25:14,715   INFO  Loaded sample index: \t67\n",
      "2021-07-28 18:25:14,871   INFO  Loaded sample index: \t68\n",
      "2021-07-28 18:25:15,062   INFO  Loaded sample index: \t69\n",
      "2021-07-28 18:25:15,201   INFO  Loaded sample index: \t70\n",
      "2021-07-28 18:25:15,378   INFO  Loaded sample index: \t71\n",
      "2021-07-28 18:25:15,546   INFO  Loaded sample index: \t72\n",
      "2021-07-28 18:25:15,786   INFO  Loaded sample index: \t73\n",
      "2021-07-28 18:25:15,984   INFO  Loaded sample index: \t74\n",
      "2021-07-28 18:25:16,173   INFO  Loaded sample index: \t75\n",
      "2021-07-28 18:25:16,333   INFO  Loaded sample index: \t76\n",
      "2021-07-28 18:25:16,500   INFO  Loaded sample index: \t77\n",
      "2021-07-28 18:25:16,646   INFO  Loaded sample index: \t78\n",
      "2021-07-28 18:25:16,825   INFO  Loaded sample index: \t79\n",
      "2021-07-28 18:25:17,077   INFO  Loaded sample index: \t80\n",
      "2021-07-28 18:25:17,261   INFO  Loaded sample index: \t81\n",
      "2021-07-28 18:25:17,443   INFO  Loaded sample index: \t82\n",
      "2021-07-28 18:25:17,632   INFO  Loaded sample index: \t83\n",
      "2021-07-28 18:25:17,810   INFO  Loaded sample index: \t84\n",
      "2021-07-28 18:25:17,980   INFO  Loaded sample index: \t85\n",
      "2021-07-28 18:25:18,125   INFO  Loaded sample index: \t86\n",
      "2021-07-28 18:25:18,288   INFO  Loaded sample index: \t87\n",
      "2021-07-28 18:25:18,443   INFO  Loaded sample index: \t88\n",
      "2021-07-28 18:25:18,659   INFO  Loaded sample index: \t89\n",
      "2021-07-28 18:25:18,877   INFO  Loaded sample index: \t90\n",
      "2021-07-28 18:25:19,103   INFO  Loaded sample index: \t91\n",
      "2021-07-28 18:25:19,265   INFO  Loaded sample index: \t92\n",
      "2021-07-28 18:25:19,436   INFO  Loaded sample index: \t93\n",
      "2021-07-28 18:25:19,578   INFO  Loaded sample index: \t94\n",
      "2021-07-28 18:25:19,767   INFO  Loaded sample index: \t95\n",
      "2021-07-28 18:25:19,931   INFO  Loaded sample index: \t96\n",
      "2021-07-28 18:25:20,081   INFO  Loaded sample index: \t97\n",
      "2021-07-28 18:25:20,260   INFO  Loaded sample index: \t98\n",
      "2021-07-28 18:25:20,460   INFO  Loaded sample index: \t99\n",
      "2021-07-28 18:25:20,635   INFO  Loaded sample index: \t100\n",
      "2021-07-28 18:25:20,864   INFO  Loaded sample index: \t101\n",
      "2021-07-28 18:25:21,080   INFO  Loaded sample index: \t102\n",
      "2021-07-28 18:25:21,254   INFO  Loaded sample index: \t103\n",
      "2021-07-28 18:25:21,437   INFO  Loaded sample index: \t104\n",
      "2021-07-28 18:25:21,694   INFO  Loaded sample index: \t105\n",
      "2021-07-28 18:25:21,879   INFO  Loaded sample index: \t106\n",
      "2021-07-28 18:25:22,121   INFO  Loaded sample index: \t107\n",
      "2021-07-28 18:25:22,289   INFO  Loaded sample index: \t108\n",
      "2021-07-28 18:25:22,461   INFO  Loaded sample index: \t109\n",
      "2021-07-28 18:25:22,613   INFO  Loaded sample index: \t110\n",
      "2021-07-28 18:25:22,830   INFO  Loaded sample index: \t111\n",
      "2021-07-28 18:25:23,043   INFO  Loaded sample index: \t112\n",
      "2021-07-28 18:25:23,208   INFO  Loaded sample index: \t113\n",
      "2021-07-28 18:25:23,412   INFO  Loaded sample index: \t114\n",
      "2021-07-28 18:25:23,579   INFO  Loaded sample index: \t115\n",
      "2021-07-28 18:25:23,749   INFO  Loaded sample index: \t116\n"
     ]
    }
   ],
   "metadata": {
    "tags": []
   }
  },
  {
   "cell_type": "code",
   "execution_count": 6,
   "source": [
    "scene = data_dict_list[2]"
   ],
   "outputs": [],
   "metadata": {}
  },
  {
   "cell_type": "code",
   "execution_count": 7,
   "source": [
    "def show_pc(data_dict):\n",
    "    currfig = mlab.figure(size=(1280,720))\n",
    "\n",
    "    V.draw_scenes(\n",
    "        points=data_dict['points'][:, 1:], gt_boxes=data_dict['gt_boxes'][0]\n",
    "    )\n",
    "\n",
    "    cam = currfig.scene.camera\n",
    "    cam.zoom(2)\n",
    "    return currfig\n"
   ],
   "outputs": [],
   "metadata": {}
  },
  {
   "cell_type": "markdown",
   "source": [
    "## Visualizing the original scene\n",
    "![Original Camera Image](data/kitti/training/image_2/000007.png)\n"
   ],
   "metadata": {}
  },
  {
   "cell_type": "code",
   "execution_count": 8,
   "source": [
    "currfig = show_pc(data_dict_list[60])\n",
    "mlab.savefig('3d_renders/aug_pipeline_output.obj')\n",
    "mlab.savefig('figs/aug_pipeline_output.png', size=(1280,720))\n",
    "currfig"
   ],
   "outputs": [
    {
     "output_type": "display_data",
     "data": {
      "text/plain": [
       "Image(value=b'\\x89PNG\\r\\n\\x1a\\n\\x00\\x00\\x00\\rIHDR\\x00\\x00\\x02X\\x00\\x00\\x02X\\x08\\x02\\x00\\x00\\x001\\x04\\x0f\\x8b\\x…"
      ],
      "application/vnd.jupyter.widget-view+json": {
       "version_major": 2,
       "version_minor": 0,
       "model_id": "a18e1fd4bd21473888e513785e10d306"
      }
     },
     "metadata": {}
    }
   ],
   "metadata": {}
  },
  {
   "cell_type": "markdown",
   "source": [
    "## Augmentation methods"
   ],
   "metadata": {}
  },
  {
   "cell_type": "markdown",
   "source": [
    "### Random flip"
   ],
   "metadata": {}
  },
  {
   "cell_type": "code",
   "execution_count": 9,
   "source": [
    "def random_flip_along_x(gt_boxes, points):\n",
    "    \"\"\"\n",
    "    Args:\n",
    "        gt_boxes: (N, 7 + C), [x, y, z, dx, dy, dz, heading, [vx], [vy]]\n",
    "        points: (M, 3 + C)\n",
    "    Returns:\n",
    "    \"\"\"\n",
    "    enable = True\n",
    "    if enable:\n",
    "        gt_boxes[:, 1] = -gt_boxes[:, 1]\n",
    "        gt_boxes[:, 6] = -gt_boxes[:, 6]\n",
    "        points[:, 1] = -points[:, 1]\n",
    "\n",
    "        if gt_boxes.shape[1] > 8:\n",
    "            gt_boxes[:, 8] = -gt_boxes[:, 8]\n",
    "\n",
    "    return gt_boxes, points\n",
    "\n",
    "def random_flip_along_y(gt_boxes, points):\n",
    "    \"\"\"\n",
    "    Args:\n",
    "        gt_boxes: (N, 7 + C), [x, y, z, dx, dy, dz, heading, [vx], [vy]]\n",
    "        points: (M, 3 + C)\n",
    "    Returns:\n",
    "    \"\"\"\n",
    "    enable = True\n",
    "    if enable:\n",
    "        gt_boxes[:, 0] = -gt_boxes[:, 0]\n",
    "        gt_boxes[:, 6] = -(gt_boxes[:, 6] + np.pi)\n",
    "        points[:, 0] = -points[:, 0]\n",
    "\n",
    "        if gt_boxes.shape[1] > 7:\n",
    "            gt_boxes[:, 7] = -gt_boxes[:, 7]\n",
    "\n",
    "    return gt_boxes, points"
   ],
   "outputs": [],
   "metadata": {}
  },
  {
   "cell_type": "code",
   "execution_count": 10,
   "source": [
    "%%time\n",
    "flipped_y = deepcopy(scene)\n",
    "flipped_y['gt_boxes'][0], flipped_y['points'][:,1:] = random_flip_along_y(flipped_y['gt_boxes'][0], flipped_y['points'][:,1:])"
   ],
   "outputs": [
    {
     "output_type": "stream",
     "name": "stdout",
     "text": [
      "CPU times: user 2.38 ms, sys: 0 ns, total: 2.38 ms\n",
      "Wall time: 1.3 ms\n"
     ]
    }
   ],
   "metadata": {}
  },
  {
   "cell_type": "code",
   "execution_count": 11,
   "source": [
    "currfig = show_pc(flipped_y)\n",
    "mlab.savefig('figs/flipped_y.png', size=(1280,720))\n",
    "mlab.savefig('3d_renders/flipped_y.obj')\n",
    "currfig"
   ],
   "outputs": [
    {
     "output_type": "display_data",
     "data": {
      "text/plain": [
       "Image(value=b'\\x89PNG\\r\\n\\x1a\\n\\x00\\x00\\x00\\rIHDR\\x00\\x00\\x02X\\x00\\x00\\x02X\\x08\\x02\\x00\\x00\\x001\\x04\\x0f\\x8b\\x…"
      ],
      "application/vnd.jupyter.widget-view+json": {
       "version_major": 2,
       "version_minor": 0,
       "model_id": "f57047aef58447a8ae3636cf6a2252a3"
      }
     },
     "metadata": {}
    }
   ],
   "metadata": {}
  },
  {
   "cell_type": "code",
   "execution_count": 12,
   "source": [
    "%%time\n",
    "flipped_x = deepcopy(scene)\n",
    "flipped_x['gt_boxes'][0], flipped_x['points'][:,1:] = random_flip_along_x(flipped_x['gt_boxes'][0], flipped_x['points'][:,1:])"
   ],
   "outputs": [
    {
     "output_type": "stream",
     "name": "stdout",
     "text": [
      "CPU times: user 1.34 ms, sys: 911 µs, total: 2.25 ms\n",
      "Wall time: 1.15 ms\n"
     ]
    }
   ],
   "metadata": {}
  },
  {
   "cell_type": "code",
   "execution_count": 13,
   "source": [
    "currfig = show_pc(flipped_x)\n",
    "mlab.savefig('figs/flipped_x.png', size=(1280,720))\n",
    "mlab.savefig('3d_renders/flipped_x.obj')\n",
    "currfig"
   ],
   "outputs": [
    {
     "output_type": "display_data",
     "data": {
      "text/plain": [
       "Image(value=b'\\x89PNG\\r\\n\\x1a\\n\\x00\\x00\\x00\\rIHDR\\x00\\x00\\x02X\\x00\\x00\\x02X\\x08\\x02\\x00\\x00\\x001\\x04\\x0f\\x8b\\x…"
      ],
      "application/vnd.jupyter.widget-view+json": {
       "version_major": 2,
       "version_minor": 0,
       "model_id": "233283dd48494b02ac0ac084a18ffef0"
      }
     },
     "metadata": {}
    }
   ],
   "metadata": {}
  },
  {
   "cell_type": "markdown",
   "source": [
    "### Global rotation"
   ],
   "metadata": {}
  },
  {
   "cell_type": "code",
   "execution_count": 14,
   "source": [
    "def global_rotation(gt_boxes, points, rot_range):\n",
    "    \"\"\"\n",
    "    Args:\n",
    "        gt_boxes: (N, 7 + C), [x, y, z, dx, dy, dz, heading, [vx], [vy]]\n",
    "        points: (M, 3 + C),\n",
    "        rot_range: [min, max]\n",
    "    Returns:\n",
    "    \"\"\"\n",
    "    noise_rotation = np.random.uniform(rot_range[0], rot_range[1])\n",
    "    points = common_utils.rotate_points_along_z(points[np.newaxis, :, :], np.array([noise_rotation]))[0]\n",
    "    gt_boxes[:, 0:3] = common_utils.rotate_points_along_z(gt_boxes[np.newaxis, :, 0:3], np.array([noise_rotation]))[0]\n",
    "    gt_boxes[:, 6] += noise_rotation\n",
    "    if gt_boxes.shape[1] > 8:\n",
    "        gt_boxes[:, 7:9] = common_utils.rotate_points_along_z(\n",
    "            np.hstack((gt_boxes[:, 7:9], np.zeros((gt_boxes.shape[0], 1))))[np.newaxis, :, :],\n",
    "            np.array([noise_rotation])\n",
    "        )[0][:, 0:2]\n",
    "\n",
    "    return gt_boxes, points"
   ],
   "outputs": [],
   "metadata": {}
  },
  {
   "cell_type": "code",
   "execution_count": 15,
   "source": [
    "%%time\n",
    "rotated = deepcopy(scene)\n",
    "rotated['gt_boxes'][0], rotated['points'][:,1:] = global_rotation(rotated['gt_boxes'][0], rotated['points'][:,1:], [-0.78539816, 0.78539816])"
   ],
   "outputs": [
    {
     "output_type": "stream",
     "name": "stdout",
     "text": [
      "CPU times: user 3.36 ms, sys: 0 ns, total: 3.36 ms\n",
      "Wall time: 2.71 ms\n"
     ]
    }
   ],
   "metadata": {}
  },
  {
   "cell_type": "code",
   "execution_count": 16,
   "source": [
    "currfig = show_pc(rotated)\n",
    "mlab.savefig('figs/rotated_global.png', size=(1280,720))\n",
    "mlab.savefig('3d_renders/rotated_global.obj')\n",
    "currfig"
   ],
   "outputs": [
    {
     "output_type": "display_data",
     "data": {
      "text/plain": [
       "Image(value=b'\\x89PNG\\r\\n\\x1a\\n\\x00\\x00\\x00\\rIHDR\\x00\\x00\\x02X\\x00\\x00\\x02X\\x08\\x02\\x00\\x00\\x001\\x04\\x0f\\x8b\\x…"
      ],
      "application/vnd.jupyter.widget-view+json": {
       "version_major": 2,
       "version_minor": 0,
       "model_id": "3b668bf6bd1a408682e3aa6e92524063"
      }
     },
     "metadata": {}
    }
   ],
   "metadata": {}
  },
  {
   "cell_type": "markdown",
   "source": [
    "### Global scaling"
   ],
   "metadata": {}
  },
  {
   "cell_type": "code",
   "execution_count": 17,
   "source": [
    "def global_scaling(gt_boxes, points, scale_range):\n",
    "    \"\"\"\n",
    "    Args:\n",
    "        gt_boxes: (N, 7), [x, y, z, dx, dy, dz, heading]\n",
    "        points: (M, 3 + C),\n",
    "        scale_range: [min, max]\n",
    "    Returns:\n",
    "    \"\"\"\n",
    "    if scale_range[1] - scale_range[0] < 1e-3:\n",
    "        return gt_boxes, points\n",
    "    noise_scale = np.random.uniform(scale_range[0], scale_range[1])\n",
    "    points[:, :3] *= noise_scale\n",
    "    gt_boxes[:, :6] *= noise_scale\n",
    "    return gt_boxes, points"
   ],
   "outputs": [],
   "metadata": {}
  },
  {
   "cell_type": "code",
   "execution_count": 18,
   "source": [
    "%%time\n",
    "scaled = deepcopy(scene)\n",
    "scaled['gt_boxes'][0], scaled['points'][:,1:] = global_scaling(scaled['gt_boxes'][0], scaled['points'][:, 1:], [0.2, 0.5])"
   ],
   "outputs": [
    {
     "output_type": "stream",
     "name": "stdout",
     "text": [
      "CPU times: user 1.17 ms, sys: 720 µs, total: 1.89 ms\n",
      "Wall time: 1.11 ms\n"
     ]
    }
   ],
   "metadata": {}
  },
  {
   "cell_type": "code",
   "execution_count": 19,
   "source": [
    "currfig = show_pc(scaled)\n",
    "mlab.savefig('figs/scaled_global.png', size=(1280,720))\n",
    "mlab.savefig('3d_renders/scaled_global.obj')\n",
    "currfig"
   ],
   "outputs": [
    {
     "output_type": "display_data",
     "data": {
      "text/plain": [
       "Image(value=b'\\x89PNG\\r\\n\\x1a\\n\\x00\\x00\\x00\\rIHDR\\x00\\x00\\x02X\\x00\\x00\\x02X\\x08\\x02\\x00\\x00\\x001\\x04\\x0f\\x8b\\x…"
      ],
      "application/vnd.jupyter.widget-view+json": {
       "version_major": 2,
       "version_minor": 0,
       "model_id": "10453f7c134547758fbd0464067f552b"
      }
     },
     "metadata": {}
    }
   ],
   "metadata": {}
  },
  {
   "cell_type": "markdown",
   "source": [
    "### Global translation"
   ],
   "metadata": {}
  },
  {
   "cell_type": "code",
   "execution_count": 20,
   "source": [
    "def random_translation_along_x(gt_boxes, points, offset_range):\n",
    "    \"\"\"\n",
    "    Args:\n",
    "        gt_boxes: (N, 7), [x, y, z, dx, dy, dz, heading, [vx], [vy]]\n",
    "        points: (M, 3 + C),\n",
    "        offset_range: [min max]]\n",
    "    Returns:\n",
    "    \"\"\"\n",
    "    offset = np.random.uniform(offset_range[0], offset_range[1])\n",
    "\n",
    "    points[:, 0] += offset\n",
    "    gt_boxes[:, 0] += offset\n",
    "\n",
    "    if gt_boxes.shape[1] > 7:\n",
    "        gt_boxes[:, 7] += offset\n",
    "\n",
    "    return gt_boxes, points\n",
    "\n",
    "def random_translation_along_y(gt_boxes, points, offset_range):\n",
    "    \"\"\"\n",
    "    Args:\n",
    "        gt_boxes: (N, 7), [x, y, z, dx, dy, dz, heading, [vx], [vy]]\n",
    "        points: (M, 3 + C),\n",
    "        offset_range: [min max]]\n",
    "    Returns:\n",
    "    \"\"\"\n",
    "    offset = np.random.uniform(offset_range[0], offset_range[1])\n",
    "\n",
    "    points[:, 1] += offset\n",
    "    gt_boxes[:, 1] += offset\n",
    "\n",
    "    if gt_boxes.shape[1] > 8:\n",
    "        gt_boxes[:, 8] += offset\n",
    "\n",
    "    return gt_boxes, points\n",
    "\n",
    "def random_translation_along_z(gt_boxes, points, offset_range):\n",
    "    \"\"\"\n",
    "    Args:\n",
    "        gt_boxes: (N, 7), [x, y, z, dx, dy, dz, heading, [vx], [vy]]\n",
    "        points: (M, 3 + C),\n",
    "        offset_range: [min max]]\n",
    "    Returns:\n",
    "    \"\"\"\n",
    "    offset = np.random.uniform(offset_range[0], offset_range[1])\n",
    "\n",
    "    points[:, 2] += offset\n",
    "    gt_boxes[:, 2] += offset\n",
    "\n",
    "    return gt_boxes, points"
   ],
   "outputs": [],
   "metadata": {}
  },
  {
   "cell_type": "code",
   "execution_count": 21,
   "source": [
    "%%time\n",
    "translation_x = deepcopy(scene)\n",
    "translation_x['gt_boxes'][0], translation_x['points'][:,1:] = random_translation_along_x(translation_x['gt_boxes'][0], translation_x['points'][:, 1:], [15, 20])"
   ],
   "outputs": [
    {
     "output_type": "stream",
     "name": "stdout",
     "text": [
      "CPU times: user 1.6 ms, sys: 272 µs, total: 1.88 ms\n",
      "Wall time: 870 µs\n"
     ]
    }
   ],
   "metadata": {}
  },
  {
   "cell_type": "code",
   "execution_count": 22,
   "source": [
    "currfig = show_pc(translation_x)\n",
    "mlab.savefig('figs/translation_global_x.png', size=(1280,720))\n",
    "mlab.savefig('3d_renders/translation_global_x.obj')\n",
    "currfig"
   ],
   "outputs": [
    {
     "output_type": "display_data",
     "data": {
      "text/plain": [
       "Image(value=b'\\x89PNG\\r\\n\\x1a\\n\\x00\\x00\\x00\\rIHDR\\x00\\x00\\x02X\\x00\\x00\\x02X\\x08\\x02\\x00\\x00\\x001\\x04\\x0f\\x8b\\x…"
      ],
      "application/vnd.jupyter.widget-view+json": {
       "version_major": 2,
       "version_minor": 0,
       "model_id": "6f93cf367be94650a3a5a57a083823ea"
      }
     },
     "metadata": {}
    }
   ],
   "metadata": {}
  },
  {
   "cell_type": "code",
   "execution_count": 23,
   "source": [
    "%%time\n",
    "translation_y = deepcopy(scene)\n",
    "translation_y['gt_boxes'][0], translation_y['points'][:,1:] = random_translation_along_y(translation_y['gt_boxes'][0], translation_y['points'][:, 1:], [15, 20])"
   ],
   "outputs": [
    {
     "output_type": "stream",
     "name": "stdout",
     "text": [
      "CPU times: user 1.47 ms, sys: 0 ns, total: 1.47 ms\n",
      "Wall time: 703 µs\n"
     ]
    }
   ],
   "metadata": {}
  },
  {
   "cell_type": "code",
   "execution_count": 24,
   "source": [
    "currfig = show_pc(translation_y)\n",
    "mlab.savefig('figs/translation_global_y.png', size=(1280,720))\n",
    "mlab.savefig('3d_renders/translation_global_y.obj')\n",
    "currfig"
   ],
   "outputs": [
    {
     "output_type": "display_data",
     "data": {
      "text/plain": [
       "Image(value=b'\\x89PNG\\r\\n\\x1a\\n\\x00\\x00\\x00\\rIHDR\\x00\\x00\\x02X\\x00\\x00\\x02X\\x08\\x02\\x00\\x00\\x001\\x04\\x0f\\x8b\\x…"
      ],
      "application/vnd.jupyter.widget-view+json": {
       "version_major": 2,
       "version_minor": 0,
       "model_id": "c1063e2e03d846c687c6c32f9cc7dbf4"
      }
     },
     "metadata": {}
    }
   ],
   "metadata": {}
  },
  {
   "cell_type": "code",
   "execution_count": 25,
   "source": [
    "%%time\n",
    "translation_z = deepcopy(scene)\n",
    "translation_z['gt_boxes'][0], translation_z['points'][:,1:] = random_translation_along_z(translation_z['gt_boxes'][0], translation_z['points'][:, 1:], [15, 20])"
   ],
   "outputs": [
    {
     "output_type": "stream",
     "name": "stdout",
     "text": [
      "CPU times: user 1.28 ms, sys: 695 µs, total: 1.97 ms\n",
      "Wall time: 1.18 ms\n"
     ]
    }
   ],
   "metadata": {}
  },
  {
   "cell_type": "code",
   "execution_count": 26,
   "source": [
    "currfig = show_pc(translation_z)\n",
    "mlab.savefig('figs/translation_global_z.png', size=(1280,720))\n",
    "mlab.savefig('3d_renders/translation_global_z.obj')\n",
    "currfig"
   ],
   "outputs": [
    {
     "output_type": "display_data",
     "data": {
      "text/plain": [
       "Image(value=b'\\x89PNG\\r\\n\\x1a\\n\\x00\\x00\\x00\\rIHDR\\x00\\x00\\x02X\\x00\\x00\\x02X\\x08\\x02\\x00\\x00\\x001\\x04\\x0f\\x8b\\x…"
      ],
      "application/vnd.jupyter.widget-view+json": {
       "version_major": 2,
       "version_minor": 0,
       "model_id": "7cf092f0ee814eeea335becf2d262884"
      }
     },
     "metadata": {}
    }
   ],
   "metadata": {}
  },
  {
   "cell_type": "markdown",
   "source": [
    "### Global frustum dropout"
   ],
   "metadata": {}
  },
  {
   "cell_type": "code",
   "execution_count": 27,
   "source": [
    "def global_frustum_dropout_top(gt_boxes, points, intensity_range):\n",
    "    \"\"\"\n",
    "    Args:\n",
    "        gt_boxes: (N, 7), [x, y, z, dx, dy, dz, heading, [vx], [vy]],\n",
    "        points: (M, 3 + C),\n",
    "        intensity: [min, max]\n",
    "    Returns:\n",
    "    \"\"\"\n",
    "    intensity = np.random.uniform(intensity_range[0], intensity_range[1])\n",
    "\n",
    "    threshold = np.max(points[:, 2]) - intensity * (np.max(points[:, 2]) - np.min(points[:, 2]))\n",
    "    points = points[points[:,2] < threshold]\n",
    "    gt_boxes = gt_boxes[gt_boxes[:,2] < threshold]\n",
    "\n",
    "    return gt_boxes, points\n",
    "\n",
    "def global_frustum_dropout_bottom(gt_boxes, points, intensity_range):\n",
    "    \"\"\"\n",
    "    Args:\n",
    "        gt_boxes: (N, 7), [x, y, z, dx, dy, dz, heading, [vx], [vy]],\n",
    "        points: (M, 3 + C),\n",
    "        intensity: [min, max]\n",
    "    Returns:\n",
    "    \"\"\"\n",
    "    intensity = np.random.uniform(intensity_range[0], intensity_range[1])\n",
    "\n",
    "    threshold = np.min(points[:, 2]) + intensity * (np.max(points[:, 2]) - np.min(points[:, 2]))\n",
    "    points = points[points[:,2] > threshold]\n",
    "    gt_boxes = gt_boxes[gt_boxes[:,2] > threshold]\n",
    "\n",
    "    return gt_boxes, points\n",
    "\n",
    "def global_frustum_dropout_left(gt_boxes, points, intensity_range):\n",
    "    \"\"\"\n",
    "    Args:\n",
    "        gt_boxes: (N, 7), [x, y, z, dx, dy, dz, heading, [vx], [vy]],\n",
    "        points: (M, 3 + C),\n",
    "        intensity: [min, max]\n",
    "    Returns:\n",
    "    \"\"\"\n",
    "    intensity = np.random.uniform(intensity_range[0], intensity_range[1])\n",
    "\n",
    "    threshold = np.max(points[:, 1]) - intensity * (np.max(points[:, 1]) - np.min(points[:, 1]))\n",
    "    points = points[points[:,1] < threshold]\n",
    "    gt_boxes = gt_boxes[gt_boxes[:,1] < threshold]\n",
    "\n",
    "    return gt_boxes, points\n",
    "\n",
    "def global_frustum_dropout_right(gt_boxes, points, intensity_range):\n",
    "    \"\"\"\n",
    "    Args:\n",
    "        gt_boxes: (N, 7), [x, y, z, dx, dy, dz, heading, [vx], [vy]],\n",
    "        points: (M, 3 + C),\n",
    "        intensity: [min, max]\n",
    "    Returns:\n",
    "    \"\"\"\n",
    "    intensity = np.random.uniform(intensity_range[0], intensity_range[1])\n",
    "\n",
    "    threshold = np.min(points[:, 1]) + intensity * (np.max(points[:, 1]) - np.min(points[:, 1]))\n",
    "    points = points[points[:,1] > threshold]\n",
    "    gt_boxes = gt_boxes[gt_boxes[:,1] > threshold]\n",
    "\n",
    "    return gt_boxes, points"
   ],
   "outputs": [],
   "metadata": {}
  },
  {
   "cell_type": "code",
   "execution_count": 28,
   "source": [
    "%%time\n",
    "frustum_dropout = deepcopy(scene)\n",
    "frustum_dropout['gt_boxes'], frustum_dropout['points'] = global_frustum_dropout_top(frustum_dropout['gt_boxes'][0], frustum_dropout['points'][:, 1:], [0.4, 0.5])"
   ],
   "outputs": [
    {
     "output_type": "stream",
     "name": "stdout",
     "text": [
      "CPU times: user 2.32 ms, sys: 0 ns, total: 2.32 ms\n",
      "Wall time: 1.61 ms\n"
     ]
    }
   ],
   "metadata": {}
  },
  {
   "cell_type": "code",
   "execution_count": 29,
   "source": [
    "V.draw_scenes(\n",
    "        points=frustum_dropout['points'], gt_boxes=frustum_dropout['gt_boxes']\n",
    "    )\n",
    "\n",
    "mlab.savefig('figs/frustum_dropout_top.png')\n",
    "mlab.savefig('3d_renders/frustum_dropout_top.obj')\n",
    "currfig"
   ],
   "outputs": [
    {
     "output_type": "display_data",
     "data": {
      "text/plain": [
       "Image(value=b'\\x89PNG\\r\\n\\x1a\\n\\x00\\x00\\x00\\rIHDR\\x00\\x00\\x02X\\x00\\x00\\x02X\\x08\\x02\\x00\\x00\\x001\\x04\\x0f\\x8b\\x…"
      ],
      "application/vnd.jupyter.widget-view+json": {
       "version_major": 2,
       "version_minor": 0,
       "model_id": "12e588c2f2a04b6ca62fd6a31ee1f6ed"
      }
     },
     "metadata": {}
    }
   ],
   "metadata": {}
  },
  {
   "cell_type": "code",
   "execution_count": 30,
   "source": [
    "%%time\n",
    "frustum_dropout = deepcopy(scene)\n",
    "frustum_dropout['gt_boxes'], frustum_dropout['points'] = global_frustum_dropout_bottom(frustum_dropout['gt_boxes'][0], frustum_dropout['points'][:, 1:], [0.4, 0.5])"
   ],
   "outputs": [
    {
     "output_type": "stream",
     "name": "stdout",
     "text": [
      "CPU times: user 2.32 ms, sys: 0 ns, total: 2.32 ms\n",
      "Wall time: 1.52 ms\n"
     ]
    }
   ],
   "metadata": {}
  },
  {
   "cell_type": "code",
   "execution_count": 31,
   "source": [
    "V.draw_scenes(\n",
    "        points=frustum_dropout['points'], gt_boxes=frustum_dropout['gt_boxes']\n",
    "    )\n",
    "\n",
    "mlab.savefig('figs/frustum_dropout_bottom.png')\n",
    "mlab.savefig('3d_renders/frustum_dropout_bottom.obj')\n",
    "currfig"
   ],
   "outputs": [
    {
     "output_type": "display_data",
     "data": {
      "text/plain": [
       "Image(value=b'\\x89PNG\\r\\n\\x1a\\n\\x00\\x00\\x00\\rIHDR\\x00\\x00\\x02X\\x00\\x00\\x02X\\x08\\x02\\x00\\x00\\x001\\x04\\x0f\\x8b\\x…"
      ],
      "application/vnd.jupyter.widget-view+json": {
       "version_major": 2,
       "version_minor": 0,
       "model_id": "e0b305ce543b4894a4cd1d231ba16201"
      }
     },
     "metadata": {}
    }
   ],
   "metadata": {}
  },
  {
   "cell_type": "code",
   "execution_count": 32,
   "source": [
    "%%time\n",
    "frustum_dropout = deepcopy(scene)\n",
    "frustum_dropout['gt_boxes'], frustum_dropout['points'] = global_frustum_dropout_left(frustum_dropout['gt_boxes'][0], frustum_dropout['points'][:, 1:], [0.4, 0.5])"
   ],
   "outputs": [
    {
     "output_type": "stream",
     "name": "stdout",
     "text": [
      "CPU times: user 1.32 ms, sys: 650 µs, total: 1.97 ms\n",
      "Wall time: 1.19 ms\n"
     ]
    }
   ],
   "metadata": {}
  },
  {
   "cell_type": "code",
   "execution_count": 33,
   "source": [
    "V.draw_scenes(\n",
    "        points=frustum_dropout['points'], gt_boxes=frustum_dropout['gt_boxes']\n",
    "    )\n",
    "\n",
    "mlab.savefig('figs/frustum_dropout_left.png')\n",
    "mlab.savefig('figs/frustum_dropout_bottom.obj')\n",
    "currfig"
   ],
   "outputs": [
    {
     "output_type": "display_data",
     "data": {
      "text/plain": [
       "Image(value=b'\\x89PNG\\r\\n\\x1a\\n\\x00\\x00\\x00\\rIHDR\\x00\\x00\\x02X\\x00\\x00\\x02X\\x08\\x02\\x00\\x00\\x001\\x04\\x0f\\x8b\\x…"
      ],
      "application/vnd.jupyter.widget-view+json": {
       "version_major": 2,
       "version_minor": 0,
       "model_id": "0f9f7368fcee45c2a78099b31ecb34ba"
      }
     },
     "metadata": {}
    }
   ],
   "metadata": {}
  },
  {
   "cell_type": "code",
   "execution_count": 34,
   "source": [
    "%%time\n",
    "frustum_dropout = deepcopy(scene)\n",
    "frustum_dropout['gt_boxes'], frustum_dropout['points'] = global_frustum_dropout_right(frustum_dropout['gt_boxes'][0], frustum_dropout['points'][:, 1:], [0.4, 0.5])"
   ],
   "outputs": [
    {
     "output_type": "stream",
     "name": "stdout",
     "text": [
      "CPU times: user 0 ns, sys: 2.28 ms, total: 2.28 ms\n",
      "Wall time: 1.57 ms\n"
     ]
    }
   ],
   "metadata": {}
  },
  {
   "cell_type": "code",
   "execution_count": 35,
   "source": [
    "V.draw_scenes(\n",
    "        points=frustum_dropout['points'], gt_boxes=frustum_dropout['gt_boxes']\n",
    "    )\n",
    "\n",
    "mlab.savefig('figs/frustum_dropout_right.png')\n",
    "mlab.savefig('figs/frustum_dropout_right.obj')\n",
    "currfig"
   ],
   "outputs": [
    {
     "output_type": "display_data",
     "data": {
      "text/plain": [
       "Image(value=b'\\x89PNG\\r\\n\\x1a\\n\\x00\\x00\\x00\\rIHDR\\x00\\x00\\x02X\\x00\\x00\\x02X\\x08\\x02\\x00\\x00\\x001\\x04\\x0f\\x8b\\x…"
      ],
      "application/vnd.jupyter.widget-view+json": {
       "version_major": 2,
       "version_minor": 0,
       "model_id": "a841994a7c4d49999e6e37c14ea083d2"
      }
     },
     "metadata": {}
    }
   ],
   "metadata": {}
  },
  {
   "cell_type": "markdown",
   "source": [
    "#### Aux function to find which points are inside a bounding box"
   ],
   "metadata": {}
  },
  {
   "cell_type": "code",
   "execution_count": 36,
   "source": [
    "def get_points_in_box(points, gt_box):\n",
    "    x, y, z, dx, dy, dz = gt_box[0], gt_box[1], gt_box[2], gt_box[3], gt_box[4], gt_box[5]\n",
    "\n",
    "    mask = np.logical_and(points[:,0] <= x + dx/2, \\\n",
    "         np.logical_and(points[:,0] >= x - dx/2, \\\n",
    "             np.logical_and(points[:,1] <= y + dy/2, \\\n",
    "                 np.logical_and(points[:,1] >= y - dy/2, \\\n",
    "                     np.logical_and(points[:,2] <= z + dz/2, points[:,2] >= z - dz/2)))))\n",
    "\n",
    "    points = points[mask]\n",
    "\n",
    "    return points, mask"
   ],
   "outputs": [],
   "metadata": {}
  },
  {
   "cell_type": "code",
   "execution_count": 37,
   "source": [
    "%%time\n",
    "points_to_filter = deepcopy(scene)\n",
    "filtered_points, mask = get_points_in_box(points_to_filter['points'][:,1:], points_to_filter['gt_boxes'][0][1])"
   ],
   "outputs": [
    {
     "output_type": "stream",
     "name": "stdout",
     "text": [
      "CPU times: user 1.34 ms, sys: 628 µs, total: 1.97 ms\n",
      "Wall time: 1.01 ms\n"
     ]
    }
   ],
   "metadata": {}
  },
  {
   "cell_type": "code",
   "execution_count": 38,
   "source": [
    "V.draw_scenes(\n",
    "        points=filtered_points, gt_boxes=points_to_filter['gt_boxes'][0,1:]\n",
    "    )\n",
    "\n",
    "mlab.savefig('figs/points_in_box.png')\n",
    "mlab.savefig('3d_renders/points_in_box.obj')\n",
    "currfig"
   ],
   "outputs": [
    {
     "output_type": "display_data",
     "data": {
      "text/plain": [
       "Image(value=b'\\x89PNG\\r\\n\\x1a\\n\\x00\\x00\\x00\\rIHDR\\x00\\x00\\x02X\\x00\\x00\\x02X\\x08\\x02\\x00\\x00\\x001\\x04\\x0f\\x8b\\x…"
      ],
      "application/vnd.jupyter.widget-view+json": {
       "version_major": 2,
       "version_minor": 0,
       "model_id": "0c77c04c11654db08951f20ab8631093"
      }
     },
     "metadata": {}
    }
   ],
   "metadata": {
    "tags": []
   }
  },
  {
   "cell_type": "markdown",
   "source": [
    "### Local translation"
   ],
   "metadata": {}
  },
  {
   "cell_type": "code",
   "execution_count": 39,
   "source": [
    "def local_translation_along_x(gt_boxes, points, offset_range):\n",
    "    \"\"\"\n",
    "    Args:\n",
    "        gt_boxes: (N, 7), [x, y, z, dx, dy, dz, heading, [vx], [vy]]\n",
    "        points: (M, 3 + C),\n",
    "        offset_range: [min max]]\n",
    "    Returns:\n",
    "    \"\"\"\n",
    "    for idx, box in enumerate(gt_boxes):\n",
    "        offset = np.random.uniform(offset_range[0], offset_range[1])\n",
    "        points_in_box, mask = get_points_in_box(points, box)\n",
    "        points[mask, 0] += offset\n",
    "\n",
    "        gt_boxes[idx, 0] += offset\n",
    "\n",
    "        if gt_boxes.shape[1] > 7:\n",
    "            gt_boxes[idx, 7] += offset\n",
    "\n",
    "    return gt_boxes, points\n",
    "\n",
    "\n",
    "def local_translation_along_y(gt_boxes, points, offset_range):\n",
    "    \"\"\"\n",
    "    Args:\n",
    "        gt_boxes: (N, 7), [x, y, z, dx, dy, dz, heading, [vx], [vy]]\n",
    "        points: (M, 3 + C),\n",
    "        offset_range: [min max]]\n",
    "    Returns:\n",
    "    \"\"\"\n",
    "    for idx, box in enumerate(gt_boxes):\n",
    "        offset = np.random.uniform(offset_range[0], offset_range[1])\n",
    "        points_in_box, mask = get_points_in_box(points, box)\n",
    "        points[mask, 1] += offset\n",
    "\n",
    "        gt_boxes[idx, 1] += offset\n",
    "\n",
    "        if gt_boxes.shape[1] > 8:\n",
    "            gt_boxes[idx, 8] += offset\n",
    "\n",
    "    return gt_boxes, points\n",
    "\n",
    "\n",
    "def local_translation_along_z(gt_boxes, points, offset_range):\n",
    "    \"\"\"\n",
    "    Args:\n",
    "        gt_boxes: (N, 7), [x, y, z, dx, dy, dz, heading, [vx], [vy]]\n",
    "        points: (M, 3 + C),\n",
    "        offset_range: [min max]]\n",
    "    Returns:\n",
    "    \"\"\"\n",
    "    for idx, box in enumerate(gt_boxes):\n",
    "        offset = np.random.uniform(offset_range[0], offset_range[1])\n",
    "        points_in_box, mask = get_points_in_box(points, box)\n",
    "        points[mask, 2] += offset\n",
    "\n",
    "        gt_boxes[idx, 2] += offset\n",
    "\n",
    "    return gt_boxes, points"
   ],
   "outputs": [],
   "metadata": {}
  },
  {
   "cell_type": "code",
   "execution_count": 40,
   "source": [
    "%%time\n",
    "local_translation_x = deepcopy(scene)\n",
    "local_translation_x['gt_boxes'][0], local_translation_x['points'][:,1:] = local_translation_along_x(local_translation_x['gt_boxes'][0], local_translation_x['points'][:, 1:], [10, 15])"
   ],
   "outputs": [
    {
     "output_type": "stream",
     "name": "stdout",
     "text": [
      "CPU times: user 4.02 ms, sys: 0 ns, total: 4.02 ms\n",
      "Wall time: 3.22 ms\n"
     ]
    }
   ],
   "metadata": {}
  },
  {
   "cell_type": "code",
   "execution_count": 41,
   "source": [
    "currfig = show_pc(local_translation_x)\n",
    "mlab.savefig('figs/translation_local_x.png', size=(1280,720))\n",
    "mlab.savefig('3d_renders/translation_local_x.obj')\n",
    "currfig"
   ],
   "outputs": [
    {
     "output_type": "display_data",
     "data": {
      "text/plain": [
       "Image(value=b'\\x89PNG\\r\\n\\x1a\\n\\x00\\x00\\x00\\rIHDR\\x00\\x00\\x02X\\x00\\x00\\x02X\\x08\\x02\\x00\\x00\\x001\\x04\\x0f\\x8b\\x…"
      ],
      "application/vnd.jupyter.widget-view+json": {
       "version_major": 2,
       "version_minor": 0,
       "model_id": "a82c0c9766c745b1adf5fed3410c994b"
      }
     },
     "metadata": {}
    }
   ],
   "metadata": {
    "tags": []
   }
  },
  {
   "cell_type": "code",
   "execution_count": 42,
   "source": [
    "%%time\n",
    "local_translation_y = deepcopy(scene)\n",
    "local_translation_y['gt_boxes'][0], local_translation_y['points'][:,1:] = local_translation_along_y(local_translation_y['gt_boxes'][0], local_translation_y['points'][:, 1:], [10, 15])"
   ],
   "outputs": [
    {
     "output_type": "stream",
     "name": "stdout",
     "text": [
      "CPU times: user 3.82 ms, sys: 0 ns, total: 3.82 ms\n",
      "Wall time: 3.24 ms\n"
     ]
    }
   ],
   "metadata": {}
  },
  {
   "cell_type": "code",
   "execution_count": 43,
   "source": [
    "currfig = show_pc(local_translation_y)\n",
    "mlab.savefig('figs/translation_local_y.png', size=(1280,720))\n",
    "mlab.savefig('3d_renders/translation_local_y.obj')\n",
    "currfig"
   ],
   "outputs": [
    {
     "output_type": "display_data",
     "data": {
      "text/plain": [
       "Image(value=b'\\x89PNG\\r\\n\\x1a\\n\\x00\\x00\\x00\\rIHDR\\x00\\x00\\x02X\\x00\\x00\\x02X\\x08\\x02\\x00\\x00\\x001\\x04\\x0f\\x8b\\x…"
      ],
      "application/vnd.jupyter.widget-view+json": {
       "version_major": 2,
       "version_minor": 0,
       "model_id": "02f9ba21f37f488aaa4805ee66febeb6"
      }
     },
     "metadata": {}
    }
   ],
   "metadata": {}
  },
  {
   "cell_type": "code",
   "execution_count": 44,
   "source": [
    "%%time\n",
    "local_translation_z = deepcopy(scene)\n",
    "local_translation_z['gt_boxes'][0], local_translation_z['points'][:,1:] = local_translation_along_z(local_translation_z['gt_boxes'][0], local_translation_z['points'][:, 1:], [10, 15])"
   ],
   "outputs": [
    {
     "output_type": "stream",
     "name": "stdout",
     "text": [
      "CPU times: user 2.55 ms, sys: 566 µs, total: 3.12 ms\n",
      "Wall time: 2.37 ms\n"
     ]
    }
   ],
   "metadata": {}
  },
  {
   "cell_type": "code",
   "execution_count": 45,
   "source": [
    "currfig = show_pc(local_translation_z)\n",
    "mlab.savefig('figs/translation_local_z.png', size=(1280,720))\n",
    "mlab.savefig('3d_renders/translation_local_z.obj')\n",
    "currfig"
   ],
   "outputs": [
    {
     "output_type": "display_data",
     "data": {
      "text/plain": [
       "Image(value=b'\\x89PNG\\r\\n\\x1a\\n\\x00\\x00\\x00\\rIHDR\\x00\\x00\\x02X\\x00\\x00\\x02X\\x08\\x02\\x00\\x00\\x001\\x04\\x0f\\x8b\\x…"
      ],
      "application/vnd.jupyter.widget-view+json": {
       "version_major": 2,
       "version_minor": 0,
       "model_id": "a879b4ab622e468f9c1f658a09954b38"
      }
     },
     "metadata": {}
    }
   ],
   "metadata": {}
  },
  {
   "cell_type": "markdown",
   "source": [
    "### Local scaling"
   ],
   "metadata": {}
  },
  {
   "cell_type": "code",
   "execution_count": 46,
   "source": [
    "def local_scaling(gt_boxes, points, scale_range):\n",
    "    \"\"\"\n",
    "    Args:\n",
    "        gt_boxes: (N, 7), [x, y, z, dx, dy, dz, heading]\n",
    "        points: (M, 3 + C),\n",
    "        scale_range: [min, max]\n",
    "    Returns:\n",
    "    \"\"\"\n",
    "    if scale_range[1] - scale_range[0] < 1e-3:\n",
    "        return gt_boxes, points\n",
    "\n",
    "    for idx, box in enumerate(gt_boxes):\n",
    "        noise_scale = np.random.uniform(scale_range[0], scale_range[1])\n",
    "        points_in_box, mask = get_points_in_box(points, box)\n",
    "        \n",
    "        # tranlation to axis center\n",
    "        points[mask, 0] -= box[0]\n",
    "        points[mask, 1] -= box[1]\n",
    "        points[mask, 2] -= box[2]\n",
    "\n",
    "        # apply scaling\n",
    "        points[mask, :3] *= noise_scale\n",
    "\n",
    "        # tranlation back to original position\n",
    "        points[mask, 0] += box[0]\n",
    "        points[mask, 1] += box[1]\n",
    "        points[mask, 2] += box[2]\n",
    "\n",
    "        gt_boxes[idx, 3:6] *= noise_scale\n",
    "    return gt_boxes, points"
   ],
   "outputs": [],
   "metadata": {}
  },
  {
   "cell_type": "code",
   "execution_count": 47,
   "source": [
    "%%time\n",
    "scaled_local = deepcopy(scene)\n",
    "scaled_local['gt_boxes'][0], scaled_local['points'][:,1:] = local_scaling(scaled_local['gt_boxes'][0], scaled_local['points'][:, 1:], [0.2, 0.5])"
   ],
   "outputs": [
    {
     "output_type": "stream",
     "name": "stdout",
     "text": [
      "CPU times: user 4.19 ms, sys: 76 µs, total: 4.27 ms\n",
      "Wall time: 3.76 ms\n"
     ]
    }
   ],
   "metadata": {}
  },
  {
   "cell_type": "code",
   "execution_count": 48,
   "source": [
    "currfig = show_pc(scaled_local)\n",
    "mlab.savefig('figs/scaled_local.png', size=(1280,720))\n",
    "mlab.savefig('3d_renders/scaled_local.obj')\n",
    "currfig"
   ],
   "outputs": [
    {
     "output_type": "display_data",
     "data": {
      "text/plain": [
       "Image(value=b'\\x89PNG\\r\\n\\x1a\\n\\x00\\x00\\x00\\rIHDR\\x00\\x00\\x02X\\x00\\x00\\x02X\\x08\\x02\\x00\\x00\\x001\\x04\\x0f\\x8b\\x…"
      ],
      "application/vnd.jupyter.widget-view+json": {
       "version_major": 2,
       "version_minor": 0,
       "model_id": "41ce88d09dff463f8ec3c0a606183618"
      }
     },
     "metadata": {}
    }
   ],
   "metadata": {}
  },
  {
   "cell_type": "markdown",
   "source": [
    "### Local rotation"
   ],
   "metadata": {}
  },
  {
   "cell_type": "code",
   "execution_count": 49,
   "source": [
    "def local_rotation(gt_boxes, points, rot_range):\n",
    "    \"\"\"\n",
    "    Args:\n",
    "        gt_boxes: (N, 7), [x, y, z, dx, dy, dz, heading, [vx], [vy]]\n",
    "        points: (M, 3 + C),\n",
    "        rot_range: [min, max]\n",
    "    Returns:\n",
    "    \"\"\"\n",
    "    \n",
    "    for idx, box in enumerate(gt_boxes):\n",
    "        noise_rotation = np.random.uniform(rot_range[0], rot_range[1])\n",
    "        points_in_box, mask = get_points_in_box(points, box)\n",
    "        \n",
    "        centroid_x = box[0]\n",
    "        centroid_y = box[1]\n",
    "        centroid_z = box[2]\n",
    "\n",
    "        # tranlation to axis center\n",
    "        points[mask, 0] -= centroid_x\n",
    "        points[mask, 1] -= centroid_y\n",
    "        points[mask, 2] -= centroid_z\n",
    "        box[0] -= centroid_x\n",
    "        box[1] -= centroid_y\n",
    "        box[2] -= centroid_z\n",
    "\n",
    "        # apply rotation\n",
    "        points[mask, :] = common_utils.rotate_points_along_z(points[np.newaxis, mask, :], np.array([noise_rotation]))[0]\n",
    "        box[0:3] = common_utils.rotate_points_along_z(box[np.newaxis, np.newaxis, 0:3], np.array([noise_rotation]))[0][0]\n",
    "\n",
    "        # tranlation back to original position\n",
    "        points[mask, 0] += centroid_x\n",
    "        points[mask, 1] += centroid_y\n",
    "        points[mask, 2] += centroid_z\n",
    "        box[0] += centroid_x\n",
    "        box[1] += centroid_y\n",
    "        box[2] += centroid_z\n",
    "\n",
    "        gt_boxes[idx, 6] += noise_rotation\n",
    "        if gt_boxes.shape[1] > 8:\n",
    "            gt_boxes[idx, 7:9] = common_utils.rotate_points_along_z(\n",
    "                np.hstack((gt_boxes[idx, 7:9], np.zeros((gt_boxes.shape[0], 1))))[np.newaxis, :, :],\n",
    "                np.array([noise_rotation])\n",
    "            )[0][:, 0:2]\n",
    "\n",
    "    return gt_boxes, points"
   ],
   "outputs": [],
   "metadata": {}
  },
  {
   "cell_type": "code",
   "execution_count": 50,
   "source": [
    "%%time\n",
    "rotated_local = deepcopy(scene)\n",
    "rotated_local['gt_boxes'][0], rotated_local['points'][:,1:] = local_rotation(rotated_local['gt_boxes'][0],rotated_local['points'][:, 1:], [-0.78539815, 0.78539816])"
   ],
   "outputs": [
    {
     "output_type": "stream",
     "name": "stdout",
     "text": [
      "CPU times: user 6.93 ms, sys: 0 ns, total: 6.93 ms\n",
      "Wall time: 6.06 ms\n"
     ]
    }
   ],
   "metadata": {}
  },
  {
   "cell_type": "code",
   "execution_count": 51,
   "source": [
    "currfig = show_pc(rotated_local)\n",
    "mlab.savefig('figs/rotated_local.png', size=(1280,720))\n",
    "mlab.savefig('3d_renders/rotated_local.obj')\n",
    "currfig"
   ],
   "outputs": [
    {
     "output_type": "display_data",
     "data": {
      "text/plain": [
       "Image(value=b'\\x89PNG\\r\\n\\x1a\\n\\x00\\x00\\x00\\rIHDR\\x00\\x00\\x02X\\x00\\x00\\x02X\\x08\\x02\\x00\\x00\\x001\\x04\\x0f\\x8b\\x…"
      ],
      "application/vnd.jupyter.widget-view+json": {
       "version_major": 2,
       "version_minor": 0,
       "model_id": "20cebf348fc441efba108f1a453893d1"
      }
     },
     "metadata": {}
    }
   ],
   "metadata": {
    "tags": []
   }
  },
  {
   "cell_type": "markdown",
   "source": [
    "### Local frustum dropout"
   ],
   "metadata": {}
  },
  {
   "cell_type": "code",
   "execution_count": 52,
   "source": [
    "def local_frustum_dropout_top(gt_boxes, points, intensity_range):\n",
    "    \"\"\"\n",
    "    Args:\n",
    "        gt_boxes: (N, 7), [x, y, z, dx, dy, dz, heading, [vx], [vy]],\n",
    "        points: (M, 3 + C),\n",
    "        intensity: [min, max]\n",
    "    Returns:\n",
    "    \"\"\"\n",
    "    for idx, box in enumerate(gt_boxes):\n",
    "        x, y, z, dx, dy, dz = box[0], box[1], box[2], box[3], box[4], box[5]\n",
    "\n",
    "        intensity = np.random.uniform(intensity_range[0], intensity_range[1])\n",
    "        points_in_box = get_points_in_box(points, box)\n",
    "        threshold = (z + dz/2) - intensity * dz\n",
    "\n",
    "        points = points[np.logical_not( \\\n",
    "        np.logical_and(points[:,1] <= y + dy/2, \\\n",
    "        np.logical_and(points[:,1] >= y - dy/2, \\\n",
    "            np.logical_and(points[:,0] <= x + dx/2, \\\n",
    "                np.logical_and(points[:,0] >= x - dx/2, \\\n",
    "                    np.logical_and(points[:,2] <= z + dz/2, points[:,2] >= threshold))))))]\n",
    "\n",
    "    return gt_boxes, points\n",
    "\n",
    "def local_frustum_dropout_bottom(gt_boxes, points, intensity_range):\n",
    "    \"\"\"\n",
    "    Args:\n",
    "        gt_boxes: (N, 7), [x, y, z, dx, dy, dz, heading, [vx], [vy]],\n",
    "        points: (M, 3 + C),\n",
    "        intensity: [min, max]\n",
    "    Returns:\n",
    "    \"\"\"\n",
    "    for idx, box in enumerate(gt_boxes):\n",
    "        x, y, z, dx, dy, dz = box[0], box[1], box[2], box[3], box[4], box[5]\n",
    "\n",
    "        intensity = np.random.uniform(intensity_range[0], intensity_range[1])\n",
    "        points_in_box = get_points_in_box(points, box)\n",
    "        threshold = (z - dz/2) + intensity * dz\n",
    "        points = points[np.logical_not( \\\n",
    "            np.logical_and(points[:,1] <= y + dy/2, \\\n",
    "            np.logical_and(points[:,1] >= y - dy/2, \\\n",
    "                np.logical_and(points[:,0] <= x + dx/2, \\\n",
    "                    np.logical_and(points[:,0] >= x - dx/2, \\\n",
    "                        np.logical_and(points[:,2] <= threshold, points[:,2] >= z - dz/2))))))]\n",
    "\n",
    "    return gt_boxes, points\n",
    "\n",
    "def local_frustum_dropout_left(gt_boxes, points, intensity_range):\n",
    "    \"\"\"\n",
    "    Args:\n",
    "        gt_boxes: (N, 7), [x, y, z, dx, dy, dz, heading, [vx], [vy]],\n",
    "        points: (M, 3 + C),\n",
    "        intensity: [min, max]\n",
    "    Returns:\n",
    "    \"\"\"\n",
    "    for idx, box in enumerate(gt_boxes):\n",
    "        x, y, z, dx, dy, dz = box[0], box[1], box[2], box[3], box[4], box[5]\n",
    "\n",
    "        intensity = np.random.uniform(intensity_range[0], intensity_range[1])\n",
    "        points_in_box = get_points_in_box(points, box)\n",
    "        threshold = (y + dy/2) - intensity * dy\n",
    "\n",
    "        points = points[np.logical_not( \\\n",
    "            np.logical_and(points[:,1] <= y + dy/2, \\\n",
    "            np.logical_and(points[:,1] >= threshold, \\\n",
    "                np.logical_and(points[:,0] <= x + dx/2, \\\n",
    "                    np.logical_and(points[:,0] >= x - dx/2, \\\n",
    "                        np.logical_and(points[:,2] <= z + dz/2, points[:,2] >= z - dz/2))))))]\n",
    "\n",
    "    return gt_boxes, points\n",
    "\n",
    "def local_frustum_dropout_right(gt_boxes, points, intensity_range):\n",
    "    \"\"\"\n",
    "    Args:\n",
    "        gt_boxes: (N, 7), [x, y, z, dx, dy, dz, heading, [vx], [vy]],\n",
    "        points: (M, 3 + C),\n",
    "        intensity: [min, max]\n",
    "    Returns:\n",
    "    \"\"\"\n",
    "    for idx, box in enumerate(gt_boxes):\n",
    "        x, y, z, dx, dy, dz = box[0], box[1], box[2], box[3], box[4], box[5]\n",
    "\n",
    "        intensity = np.random.uniform(intensity_range[0], intensity_range[1])\n",
    "        points_in_box = get_points_in_box(points, box)\n",
    "        threshold = (y - dy/2) + intensity * dy\n",
    "\n",
    "        points = points[np.logical_not( \\\n",
    "            np.logical_and(points[:,1] <= threshold, \\\n",
    "            np.logical_and(points[:,1] >= y - dy/2, \\\n",
    "                np.logical_and(points[:,0] <= x + dx/2, \\\n",
    "                    np.logical_and(points[:,0] >= x - dx/2, \\\n",
    "                        np.logical_and(points[:,2] <= z + dz/2, points[:,2] >= z - dz/2))))))]\n",
    "\n",
    "    return gt_boxes, points"
   ],
   "outputs": [],
   "metadata": {}
  },
  {
   "cell_type": "code",
   "execution_count": 53,
   "source": [
    "%%time\n",
    "frustum_dropout = deepcopy(scene)\n",
    "frustum_dropout['gt_boxes'], frustum_dropout['points'] = local_frustum_dropout_top(frustum_dropout['gt_boxes'][0], frustum_dropout['points'][:, 1:], [0.5, 0.5])"
   ],
   "outputs": [
    {
     "output_type": "stream",
     "name": "stdout",
     "text": [
      "CPU times: user 4.53 ms, sys: 207 µs, total: 4.74 ms\n",
      "Wall time: 4.13 ms\n"
     ]
    }
   ],
   "metadata": {}
  },
  {
   "cell_type": "code",
   "execution_count": 54,
   "source": [
    "V.draw_scenes(\n",
    "        points=frustum_dropout['points'], gt_boxes=frustum_dropout['gt_boxes']\n",
    "    )\n",
    "\n",
    "mlab.savefig('figs/local_frustum_dropout_top.png')\n",
    "mlab.savefig('3d_renders/local_frustum_dropout_top.obj')\n",
    "currfig"
   ],
   "outputs": [
    {
     "output_type": "display_data",
     "data": {
      "text/plain": [
       "Image(value=b'\\x89PNG\\r\\n\\x1a\\n\\x00\\x00\\x00\\rIHDR\\x00\\x00\\x02X\\x00\\x00\\x02X\\x08\\x02\\x00\\x00\\x001\\x04\\x0f\\x8b\\x…"
      ],
      "application/vnd.jupyter.widget-view+json": {
       "version_major": 2,
       "version_minor": 0,
       "model_id": "6e251730499c42ffabc6a715adc8f04a"
      }
     },
     "metadata": {}
    }
   ],
   "metadata": {}
  },
  {
   "cell_type": "code",
   "execution_count": 55,
   "source": [
    "%%time\n",
    "frustum_dropout = deepcopy(scene)\n",
    "frustum_dropout['gt_boxes'], frustum_dropout['points'] = local_frustum_dropout_bottom(frustum_dropout['gt_boxes'][0], frustum_dropout['points'][:, 1:], [0.3, 0.4])"
   ],
   "outputs": [
    {
     "output_type": "stream",
     "name": "stdout",
     "text": [
      "CPU times: user 5.48 ms, sys: 0 ns, total: 5.48 ms\n",
      "Wall time: 4.82 ms\n"
     ]
    }
   ],
   "metadata": {}
  },
  {
   "cell_type": "code",
   "execution_count": 56,
   "source": [
    "V.draw_scenes(\n",
    "        points=frustum_dropout['points'], gt_boxes=frustum_dropout['gt_boxes']\n",
    "    )\n",
    "\n",
    "mlab.savefig('figs/local_frustum_dropout_bottom.png')\n",
    "mlab.savefig('3d_renders/local_frustum_dropout_bottom.obj')\n",
    "currfig"
   ],
   "outputs": [
    {
     "output_type": "display_data",
     "data": {
      "text/plain": [
       "Image(value=b'\\x89PNG\\r\\n\\x1a\\n\\x00\\x00\\x00\\rIHDR\\x00\\x00\\x02X\\x00\\x00\\x02X\\x08\\x02\\x00\\x00\\x001\\x04\\x0f\\x8b\\x…"
      ],
      "application/vnd.jupyter.widget-view+json": {
       "version_major": 2,
       "version_minor": 0,
       "model_id": "ae942ab11c2a4cadacedda6735b15e7a"
      }
     },
     "metadata": {}
    }
   ],
   "metadata": {}
  },
  {
   "cell_type": "code",
   "execution_count": 57,
   "source": [
    "%%time\n",
    "frustum_dropout = deepcopy(scene)\n",
    "frustum_dropout['gt_boxes'], frustum_dropout['points'] = local_frustum_dropout_left(frustum_dropout['gt_boxes'][0], frustum_dropout['points'][:, 1:], [0.3, 0.4])"
   ],
   "outputs": [
    {
     "output_type": "stream",
     "name": "stdout",
     "text": [
      "CPU times: user 4.37 ms, sys: 134 µs, total: 4.5 ms\n",
      "Wall time: 3.68 ms\n"
     ]
    }
   ],
   "metadata": {}
  },
  {
   "cell_type": "code",
   "execution_count": 58,
   "source": [
    "V.draw_scenes(\n",
    "        points=frustum_dropout['points'], gt_boxes=frustum_dropout['gt_boxes']\n",
    "    )\n",
    "\n",
    "mlab.savefig('figs/local_frustum_dropout_left.png')\n",
    "mlab.savefig('3d_renders/local_frustum_dropout_left.obj')\n",
    "currfig"
   ],
   "outputs": [
    {
     "output_type": "display_data",
     "data": {
      "text/plain": [
       "Image(value=b'\\x89PNG\\r\\n\\x1a\\n\\x00\\x00\\x00\\rIHDR\\x00\\x00\\x02X\\x00\\x00\\x02X\\x08\\x02\\x00\\x00\\x001\\x04\\x0f\\x8b\\x…"
      ],
      "application/vnd.jupyter.widget-view+json": {
       "version_major": 2,
       "version_minor": 0,
       "model_id": "3d4aca66b3484b7889ded39bceeba43c"
      }
     },
     "metadata": {}
    }
   ],
   "metadata": {}
  },
  {
   "cell_type": "code",
   "execution_count": 59,
   "source": [
    "%%time\n",
    "frustum_dropout = deepcopy(scene)\n",
    "frustum_dropout['gt_boxes'], frustum_dropout['points'] = local_frustum_dropout_right(frustum_dropout['gt_boxes'][0], frustum_dropout['points'][:, 1:], [0.3, 0.4])"
   ],
   "outputs": [
    {
     "output_type": "stream",
     "name": "stdout",
     "text": [
      "CPU times: user 3.78 ms, sys: 319 µs, total: 4.1 ms\n",
      "Wall time: 3.57 ms\n"
     ]
    }
   ],
   "metadata": {}
  },
  {
   "cell_type": "code",
   "execution_count": 60,
   "source": [
    "V.draw_scenes(\n",
    "        points=frustum_dropout['points'], gt_boxes=frustum_dropout['gt_boxes']\n",
    "    )\n",
    "\n",
    "mlab.savefig('figs/local_frustum_dropout_right.png')\n",
    "mlab.savefig('3d_renders/local_frustum_dropout_right.obj')\n",
    "currfig"
   ],
   "outputs": [
    {
     "output_type": "display_data",
     "data": {
      "text/plain": [
       "Image(value=b'\\x89PNG\\r\\n\\x1a\\n\\x00\\x00\\x00\\rIHDR\\x00\\x00\\x02X\\x00\\x00\\x02X\\x08\\x02\\x00\\x00\\x001\\x04\\x0f\\x8b\\x…"
      ],
      "application/vnd.jupyter.widget-view+json": {
       "version_major": 2,
       "version_minor": 0,
       "model_id": "7a7d534f90f54facb4afb5f73c16d51e"
      }
     },
     "metadata": {}
    }
   ],
   "metadata": {}
  },
  {
   "cell_type": "code",
   "execution_count": null,
   "source": [],
   "outputs": [],
   "metadata": {}
  }
 ]
}