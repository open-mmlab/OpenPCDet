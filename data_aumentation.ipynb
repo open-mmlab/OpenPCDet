{
 "metadata": {
  "language_info": {
   "codemirror_mode": {
    "name": "ipython",
    "version": 3
   },
   "file_extension": ".py",
   "mimetype": "text/x-python",
   "name": "python",
   "nbconvert_exporter": "python",
   "pygments_lexer": "ipython3",
   "version": "3.8.5"
  },
  "orig_nbformat": 2,
  "kernelspec": {
   "name": "python38564bitfd56229fbf234e038c4a7cdb193dbc84",
   "display_name": "Python 3.8.5 64-bit"
  },
  "metadata": {
   "interpreter": {
    "hash": "e7370f93d1d0cde622a1f8e1c04877d8463912d04d973331ad4851f04de6915a"
   }
  }
 },
 "nbformat": 4,
 "nbformat_minor": 2,
 "cells": [
  {
   "source": [
    "# KITTI Dataset augmentation visualization"
   ],
   "cell_type": "markdown",
   "metadata": {}
  },
  {
   "source": [
    "## Dataset structure\n",
    "\n",
    "```\n",
    "📦gta\n",
    "┗ 📂training\n",
    "  ┣ 📂calib\n",
    "  ┃ ┣ 📜<file_id>.txt\n",
    "  ┃ ┗ 📜 ...\n",
    "  ┣ 📂image_2\n",
    "  ┃ ┣ 📜<file_id>.png\n",
    "  ┃ ┗ 📜 ...\n",
    "  ┣ 📂label_2\n",
    "  ┃ ┣ 📜<file_id>.txt\n",
    "  ┃ ┗ 📜 ...\n",
    "  ┗ 📂velodyne\n",
    "    ┣ 📜<file_id>.bin\n",
    "    ┗ 📜 ...\n",
    "```"
   ],
   "cell_type": "markdown",
   "metadata": {}
  },
  {
   "cell_type": "code",
   "execution_count": 1,
   "metadata": {},
   "outputs": [
    {
     "output_type": "stream",
     "name": "stdout",
     "text": [
      "Notebook initialized with ipy backend.\n"
     ]
    }
   ],
   "source": [
    "import os\n",
    "import mayavi.mlab as mlab\n",
    "import numpy as np\n",
    "from copy import deepcopy\n",
    "import pickle\n",
    "import logging\n",
    "\n",
    "import pcdet.datasets.augmentor\n",
    "\n",
    "from pcdet.config import cfg, cfg_from_yaml_file\n",
    "from pcdet.datasets import build_dataloader\n",
    "from pcdet.utils import common_utils\n",
    "from pcdet.models import build_network\n",
    "from tools.visual_utils import visualize_utils as V\n",
    "\n",
    "mlab.init_notebook()"
   ]
  },
  {
   "cell_type": "code",
   "execution_count": 2,
   "metadata": {},
   "outputs": [],
   "source": [
    "# generate pickles from the kitti data\n",
    "# os.system(\"python -m pcdet.datasets.kitti.kitti_dataset create_kitti_infos tools/cfgs/dataset_configs/kitti_dataset.yaml\")"
   ]
  },
  {
   "source": [
    "## Visualizing the LiDAR point cloud with labels"
   ],
   "cell_type": "markdown",
   "metadata": {}
  },
  {
   "cell_type": "code",
   "execution_count": 3,
   "metadata": {},
   "outputs": [],
   "source": [
    "logger = common_utils.create_logger(log_level=logging.DEBUG)"
   ]
  },
  {
   "cell_type": "code",
   "execution_count": 4,
   "metadata": {
    "tags": [
     "outputPrepend"
    ]
   },
   "outputs": [
    {
     "output_type": "stream",
     "name": "stderr",
     "text": [
      "4,\n",
      "      \"object_26\": 0.16623377628073688,\n",
      "      \"object_27\": 0.18111238089863968,\n",
      "      \"object_28\": 0.054611664024914575\n",
      "    }\n",
      "  }\n",
      "}\n",
      "2021-05-13 13:32:57,514   INFO  Loaded sample index: \t84\n",
      "2021-05-13 13:32:57,565  DEBUG  Added Car_5 from frame 000083 to frame 100051\n",
      "2021-05-13 13:32:57,566  DEBUG  Added Car_2 from frame 000055 to frame 100051\n",
      "2021-05-13 13:32:57,567  DEBUG  Added Car_3 from frame 000083 to frame 100051\n",
      "2021-05-13 13:32:57,568  DEBUG  Added Car_4 from frame 000032 to frame 100051\n",
      "2021-05-13 13:32:57,569  DEBUG  Added Car_0 from frame 000084 to frame 100051\n",
      "2021-05-13 13:32:57,569  DEBUG  Added Car_3 from frame 000067 to frame 100051\n",
      "2021-05-13 13:32:57,570  DEBUG  Added Car_1 from frame 000029 to frame 100051\n",
      "2021-05-13 13:32:57,571  DEBUG  Added Car_12 from frame 000095 to frame 100051\n",
      "2021-05-13 13:32:57,571  DEBUG  Added Car_0 from frame 000038 to frame 100051\n",
      "2021-05-13 13:32:57,572  DEBUG  Added Car_10 from frame 000095 to frame 100051\n",
      "2021-05-13 13:32:57,573  DEBUG  Added Car_3 from frame 000046 to frame 100051\n",
      "2021-05-13 13:32:57,574  DEBUG  Added Pedestrian_5 from frame 000073 to frame 100051\n",
      "2021-05-13 13:32:57,574  DEBUG  Added Pedestrian_5 from frame 000011 to frame 100051\n",
      "2021-05-13 13:32:57,575  DEBUG  Added Pedestrian_1 from frame 000011 to frame 100051\n",
      "2021-05-13 13:32:57,576  DEBUG  Added Pedestrian_3 from frame 000087 to frame 100051\n",
      "2021-05-13 13:32:57,577  DEBUG  Added Pedestrian_2 from frame 000073 to frame 100051\n",
      "2021-05-13 13:32:57,577  DEBUG  Added Pedestrian_0 from frame 000011 to frame 100051\n",
      "2021-05-13 13:32:57,578  DEBUG  Added Pedestrian_2 from frame 000085 to frame 100051\n",
      "2021-05-13 13:32:57,579  DEBUG  Added Pedestrian_2 from frame 000074 to frame 100051\n",
      "2021-05-13 13:32:57,580  DEBUG  Added Pedestrian_2 from frame 000100 to frame 100051\n",
      "2021-05-13 13:32:57,580  DEBUG  Added Pedestrian_0 from frame 000070 to frame 100051\n",
      "2021-05-13 13:32:57,581  DEBUG  Added Pedestrian_3 from frame 000011 to frame 100051\n",
      "2021-05-13 13:32:57,582  DEBUG  Added Pedestrian_1 from frame 000073 to frame 100051\n",
      "2021-05-13 13:32:57,582  DEBUG  Added Cyclist_3 from frame 000060 to frame 100051\n",
      "2021-05-13 13:32:57,583  DEBUG  Added Cyclist_3 from frame 000073 to frame 100051\n",
      "2021-05-13 13:32:57,584  DEBUG  Added Cyclist_4 from frame 000073 to frame 100051\n",
      "2021-05-13 13:32:57,584  DEBUG  Added Cyclist_11 from frame 000068 to frame 100051\n",
      "2021-05-13 13:32:57,585  DEBUG  Added Cyclist_3 from frame 000007 to frame 100051\n",
      "2021-05-13 13:32:57,750  DEBUG  Sample 100051 was created from frame 000051 with the following augmentations: {\n",
      "  \"random_local_rotation\": {\n",
      "    \"LOCAL_ROT_ANGLE\": {\n",
      "      \"object_0\": -0.12152215688470769,\n",
      "      \"object_1\": -0.2418235219359084,\n",
      "      \"object_2\": 0.24608249514908165,\n",
      "      \"object_3\": 0.6682516111082739,\n",
      "      \"object_4\": 0.32100211273136847,\n",
      "      \"object_5\": -0.7579131374603484,\n",
      "      \"object_6\": -0.16958578130093227,\n",
      "      \"object_7\": 0.6674974555128457,\n",
      "      \"object_8\": -0.3125267544311033,\n",
      "      \"object_9\": 0.4894879536435095,\n",
      "      \"object_10\": -0.09993389696640831,\n",
      "      \"object_11\": 0.07420127256227182,\n",
      "      \"object_12\": 0.418155278080125,\n",
      "      \"object_13\": 0.27984861625228863,\n",
      "      \"object_14\": -0.5867470887241082,\n",
      "      \"object_15\": 0.7479140404902838,\n",
      "      \"object_16\": -0.2537337050248487,\n",
      "      \"object_17\": 0.11328713347953168,\n",
      "      \"object_18\": -0.6400429368766454,\n",
      "      \"object_19\": -0.7055508901409974,\n",
      "      \"object_20\": 0.2425217382659417,\n",
      "      \"object_21\": -0.17814679530154676,\n",
      "      \"object_22\": 0.4952348725416329,\n",
      "      \"object_23\": 0.3927409301678906,\n",
      "      \"object_24\": -0.4949651282882932,\n",
      "      \"object_25\": -0.5695447153387021,\n",
      "      \"object_26\": 0.4922542051542411,\n",
      "      \"object_27\": 0.6273143435151101,\n",
      "      \"object_28\": -0.3220979594981445,\n",
      "      \"object_29\": -0.23808330871268124\n",
      "    }\n",
      "  },\n",
      "  \"random_local_scaling\": {\n",
      "    \"LOCAL_SCALE\": {\n",
      "      \"object_0\": 0.9500567899164721,\n",
      "      \"object_1\": 0.9642114816031394,\n",
      "      \"object_2\": 1.0495946680100972,\n",
      "      \"object_3\": 0.9738513040512131,\n",
      "      \"object_4\": 0.9750628805001041,\n",
      "      \"object_5\": 0.9583545374595309,\n",
      "      \"object_6\": 1.0421650159687963,\n",
      "      \"object_7\": 1.0118835991283397,\n",
      "      \"object_8\": 1.0478266205736955,\n",
      "      \"object_9\": 0.979167823346175,\n",
      "      \"object_10\": 0.9987846337165781,\n",
      "      \"object_11\": 0.9701429958603921,\n",
      "      \"object_12\": 0.9621100697522946,\n",
      "      \"object_13\": 1.0494393991996749,\n",
      "      \"object_14\": 1.0391580568932943,\n",
      "      \"object_15\": 1.027471219068782,\n",
      "      \"object_16\": 0.9794463649456087,\n",
      "      \"object_17\": 1.044787332573083,\n",
      "      \"object_18\": 0.9618875427852662,\n",
      "      \"object_19\": 1.0230703620988386,\n",
      "      \"object_20\": 0.9570731664897071,\n",
      "      \"object_21\": 1.0323520394752883,\n",
      "      \"object_22\": 1.0396471387582888,\n",
      "      \"object_23\": 0.9801969035484617,\n",
      "      \"object_24\": 0.9637331627644301,\n",
      "      \"object_25\": 1.0306775049967722,\n",
      "      \"object_26\": 0.9670848642028413,\n",
      "      \"object_27\": 1.0401403312597481,\n",
      "      \"object_28\": 0.9745698625179567,\n",
      "      \"object_29\": 1.003683542409643\n",
      "    }\n",
      "  },\n",
      "  \"random_world_flip\": {\n",
      "    \"ALONG_AXIS_x\": \"False\"\n",
      "  },\n",
      "  \"random_world_rotation\": {\n",
      "    \"WORLD_ROT_ANGLE\": 0.28474008833031594,\n",
      "    \"WORLD_SCALE\": 1.0032333860642193\n",
      "  },\n",
      "  \"random_world_translation\": {\n",
      "    \"ALONG_AXIS_x\": -0.21639322230151792,\n",
      "    \"ALONG_AXIS_y\": -0.2856093685643035\n",
      "  },\n",
      "  \"random_local_translation\": {\n",
      "    \"ALONG_AXIS_x\": {\n",
      "      \"object_0\": 0.8476790934004497,\n",
      "      \"object_1\": 0.8760787136984118,\n",
      "      \"object_2\": -0.30622524649400606,\n",
      "      \"object_3\": 0.5423319529068507,\n",
      "      \"object_4\": 0.4581396551486079,\n",
      "      \"object_5\": 0.7274169528972794,\n",
      "      \"object_6\": 0.2544652464710526,\n",
      "      \"object_7\": -1.0179931296730846,\n",
      "      \"object_8\": -0.33971873117690465,\n",
      "      \"object_9\": 0.20767246792382177,\n",
      "      \"object_10\": 0.1393689031281915,\n",
      "      \"object_11\": -0.26573446125714195,\n",
      "      \"object_12\": 0.8067657780516211,\n",
      "      \"object_13\": -0.6855370622580659,\n",
      "      \"object_14\": -0.2422825536651445,\n",
      "      \"object_15\": 0.5008555975107909,\n",
      "      \"object_16\": 0.0012578560220639634,\n",
      "      \"object_17\": -0.5178001958319772,\n",
      "      \"object_18\": -0.8197359715839314,\n",
      "      \"object_19\": -0.5151056059568834,\n",
      "      \"object_20\": 0.5350605686517491,\n",
      "      \"object_21\": 0.12244287711886459,\n",
      "      \"object_22\": -0.06194253525930804,\n",
      "      \"object_23\": 1.0012207028434144,\n",
      "      \"object_24\": 0.47074672344708635,\n",
      "      \"object_25\": 0.7103547973755153,\n",
      "      \"object_26\": -0.283181445511418,\n",
      "      \"object_27\": 0.25872390003676493,\n",
      "      \"object_28\": 0.3863988588155267,\n",
      "      \"object_29\": -0.6930449971345597\n",
      "    },\n",
      "    \"ALONG_AXIS_y\": {\n",
      "      \"object_0\": 0.4193043688040061,\n",
      "      \"object_1\": 0.44773805707081515,\n",
      "      \"object_2\": -0.3047466788713302,\n",
      "      \"object_3\": 0.7695000925681319,\n",
      "      \"object_4\": 1.0498793555891706,\n",
      "      \"object_5\": -0.2991405630224798,\n",
      "      \"object_6\": -0.09128663446796925,\n",
      "      \"object_7\": 0.732376984107334,\n",
      "      \"object_8\": -0.8182433450055969,\n",
      "      \"object_9\": 0.8968571844120201,\n",
      "      \"object_10\": -0.6237377587157016,\n",
      "      \"object_11\": 0.10651286118219083,\n",
      "      \"object_12\": 0.8472056675723776,\n",
      "      \"object_13\": -0.2739642421847218,\n",
      "      \"object_14\": -0.11363481798650599,\n",
      "      \"object_15\": 0.46349147318365236,\n",
      "      \"object_16\": -0.1265933557098312,\n",
      "      \"object_17\": -0.29224104251259153,\n",
      "      \"object_18\": 0.901351440515979,\n",
      "      \"object_19\": -0.5956637190539005,\n",
      "      \"object_20\": 0.8799643719598815,\n",
      "      \"object_21\": -0.15970317900361686,\n",
      "      \"object_22\": 0.9133612342710986,\n",
      "      \"object_23\": 0.2139665761417433,\n",
      "      \"object_24\": 0.2912855493226285,\n",
      "      \"object_25\": -0.19802613784403955,\n",
      "      \"object_26\": -0.45603087200522363,\n",
      "      \"object_27\": -0.7724558580077787,\n",
      "      \"object_28\": -0.5556461441212995,\n",
      "      \"object_29\": 0.5694954137258463\n",
      "    }\n",
      "  }\n",
      "}\n",
      "2021-05-13 13:32:57,752   INFO  Loaded sample index: \t85\n",
      "2021-05-13 13:32:57,800  DEBUG  Added Car_2 from frame 000072 to frame 100054\n",
      "2021-05-13 13:32:57,801  DEBUG  Added Car_3 from frame 000049 to frame 100054\n",
      "2021-05-13 13:32:57,801  DEBUG  Added Car_1 from frame 000087 to frame 100054\n",
      "2021-05-13 13:32:57,802  DEBUG  Added Car_0 from frame 000068 to frame 100054\n",
      "2021-05-13 13:32:57,803  DEBUG  Added Car_1 from frame 000036 to frame 100054\n",
      "2021-05-13 13:32:57,803  DEBUG  Added Car_8 from frame 000049 to frame 100054\n",
      "2021-05-13 13:32:57,804  DEBUG  Added Car_3 from frame 000045 to frame 100054\n",
      "2021-05-13 13:32:57,805  DEBUG  Added Car_0 from frame 000018 to frame 100054\n",
      "2021-05-13 13:32:57,805  DEBUG  Added Car_4 from frame 000010 to frame 100054\n",
      "2021-05-13 13:32:57,806  DEBUG  Added Car_1 from frame 000099 to frame 100054\n",
      "2021-05-13 13:32:57,807  DEBUG  Added Pedestrian_6 from frame 000073 to frame 100054\n",
      "2021-05-13 13:32:57,808  DEBUG  Added Pedestrian_0 from frame 000074 to frame 100054\n",
      "2021-05-13 13:32:57,808  DEBUG  Added Pedestrian_2 from frame 000043 to frame 100054\n",
      "2021-05-13 13:32:57,809  DEBUG  Added Pedestrian_0 from frame 000000 to frame 100054\n",
      "2021-05-13 13:32:57,810  DEBUG  Added Pedestrian_1 from frame 000074 to frame 100054\n",
      "2021-05-13 13:32:57,811  DEBUG  Added Cyclist_3 from frame 000060 to frame 100054\n",
      "2021-05-13 13:32:57,812  DEBUG  Added Cyclist_3 from frame 000073 to frame 100054\n",
      "2021-05-13 13:32:57,813  DEBUG  Added Cyclist_11 from frame 000068 to frame 100054\n",
      "2021-05-13 13:32:57,813  DEBUG  Added Cyclist_3 from frame 000007 to frame 100054\n",
      "2021-05-13 13:32:57,950  DEBUG  Sample 100054 was created from frame 000054 with the following augmentations: {\n",
      "  \"random_local_rotation\": {\n",
      "    \"LOCAL_ROT_ANGLE\": {\n",
      "      \"object_0\": 0.07453573276049741,\n",
      "      \"object_1\": 0.4658760248539966,\n",
      "      \"object_2\": 0.42711826243189654,\n",
      "      \"object_3\": -0.6323459185181428,\n",
      "      \"object_4\": -0.37804163050176925,\n",
      "      \"object_5\": -0.37388329394146197,\n",
      "      \"object_6\": -0.766624768052831,\n",
      "      \"object_7\": -0.2382184677077609,\n",
      "      \"object_8\": -0.16450833905302586,\n",
      "      \"object_9\": -0.4715461982093039,\n",
      "      \"object_10\": 0.6155082857176537,\n",
      "      \"object_11\": 0.7796248622312003,\n",
      "      \"object_12\": -0.21215583905983915,\n",
      "      \"object_13\": 0.17660216320084066,\n",
      "      \"object_14\": 0.7482049799387356,\n",
      "      \"object_15\": 0.41584710974859296,\n",
      "      \"object_16\": 0.1980559487020328,\n",
      "      \"object_17\": -0.7665302013032951,\n",
      "      \"object_18\": -0.4679070672156487,\n",
      "      \"object_19\": -0.5305068321051387\n",
      "    }\n",
      "  },\n",
      "  \"random_local_scaling\": {\n",
      "    \"LOCAL_SCALE\": {\n",
      "      \"object_0\": 0.9624060026596598,\n",
      "      \"object_1\": 0.9580235113818828,\n",
      "      \"object_2\": 0.9911006053719925,\n",
      "      \"object_3\": 0.9823429063339048,\n",
      "      \"object_4\": 1.0086174938046901,\n",
      "      \"object_5\": 1.0342041096171617,\n",
      "      \"object_6\": 1.0320232703050394,\n",
      "      \"object_7\": 1.0263211683630118,\n",
      "      \"object_8\": 0.955845065591497,\n",
      "      \"object_9\": 1.0285166424533516,\n",
      "      \"object_10\": 0.9544175881174718,\n",
      "      \"object_11\": 1.0476996506086362,\n",
      "      \"object_12\": 1.0494912495276885,\n",
      "      \"object_13\": 0.9694950431923506,\n",
      "      \"object_14\": 1.0257182070360895,\n",
      "      \"object_15\": 1.027013975889657,\n",
      "      \"object_16\": 0.9529040079417955,\n",
      "      \"object_17\": 0.9760713330096207,\n",
      "      \"object_18\": 0.9826976348066674,\n",
      "      \"object_19\": 1.032813325620254\n",
      "    }\n",
      "  },\n",
      "  \"random_world_flip\": {\n",
      "    \"ALONG_AXIS_x\": \"True\"\n",
      "  },\n",
      "  \"random_world_rotation\": {\n",
      "    \"WORLD_ROT_ANGLE\": 0.7444294426445013,\n",
      "    \"WORLD_SCALE\": 1.0381982548422592\n",
      "  },\n",
      "  \"random_world_translation\": {\n",
      "    \"ALONG_AXIS_x\": 0.43696917434667726,\n",
      "    \"ALONG_AXIS_y\": 0.19584213921835225\n",
      "  },\n",
      "  \"random_local_translation\": {\n",
      "    \"ALONG_AXIS_x\": {\n",
      "      \"object_0\": 0.02938890712178588,\n",
      "      \"object_1\": -0.7691782301326383,\n",
      "      \"object_2\": -1.0167088612353454,\n",
      "      \"object_3\": 0.48668276752017814,\n",
      "      \"object_4\": 0.29475335184043416,\n",
      "      \"object_5\": 0.3138302298393132,\n",
      "      \"object_6\": -0.14578214892980168,\n",
      "      \"object_7\": -0.6575115841729215,\n",
      "      \"object_8\": 0.8213602619281006,\n",
      "      \"object_9\": 1.0044296526519816,\n",
      "      \"object_10\": -0.8795448318102638,\n",
      "      \"object_11\": 0.7006057250855637,\n",
      "      \"object_12\": -0.5459227371627995,\n",
      "      \"object_13\": 0.4484410752447363,\n",
      "      \"object_14\": -0.20468162829501735,\n",
      "      \"object_15\": -0.7113699424619566,\n",
      "      \"object_16\": 0.5281573096619121,\n",
      "      \"object_17\": -0.4578876927807085,\n",
      "      \"object_18\": 0.3292696124998813,\n",
      "      \"object_19\": -0.9426291214622597\n",
      "    },\n",
      "    \"ALONG_AXIS_y\": {\n",
      "      \"object_0\": -0.7315711040342439,\n",
      "      \"object_1\": -0.8293225457357847,\n",
      "      \"object_2\": -0.13694818704175737,\n",
      "      \"object_3\": 0.9582837520571366,\n",
      "      \"object_4\": -0.5243580968371867,\n",
      "      \"object_5\": 1.015471783164714,\n",
      "      \"object_6\": -0.306593466656213,\n",
      "      \"object_7\": -0.7578568628298074,\n",
      "      \"object_8\": -0.5408805661432482,\n",
      "      \"object_9\": -1.0052068587506908,\n",
      "      \"object_10\": 0.06402650354277029,\n",
      "      \"object_11\": 0.7213095633940019,\n",
      "      \"object_12\": 0.6436033666944643,\n",
      "      \"object_13\": 0.878831279280265,\n",
      "      \"object_14\": 0.38635164003826583,\n",
      "      \"object_15\": -0.5540175901204742,\n",
      "      \"object_16\": 0.363318529483152,\n",
      "      \"object_17\": -0.12366789830901415,\n",
      "      \"object_18\": 0.7861230754766804,\n",
      "      \"object_19\": -0.31968118724914363\n",
      "    }\n",
      "  }\n",
      "}\n",
      "2021-05-13 13:32:57,951   INFO  Loaded sample index: \t86\n",
      "2021-05-13 13:32:57,990  DEBUG  Added Car_5 from frame 000095 to frame 100055\n",
      "2021-05-13 13:32:57,991  DEBUG  Added Car_8 from frame 000095 to frame 100055\n",
      "2021-05-13 13:32:57,992  DEBUG  Added Car_9 from frame 000038 to frame 100055\n",
      "2021-05-13 13:32:57,993  DEBUG  Added Car_0 from frame 000071 to frame 100055\n",
      "2021-05-13 13:32:57,994  DEBUG  Added Car_0 from frame 000041 to frame 100055\n",
      "2021-05-13 13:32:57,994  DEBUG  Added Pedestrian_1 from frame 000074 to frame 100055\n",
      "2021-05-13 13:32:57,995  DEBUG  Added Pedestrian_1 from frame 000073 to frame 100055\n",
      "2021-05-13 13:32:57,996  DEBUG  Added Pedestrian_5 from frame 000011 to frame 100055\n",
      "2021-05-13 13:32:57,997  DEBUG  Added Pedestrian_0 from frame 000074 to frame 100055\n",
      "2021-05-13 13:32:57,998  DEBUG  Added Pedestrian_2 from frame 000073 to frame 100055\n",
      "2021-05-13 13:32:57,998  DEBUG  Added Pedestrian_2 from frame 000085 to frame 100055\n",
      "2021-05-13 13:32:57,999  DEBUG  Added Pedestrian_0 from frame 000073 to frame 100055\n",
      "2021-05-13 13:32:58,000  DEBUG  Added Pedestrian_0 from frame 000070 to frame 100055\n",
      "2021-05-13 13:32:58,001  DEBUG  Added Pedestrian_3 from frame 000043 to frame 100055\n",
      "2021-05-13 13:32:58,002  DEBUG  Added Pedestrian_0 from frame 000011 to frame 100055\n",
      "2021-05-13 13:32:58,003  DEBUG  Added Pedestrian_5 from frame 000073 to frame 100055\n",
      "2021-05-13 13:32:58,003  DEBUG  Added Pedestrian_2 from frame 000100 to frame 100055\n",
      "2021-05-13 13:32:58,004  DEBUG  Added Pedestrian_10 from frame 000049 to frame 100055\n",
      "2021-05-13 13:32:58,005  DEBUG  Added Cyclist_3 from frame 000060 to frame 100055\n",
      "2021-05-13 13:32:58,005  DEBUG  Added Cyclist_11 from frame 000068 to frame 100055\n",
      "2021-05-13 13:32:58,006  DEBUG  Added Cyclist_4 from frame 000073 to frame 100055\n",
      "2021-05-13 13:32:58,007  DEBUG  Added Cyclist_3 from frame 000073 to frame 100055\n",
      "2021-05-13 13:32:58,007  DEBUG  Added Cyclist_3 from frame 000007 to frame 100055\n",
      "2021-05-13 13:32:58,170  DEBUG  Sample 100055 was created from frame 000055 with the following augmentations: {\n",
      "  \"random_local_rotation\": {\n",
      "    \"LOCAL_ROT_ANGLE\": {\n",
      "      \"object_0\": 0.7343116054757204,\n",
      "      \"object_1\": -0.4033148176898512,\n",
      "      \"object_2\": 0.4972828565533429,\n",
      "      \"object_3\": -0.4983640402366849,\n",
      "      \"object_4\": -0.6422768208024467,\n",
      "      \"object_5\": 0.30235575978409446,\n",
      "      \"object_6\": 0.46184275166084787,\n",
      "      \"object_7\": 0.21310080660742958,\n",
      "      \"object_8\": 0.7357811505496836,\n",
      "      \"object_9\": -0.6442953918023743,\n",
      "      \"object_10\": 0.6353653257613039,\n",
      "      \"object_11\": 0.6802659782244491,\n",
      "      \"object_12\": 0.37302232085084985,\n",
      "      \"object_13\": -0.21536889766657652,\n",
      "      \"object_14\": 0.7255236456572431,\n",
      "      \"object_15\": -0.1425043622032639,\n",
      "      \"object_16\": -0.24453479998216254,\n",
      "      \"object_17\": -0.40160086665213235,\n",
      "      \"object_18\": -0.29366889314660816,\n",
      "      \"object_19\": 0.1990717940615928,\n",
      "      \"object_20\": -0.5177397580623283,\n",
      "      \"object_21\": -0.39908097369936946,\n",
      "      \"object_22\": 0.45309445303845663,\n",
      "      \"object_23\": -0.751484215853509,\n",
      "      \"object_24\": -0.5740789615160761,\n",
      "      \"object_25\": 0.21928752851261835,\n",
      "      \"object_26\": 0.4151320090577493\n",
      "    }\n",
      "  },\n",
      "  \"random_local_scaling\": {\n",
      "    \"LOCAL_SCALE\": {\n",
      "      \"object_0\": 0.9944310783876922,\n",
      "      \"object_1\": 1.0270550294805478,\n",
      "      \"object_2\": 1.0200794600093541,\n",
      "      \"object_3\": 1.0239212625285814,\n",
      "      \"object_4\": 1.0006193161698003,\n",
      "      \"object_5\": 0.9588430701893034,\n",
      "      \"object_6\": 1.032589542806701,\n",
      "      \"object_7\": 1.0346225945377485,\n",
      "      \"object_8\": 1.0296662778411423,\n",
      "      \"object_9\": 1.0330601351228414,\n",
      "      \"object_10\": 1.0221770281613825,\n",
      "      \"object_11\": 0.9822733966589275,\n",
      "      \"object_12\": 0.9571504741907073,\n",
      "      \"object_13\": 0.9875299180602167,\n",
      "      \"object_14\": 0.994477597441459,\n",
      "      \"object_15\": 1.006943212446399,\n",
      "      \"object_16\": 1.0113447369154387,\n",
      "      \"object_17\": 0.9928674167272818,\n",
      "      \"object_18\": 1.02047600042462,\n",
      "      \"object_19\": 0.9765308591452434,\n",
      "      \"object_20\": 0.995121903716405,\n",
      "      \"object_21\": 0.9665467580080672,\n",
      "      \"object_22\": 0.9951542670423026,\n",
      "      \"object_23\": 1.018833344426866,\n",
      "      \"object_24\": 1.017798757574424,\n",
      "      \"object_25\": 0.9665204343041316,\n",
      "      \"object_26\": 0.9795778357200033\n",
      "    }\n",
      "  },\n",
      "  \"random_world_flip\": {\n",
      "    \"ALONG_AXIS_x\": \"True\"\n",
      "  },\n",
      "  \"random_world_rotation\": {\n",
      "    \"WORLD_ROT_ANGLE\": 0.5565110851555835,\n",
      "    \"WORLD_SCALE\": 1.0239063196275624\n",
      "  },\n",
      "  \"random_world_translation\": {\n",
      "    \"ALONG_AXIS_x\": -0.9452185644127199,\n",
      "    \"ALONG_AXIS_y\": -0.7219513681073604\n",
      "  },\n",
      "  \"random_local_translation\": {\n",
      "    \"ALONG_AXIS_x\": {\n",
      "      \"object_0\": 0.2895162292728153,\n",
      "      \"object_1\": -0.8571620756250089,\n",
      "      \"object_2\": -0.05292727368652139,\n",
      "      \"object_3\": 0.6174792708577916,\n",
      "      \"object_4\": 0.25672913437794587,\n",
      "      \"object_5\": -0.8563121668528886,\n",
      "      \"object_6\": -0.7227643144758544,\n",
      "      \"object_7\": 0.9951809101754103,\n",
      "      \"object_8\": 0.43227946850375765,\n",
      "      \"object_9\": -0.09082363041967256,\n",
      "      \"object_10\": 0.5923739484643287,\n",
      "      \"object_11\": 0.8561444555184323,\n",
      "      \"object_12\": 0.8618762341352686,\n",
      "      \"object_13\": 0.5014713015659513,\n",
      "      \"object_14\": 0.5409565357640445,\n",
      "      \"object_15\": -0.7737487354844252,\n",
      "      \"object_16\": 0.9535045163885287,\n",
      "      \"object_17\": 0.5854369401684916,\n",
      "      \"object_18\": 1.033263316834762,\n",
      "      \"object_19\": -0.797284934499496,\n",
      "      \"object_20\": 0.9626075922845485,\n",
      "      \"object_21\": 0.804709055817387,\n",
      "      \"object_22\": -0.9736046574841478,\n",
      "      \"object_23\": -0.6969765962478519,\n",
      "      \"object_24\": -0.8506534317566241,\n",
      "      \"object_25\": -0.3979701977401743,\n",
      "      \"object_26\": 0.170808450378249\n",
      "    },\n",
      "    \"ALONG_AXIS_y\": {\n",
      "      \"object_0\": -0.9844995943083731,\n",
      "      \"object_1\": -0.8643215883672613,\n",
      "      \"object_2\": -0.09313953728528734,\n",
      "      \"object_3\": -0.9259996649834203,\n",
      "      \"object_4\": 0.43219298324594635,\n",
      "      \"object_5\": 0.3429152700961222,\n",
      "      \"object_6\": -0.434248331883875,\n",
      "      \"object_7\": 0.11690227764631245,\n",
      "      \"object_8\": 0.24990074074448065,\n",
      "      \"object_9\": -0.9953780784816944,\n",
      "      \"object_10\": 0.1990384744543474,\n",
      "      \"object_11\": -1.0285089514051937,\n",
      "      \"object_12\": -0.13984889466088013,\n",
      "      \"object_13\": 0.22549817579857012,\n",
      "      \"object_14\": -0.404041389244417,\n",
      "      \"object_15\": 1.0278895229702611,\n",
      "      \"object_16\": 0.20052357276137633,\n",
      "      \"object_17\": 0.29036206479769144,\n",
      "      \"object_18\": -0.6079421381562267,\n",
      "      \"object_19\": 0.5176483566544134,\n",
      "      \"object_20\": -0.11669944417030809,\n",
      "      \"object_21\": -0.053614371640787306,\n",
      "      \"object_22\": -0.268113313262767,\n",
      "      \"object_23\": -0.8744153635750849,\n",
      "      \"object_24\": -0.4165534925093497,\n",
      "      \"object_25\": 0.7135719381939547,\n",
      "      \"object_26\": -0.5283246667155991\n",
      "    }\n",
      "  }\n",
      "}\n",
      "2021-05-13 13:32:58,171   INFO  Loaded sample index: \t87\n"
     ]
    }
   ],
   "source": [
    "cfg_from_yaml_file('tools/cfgs/dataset_configs/kitti_dataset.yaml', cfg)\n",
    "# cfg_from_yaml_file('tools/cfgs/kitti_models/pointpillar_augs.yaml', cfg)\n",
    "\n",
    "cfg.DATA_PATH = 'data/kitti'\n",
    "\n",
    "train_set, train_loader, train_sampler = build_dataloader(\n",
    "    dataset_cfg=cfg,\n",
    "    class_names=['Car', 'Pedestrian', 'Cyclist'],\n",
    "    batch_size=1,\n",
    "    dist=False,\n",
    "    workers=4,\n",
    "    logger=logger,\n",
    "    training=True,\n",
    "    merge_all_iters_to_one_epoch=False,\n",
    "    total_epochs=0\n",
    ")\n",
    "\n",
    "logger.info(f'Total number of samples: \\t{len(train_set)}')\n",
    "\n",
    "data_dict_list = []\n",
    "logger.info('Loading samples')\n",
    "for idx, data_dict in enumerate(train_set):\n",
    "    logger.info(f'Loaded sample index: \\t{idx + 1}')\n",
    "    data_dict = train_set.collate_batch([data_dict])\n",
    "    data_dict_list.append(data_dict)\n",
    "    #if idx > 8: break\n"
   ]
  },
  {
   "cell_type": "code",
   "execution_count": 5,
   "metadata": {},
   "outputs": [],
   "source": [
    "scene = data_dict_list[2]"
   ]
  },
  {
   "cell_type": "code",
   "execution_count": 6,
   "metadata": {},
   "outputs": [],
   "source": [
    "def show_pc(data_dict):\n",
    "    V.draw_scenes(\n",
    "        points=data_dict['points'][:, 1:], gt_boxes=data_dict['gt_boxes'][0]\n",
    "    )\n",
    "\n",
    "    return mlab.test_plot3d()\n"
   ]
  },
  {
   "source": [
    "## Visualizing the original scene\n",
    "![Original Camera Image](data/kitti/training/image_2/000007.png)\n"
   ],
   "cell_type": "markdown",
   "metadata": {}
  },
  {
   "cell_type": "code",
   "execution_count": 7,
   "metadata": {},
   "outputs": [
    {
     "output_type": "display_data",
     "data": {
      "text/plain": "Image(value=b'\\x89PNG\\r\\n\\x1a\\n\\x00\\x00\\x00\\rIHDR\\x00\\x00\\x02X\\x00\\x00\\x02X\\x08\\x02\\x00\\x00\\x001\\x04\\x0f\\x8b\\x…",
      "application/vnd.jupyter.widget-view+json": {
       "version_major": 2,
       "version_minor": 0,
       "model_id": "0f18645614974e9ea5a1fc3baa49f220"
      }
     },
     "metadata": {}
    }
   ],
   "source": [
    "show_pc(data_dict_list[60])\n",
    "mlab.savefig('3d_renders/aug_pipeline_output.obj')\n",
    "mlab.savefig('figs/aug_pipeline_output.png')\n",
    "mlab.test_plot3d()"
   ]
  },
  {
   "source": [
    "## Augmentation methods"
   ],
   "cell_type": "markdown",
   "metadata": {}
  },
  {
   "source": [
    "### Random flip"
   ],
   "cell_type": "markdown",
   "metadata": {}
  },
  {
   "cell_type": "code",
   "execution_count": 8,
   "metadata": {},
   "outputs": [],
   "source": [
    "def random_flip_along_x(gt_boxes, points):\n",
    "    \"\"\"\n",
    "    Args:\n",
    "        gt_boxes: (N, 7 + C), [x, y, z, dx, dy, dz, heading, [vx], [vy]]\n",
    "        points: (M, 3 + C)\n",
    "    Returns:\n",
    "    \"\"\"\n",
    "    enable = True\n",
    "    if enable:\n",
    "        gt_boxes[:, 1] = -gt_boxes[:, 1]\n",
    "        gt_boxes[:, 6] = -gt_boxes[:, 6]\n",
    "        points[:, 1] = -points[:, 1]\n",
    "\n",
    "        if gt_boxes.shape[1] > 8:\n",
    "            gt_boxes[:, 8] = -gt_boxes[:, 8]\n",
    "\n",
    "    return gt_boxes, points\n",
    "\n",
    "def random_flip_along_y(gt_boxes, points):\n",
    "    \"\"\"\n",
    "    Args:\n",
    "        gt_boxes: (N, 7 + C), [x, y, z, dx, dy, dz, heading, [vx], [vy]]\n",
    "        points: (M, 3 + C)\n",
    "    Returns:\n",
    "    \"\"\"\n",
    "    enable = True\n",
    "    if enable:\n",
    "        gt_boxes[:, 0] = -gt_boxes[:, 0]\n",
    "        gt_boxes[:, 6] = -(gt_boxes[:, 6] + np.pi)\n",
    "        points[:, 0] = -points[:, 0]\n",
    "\n",
    "        if gt_boxes.shape[1] > 7:\n",
    "            gt_boxes[:, 7] = -gt_boxes[:, 7]\n",
    "\n",
    "    return gt_boxes, points"
   ]
  },
  {
   "cell_type": "code",
   "execution_count": 9,
   "metadata": {},
   "outputs": [
    {
     "output_type": "stream",
     "name": "stdout",
     "text": [
      "CPU times: user 1.51 ms, sys: 751 µs, total: 2.26 ms\nWall time: 1.26 ms\n"
     ]
    }
   ],
   "source": [
    "%%time\n",
    "flipped_y = deepcopy(scene)\n",
    "flipped_y['gt_boxes'][0], flipped_y['points'][:,1:] = random_flip_along_y(flipped_y['gt_boxes'][0], flipped_y['points'][:,1:])"
   ]
  },
  {
   "cell_type": "code",
   "execution_count": 10,
   "metadata": {},
   "outputs": [
    {
     "output_type": "display_data",
     "data": {
      "text/plain": "Image(value=b'\\x89PNG\\r\\n\\x1a\\n\\x00\\x00\\x00\\rIHDR\\x00\\x00\\x02X\\x00\\x00\\x02X\\x08\\x02\\x00\\x00\\x001\\x04\\x0f\\x8b\\x…",
      "application/vnd.jupyter.widget-view+json": {
       "version_major": 2,
       "version_minor": 0,
       "model_id": "c93373db43b343c3834f1df1fdb361d3"
      }
     },
     "metadata": {}
    }
   ],
   "source": [
    "show_pc(flipped_y)\n",
    "mlab.savefig('figs/flipped_y.png')\n",
    "mlab.savefig('3d_renders/flipped_y.obj')\n",
    "mlab.test_plot3d()"
   ]
  },
  {
   "cell_type": "code",
   "execution_count": 11,
   "metadata": {},
   "outputs": [
    {
     "output_type": "stream",
     "name": "stdout",
     "text": [
      "CPU times: user 1.65 ms, sys: 750 µs, total: 2.4 ms\nWall time: 1.29 ms\n"
     ]
    }
   ],
   "source": [
    "%%time\n",
    "flipped_x = deepcopy(scene)\n",
    "flipped_x['gt_boxes'][0], flipped_x['points'][:,1:] = random_flip_along_x(flipped_x['gt_boxes'][0], flipped_x['points'][:,1:])"
   ]
  },
  {
   "cell_type": "code",
   "execution_count": 12,
   "metadata": {},
   "outputs": [
    {
     "output_type": "display_data",
     "data": {
      "text/plain": "Image(value=b'\\x89PNG\\r\\n\\x1a\\n\\x00\\x00\\x00\\rIHDR\\x00\\x00\\x02X\\x00\\x00\\x02X\\x08\\x02\\x00\\x00\\x001\\x04\\x0f\\x8b\\x…",
      "application/vnd.jupyter.widget-view+json": {
       "version_major": 2,
       "version_minor": 0,
       "model_id": "d53056f3491044b2b78614c0c8fe7d30"
      }
     },
     "metadata": {}
    }
   ],
   "source": [
    "show_pc(flipped_x)\n",
    "mlab.savefig('figs/flipped_x.png')\n",
    "mlab.savefig('3d_renders/flipped_x.obj')\n",
    "mlab.test_plot3d()"
   ]
  },
  {
   "source": [
    "### Global rotation"
   ],
   "cell_type": "markdown",
   "metadata": {}
  },
  {
   "cell_type": "code",
   "execution_count": 13,
   "metadata": {},
   "outputs": [],
   "source": [
    "def global_rotation(gt_boxes, points, rot_range):\n",
    "    \"\"\"\n",
    "    Args:\n",
    "        gt_boxes: (N, 7 + C), [x, y, z, dx, dy, dz, heading, [vx], [vy]]\n",
    "        points: (M, 3 + C),\n",
    "        rot_range: [min, max]\n",
    "    Returns:\n",
    "    \"\"\"\n",
    "    noise_rotation = np.random.uniform(rot_range[0], rot_range[1])\n",
    "    points = common_utils.rotate_points_along_z(points[np.newaxis, :, :], np.array([noise_rotation]))[0]\n",
    "    gt_boxes[:, 0:3] = common_utils.rotate_points_along_z(gt_boxes[np.newaxis, :, 0:3], np.array([noise_rotation]))[0]\n",
    "    gt_boxes[:, 6] += noise_rotation\n",
    "    if gt_boxes.shape[1] > 8:\n",
    "        gt_boxes[:, 7:9] = common_utils.rotate_points_along_z(\n",
    "            np.hstack((gt_boxes[:, 7:9], np.zeros((gt_boxes.shape[0], 1))))[np.newaxis, :, :],\n",
    "            np.array([noise_rotation])\n",
    "        )[0][:, 0:2]\n",
    "\n",
    "    return gt_boxes, points"
   ]
  },
  {
   "cell_type": "code",
   "execution_count": 14,
   "metadata": {},
   "outputs": [
    {
     "output_type": "stream",
     "name": "stdout",
     "text": [
      "CPU times: user 4.52 ms, sys: 870 µs, total: 5.39 ms\nWall time: 3.02 ms\n"
     ]
    }
   ],
   "source": [
    "%%time\n",
    "rotated = deepcopy(scene)\n",
    "rotated['gt_boxes'][0], rotated['points'][:,1:] = global_rotation(rotated['gt_boxes'][0], rotated['points'][:,1:], [-0.78539816, 0.78539816])"
   ]
  },
  {
   "cell_type": "code",
   "execution_count": 15,
   "metadata": {},
   "outputs": [
    {
     "output_type": "display_data",
     "data": {
      "text/plain": "Image(value=b'\\x89PNG\\r\\n\\x1a\\n\\x00\\x00\\x00\\rIHDR\\x00\\x00\\x02X\\x00\\x00\\x02X\\x08\\x02\\x00\\x00\\x001\\x04\\x0f\\x8b\\x…",
      "application/vnd.jupyter.widget-view+json": {
       "version_major": 2,
       "version_minor": 0,
       "model_id": "7d1a34a2c5e14f9ab1018a51e6ca63e3"
      }
     },
     "metadata": {}
    }
   ],
   "source": [
    "show_pc(rotated)\n",
    "mlab.savefig('figs/rotated_global.png')\n",
    "mlab.savefig('3d_renders/rotated_global.obj')\n",
    "mlab.test_plot3d()"
   ]
  },
  {
   "source": [
    "### Global scaling"
   ],
   "cell_type": "markdown",
   "metadata": {}
  },
  {
   "cell_type": "code",
   "execution_count": 16,
   "metadata": {},
   "outputs": [],
   "source": [
    "def global_scaling(gt_boxes, points, scale_range):\n",
    "    \"\"\"\n",
    "    Args:\n",
    "        gt_boxes: (N, 7), [x, y, z, dx, dy, dz, heading]\n",
    "        points: (M, 3 + C),\n",
    "        scale_range: [min, max]\n",
    "    Returns:\n",
    "    \"\"\"\n",
    "    if scale_range[1] - scale_range[0] < 1e-3:\n",
    "        return gt_boxes, points\n",
    "    noise_scale = np.random.uniform(scale_range[0], scale_range[1])\n",
    "    points[:, :3] *= noise_scale\n",
    "    gt_boxes[:, :6] *= noise_scale\n",
    "    return gt_boxes, points"
   ]
  },
  {
   "cell_type": "code",
   "execution_count": 17,
   "metadata": {},
   "outputs": [
    {
     "output_type": "stream",
     "name": "stdout",
     "text": [
      "CPU times: user 3.04 ms, sys: 0 ns, total: 3.04 ms\nWall time: 1.86 ms\n"
     ]
    }
   ],
   "source": [
    "%%time\n",
    "scaled = deepcopy(scene)\n",
    "scaled['gt_boxes'][0], scaled['points'][:,1:] = global_scaling(scaled['gt_boxes'][0], scaled['points'][:, 1:], [0.2, 0.5])"
   ]
  },
  {
   "cell_type": "code",
   "execution_count": 18,
   "metadata": {},
   "outputs": [
    {
     "output_type": "display_data",
     "data": {
      "text/plain": "Image(value=b'\\x89PNG\\r\\n\\x1a\\n\\x00\\x00\\x00\\rIHDR\\x00\\x00\\x02X\\x00\\x00\\x02X\\x08\\x02\\x00\\x00\\x001\\x04\\x0f\\x8b\\x…",
      "application/vnd.jupyter.widget-view+json": {
       "version_major": 2,
       "version_minor": 0,
       "model_id": "c86bb288e0e049aa9d20df4482574c06"
      }
     },
     "metadata": {}
    }
   ],
   "source": [
    "show_pc(scaled)\n",
    "mlab.savefig('figs/scaled_global.png')\n",
    "mlab.savefig('3d_renders/scaled_global.obj')\n",
    "mlab.test_plot3d()"
   ]
  },
  {
   "source": [
    "### Global translation"
   ],
   "cell_type": "markdown",
   "metadata": {}
  },
  {
   "cell_type": "code",
   "execution_count": 19,
   "metadata": {},
   "outputs": [],
   "source": [
    "def random_translation_along_x(gt_boxes, points, offset_range):\n",
    "    \"\"\"\n",
    "    Args:\n",
    "        gt_boxes: (N, 7), [x, y, z, dx, dy, dz, heading, [vx], [vy]]\n",
    "        points: (M, 3 + C),\n",
    "        offset_range: [min max]]\n",
    "    Returns:\n",
    "    \"\"\"\n",
    "    offset = np.random.uniform(offset_range[0], offset_range[1])\n",
    "\n",
    "    points[:, 0] += offset\n",
    "    gt_boxes[:, 0] += offset\n",
    "\n",
    "    if gt_boxes.shape[1] > 7:\n",
    "        gt_boxes[:, 7] += offset\n",
    "\n",
    "    return gt_boxes, points\n",
    "\n",
    "def random_translation_along_y(gt_boxes, points, offset_range):\n",
    "    \"\"\"\n",
    "    Args:\n",
    "        gt_boxes: (N, 7), [x, y, z, dx, dy, dz, heading, [vx], [vy]]\n",
    "        points: (M, 3 + C),\n",
    "        offset_range: [min max]]\n",
    "    Returns:\n",
    "    \"\"\"\n",
    "    offset = np.random.uniform(offset_range[0], offset_range[1])\n",
    "\n",
    "    points[:, 1] += offset\n",
    "    gt_boxes[:, 1] += offset\n",
    "\n",
    "    if gt_boxes.shape[1] > 8:\n",
    "        gt_boxes[:, 8] += offset\n",
    "\n",
    "    return gt_boxes, points\n",
    "\n",
    "def random_translation_along_z(gt_boxes, points, offset_range):\n",
    "    \"\"\"\n",
    "    Args:\n",
    "        gt_boxes: (N, 7), [x, y, z, dx, dy, dz, heading, [vx], [vy]]\n",
    "        points: (M, 3 + C),\n",
    "        offset_range: [min max]]\n",
    "    Returns:\n",
    "    \"\"\"\n",
    "    offset = np.random.uniform(offset_range[0], offset_range[1])\n",
    "\n",
    "    points[:, 2] += offset\n",
    "    gt_boxes[:, 2] += offset\n",
    "\n",
    "    return gt_boxes, points"
   ]
  },
  {
   "cell_type": "code",
   "execution_count": 20,
   "metadata": {},
   "outputs": [
    {
     "output_type": "stream",
     "name": "stdout",
     "text": [
      "CPU times: user 1.78 ms, sys: 648 µs, total: 2.43 ms\nWall time: 1.26 ms\n"
     ]
    }
   ],
   "source": [
    "%%time\n",
    "translation_x = deepcopy(scene)\n",
    "translation_x['gt_boxes'][0], translation_x['points'][:,1:] = random_translation_along_x(translation_x['gt_boxes'][0], translation_x['points'][:, 1:], [15, 20])"
   ]
  },
  {
   "cell_type": "code",
   "execution_count": 21,
   "metadata": {},
   "outputs": [
    {
     "output_type": "display_data",
     "data": {
      "text/plain": "Image(value=b'\\x89PNG\\r\\n\\x1a\\n\\x00\\x00\\x00\\rIHDR\\x00\\x00\\x02X\\x00\\x00\\x02X\\x08\\x02\\x00\\x00\\x001\\x04\\x0f\\x8b\\x…",
      "application/vnd.jupyter.widget-view+json": {
       "version_major": 2,
       "version_minor": 0,
       "model_id": "0626edd45ba24f78b65e26ba06035556"
      }
     },
     "metadata": {}
    }
   ],
   "source": [
    "show_pc(translation_x)\n",
    "mlab.savefig('figs/translation_global_x.png')\n",
    "mlab.savefig('3d_renders/translation_global_x.obj')\n",
    "mlab.test_plot3d()"
   ]
  },
  {
   "cell_type": "code",
   "execution_count": 22,
   "metadata": {},
   "outputs": [
    {
     "output_type": "stream",
     "name": "stdout",
     "text": [
      "CPU times: user 2.1 ms, sys: 0 ns, total: 2.1 ms\nWall time: 1.12 ms\n"
     ]
    }
   ],
   "source": [
    "%%time\n",
    "translation_y = deepcopy(scene)\n",
    "translation_y['gt_boxes'][0], translation_y['points'][:,1:] = random_translation_along_y(translation_y['gt_boxes'][0], translation_y['points'][:, 1:], [15, 20])"
   ]
  },
  {
   "cell_type": "code",
   "execution_count": 23,
   "metadata": {},
   "outputs": [
    {
     "output_type": "display_data",
     "data": {
      "text/plain": "Image(value=b'\\x89PNG\\r\\n\\x1a\\n\\x00\\x00\\x00\\rIHDR\\x00\\x00\\x02X\\x00\\x00\\x02X\\x08\\x02\\x00\\x00\\x001\\x04\\x0f\\x8b\\x…",
      "application/vnd.jupyter.widget-view+json": {
       "version_major": 2,
       "version_minor": 0,
       "model_id": "741f6c042ed241469e9fee035dbbaf5d"
      }
     },
     "metadata": {}
    }
   ],
   "source": [
    "show_pc(translation_y)\n",
    "mlab.savefig('figs/translation_global_y.png')\n",
    "mlab.savefig('3d_renders/translation_global_y.obj')\n",
    "mlab.test_plot3d()"
   ]
  },
  {
   "cell_type": "code",
   "execution_count": 24,
   "metadata": {},
   "outputs": [
    {
     "output_type": "stream",
     "name": "stdout",
     "text": [
      "CPU times: user 1.87 ms, sys: 607 µs, total: 2.48 ms\nWall time: 1.42 ms\n"
     ]
    }
   ],
   "source": [
    "%%time\n",
    "translation_z = deepcopy(scene)\n",
    "translation_z['gt_boxes'][0], translation_z['points'][:,1:] = random_translation_along_z(translation_z['gt_boxes'][0], translation_z['points'][:, 1:], [15, 20])"
   ]
  },
  {
   "cell_type": "code",
   "execution_count": 25,
   "metadata": {},
   "outputs": [
    {
     "output_type": "display_data",
     "data": {
      "text/plain": "Image(value=b'\\x89PNG\\r\\n\\x1a\\n\\x00\\x00\\x00\\rIHDR\\x00\\x00\\x02X\\x00\\x00\\x02X\\x08\\x02\\x00\\x00\\x001\\x04\\x0f\\x8b\\x…",
      "application/vnd.jupyter.widget-view+json": {
       "version_major": 2,
       "version_minor": 0,
       "model_id": "22156067826e4d3793d05ed38051d959"
      }
     },
     "metadata": {}
    }
   ],
   "source": [
    "show_pc(translation_z)\n",
    "mlab.savefig('figs/translation_global_z.png')\n",
    "mlab.savefig('3d_renders/translation_global_z.obj')\n",
    "mlab.test_plot3d()"
   ]
  },
  {
   "source": [
    "### Global frustum dropout"
   ],
   "cell_type": "markdown",
   "metadata": {}
  },
  {
   "cell_type": "code",
   "execution_count": 26,
   "metadata": {},
   "outputs": [],
   "source": [
    "def global_frustum_dropout_top(gt_boxes, points, intensity_range):\n",
    "    \"\"\"\n",
    "    Args:\n",
    "        gt_boxes: (N, 7), [x, y, z, dx, dy, dz, heading, [vx], [vy]],\n",
    "        points: (M, 3 + C),\n",
    "        intensity: [min, max]\n",
    "    Returns:\n",
    "    \"\"\"\n",
    "    intensity = np.random.uniform(intensity_range[0], intensity_range[1])\n",
    "\n",
    "    threshold = np.max(points[:, 2]) - intensity * (np.max(points[:, 2]) - np.min(points[:, 2]))\n",
    "    points = points[points[:,2] < threshold]\n",
    "    gt_boxes = gt_boxes[gt_boxes[:,2] < threshold]\n",
    "\n",
    "    return gt_boxes, points\n",
    "\n",
    "def global_frustum_dropout_bottom(gt_boxes, points, intensity_range):\n",
    "    \"\"\"\n",
    "    Args:\n",
    "        gt_boxes: (N, 7), [x, y, z, dx, dy, dz, heading, [vx], [vy]],\n",
    "        points: (M, 3 + C),\n",
    "        intensity: [min, max]\n",
    "    Returns:\n",
    "    \"\"\"\n",
    "    intensity = np.random.uniform(intensity_range[0], intensity_range[1])\n",
    "\n",
    "    threshold = np.min(points[:, 2]) + intensity * (np.max(points[:, 2]) - np.min(points[:, 2]))\n",
    "    points = points[points[:,2] > threshold]\n",
    "    gt_boxes = gt_boxes[gt_boxes[:,2] > threshold]\n",
    "\n",
    "    return gt_boxes, points\n",
    "\n",
    "def global_frustum_dropout_left(gt_boxes, points, intensity_range):\n",
    "    \"\"\"\n",
    "    Args:\n",
    "        gt_boxes: (N, 7), [x, y, z, dx, dy, dz, heading, [vx], [vy]],\n",
    "        points: (M, 3 + C),\n",
    "        intensity: [min, max]\n",
    "    Returns:\n",
    "    \"\"\"\n",
    "    intensity = np.random.uniform(intensity_range[0], intensity_range[1])\n",
    "\n",
    "    threshold = np.max(points[:, 1]) - intensity * (np.max(points[:, 1]) - np.min(points[:, 1]))\n",
    "    points = points[points[:,1] < threshold]\n",
    "    gt_boxes = gt_boxes[gt_boxes[:,1] < threshold]\n",
    "\n",
    "    return gt_boxes, points\n",
    "\n",
    "def global_frustum_dropout_right(gt_boxes, points, intensity_range):\n",
    "    \"\"\"\n",
    "    Args:\n",
    "        gt_boxes: (N, 7), [x, y, z, dx, dy, dz, heading, [vx], [vy]],\n",
    "        points: (M, 3 + C),\n",
    "        intensity: [min, max]\n",
    "    Returns:\n",
    "    \"\"\"\n",
    "    intensity = np.random.uniform(intensity_range[0], intensity_range[1])\n",
    "\n",
    "    threshold = np.min(points[:, 1]) + intensity * (np.max(points[:, 1]) - np.min(points[:, 1]))\n",
    "    points = points[points[:,1] > threshold]\n",
    "    gt_boxes = gt_boxes[gt_boxes[:,1] > threshold]\n",
    "\n",
    "    return gt_boxes, points"
   ]
  },
  {
   "cell_type": "code",
   "execution_count": 27,
   "metadata": {},
   "outputs": [
    {
     "output_type": "stream",
     "name": "stdout",
     "text": [
      "CPU times: user 3.35 ms, sys: 0 ns, total: 3.35 ms\nWall time: 2.19 ms\n"
     ]
    }
   ],
   "source": [
    "%%time\n",
    "frustum_dropout = deepcopy(scene)\n",
    "frustum_dropout['gt_boxes'], frustum_dropout['points'] = global_frustum_dropout_top(frustum_dropout['gt_boxes'][0], frustum_dropout['points'][:, 1:], [0.4, 0.5])"
   ]
  },
  {
   "cell_type": "code",
   "execution_count": 28,
   "metadata": {},
   "outputs": [
    {
     "output_type": "display_data",
     "data": {
      "text/plain": "Image(value=b'\\x89PNG\\r\\n\\x1a\\n\\x00\\x00\\x00\\rIHDR\\x00\\x00\\x02X\\x00\\x00\\x02X\\x08\\x02\\x00\\x00\\x001\\x04\\x0f\\x8b\\x…",
      "application/vnd.jupyter.widget-view+json": {
       "version_major": 2,
       "version_minor": 0,
       "model_id": "8fb75faf7c2b44b88dcc1516d24f147a"
      }
     },
     "metadata": {}
    }
   ],
   "source": [
    "V.draw_scenes(\n",
    "        points=frustum_dropout['points'], gt_boxes=frustum_dropout['gt_boxes']\n",
    "    )\n",
    "\n",
    "mlab.savefig('figs/frustum_dropout_top.png')\n",
    "mlab.savefig('3d_renders/frustum_dropout_top.obj')\n",
    "mlab.test_plot3d()"
   ]
  },
  {
   "cell_type": "code",
   "execution_count": 29,
   "metadata": {},
   "outputs": [
    {
     "output_type": "stream",
     "name": "stdout",
     "text": [
      "CPU times: user 2.61 ms, sys: 759 µs, total: 3.36 ms\nWall time: 2.29 ms\n"
     ]
    }
   ],
   "source": [
    "%%time\n",
    "frustum_dropout = deepcopy(scene)\n",
    "frustum_dropout['gt_boxes'], frustum_dropout['points'] = global_frustum_dropout_bottom(frustum_dropout['gt_boxes'][0], frustum_dropout['points'][:, 1:], [0.4, 0.5])"
   ]
  },
  {
   "cell_type": "code",
   "execution_count": 30,
   "metadata": {},
   "outputs": [
    {
     "output_type": "display_data",
     "data": {
      "text/plain": "Image(value=b'\\x89PNG\\r\\n\\x1a\\n\\x00\\x00\\x00\\rIHDR\\x00\\x00\\x02X\\x00\\x00\\x02X\\x08\\x02\\x00\\x00\\x001\\x04\\x0f\\x8b\\x…",
      "application/vnd.jupyter.widget-view+json": {
       "version_major": 2,
       "version_minor": 0,
       "model_id": "34d855ed79454a718a4283235e38d071"
      }
     },
     "metadata": {}
    }
   ],
   "source": [
    "V.draw_scenes(\n",
    "        points=frustum_dropout['points'], gt_boxes=frustum_dropout['gt_boxes']\n",
    "    )\n",
    "\n",
    "mlab.savefig('figs/frustum_dropout_bottom.png')\n",
    "mlab.savefig('3d_renders/frustum_dropout_bottom.obj')\n",
    "mlab.test_plot3d()"
   ]
  },
  {
   "cell_type": "code",
   "execution_count": 31,
   "metadata": {},
   "outputs": [
    {
     "output_type": "stream",
     "name": "stdout",
     "text": [
      "CPU times: user 2.44 ms, sys: 692 µs, total: 3.13 ms\nWall time: 1.86 ms\n"
     ]
    }
   ],
   "source": [
    "%%time\n",
    "frustum_dropout = deepcopy(scene)\n",
    "frustum_dropout['gt_boxes'], frustum_dropout['points'] = global_frustum_dropout_left(frustum_dropout['gt_boxes'][0], frustum_dropout['points'][:, 1:], [0.4, 0.5])"
   ]
  },
  {
   "cell_type": "code",
   "execution_count": 32,
   "metadata": {},
   "outputs": [
    {
     "output_type": "display_data",
     "data": {
      "text/plain": "Image(value=b'\\x89PNG\\r\\n\\x1a\\n\\x00\\x00\\x00\\rIHDR\\x00\\x00\\x02X\\x00\\x00\\x02X\\x08\\x02\\x00\\x00\\x001\\x04\\x0f\\x8b\\x…",
      "application/vnd.jupyter.widget-view+json": {
       "version_major": 2,
       "version_minor": 0,
       "model_id": "e61ccbbaa93d4786b15f49aa58a8fa30"
      }
     },
     "metadata": {}
    }
   ],
   "source": [
    "V.draw_scenes(\n",
    "        points=frustum_dropout['points'], gt_boxes=frustum_dropout['gt_boxes']\n",
    "    )\n",
    "\n",
    "mlab.savefig('figs/frustum_dropout_left.png')\n",
    "mlab.savefig('figs/frustum_dropout_bottom.obj')\n",
    "mlab.test_plot3d()"
   ]
  },
  {
   "cell_type": "code",
   "execution_count": 33,
   "metadata": {},
   "outputs": [
    {
     "output_type": "stream",
     "name": "stdout",
     "text": [
      "CPU times: user 3.34 ms, sys: 0 ns, total: 3.34 ms\nWall time: 2.21 ms\n"
     ]
    }
   ],
   "source": [
    "%%time\n",
    "frustum_dropout = deepcopy(scene)\n",
    "frustum_dropout['gt_boxes'], frustum_dropout['points'] = global_frustum_dropout_right(frustum_dropout['gt_boxes'][0], frustum_dropout['points'][:, 1:], [0.4, 0.5])"
   ]
  },
  {
   "cell_type": "code",
   "execution_count": 34,
   "metadata": {},
   "outputs": [
    {
     "output_type": "display_data",
     "data": {
      "text/plain": "Image(value=b'\\x89PNG\\r\\n\\x1a\\n\\x00\\x00\\x00\\rIHDR\\x00\\x00\\x02X\\x00\\x00\\x02X\\x08\\x02\\x00\\x00\\x001\\x04\\x0f\\x8b\\x…",
      "application/vnd.jupyter.widget-view+json": {
       "version_major": 2,
       "version_minor": 0,
       "model_id": "9a12b8d411084a5ebdbe0d4cf59af619"
      }
     },
     "metadata": {}
    }
   ],
   "source": [
    "V.draw_scenes(\n",
    "        points=frustum_dropout['points'], gt_boxes=frustum_dropout['gt_boxes']\n",
    "    )\n",
    "\n",
    "mlab.savefig('figs/frustum_dropout_right.png')\n",
    "mlab.savefig('figs/frustum_dropout_right.obj')\n",
    "mlab.test_plot3d()"
   ]
  },
  {
   "source": [
    "#### Aux function to find which points are inside a bounding box"
   ],
   "cell_type": "markdown",
   "metadata": {}
  },
  {
   "cell_type": "code",
   "execution_count": 35,
   "metadata": {},
   "outputs": [],
   "source": [
    "def get_points_in_box(points, gt_box):\n",
    "    x, y, z, dx, dy, dz = gt_box[0], gt_box[1], gt_box[2], gt_box[3], gt_box[4], gt_box[5]\n",
    "\n",
    "    mask = np.logical_and(points[:,0] <= x + dx/2, \\\n",
    "         np.logical_and(points[:,0] >= x - dx/2, \\\n",
    "             np.logical_and(points[:,1] <= y + dy/2, \\\n",
    "                 np.logical_and(points[:,1] >= y - dy/2, \\\n",
    "                     np.logical_and(points[:,2] <= z + dz/2, points[:,2] >= z - dz/2)))))\n",
    "\n",
    "    points = points[mask]\n",
    "\n",
    "    return points, mask"
   ]
  },
  {
   "cell_type": "code",
   "execution_count": 36,
   "metadata": {},
   "outputs": [
    {
     "output_type": "stream",
     "name": "stdout",
     "text": [
      "CPU times: user 2.94 ms, sys: 0 ns, total: 2.94 ms\nWall time: 1.95 ms\n"
     ]
    }
   ],
   "source": [
    "%%time\n",
    "points_to_filter = deepcopy(scene)\n",
    "filtered_points, mask = get_points_in_box(points_to_filter['points'][:,1:], points_to_filter['gt_boxes'][0][1])"
   ]
  },
  {
   "cell_type": "code",
   "execution_count": 37,
   "metadata": {
    "tags": []
   },
   "outputs": [
    {
     "output_type": "display_data",
     "data": {
      "text/plain": "Image(value=b'\\x89PNG\\r\\n\\x1a\\n\\x00\\x00\\x00\\rIHDR\\x00\\x00\\x02X\\x00\\x00\\x02X\\x08\\x02\\x00\\x00\\x001\\x04\\x0f\\x8b\\x…",
      "application/vnd.jupyter.widget-view+json": {
       "version_major": 2,
       "version_minor": 0,
       "model_id": "44d491a5e46b4546bf2ffa1e31a05480"
      }
     },
     "metadata": {}
    }
   ],
   "source": [
    "V.draw_scenes(\n",
    "        points=filtered_points, gt_boxes=points_to_filter['gt_boxes'][0,1:]\n",
    "    )\n",
    "\n",
    "mlab.savefig('figs/points_in_box.png')\n",
    "mlab.savefig('3d_renders/points_in_box.obj')\n",
    "mlab.test_plot3d()"
   ]
  },
  {
   "source": [
    "### Local translation"
   ],
   "cell_type": "markdown",
   "metadata": {}
  },
  {
   "cell_type": "code",
   "execution_count": 38,
   "metadata": {},
   "outputs": [],
   "source": [
    "def local_translation_along_x(gt_boxes, points, offset_range):\n",
    "    \"\"\"\n",
    "    Args:\n",
    "        gt_boxes: (N, 7), [x, y, z, dx, dy, dz, heading, [vx], [vy]]\n",
    "        points: (M, 3 + C),\n",
    "        offset_range: [min max]]\n",
    "    Returns:\n",
    "    \"\"\"\n",
    "    for idx, box in enumerate(gt_boxes):\n",
    "        offset = np.random.uniform(offset_range[0], offset_range[1])\n",
    "        points_in_box, mask = get_points_in_box(points, box)\n",
    "        points[mask, 0] += offset\n",
    "\n",
    "        gt_boxes[idx, 0] += offset\n",
    "\n",
    "        if gt_boxes.shape[1] > 7:\n",
    "            gt_boxes[idx, 7] += offset\n",
    "\n",
    "    return gt_boxes, points\n",
    "\n",
    "\n",
    "def local_translation_along_y(gt_boxes, points, offset_range):\n",
    "    \"\"\"\n",
    "    Args:\n",
    "        gt_boxes: (N, 7), [x, y, z, dx, dy, dz, heading, [vx], [vy]]\n",
    "        points: (M, 3 + C),\n",
    "        offset_range: [min max]]\n",
    "    Returns:\n",
    "    \"\"\"\n",
    "    for idx, box in enumerate(gt_boxes):\n",
    "        offset = np.random.uniform(offset_range[0], offset_range[1])\n",
    "        points_in_box, mask = get_points_in_box(points, box)\n",
    "        points[mask, 1] += offset\n",
    "\n",
    "        gt_boxes[idx, 1] += offset\n",
    "\n",
    "        if gt_boxes.shape[1] > 8:\n",
    "            gt_boxes[idx, 8] += offset\n",
    "\n",
    "    return gt_boxes, points\n",
    "\n",
    "\n",
    "def local_translation_along_z(gt_boxes, points, offset_range):\n",
    "    \"\"\"\n",
    "    Args:\n",
    "        gt_boxes: (N, 7), [x, y, z, dx, dy, dz, heading, [vx], [vy]]\n",
    "        points: (M, 3 + C),\n",
    "        offset_range: [min max]]\n",
    "    Returns:\n",
    "    \"\"\"\n",
    "    for idx, box in enumerate(gt_boxes):\n",
    "        offset = np.random.uniform(offset_range[0], offset_range[1])\n",
    "        points_in_box, mask = get_points_in_box(points, box)\n",
    "        points[mask, 2] += offset\n",
    "\n",
    "        gt_boxes[idx, 2] += offset\n",
    "\n",
    "    return gt_boxes, points"
   ]
  },
  {
   "cell_type": "code",
   "execution_count": 39,
   "metadata": {},
   "outputs": [
    {
     "output_type": "stream",
     "name": "stdout",
     "text": [
      "CPU times: user 6.22 ms, sys: 0 ns, total: 6.22 ms\nWall time: 4.99 ms\n"
     ]
    }
   ],
   "source": [
    "%%time\n",
    "local_translation_x = deepcopy(scene)\n",
    "local_translation_x['gt_boxes'][0], local_translation_x['points'][:,1:] = local_translation_along_x(local_translation_x['gt_boxes'][0], local_translation_x['points'][:, 1:], [10, 15])"
   ]
  },
  {
   "cell_type": "code",
   "execution_count": 40,
   "metadata": {
    "tags": []
   },
   "outputs": [
    {
     "output_type": "display_data",
     "data": {
      "text/plain": "Image(value=b'\\x89PNG\\r\\n\\x1a\\n\\x00\\x00\\x00\\rIHDR\\x00\\x00\\x02X\\x00\\x00\\x02X\\x08\\x02\\x00\\x00\\x001\\x04\\x0f\\x8b\\x…",
      "application/vnd.jupyter.widget-view+json": {
       "version_major": 2,
       "version_minor": 0,
       "model_id": "f6f925e554a04b4ab3d3f5375940bb5c"
      }
     },
     "metadata": {}
    }
   ],
   "source": [
    "show_pc(local_translation_x)\n",
    "mlab.savefig('figs/translation_local_x.png')\n",
    "mlab.savefig('3d_renders/translation_local_x.obj')\n",
    "mlab.test_plot3d()"
   ]
  },
  {
   "cell_type": "code",
   "execution_count": 41,
   "metadata": {},
   "outputs": [
    {
     "output_type": "stream",
     "name": "stdout",
     "text": [
      "CPU times: user 2.06 ms, sys: 2.56 ms, total: 4.62 ms\nWall time: 3.44 ms\n"
     ]
    }
   ],
   "source": [
    "%%time\n",
    "local_translation_y = deepcopy(scene)\n",
    "local_translation_y['gt_boxes'][0], local_translation_y['points'][:,1:] = local_translation_along_y(local_translation_y['gt_boxes'][0], local_translation_y['points'][:, 1:], [10, 15])"
   ]
  },
  {
   "cell_type": "code",
   "execution_count": 42,
   "metadata": {},
   "outputs": [
    {
     "output_type": "display_data",
     "data": {
      "text/plain": "Image(value=b'\\x89PNG\\r\\n\\x1a\\n\\x00\\x00\\x00\\rIHDR\\x00\\x00\\x02X\\x00\\x00\\x02X\\x08\\x02\\x00\\x00\\x001\\x04\\x0f\\x8b\\x…",
      "application/vnd.jupyter.widget-view+json": {
       "version_major": 2,
       "version_minor": 0,
       "model_id": "de6a53d3f7ce411e900ef96323f0cf48"
      }
     },
     "metadata": {}
    }
   ],
   "source": [
    "show_pc(local_translation_y)\n",
    "mlab.savefig('figs/translation_local_y.png')\n",
    "mlab.savefig('3d_renders/translation_local_y.obj')\n",
    "mlab.test_plot3d()"
   ]
  },
  {
   "cell_type": "code",
   "execution_count": 43,
   "metadata": {},
   "outputs": [
    {
     "output_type": "stream",
     "name": "stdout",
     "text": [
      "CPU times: user 5.21 ms, sys: 0 ns, total: 5.21 ms\nWall time: 4.04 ms\n"
     ]
    }
   ],
   "source": [
    "%%time\n",
    "local_translation_z = deepcopy(scene)\n",
    "local_translation_z['gt_boxes'][0], local_translation_z['points'][:,1:] = local_translation_along_z(local_translation_z['gt_boxes'][0], local_translation_z['points'][:, 1:], [10, 15])"
   ]
  },
  {
   "cell_type": "code",
   "execution_count": 44,
   "metadata": {},
   "outputs": [
    {
     "output_type": "display_data",
     "data": {
      "text/plain": "Image(value=b'\\x89PNG\\r\\n\\x1a\\n\\x00\\x00\\x00\\rIHDR\\x00\\x00\\x02X\\x00\\x00\\x02X\\x08\\x02\\x00\\x00\\x001\\x04\\x0f\\x8b\\x…",
      "application/vnd.jupyter.widget-view+json": {
       "version_major": 2,
       "version_minor": 0,
       "model_id": "35ccc0f332434fafb311a091c91450ce"
      }
     },
     "metadata": {}
    }
   ],
   "source": [
    "show_pc(local_translation_z)\n",
    "mlab.savefig('figs/translation_local_z.png')\n",
    "mlab.savefig('3d_renders/translation_local_z.obj')\n",
    "mlab.test_plot3d()"
   ]
  },
  {
   "source": [
    "### Local scaling"
   ],
   "cell_type": "markdown",
   "metadata": {}
  },
  {
   "cell_type": "code",
   "execution_count": 45,
   "metadata": {},
   "outputs": [],
   "source": [
    "def local_scaling(gt_boxes, points, scale_range):\n",
    "    \"\"\"\n",
    "    Args:\n",
    "        gt_boxes: (N, 7), [x, y, z, dx, dy, dz, heading]\n",
    "        points: (M, 3 + C),\n",
    "        scale_range: [min, max]\n",
    "    Returns:\n",
    "    \"\"\"\n",
    "    if scale_range[1] - scale_range[0] < 1e-3:\n",
    "        return gt_boxes, points\n",
    "\n",
    "    for idx, box in enumerate(gt_boxes):\n",
    "        noise_scale = np.random.uniform(scale_range[0], scale_range[1])\n",
    "        points_in_box, mask = get_points_in_box(points, box)\n",
    "        \n",
    "        # tranlation to axis center\n",
    "        points[mask, 0] -= box[0]\n",
    "        points[mask, 1] -= box[1]\n",
    "        points[mask, 2] -= box[2]\n",
    "\n",
    "        # apply scaling\n",
    "        points[mask, :3] *= noise_scale\n",
    "\n",
    "        # tranlation back to original position\n",
    "        points[mask, 0] += box[0]\n",
    "        points[mask, 1] += box[1]\n",
    "        points[mask, 2] += box[2]\n",
    "\n",
    "        gt_boxes[idx, 3:6] *= noise_scale\n",
    "    return gt_boxes, points"
   ]
  },
  {
   "cell_type": "code",
   "execution_count": 46,
   "metadata": {},
   "outputs": [
    {
     "output_type": "stream",
     "name": "stdout",
     "text": [
      "CPU times: user 8.89 ms, sys: 196 µs, total: 9.09 ms\nWall time: 7.88 ms\n"
     ]
    }
   ],
   "source": [
    "%%time\n",
    "scaled_local = deepcopy(scene)\n",
    "scaled_local['gt_boxes'][0], scaled_local['points'][:,1:] = local_scaling(scaled_local['gt_boxes'][0], scaled_local['points'][:, 1:], [0.2, 0.5])"
   ]
  },
  {
   "cell_type": "code",
   "execution_count": 47,
   "metadata": {},
   "outputs": [
    {
     "output_type": "display_data",
     "data": {
      "text/plain": "Image(value=b'\\x89PNG\\r\\n\\x1a\\n\\x00\\x00\\x00\\rIHDR\\x00\\x00\\x02X\\x00\\x00\\x02X\\x08\\x02\\x00\\x00\\x001\\x04\\x0f\\x8b\\x…",
      "application/vnd.jupyter.widget-view+json": {
       "version_major": 2,
       "version_minor": 0,
       "model_id": "e5f4d39f7cdb4403ae5c7673e0ec3ecc"
      }
     },
     "metadata": {}
    }
   ],
   "source": [
    "show_pc(scaled_local)\n",
    "mlab.savefig('figs/scaled_local.png')\n",
    "mlab.savefig('3d_renders/scaled_local.obj')\n",
    "mlab.test_plot3d()"
   ]
  },
  {
   "source": [
    "### Local rotation"
   ],
   "cell_type": "markdown",
   "metadata": {}
  },
  {
   "cell_type": "code",
   "execution_count": 48,
   "metadata": {},
   "outputs": [],
   "source": [
    "def local_rotation(gt_boxes, points, rot_range):\n",
    "    \"\"\"\n",
    "    Args:\n",
    "        gt_boxes: (N, 7), [x, y, z, dx, dy, dz, heading, [vx], [vy]]\n",
    "        points: (M, 3 + C),\n",
    "        rot_range: [min, max]\n",
    "    Returns:\n",
    "    \"\"\"\n",
    "    \n",
    "    for idx, box in enumerate(gt_boxes):\n",
    "        noise_rotation = np.random.uniform(rot_range[0], rot_range[1])\n",
    "        points_in_box, mask = get_points_in_box(points, box)\n",
    "        \n",
    "        centroid_x = box[0]\n",
    "        centroid_y = box[1]\n",
    "        centroid_z = box[2]\n",
    "\n",
    "        # tranlation to axis center\n",
    "        points[mask, 0] -= centroid_x\n",
    "        points[mask, 1] -= centroid_y\n",
    "        points[mask, 2] -= centroid_z\n",
    "        box[0] -= centroid_x\n",
    "        box[1] -= centroid_y\n",
    "        box[2] -= centroid_z\n",
    "\n",
    "        # apply rotation\n",
    "        points[mask, :] = common_utils.rotate_points_along_z(points[np.newaxis, mask, :], np.array([noise_rotation]))[0]\n",
    "        box[0:3] = common_utils.rotate_points_along_z(box[np.newaxis, np.newaxis, 0:3], np.array([noise_rotation]))[0][0]\n",
    "\n",
    "        # tranlation back to original position\n",
    "        points[mask, 0] += centroid_x\n",
    "        points[mask, 1] += centroid_y\n",
    "        points[mask, 2] += centroid_z\n",
    "        box[0] += centroid_x\n",
    "        box[1] += centroid_y\n",
    "        box[2] += centroid_z\n",
    "\n",
    "        gt_boxes[idx, 6] += noise_rotation\n",
    "        if gt_boxes.shape[1] > 8:\n",
    "            gt_boxes[idx, 7:9] = common_utils.rotate_points_along_z(\n",
    "                np.hstack((gt_boxes[idx, 7:9], np.zeros((gt_boxes.shape[0], 1))))[np.newaxis, :, :],\n",
    "                np.array([noise_rotation])\n",
    "            )[0][:, 0:2]\n",
    "\n",
    "    return gt_boxes, points"
   ]
  },
  {
   "cell_type": "code",
   "execution_count": 49,
   "metadata": {},
   "outputs": [
    {
     "output_type": "stream",
     "name": "stdout",
     "text": [
      "CPU times: user 10.4 ms, sys: 513 µs, total: 10.9 ms\nWall time: 9.42 ms\n"
     ]
    }
   ],
   "source": [
    "%%time\n",
    "rotated_local = deepcopy(scene)\n",
    "rotated_local['gt_boxes'][0], rotated_local['points'][:,1:] = local_rotation(rotated_local['gt_boxes'][0],rotated_local['points'][:, 1:], [-0.78539815, 0.78539816])"
   ]
  },
  {
   "cell_type": "code",
   "execution_count": 50,
   "metadata": {
    "tags": []
   },
   "outputs": [
    {
     "output_type": "display_data",
     "data": {
      "text/plain": "Image(value=b'\\x89PNG\\r\\n\\x1a\\n\\x00\\x00\\x00\\rIHDR\\x00\\x00\\x02X\\x00\\x00\\x02X\\x08\\x02\\x00\\x00\\x001\\x04\\x0f\\x8b\\x…",
      "application/vnd.jupyter.widget-view+json": {
       "version_major": 2,
       "version_minor": 0,
       "model_id": "3b0e1d43ee7140fb92586a6f4945d3b1"
      }
     },
     "metadata": {}
    }
   ],
   "source": [
    "show_pc(rotated_local)\n",
    "mlab.savefig('figs/rotated_local.png')\n",
    "mlab.savefig('3d_renders/rotated_local.obj')\n",
    "mlab.test_plot3d()"
   ]
  },
  {
   "source": [
    "### Local frustum dropout"
   ],
   "cell_type": "markdown",
   "metadata": {}
  },
  {
   "cell_type": "code",
   "execution_count": 51,
   "metadata": {},
   "outputs": [],
   "source": [
    "def local_frustum_dropout_top(gt_boxes, points, intensity_range):\n",
    "    \"\"\"\n",
    "    Args:\n",
    "        gt_boxes: (N, 7), [x, y, z, dx, dy, dz, heading, [vx], [vy]],\n",
    "        points: (M, 3 + C),\n",
    "        intensity: [min, max]\n",
    "    Returns:\n",
    "    \"\"\"\n",
    "    for idx, box in enumerate(gt_boxes):\n",
    "        x, y, z, dx, dy, dz = box[0], box[1], box[2], box[3], box[4], box[5]\n",
    "\n",
    "        intensity = np.random.uniform(intensity_range[0], intensity_range[1])\n",
    "        points_in_box = get_points_in_box(points, box)\n",
    "        threshold = (z + dz/2) - intensity * dz\n",
    "\n",
    "        points = points[np.logical_not( \\\n",
    "        np.logical_and(points[:,1] <= y + dy/2, \\\n",
    "        np.logical_and(points[:,1] >= y - dy/2, \\\n",
    "            np.logical_and(points[:,0] <= x + dx/2, \\\n",
    "                np.logical_and(points[:,0] >= x - dx/2, \\\n",
    "                    np.logical_and(points[:,2] <= z + dz/2, points[:,2] >= threshold))))))]\n",
    "\n",
    "    return gt_boxes, points\n",
    "\n",
    "def local_frustum_dropout_bottom(gt_boxes, points, intensity_range):\n",
    "    \"\"\"\n",
    "    Args:\n",
    "        gt_boxes: (N, 7), [x, y, z, dx, dy, dz, heading, [vx], [vy]],\n",
    "        points: (M, 3 + C),\n",
    "        intensity: [min, max]\n",
    "    Returns:\n",
    "    \"\"\"\n",
    "    for idx, box in enumerate(gt_boxes):\n",
    "        x, y, z, dx, dy, dz = box[0], box[1], box[2], box[3], box[4], box[5]\n",
    "\n",
    "        intensity = np.random.uniform(intensity_range[0], intensity_range[1])\n",
    "        points_in_box = get_points_in_box(points, box)\n",
    "        threshold = (z - dz/2) + intensity * dz\n",
    "        points = points[np.logical_not( \\\n",
    "            np.logical_and(points[:,1] <= y + dy/2, \\\n",
    "            np.logical_and(points[:,1] >= y - dy/2, \\\n",
    "                np.logical_and(points[:,0] <= x + dx/2, \\\n",
    "                    np.logical_and(points[:,0] >= x - dx/2, \\\n",
    "                        np.logical_and(points[:,2] <= threshold, points[:,2] >= z - dz/2))))))]\n",
    "\n",
    "    return gt_boxes, points\n",
    "\n",
    "def local_frustum_dropout_left(gt_boxes, points, intensity_range):\n",
    "    \"\"\"\n",
    "    Args:\n",
    "        gt_boxes: (N, 7), [x, y, z, dx, dy, dz, heading, [vx], [vy]],\n",
    "        points: (M, 3 + C),\n",
    "        intensity: [min, max]\n",
    "    Returns:\n",
    "    \"\"\"\n",
    "    for idx, box in enumerate(gt_boxes):\n",
    "        x, y, z, dx, dy, dz = box[0], box[1], box[2], box[3], box[4], box[5]\n",
    "\n",
    "        intensity = np.random.uniform(intensity_range[0], intensity_range[1])\n",
    "        points_in_box = get_points_in_box(points, box)\n",
    "        threshold = (y + dy/2) - intensity * dy\n",
    "\n",
    "        points = points[np.logical_not( \\\n",
    "            np.logical_and(points[:,1] <= y + dy/2, \\\n",
    "            np.logical_and(points[:,1] >= threshold, \\\n",
    "                np.logical_and(points[:,0] <= x + dx/2, \\\n",
    "                    np.logical_and(points[:,0] >= x - dx/2, \\\n",
    "                        np.logical_and(points[:,2] <= z + dz/2, points[:,2] >= z - dz/2))))))]\n",
    "\n",
    "    return gt_boxes, points\n",
    "\n",
    "def local_frustum_dropout_right(gt_boxes, points, intensity_range):\n",
    "    \"\"\"\n",
    "    Args:\n",
    "        gt_boxes: (N, 7), [x, y, z, dx, dy, dz, heading, [vx], [vy]],\n",
    "        points: (M, 3 + C),\n",
    "        intensity: [min, max]\n",
    "    Returns:\n",
    "    \"\"\"\n",
    "    for idx, box in enumerate(gt_boxes):\n",
    "        x, y, z, dx, dy, dz = box[0], box[1], box[2], box[3], box[4], box[5]\n",
    "\n",
    "        intensity = np.random.uniform(intensity_range[0], intensity_range[1])\n",
    "        points_in_box = get_points_in_box(points, box)\n",
    "        threshold = (y - dy/2) + intensity * dy\n",
    "\n",
    "        points = points[np.logical_not( \\\n",
    "            np.logical_and(points[:,1] <= threshold, \\\n",
    "            np.logical_and(points[:,1] >= y - dy/2, \\\n",
    "                np.logical_and(points[:,0] <= x + dx/2, \\\n",
    "                    np.logical_and(points[:,0] >= x - dx/2, \\\n",
    "                        np.logical_and(points[:,2] <= z + dz/2, points[:,2] >= z - dz/2))))))]\n",
    "\n",
    "    return gt_boxes, points"
   ]
  },
  {
   "cell_type": "code",
   "execution_count": 52,
   "metadata": {},
   "outputs": [
    {
     "output_type": "stream",
     "name": "stdout",
     "text": [
      "CPU times: user 7.38 ms, sys: 699 µs, total: 8.08 ms\nWall time: 6.87 ms\n"
     ]
    }
   ],
   "source": [
    "%%time\n",
    "frustum_dropout = deepcopy(scene)\n",
    "frustum_dropout['gt_boxes'], frustum_dropout['points'] = local_frustum_dropout_top(frustum_dropout['gt_boxes'][0], frustum_dropout['points'][:, 1:], [0.5, 0.5])"
   ]
  },
  {
   "cell_type": "code",
   "execution_count": 53,
   "metadata": {},
   "outputs": [
    {
     "output_type": "display_data",
     "data": {
      "text/plain": "Image(value=b'\\x89PNG\\r\\n\\x1a\\n\\x00\\x00\\x00\\rIHDR\\x00\\x00\\x02X\\x00\\x00\\x02X\\x08\\x02\\x00\\x00\\x001\\x04\\x0f\\x8b\\x…",
      "application/vnd.jupyter.widget-view+json": {
       "version_major": 2,
       "version_minor": 0,
       "model_id": "84c7fafc4f6b45aeac1784be049fe764"
      }
     },
     "metadata": {}
    }
   ],
   "source": [
    "V.draw_scenes(\n",
    "        points=frustum_dropout['points'], gt_boxes=frustum_dropout['gt_boxes']\n",
    "    )\n",
    "\n",
    "mlab.savefig('figs/local_frustum_dropout_top.png')\n",
    "mlab.savefig('3d_renders/local_frustum_dropout_top.obj')\n",
    "mlab.test_plot3d()"
   ]
  },
  {
   "cell_type": "code",
   "execution_count": 54,
   "metadata": {},
   "outputs": [
    {
     "output_type": "stream",
     "name": "stdout",
     "text": [
      "CPU times: user 4.54 ms, sys: 2.8 ms, total: 7.34 ms\nWall time: 6.2 ms\n"
     ]
    }
   ],
   "source": [
    "%%time\n",
    "frustum_dropout = deepcopy(scene)\n",
    "frustum_dropout['gt_boxes'], frustum_dropout['points'] = local_frustum_dropout_bottom(frustum_dropout['gt_boxes'][0], frustum_dropout['points'][:, 1:], [0.3, 0.4])"
   ]
  },
  {
   "cell_type": "code",
   "execution_count": 55,
   "metadata": {},
   "outputs": [
    {
     "output_type": "display_data",
     "data": {
      "text/plain": "Image(value=b'\\x89PNG\\r\\n\\x1a\\n\\x00\\x00\\x00\\rIHDR\\x00\\x00\\x02X\\x00\\x00\\x02X\\x08\\x02\\x00\\x00\\x001\\x04\\x0f\\x8b\\x…",
      "application/vnd.jupyter.widget-view+json": {
       "version_major": 2,
       "version_minor": 0,
       "model_id": "f0e63dec5dca443ea329cabc9ed88998"
      }
     },
     "metadata": {}
    }
   ],
   "source": [
    "V.draw_scenes(\n",
    "        points=frustum_dropout['points'], gt_boxes=frustum_dropout['gt_boxes']\n",
    "    )\n",
    "\n",
    "mlab.savefig('figs/local_frustum_dropout_bottom.png')\n",
    "mlab.savefig('3d_renders/local_frustum_dropout_bottom.obj')\n",
    "mlab.test_plot3d()"
   ]
  },
  {
   "cell_type": "code",
   "execution_count": 56,
   "metadata": {},
   "outputs": [
    {
     "output_type": "stream",
     "name": "stdout",
     "text": [
      "CPU times: user 9.18 ms, sys: 224 µs, total: 9.4 ms\nWall time: 8.09 ms\n"
     ]
    }
   ],
   "source": [
    "%%time\n",
    "frustum_dropout = deepcopy(scene)\n",
    "frustum_dropout['gt_boxes'], frustum_dropout['points'] = local_frustum_dropout_left(frustum_dropout['gt_boxes'][0], frustum_dropout['points'][:, 1:], [0.3, 0.4])"
   ]
  },
  {
   "cell_type": "code",
   "execution_count": 57,
   "metadata": {},
   "outputs": [
    {
     "output_type": "display_data",
     "data": {
      "text/plain": "Image(value=b'\\x89PNG\\r\\n\\x1a\\n\\x00\\x00\\x00\\rIHDR\\x00\\x00\\x02X\\x00\\x00\\x02X\\x08\\x02\\x00\\x00\\x001\\x04\\x0f\\x8b\\x…",
      "application/vnd.jupyter.widget-view+json": {
       "version_major": 2,
       "version_minor": 0,
       "model_id": "3b52d05d5a43477a81b7a753bf2bfcf5"
      }
     },
     "metadata": {}
    }
   ],
   "source": [
    "V.draw_scenes(\n",
    "        points=frustum_dropout['points'], gt_boxes=frustum_dropout['gt_boxes']\n",
    "    )\n",
    "\n",
    "mlab.savefig('figs/local_frustum_dropout_left.png')\n",
    "mlab.savefig('3d_renders/local_frustum_dropout_left.obj')\n",
    "mlab.test_plot3d()"
   ]
  },
  {
   "cell_type": "code",
   "execution_count": 58,
   "metadata": {},
   "outputs": [
    {
     "output_type": "stream",
     "name": "stdout",
     "text": [
      "CPU times: user 3.53 ms, sys: 7.18 ms, total: 10.7 ms\nWall time: 9.18 ms\n"
     ]
    }
   ],
   "source": [
    "%%time\n",
    "frustum_dropout = deepcopy(scene)\n",
    "frustum_dropout['gt_boxes'], frustum_dropout['points'] = local_frustum_dropout_right(frustum_dropout['gt_boxes'][0], frustum_dropout['points'][:, 1:], [0.3, 0.4])"
   ]
  },
  {
   "cell_type": "code",
   "execution_count": 59,
   "metadata": {},
   "outputs": [
    {
     "output_type": "display_data",
     "data": {
      "text/plain": "Image(value=b'\\x89PNG\\r\\n\\x1a\\n\\x00\\x00\\x00\\rIHDR\\x00\\x00\\x02X\\x00\\x00\\x02X\\x08\\x02\\x00\\x00\\x001\\x04\\x0f\\x8b\\x…",
      "application/vnd.jupyter.widget-view+json": {
       "version_major": 2,
       "version_minor": 0,
       "model_id": "c1fc2fd111e14b25b4d2d9578f9251ae"
      }
     },
     "metadata": {}
    }
   ],
   "source": [
    "V.draw_scenes(\n",
    "        points=frustum_dropout['points'], gt_boxes=frustum_dropout['gt_boxes']\n",
    "    )\n",
    "\n",
    "mlab.savefig('figs/local_frustum_dropout_right.png')\n",
    "mlab.savefig('3d_renders/local_frustum_dropout_right.obj')\n",
    "mlab.test_plot3d()"
   ]
  },
  {
   "cell_type": "code",
   "execution_count": null,
   "metadata": {},
   "outputs": [],
   "source": []
  }
 ]
}