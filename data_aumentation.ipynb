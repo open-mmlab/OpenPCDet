{
 "metadata": {
  "language_info": {
   "name": "python",
   "version": "3.8.10",
   "mimetype": "text/x-python",
   "codemirror_mode": {
    "name": "ipython",
    "version": 3
   },
   "pygments_lexer": "ipython3",
   "nbconvert_exporter": "python",
   "file_extension": ".py"
  },
  "orig_nbformat": 2,
  "kernelspec": {
   "name": "python3",
   "display_name": "Python 3.8.10 64-bit"
  },
  "metadata": {
   "interpreter": {
    "hash": "e7370f93d1d0cde622a1f8e1c04877d8463912d04d973331ad4851f04de6915a"
   }
  },
  "interpreter": {
   "hash": "e7370f93d1d0cde622a1f8e1c04877d8463912d04d973331ad4851f04de6915a"
  }
 },
 "nbformat": 4,
 "nbformat_minor": 2,
 "cells": [
  {
   "cell_type": "markdown",
   "source": [
    "# KITTI Dataset augmentation visualization"
   ],
   "metadata": {}
  },
  {
   "cell_type": "markdown",
   "source": [
    "## Dataset structure\n",
    "\n",
    "```\n",
    "📦gta\n",
    "┗ 📂training\n",
    "  ┣ 📂calib\n",
    "  ┃ ┣ 📜<file_id>.txt\n",
    "  ┃ ┗ 📜 ...\n",
    "  ┣ 📂image_2\n",
    "  ┃ ┣ 📜<file_id>.png\n",
    "  ┃ ┗ 📜 ...\n",
    "  ┣ 📂label_2\n",
    "  ┃ ┣ 📜<file_id>.txt\n",
    "  ┃ ┗ 📜 ...\n",
    "  ┗ 📂velodyne\n",
    "    ┣ 📜<file_id>.bin\n",
    "    ┗ 📜 ...\n",
    "```"
   ],
   "metadata": {}
  },
  {
   "cell_type": "code",
   "execution_count": 1,
   "source": [
    "import os\n",
    "import mayavi.mlab as mlab\n",
    "import numpy as np\n",
    "from copy import deepcopy\n",
    "import pickle\n",
    "import logging\n",
    "\n",
    "import pcdet.datasets.augmentor\n",
    "\n",
    "from pcdet.config import cfg, cfg_from_yaml_file\n",
    "from pcdet.datasets import build_dataloader\n",
    "from pcdet.utils import common_utils\n",
    "from pcdet.models import build_network\n",
    "from tools.visual_utils import visualize_utils as V\n",
    "\n",
    "mlab.init_notebook()"
   ],
   "outputs": [
    {
     "output_type": "stream",
     "name": "stdout",
     "text": [
      "Notebook initialized with ipy backend.\n"
     ]
    }
   ],
   "metadata": {}
  },
  {
   "cell_type": "code",
   "execution_count": 2,
   "source": [
    "# generate pickles from the kitti data\n",
    "# os.system(\"python -m pcdet.datasets.kitti.kitti_dataset create_kitti_infos tools/cfgs/dataset_configs/kitti_dataset.yaml\")"
   ],
   "outputs": [],
   "metadata": {}
  },
  {
   "cell_type": "markdown",
   "source": [
    "## Visualizing the LiDAR point cloud with labels"
   ],
   "metadata": {}
  },
  {
   "cell_type": "code",
   "execution_count": 3,
   "source": [
    "logger = common_utils.create_logger(log_level=logging.INFO)"
   ],
   "outputs": [],
   "metadata": {}
  },
  {
   "cell_type": "code",
   "execution_count": 61,
   "source": [
    "cfg_from_yaml_file('tools/cfgs/dataset_configs/kitti_dataset.yaml', cfg)\n",
    "# cfg_from_yaml_file('tools/cfgs/kitti_models/pointpillar_augs.yaml', cfg)\n",
    "\n",
    "cfg.DATA_PATH = 'data/kitti'\n",
    "\n",
    "train_set, train_loader, train_sampler = build_dataloader(\n",
    "    dataset_cfg=cfg,\n",
    "    class_names=['Car', 'Pedestrian', 'Cyclist'],\n",
    "    batch_size=1,\n",
    "    dist=False,\n",
    "    workers=4,\n",
    "    logger=logger,\n",
    "    training=True,\n",
    "    merge_all_iters_to_one_epoch=False,\n",
    "    total_epochs=0\n",
    ")\n",
    "\n",
    "logger.info(f'Total number of samples: \\t{len(train_set)}')\n",
    "\n",
    "data_dict_list = []\n",
    "logger.info('Loading samples')\n",
    "for idx, data_dict in enumerate(train_set):\n",
    "    logger.info(f'Loaded sample index: \\t{idx + 1}')\n",
    "    data_dict = train_set.collate_batch([data_dict])\n",
    "    data_dict_list.append(data_dict)\n",
    "    #if idx > 8: break\n"
   ],
   "outputs": [
    {
     "output_type": "stream",
     "name": "stderr",
     "text": [
      "2021-07-28 18:33:01,021   INFO  Database filter by min points Car: 189 => 177\n",
      "2021-07-28 18:33:01,021   INFO  Database filter by min points Pedestrian: 25 => 25\n",
      "2021-07-28 18:33:01,022   INFO  Database filter by min points Cyclist: 10 => 10\n",
      "2021-07-28 18:33:01,023   INFO  Database filter by difficulty Car: 177 => 137\n",
      "2021-07-28 18:33:01,023   INFO  Database filter by difficulty Pedestrian: 25 => 24\n",
      "2021-07-28 18:33:01,024   INFO  Database filter by difficulty Cyclist: 10 => 9\n",
      "2021-07-28 18:33:01,080   INFO  Loading KITTI dataset\n",
      "2021-07-28 18:33:01,089   INFO  Total samples for KITTI dataset: 58\n",
      "2021-07-28 18:33:01,091   INFO  Total number of samples: \t69\n",
      "2021-07-28 18:33:01,092   INFO  Loading samples\n",
      "2021-07-28 18:33:01,110   INFO  Loaded sample index: \t1\n",
      "2021-07-28 18:33:01,135   INFO  Loaded sample index: \t2\n",
      "2021-07-28 18:33:01,167   INFO  Loaded sample index: \t3\n",
      "2021-07-28 18:33:01,210   INFO  Loaded sample index: \t4\n",
      "2021-07-28 18:33:01,246   INFO  Loaded sample index: \t5\n",
      "2021-07-28 18:33:01,277   INFO  Loaded sample index: \t6\n",
      "2021-07-28 18:33:01,302   INFO  Loaded sample index: \t7\n",
      "2021-07-28 18:33:01,323   INFO  Loaded sample index: \t8\n",
      "2021-07-28 18:33:01,346   INFO  Loaded sample index: \t9\n",
      "2021-07-28 18:33:01,366   INFO  Loaded sample index: \t10\n",
      "2021-07-28 18:33:01,395   INFO  Loaded sample index: \t11\n",
      "2021-07-28 18:33:01,417   INFO  Loaded sample index: \t12\n",
      "2021-07-28 18:33:01,447   INFO  Loaded sample index: \t13\n",
      "2021-07-28 18:33:01,480   INFO  Loaded sample index: \t14\n",
      "2021-07-28 18:33:01,515   INFO  Loaded sample index: \t15\n",
      "2021-07-28 18:33:01,551   INFO  Loaded sample index: \t16\n",
      "2021-07-28 18:33:01,579   INFO  Loaded sample index: \t17\n",
      "2021-07-28 18:33:01,628   INFO  Loaded sample index: \t18\n",
      "2021-07-28 18:33:01,678   INFO  Loaded sample index: \t19\n",
      "2021-07-28 18:33:01,716   INFO  Loaded sample index: \t20\n",
      "2021-07-28 18:33:01,744   INFO  Loaded sample index: \t21\n",
      "2021-07-28 18:33:01,777   INFO  Loaded sample index: \t22\n",
      "2021-07-28 18:33:01,826   INFO  Loaded sample index: \t23\n",
      "2021-07-28 18:33:01,879   INFO  Loaded sample index: \t24\n",
      "2021-07-28 18:33:01,910   INFO  Loaded sample index: \t25\n",
      "2021-07-28 18:33:01,945   INFO  Loaded sample index: \t26\n",
      "2021-07-28 18:33:01,981   INFO  Loaded sample index: \t27\n",
      "2021-07-28 18:33:02,000   INFO  Loaded sample index: \t28\n",
      "2021-07-28 18:33:02,031   INFO  Loaded sample index: \t29\n",
      "2021-07-28 18:33:02,059   INFO  Loaded sample index: \t30\n",
      "2021-07-28 18:33:02,102   INFO  Loaded sample index: \t31\n",
      "2021-07-28 18:33:02,157   INFO  Loaded sample index: \t32\n",
      "2021-07-28 18:33:02,181   INFO  Loaded sample index: \t33\n",
      "2021-07-28 18:33:02,221   INFO  Loaded sample index: \t34\n",
      "2021-07-28 18:33:02,263   INFO  Loaded sample index: \t35\n",
      "2021-07-28 18:33:02,309   INFO  Loaded sample index: \t36\n",
      "2021-07-28 18:33:02,352   INFO  Loaded sample index: \t37\n",
      "2021-07-28 18:33:02,373   INFO  Loaded sample index: \t38\n",
      "2021-07-28 18:33:02,416   INFO  Loaded sample index: \t39\n",
      "2021-07-28 18:33:02,460   INFO  Loaded sample index: \t40\n",
      "2021-07-28 18:33:02,525   INFO  Loaded sample index: \t41\n",
      "2021-07-28 18:33:02,579   INFO  Loaded sample index: \t42\n",
      "2021-07-28 18:33:02,644   INFO  Loaded sample index: \t43\n",
      "2021-07-28 18:33:02,716   INFO  Loaded sample index: \t44\n",
      "2021-07-28 18:33:02,754   INFO  Loaded sample index: \t45\n",
      "2021-07-28 18:33:02,788   INFO  Loaded sample index: \t46\n",
      "2021-07-28 18:33:02,812   INFO  Loaded sample index: \t47\n",
      "2021-07-28 18:33:02,833   INFO  Loaded sample index: \t48\n",
      "2021-07-28 18:33:02,860   INFO  Loaded sample index: \t49\n",
      "2021-07-28 18:33:02,879   INFO  Loaded sample index: \t50\n",
      "2021-07-28 18:33:02,925   INFO  Loaded sample index: \t51\n",
      "2021-07-28 18:33:02,950   INFO  Loaded sample index: \t52\n",
      "2021-07-28 18:33:02,978   INFO  Loaded sample index: \t53\n",
      "2021-07-28 18:33:03,009   INFO  Loaded sample index: \t54\n",
      "2021-07-28 18:33:03,045   INFO  Loaded sample index: \t55\n",
      "2021-07-28 18:33:03,092   INFO  Loaded sample index: \t56\n",
      "2021-07-28 18:33:03,116   INFO  Loaded sample index: \t57\n",
      "2021-07-28 18:33:03,162   INFO  Loaded sample index: \t58\n",
      "2021-07-28 18:33:03,303   INFO  Loaded sample index: \t59\n",
      "2021-07-28 18:33:03,440   INFO  Loaded sample index: \t60\n",
      "2021-07-28 18:33:03,590   INFO  Loaded sample index: \t61\n",
      "2021-07-28 18:33:03,679   INFO  Loaded sample index: \t62\n",
      "2021-07-28 18:33:03,797   INFO  Loaded sample index: \t63\n",
      "2021-07-28 18:33:03,857   INFO  Loaded sample index: \t64\n",
      "2021-07-28 18:33:03,900   INFO  Loaded sample index: \t65\n",
      "2021-07-28 18:33:03,970   INFO  Loaded sample index: \t66\n",
      "2021-07-28 18:33:04,087   INFO  Loaded sample index: \t67\n",
      "2021-07-28 18:33:04,139   INFO  Loaded sample index: \t68\n",
      "2021-07-28 18:33:04,192   INFO  Loaded sample index: \t69\n"
     ]
    }
   ],
   "metadata": {
    "tags": []
   }
  },
  {
   "cell_type": "code",
   "execution_count": 6,
   "source": [
    "def show_pc(data_dict):\n",
    "    currfig = mlab.figure(size=(1280,720))\n",
    "\n",
    "    V.draw_scenes(\n",
    "        points=data_dict['points'][:, 1:], gt_boxes=data_dict['gt_boxes'][0]\n",
    "    )\n",
    "\n",
    "    cam = currfig.scene.camera\n",
    "    cam.zoom(2)\n",
    "    return currfig\n"
   ],
   "outputs": [],
   "metadata": {}
  },
  {
   "cell_type": "code",
   "execution_count": 60,
   "source": [
    "currfig = show_pc(data_dict_list[2])\n",
    "mlab.savefig('3d_renders/original.obj')\n",
    "mlab.savefig('figs/original.png', size=(1280,720))\n",
    "currfig"
   ],
   "outputs": [
    {
     "output_type": "display_data",
     "data": {
      "text/plain": [
       "Image(value=b'\\x89PNG\\r\\n\\x1a\\n\\x00\\x00\\x00\\rIHDR\\x00\\x00\\x02X\\x00\\x00\\x02X\\x08\\x02\\x00\\x00\\x001\\x04\\x0f\\x8b\\x…"
      ],
      "application/vnd.jupyter.widget-view+json": {
       "version_major": 2,
       "version_minor": 0,
       "model_id": "bdf421b74b134f719f45e4c811fc393b"
      }
     },
     "metadata": {}
    }
   ],
   "metadata": {}
  },
  {
   "cell_type": "markdown",
   "source": [
    "## Visualizing the original scene\n",
    "![Original Camera Image](data/kitti/training/image_2/000007.png)\n"
   ],
   "metadata": {}
  },
  {
   "cell_type": "code",
   "execution_count": 62,
   "source": [
    "currfig = show_pc(data_dict_list[60])\n",
    "mlab.savefig('3d_renders/aug_pipeline_output.obj')\n",
    "mlab.savefig('figs/aug_pipeline_output.png', size=(1280,720))\n",
    "currfig"
   ],
   "outputs": [
    {
     "output_type": "display_data",
     "data": {
      "text/plain": [
       "Image(value=b'\\x89PNG\\r\\n\\x1a\\n\\x00\\x00\\x00\\rIHDR\\x00\\x00\\x02X\\x00\\x00\\x02X\\x08\\x02\\x00\\x00\\x001\\x04\\x0f\\x8b\\x…"
      ],
      "application/vnd.jupyter.widget-view+json": {
       "version_major": 2,
       "version_minor": 0,
       "model_id": "99bc9ab3b39041768268526ec37eb3fc"
      }
     },
     "metadata": {}
    }
   ],
   "metadata": {}
  },
  {
   "cell_type": "markdown",
   "source": [
    "## Augmentation methods"
   ],
   "metadata": {}
  },
  {
   "cell_type": "markdown",
   "source": [
    "### Random flip"
   ],
   "metadata": {}
  },
  {
   "cell_type": "code",
   "execution_count": 8,
   "source": [
    "def random_flip_along_x(gt_boxes, points):\n",
    "    \"\"\"\n",
    "    Args:\n",
    "        gt_boxes: (N, 7 + C), [x, y, z, dx, dy, dz, heading, [vx], [vy]]\n",
    "        points: (M, 3 + C)\n",
    "    Returns:\n",
    "    \"\"\"\n",
    "    enable = True\n",
    "    if enable:\n",
    "        gt_boxes[:, 1] = -gt_boxes[:, 1]\n",
    "        gt_boxes[:, 6] = -gt_boxes[:, 6]\n",
    "        points[:, 1] = -points[:, 1]\n",
    "\n",
    "        if gt_boxes.shape[1] > 8:\n",
    "            gt_boxes[:, 8] = -gt_boxes[:, 8]\n",
    "\n",
    "    return gt_boxes, points\n",
    "\n",
    "def random_flip_along_y(gt_boxes, points):\n",
    "    \"\"\"\n",
    "    Args:\n",
    "        gt_boxes: (N, 7 + C), [x, y, z, dx, dy, dz, heading, [vx], [vy]]\n",
    "        points: (M, 3 + C)\n",
    "    Returns:\n",
    "    \"\"\"\n",
    "    enable = True\n",
    "    if enable:\n",
    "        gt_boxes[:, 0] = -gt_boxes[:, 0]\n",
    "        gt_boxes[:, 6] = -(gt_boxes[:, 6] + np.pi)\n",
    "        points[:, 0] = -points[:, 0]\n",
    "\n",
    "        if gt_boxes.shape[1] > 7:\n",
    "            gt_boxes[:, 7] = -gt_boxes[:, 7]\n",
    "\n",
    "    return gt_boxes, points"
   ],
   "outputs": [],
   "metadata": {}
  },
  {
   "cell_type": "code",
   "execution_count": 9,
   "source": [
    "%%time\n",
    "flipped_y = deepcopy(scene)\n",
    "flipped_y['gt_boxes'][0], flipped_y['points'][:,1:] = random_flip_along_y(flipped_y['gt_boxes'][0], flipped_y['points'][:,1:])"
   ],
   "outputs": [
    {
     "output_type": "stream",
     "name": "stdout",
     "text": [
      "CPU times: user 2.02 ms, sys: 0 ns, total: 2.02 ms\n",
      "Wall time: 977 µs\n"
     ]
    }
   ],
   "metadata": {}
  },
  {
   "cell_type": "code",
   "execution_count": 10,
   "source": [
    "currfig = show_pc(flipped_y)\n",
    "mlab.savefig('figs/flipped_y.png', size=(1280,720))\n",
    "mlab.savefig('3d_renders/flipped_y.obj')\n",
    "currfig"
   ],
   "outputs": [
    {
     "output_type": "display_data",
     "data": {
      "text/plain": [
       "Image(value=b'\\x89PNG\\r\\n\\x1a\\n\\x00\\x00\\x00\\rIHDR\\x00\\x00\\x02X\\x00\\x00\\x02X\\x08\\x02\\x00\\x00\\x001\\x04\\x0f\\x8b\\x…"
      ],
      "application/vnd.jupyter.widget-view+json": {
       "version_major": 2,
       "version_minor": 0,
       "model_id": "23d68025962a4b808fd0e49afdeb0204"
      }
     },
     "metadata": {}
    }
   ],
   "metadata": {}
  },
  {
   "cell_type": "code",
   "execution_count": 11,
   "source": [
    "%%time\n",
    "flipped_x = deepcopy(scene)\n",
    "flipped_x['gt_boxes'][0], flipped_x['points'][:,1:] = random_flip_along_x(flipped_x['gt_boxes'][0], flipped_x['points'][:,1:])"
   ],
   "outputs": [
    {
     "output_type": "stream",
     "name": "stdout",
     "text": [
      "CPU times: user 933 µs, sys: 677 µs, total: 1.61 ms\n",
      "Wall time: 884 µs\n"
     ]
    }
   ],
   "metadata": {}
  },
  {
   "cell_type": "code",
   "execution_count": 12,
   "source": [
    "currfig = show_pc(flipped_x)\n",
    "mlab.savefig('figs/flipped_x.png', size=(1280,720))\n",
    "mlab.savefig('3d_renders/flipped_x.obj')\n",
    "currfig"
   ],
   "outputs": [
    {
     "output_type": "display_data",
     "data": {
      "text/plain": [
       "Image(value=b'\\x89PNG\\r\\n\\x1a\\n\\x00\\x00\\x00\\rIHDR\\x00\\x00\\x02X\\x00\\x00\\x02X\\x08\\x02\\x00\\x00\\x001\\x04\\x0f\\x8b\\x…"
      ],
      "application/vnd.jupyter.widget-view+json": {
       "version_major": 2,
       "version_minor": 0,
       "model_id": "bc5e17448c5049d69cec7e1fca235246"
      }
     },
     "metadata": {}
    }
   ],
   "metadata": {}
  },
  {
   "cell_type": "markdown",
   "source": [
    "### Global rotation"
   ],
   "metadata": {}
  },
  {
   "cell_type": "code",
   "execution_count": 13,
   "source": [
    "def global_rotation(gt_boxes, points, rot_range):\n",
    "    \"\"\"\n",
    "    Args:\n",
    "        gt_boxes: (N, 7 + C), [x, y, z, dx, dy, dz, heading, [vx], [vy]]\n",
    "        points: (M, 3 + C),\n",
    "        rot_range: [min, max]\n",
    "    Returns:\n",
    "    \"\"\"\n",
    "    noise_rotation = np.random.uniform(rot_range[0], rot_range[1])\n",
    "    points = common_utils.rotate_points_along_z(points[np.newaxis, :, :], np.array([noise_rotation]))[0]\n",
    "    gt_boxes[:, 0:3] = common_utils.rotate_points_along_z(gt_boxes[np.newaxis, :, 0:3], np.array([noise_rotation]))[0]\n",
    "    gt_boxes[:, 6] += noise_rotation\n",
    "    if gt_boxes.shape[1] > 8:\n",
    "        gt_boxes[:, 7:9] = common_utils.rotate_points_along_z(\n",
    "            np.hstack((gt_boxes[:, 7:9], np.zeros((gt_boxes.shape[0], 1))))[np.newaxis, :, :],\n",
    "            np.array([noise_rotation])\n",
    "        )[0][:, 0:2]\n",
    "\n",
    "    return gt_boxes, points"
   ],
   "outputs": [],
   "metadata": {}
  },
  {
   "cell_type": "code",
   "execution_count": 14,
   "source": [
    "%%time\n",
    "rotated = deepcopy(scene)\n",
    "rotated['gt_boxes'][0], rotated['points'][:,1:] = global_rotation(rotated['gt_boxes'][0], rotated['points'][:,1:], [-0.78539816, 0.78539816])"
   ],
   "outputs": [
    {
     "output_type": "stream",
     "name": "stdout",
     "text": [
      "CPU times: user 3.17 ms, sys: 0 ns, total: 3.17 ms\n",
      "Wall time: 2.27 ms\n"
     ]
    }
   ],
   "metadata": {}
  },
  {
   "cell_type": "code",
   "execution_count": 15,
   "source": [
    "currfig = show_pc(rotated)\n",
    "mlab.savefig('figs/rotated_global.png', size=(1280,720))\n",
    "mlab.savefig('3d_renders/rotated_global.obj')\n",
    "currfig"
   ],
   "outputs": [
    {
     "output_type": "display_data",
     "data": {
      "text/plain": [
       "Image(value=b'\\x89PNG\\r\\n\\x1a\\n\\x00\\x00\\x00\\rIHDR\\x00\\x00\\x02X\\x00\\x00\\x02X\\x08\\x02\\x00\\x00\\x001\\x04\\x0f\\x8b\\x…"
      ],
      "application/vnd.jupyter.widget-view+json": {
       "version_major": 2,
       "version_minor": 0,
       "model_id": "f745bf09cdef4aef8327fbf42cefccb9"
      }
     },
     "metadata": {}
    }
   ],
   "metadata": {}
  },
  {
   "cell_type": "markdown",
   "source": [
    "### Global scaling"
   ],
   "metadata": {}
  },
  {
   "cell_type": "code",
   "execution_count": 16,
   "source": [
    "def global_scaling(gt_boxes, points, scale_range):\n",
    "    \"\"\"\n",
    "    Args:\n",
    "        gt_boxes: (N, 7), [x, y, z, dx, dy, dz, heading]\n",
    "        points: (M, 3 + C),\n",
    "        scale_range: [min, max]\n",
    "    Returns:\n",
    "    \"\"\"\n",
    "    if scale_range[1] - scale_range[0] < 1e-3:\n",
    "        return gt_boxes, points\n",
    "    noise_scale = np.random.uniform(scale_range[0], scale_range[1])\n",
    "    points[:, :3] *= noise_scale\n",
    "    gt_boxes[:, :6] *= noise_scale\n",
    "    return gt_boxes, points"
   ],
   "outputs": [],
   "metadata": {}
  },
  {
   "cell_type": "code",
   "execution_count": 17,
   "source": [
    "%%time\n",
    "scaled = deepcopy(scene)\n",
    "scaled['gt_boxes'][0], scaled['points'][:,1:] = global_scaling(scaled['gt_boxes'][0], scaled['points'][:, 1:], [0.2, 0.5])"
   ],
   "outputs": [
    {
     "output_type": "stream",
     "name": "stdout",
     "text": [
      "CPU times: user 0 ns, sys: 2.4 ms, total: 2.4 ms\n",
      "Wall time: 1.48 ms\n"
     ]
    }
   ],
   "metadata": {}
  },
  {
   "cell_type": "code",
   "execution_count": 18,
   "source": [
    "currfig = show_pc(scaled)\n",
    "mlab.savefig('figs/scaled_global.png', size=(1280,720))\n",
    "mlab.savefig('3d_renders/scaled_global.obj')\n",
    "currfig"
   ],
   "outputs": [
    {
     "output_type": "display_data",
     "data": {
      "text/plain": [
       "Image(value=b'\\x89PNG\\r\\n\\x1a\\n\\x00\\x00\\x00\\rIHDR\\x00\\x00\\x02X\\x00\\x00\\x02X\\x08\\x02\\x00\\x00\\x001\\x04\\x0f\\x8b\\x…"
      ],
      "application/vnd.jupyter.widget-view+json": {
       "version_major": 2,
       "version_minor": 0,
       "model_id": "8205743de60045dfb1e01a0af598c9b2"
      }
     },
     "metadata": {}
    }
   ],
   "metadata": {}
  },
  {
   "cell_type": "markdown",
   "source": [
    "### Global translation"
   ],
   "metadata": {}
  },
  {
   "cell_type": "code",
   "execution_count": 19,
   "source": [
    "def random_translation_along_x(gt_boxes, points, offset_range):\n",
    "    \"\"\"\n",
    "    Args:\n",
    "        gt_boxes: (N, 7), [x, y, z, dx, dy, dz, heading, [vx], [vy]]\n",
    "        points: (M, 3 + C),\n",
    "        offset_range: [min max]]\n",
    "    Returns:\n",
    "    \"\"\"\n",
    "    offset = np.random.uniform(offset_range[0], offset_range[1])\n",
    "\n",
    "    points[:, 0] += offset\n",
    "    gt_boxes[:, 0] += offset\n",
    "\n",
    "    if gt_boxes.shape[1] > 7:\n",
    "        gt_boxes[:, 7] += offset\n",
    "\n",
    "    return gt_boxes, points\n",
    "\n",
    "def random_translation_along_y(gt_boxes, points, offset_range):\n",
    "    \"\"\"\n",
    "    Args:\n",
    "        gt_boxes: (N, 7), [x, y, z, dx, dy, dz, heading, [vx], [vy]]\n",
    "        points: (M, 3 + C),\n",
    "        offset_range: [min max]]\n",
    "    Returns:\n",
    "    \"\"\"\n",
    "    offset = np.random.uniform(offset_range[0], offset_range[1])\n",
    "\n",
    "    points[:, 1] += offset\n",
    "    gt_boxes[:, 1] += offset\n",
    "\n",
    "    if gt_boxes.shape[1] > 8:\n",
    "        gt_boxes[:, 8] += offset\n",
    "\n",
    "    return gt_boxes, points\n",
    "\n",
    "def random_translation_along_z(gt_boxes, points, offset_range):\n",
    "    \"\"\"\n",
    "    Args:\n",
    "        gt_boxes: (N, 7), [x, y, z, dx, dy, dz, heading, [vx], [vy]]\n",
    "        points: (M, 3 + C),\n",
    "        offset_range: [min max]]\n",
    "    Returns:\n",
    "    \"\"\"\n",
    "    offset = np.random.uniform(offset_range[0], offset_range[1])\n",
    "\n",
    "    points[:, 2] += offset\n",
    "    gt_boxes[:, 2] += offset\n",
    "\n",
    "    return gt_boxes, points"
   ],
   "outputs": [],
   "metadata": {}
  },
  {
   "cell_type": "code",
   "execution_count": 20,
   "source": [
    "%%time\n",
    "translation_x = deepcopy(scene)\n",
    "translation_x['gt_boxes'][0], translation_x['points'][:,1:] = random_translation_along_x(translation_x['gt_boxes'][0], translation_x['points'][:, 1:], [15, 20])"
   ],
   "outputs": [
    {
     "output_type": "stream",
     "name": "stdout",
     "text": [
      "CPU times: user 1.31 ms, sys: 828 µs, total: 2.14 ms\n",
      "Wall time: 1.1 ms\n"
     ]
    }
   ],
   "metadata": {}
  },
  {
   "cell_type": "code",
   "execution_count": 21,
   "source": [
    "currfig = show_pc(translation_x)\n",
    "mlab.savefig('figs/translation_global_x.png', size=(1280,720))\n",
    "mlab.savefig('3d_renders/translation_global_x.obj')\n",
    "currfig"
   ],
   "outputs": [
    {
     "output_type": "display_data",
     "data": {
      "text/plain": [
       "Image(value=b'\\x89PNG\\r\\n\\x1a\\n\\x00\\x00\\x00\\rIHDR\\x00\\x00\\x02X\\x00\\x00\\x02X\\x08\\x02\\x00\\x00\\x001\\x04\\x0f\\x8b\\x…"
      ],
      "application/vnd.jupyter.widget-view+json": {
       "version_major": 2,
       "version_minor": 0,
       "model_id": "5ebea63077834508bc66b529b9866dd4"
      }
     },
     "metadata": {}
    }
   ],
   "metadata": {}
  },
  {
   "cell_type": "code",
   "execution_count": 22,
   "source": [
    "%%time\n",
    "translation_y = deepcopy(scene)\n",
    "translation_y['gt_boxes'][0], translation_y['points'][:,1:] = random_translation_along_y(translation_y['gt_boxes'][0], translation_y['points'][:, 1:], [15, 20])"
   ],
   "outputs": [
    {
     "output_type": "stream",
     "name": "stdout",
     "text": [
      "CPU times: user 0 ns, sys: 2.14 ms, total: 2.14 ms\n",
      "Wall time: 1.39 ms\n"
     ]
    }
   ],
   "metadata": {}
  },
  {
   "cell_type": "code",
   "execution_count": 23,
   "source": [
    "currfig = show_pc(translation_y)\n",
    "mlab.savefig('figs/translation_global_y.png', size=(1280,720))\n",
    "mlab.savefig('3d_renders/translation_global_y.obj')\n",
    "currfig"
   ],
   "outputs": [
    {
     "output_type": "display_data",
     "data": {
      "text/plain": [
       "Image(value=b'\\x89PNG\\r\\n\\x1a\\n\\x00\\x00\\x00\\rIHDR\\x00\\x00\\x02X\\x00\\x00\\x02X\\x08\\x02\\x00\\x00\\x001\\x04\\x0f\\x8b\\x…"
      ],
      "application/vnd.jupyter.widget-view+json": {
       "version_major": 2,
       "version_minor": 0,
       "model_id": "7d6935a1da4c4b17900ae7fce2db0cdb"
      }
     },
     "metadata": {}
    }
   ],
   "metadata": {}
  },
  {
   "cell_type": "code",
   "execution_count": 24,
   "source": [
    "%%time\n",
    "translation_z = deepcopy(scene)\n",
    "translation_z['gt_boxes'][0], translation_z['points'][:,1:] = random_translation_along_z(translation_z['gt_boxes'][0], translation_z['points'][:, 1:], [15, 20])"
   ],
   "outputs": [
    {
     "output_type": "stream",
     "name": "stdout",
     "text": [
      "CPU times: user 1.32 ms, sys: 769 µs, total: 2.09 ms\n",
      "Wall time: 1.3 ms\n"
     ]
    }
   ],
   "metadata": {}
  },
  {
   "cell_type": "code",
   "execution_count": 25,
   "source": [
    "currfig = show_pc(translation_z)\n",
    "mlab.savefig('figs/translation_global_z.png', size=(1280,720))\n",
    "mlab.savefig('3d_renders/translation_global_z.obj')\n",
    "currfig"
   ],
   "outputs": [
    {
     "output_type": "display_data",
     "data": {
      "text/plain": [
       "Image(value=b'\\x89PNG\\r\\n\\x1a\\n\\x00\\x00\\x00\\rIHDR\\x00\\x00\\x02X\\x00\\x00\\x02X\\x08\\x02\\x00\\x00\\x001\\x04\\x0f\\x8b\\x…"
      ],
      "application/vnd.jupyter.widget-view+json": {
       "version_major": 2,
       "version_minor": 0,
       "model_id": "04c03b2f0665464cbe6725976589d70c"
      }
     },
     "metadata": {}
    }
   ],
   "metadata": {}
  },
  {
   "cell_type": "markdown",
   "source": [
    "### Global frustum dropout"
   ],
   "metadata": {}
  },
  {
   "cell_type": "code",
   "execution_count": 26,
   "source": [
    "def global_frustum_dropout_top(gt_boxes, points, intensity_range):\n",
    "    \"\"\"\n",
    "    Args:\n",
    "        gt_boxes: (N, 7), [x, y, z, dx, dy, dz, heading, [vx], [vy]],\n",
    "        points: (M, 3 + C),\n",
    "        intensity: [min, max]\n",
    "    Returns:\n",
    "    \"\"\"\n",
    "    intensity = np.random.uniform(intensity_range[0], intensity_range[1])\n",
    "\n",
    "    threshold = np.max(points[:, 2]) - intensity * (np.max(points[:, 2]) - np.min(points[:, 2]))\n",
    "    points = points[points[:,2] < threshold]\n",
    "    gt_boxes = gt_boxes[gt_boxes[:,2] < threshold]\n",
    "\n",
    "    return gt_boxes, points\n",
    "\n",
    "def global_frustum_dropout_bottom(gt_boxes, points, intensity_range):\n",
    "    \"\"\"\n",
    "    Args:\n",
    "        gt_boxes: (N, 7), [x, y, z, dx, dy, dz, heading, [vx], [vy]],\n",
    "        points: (M, 3 + C),\n",
    "        intensity: [min, max]\n",
    "    Returns:\n",
    "    \"\"\"\n",
    "    intensity = np.random.uniform(intensity_range[0], intensity_range[1])\n",
    "\n",
    "    threshold = np.min(points[:, 2]) + intensity * (np.max(points[:, 2]) - np.min(points[:, 2]))\n",
    "    points = points[points[:,2] > threshold]\n",
    "    gt_boxes = gt_boxes[gt_boxes[:,2] > threshold]\n",
    "\n",
    "    return gt_boxes, points\n",
    "\n",
    "def global_frustum_dropout_left(gt_boxes, points, intensity_range):\n",
    "    \"\"\"\n",
    "    Args:\n",
    "        gt_boxes: (N, 7), [x, y, z, dx, dy, dz, heading, [vx], [vy]],\n",
    "        points: (M, 3 + C),\n",
    "        intensity: [min, max]\n",
    "    Returns:\n",
    "    \"\"\"\n",
    "    intensity = np.random.uniform(intensity_range[0], intensity_range[1])\n",
    "\n",
    "    threshold = np.max(points[:, 1]) - intensity * (np.max(points[:, 1]) - np.min(points[:, 1]))\n",
    "    points = points[points[:,1] < threshold]\n",
    "    gt_boxes = gt_boxes[gt_boxes[:,1] < threshold]\n",
    "\n",
    "    return gt_boxes, points\n",
    "\n",
    "def global_frustum_dropout_right(gt_boxes, points, intensity_range):\n",
    "    \"\"\"\n",
    "    Args:\n",
    "        gt_boxes: (N, 7), [x, y, z, dx, dy, dz, heading, [vx], [vy]],\n",
    "        points: (M, 3 + C),\n",
    "        intensity: [min, max]\n",
    "    Returns:\n",
    "    \"\"\"\n",
    "    intensity = np.random.uniform(intensity_range[0], intensity_range[1])\n",
    "\n",
    "    threshold = np.min(points[:, 1]) + intensity * (np.max(points[:, 1]) - np.min(points[:, 1]))\n",
    "    points = points[points[:,1] > threshold]\n",
    "    gt_boxes = gt_boxes[gt_boxes[:,1] > threshold]\n",
    "\n",
    "    return gt_boxes, points"
   ],
   "outputs": [],
   "metadata": {}
  },
  {
   "cell_type": "code",
   "execution_count": 27,
   "source": [
    "%%time\n",
    "frustum_dropout = deepcopy(scene)\n",
    "frustum_dropout['gt_boxes'], frustum_dropout['points'] = global_frustum_dropout_top(frustum_dropout['gt_boxes'][0], frustum_dropout['points'][:, 1:], [0.4, 0.5])"
   ],
   "outputs": [
    {
     "output_type": "stream",
     "name": "stdout",
     "text": [
      "CPU times: user 2.71 ms, sys: 0 ns, total: 2.71 ms\n",
      "Wall time: 1.77 ms\n"
     ]
    }
   ],
   "metadata": {}
  },
  {
   "cell_type": "code",
   "execution_count": 28,
   "source": [
    "V.draw_scenes(\n",
    "        points=frustum_dropout['points'], gt_boxes=frustum_dropout['gt_boxes']\n",
    "    )\n",
    "\n",
    "mlab.savefig('figs/frustum_dropout_top.png')\n",
    "mlab.savefig('3d_renders/frustum_dropout_top.obj')\n",
    "currfig"
   ],
   "outputs": [
    {
     "output_type": "display_data",
     "data": {
      "text/plain": [
       "Image(value=b'\\x89PNG\\r\\n\\x1a\\n\\x00\\x00\\x00\\rIHDR\\x00\\x00\\x02X\\x00\\x00\\x02X\\x08\\x02\\x00\\x00\\x001\\x04\\x0f\\x8b\\x…"
      ],
      "application/vnd.jupyter.widget-view+json": {
       "version_major": 2,
       "version_minor": 0,
       "model_id": "8888a7a6d76a44be912a1d8a9460c78a"
      }
     },
     "metadata": {}
    }
   ],
   "metadata": {}
  },
  {
   "cell_type": "code",
   "execution_count": 29,
   "source": [
    "%%time\n",
    "frustum_dropout = deepcopy(scene)\n",
    "frustum_dropout['gt_boxes'], frustum_dropout['points'] = global_frustum_dropout_bottom(frustum_dropout['gt_boxes'][0], frustum_dropout['points'][:, 1:], [0.4, 0.5])"
   ],
   "outputs": [
    {
     "output_type": "stream",
     "name": "stdout",
     "text": [
      "CPU times: user 3.14 ms, sys: 1.43 ms, total: 4.57 ms\n",
      "Wall time: 3.12 ms\n"
     ]
    }
   ],
   "metadata": {}
  },
  {
   "cell_type": "code",
   "execution_count": 30,
   "source": [
    "V.draw_scenes(\n",
    "        points=frustum_dropout['points'], gt_boxes=frustum_dropout['gt_boxes']\n",
    "    )\n",
    "\n",
    "mlab.savefig('figs/frustum_dropout_bottom.png')\n",
    "mlab.savefig('3d_renders/frustum_dropout_bottom.obj')\n",
    "currfig"
   ],
   "outputs": [
    {
     "output_type": "display_data",
     "data": {
      "text/plain": [
       "Image(value=b'\\x89PNG\\r\\n\\x1a\\n\\x00\\x00\\x00\\rIHDR\\x00\\x00\\x02X\\x00\\x00\\x02X\\x08\\x02\\x00\\x00\\x001\\x04\\x0f\\x8b\\x…"
      ],
      "application/vnd.jupyter.widget-view+json": {
       "version_major": 2,
       "version_minor": 0,
       "model_id": "59fef1b5643a4d47a21b8ed3dc61e70d"
      }
     },
     "metadata": {}
    }
   ],
   "metadata": {}
  },
  {
   "cell_type": "code",
   "execution_count": 31,
   "source": [
    "%%time\n",
    "frustum_dropout = deepcopy(scene)\n",
    "frustum_dropout['gt_boxes'], frustum_dropout['points'] = global_frustum_dropout_left(frustum_dropout['gt_boxes'][0], frustum_dropout['points'][:, 1:], [0.4, 0.5])"
   ],
   "outputs": [
    {
     "output_type": "stream",
     "name": "stdout",
     "text": [
      "CPU times: user 1.17 ms, sys: 623 µs, total: 1.79 ms\n",
      "Wall time: 1.13 ms\n"
     ]
    }
   ],
   "metadata": {}
  },
  {
   "cell_type": "code",
   "execution_count": 32,
   "source": [
    "V.draw_scenes(\n",
    "        points=frustum_dropout['points'], gt_boxes=frustum_dropout['gt_boxes']\n",
    "    )\n",
    "\n",
    "mlab.savefig('figs/frustum_dropout_left.png')\n",
    "mlab.savefig('figs/frustum_dropout_bottom.obj')\n",
    "currfig"
   ],
   "outputs": [
    {
     "output_type": "display_data",
     "data": {
      "text/plain": [
       "Image(value=b'\\x89PNG\\r\\n\\x1a\\n\\x00\\x00\\x00\\rIHDR\\x00\\x00\\x02X\\x00\\x00\\x02X\\x08\\x02\\x00\\x00\\x001\\x04\\x0f\\x8b\\x…"
      ],
      "application/vnd.jupyter.widget-view+json": {
       "version_major": 2,
       "version_minor": 0,
       "model_id": "7fa60778e9cf4f1bbfd2b23f464688b9"
      }
     },
     "metadata": {}
    }
   ],
   "metadata": {}
  },
  {
   "cell_type": "code",
   "execution_count": 33,
   "source": [
    "%%time\n",
    "frustum_dropout = deepcopy(scene)\n",
    "frustum_dropout['gt_boxes'], frustum_dropout['points'] = global_frustum_dropout_right(frustum_dropout['gt_boxes'][0], frustum_dropout['points'][:, 1:], [0.4, 0.5])"
   ],
   "outputs": [
    {
     "output_type": "stream",
     "name": "stdout",
     "text": [
      "CPU times: user 1.65 ms, sys: 862 µs, total: 2.51 ms\n",
      "Wall time: 1.64 ms\n"
     ]
    }
   ],
   "metadata": {}
  },
  {
   "cell_type": "code",
   "execution_count": 34,
   "source": [
    "V.draw_scenes(\n",
    "        points=frustum_dropout['points'], gt_boxes=frustum_dropout['gt_boxes']\n",
    "    )\n",
    "\n",
    "mlab.savefig('figs/frustum_dropout_right.png')\n",
    "mlab.savefig('figs/frustum_dropout_right.obj')\n",
    "currfig"
   ],
   "outputs": [
    {
     "output_type": "display_data",
     "data": {
      "text/plain": [
       "Image(value=b'\\x89PNG\\r\\n\\x1a\\n\\x00\\x00\\x00\\rIHDR\\x00\\x00\\x02X\\x00\\x00\\x02X\\x08\\x02\\x00\\x00\\x001\\x04\\x0f\\x8b\\x…"
      ],
      "application/vnd.jupyter.widget-view+json": {
       "version_major": 2,
       "version_minor": 0,
       "model_id": "95052451cef448b58c5685e51a9ddcfa"
      }
     },
     "metadata": {}
    }
   ],
   "metadata": {}
  },
  {
   "cell_type": "markdown",
   "source": [
    "#### Aux function to find which points are inside a bounding box"
   ],
   "metadata": {}
  },
  {
   "cell_type": "code",
   "execution_count": 35,
   "source": [
    "def get_points_in_box(points, gt_box):\n",
    "    x, y, z, dx, dy, dz = gt_box[0], gt_box[1], gt_box[2], gt_box[3], gt_box[4], gt_box[5]\n",
    "\n",
    "    mask = np.logical_and(points[:,0] <= x + dx/2, \\\n",
    "         np.logical_and(points[:,0] >= x - dx/2, \\\n",
    "             np.logical_and(points[:,1] <= y + dy/2, \\\n",
    "                 np.logical_and(points[:,1] >= y - dy/2, \\\n",
    "                     np.logical_and(points[:,2] <= z + dz/2, points[:,2] >= z - dz/2)))))\n",
    "\n",
    "    points = points[mask]\n",
    "\n",
    "    return points, mask"
   ],
   "outputs": [],
   "metadata": {}
  },
  {
   "cell_type": "code",
   "execution_count": 36,
   "source": [
    "%%time\n",
    "points_to_filter = deepcopy(scene)\n",
    "filtered_points, mask = get_points_in_box(points_to_filter['points'][:,1:], points_to_filter['gt_boxes'][0][1])"
   ],
   "outputs": [
    {
     "output_type": "stream",
     "name": "stdout",
     "text": [
      "CPU times: user 1.06 ms, sys: 533 µs, total: 1.6 ms\n",
      "Wall time: 1.08 ms\n"
     ]
    }
   ],
   "metadata": {}
  },
  {
   "cell_type": "code",
   "execution_count": 37,
   "source": [
    "V.draw_scenes(\n",
    "        points=filtered_points, gt_boxes=points_to_filter['gt_boxes'][0,1:]\n",
    "    )\n",
    "\n",
    "mlab.savefig('figs/points_in_box.png')\n",
    "mlab.savefig('3d_renders/points_in_box.obj')\n",
    "currfig"
   ],
   "outputs": [
    {
     "output_type": "display_data",
     "data": {
      "text/plain": [
       "Image(value=b'\\x89PNG\\r\\n\\x1a\\n\\x00\\x00\\x00\\rIHDR\\x00\\x00\\x02X\\x00\\x00\\x02X\\x08\\x02\\x00\\x00\\x001\\x04\\x0f\\x8b\\x…"
      ],
      "application/vnd.jupyter.widget-view+json": {
       "version_major": 2,
       "version_minor": 0,
       "model_id": "91152167d8cc460d8c3a6d7890bb0373"
      }
     },
     "metadata": {}
    }
   ],
   "metadata": {
    "tags": []
   }
  },
  {
   "cell_type": "markdown",
   "source": [
    "### Local translation"
   ],
   "metadata": {}
  },
  {
   "cell_type": "code",
   "execution_count": 38,
   "source": [
    "def local_translation_along_x(gt_boxes, points, offset_range):\n",
    "    \"\"\"\n",
    "    Args:\n",
    "        gt_boxes: (N, 7), [x, y, z, dx, dy, dz, heading, [vx], [vy]]\n",
    "        points: (M, 3 + C),\n",
    "        offset_range: [min max]]\n",
    "    Returns:\n",
    "    \"\"\"\n",
    "    for idx, box in enumerate(gt_boxes):\n",
    "        offset = np.random.uniform(offset_range[0], offset_range[1])\n",
    "        points_in_box, mask = get_points_in_box(points, box)\n",
    "        points[mask, 0] += offset\n",
    "\n",
    "        gt_boxes[idx, 0] += offset\n",
    "\n",
    "        if gt_boxes.shape[1] > 7:\n",
    "            gt_boxes[idx, 7] += offset\n",
    "\n",
    "    return gt_boxes, points\n",
    "\n",
    "\n",
    "def local_translation_along_y(gt_boxes, points, offset_range):\n",
    "    \"\"\"\n",
    "    Args:\n",
    "        gt_boxes: (N, 7), [x, y, z, dx, dy, dz, heading, [vx], [vy]]\n",
    "        points: (M, 3 + C),\n",
    "        offset_range: [min max]]\n",
    "    Returns:\n",
    "    \"\"\"\n",
    "    for idx, box in enumerate(gt_boxes):\n",
    "        offset = np.random.uniform(offset_range[0], offset_range[1])\n",
    "        points_in_box, mask = get_points_in_box(points, box)\n",
    "        points[mask, 1] += offset\n",
    "\n",
    "        gt_boxes[idx, 1] += offset\n",
    "\n",
    "        if gt_boxes.shape[1] > 8:\n",
    "            gt_boxes[idx, 8] += offset\n",
    "\n",
    "    return gt_boxes, points\n",
    "\n",
    "\n",
    "def local_translation_along_z(gt_boxes, points, offset_range):\n",
    "    \"\"\"\n",
    "    Args:\n",
    "        gt_boxes: (N, 7), [x, y, z, dx, dy, dz, heading, [vx], [vy]]\n",
    "        points: (M, 3 + C),\n",
    "        offset_range: [min max]]\n",
    "    Returns:\n",
    "    \"\"\"\n",
    "    for idx, box in enumerate(gt_boxes):\n",
    "        offset = np.random.uniform(offset_range[0], offset_range[1])\n",
    "        points_in_box, mask = get_points_in_box(points, box)\n",
    "        points[mask, 2] += offset\n",
    "\n",
    "        gt_boxes[idx, 2] += offset\n",
    "\n",
    "    return gt_boxes, points"
   ],
   "outputs": [],
   "metadata": {}
  },
  {
   "cell_type": "code",
   "execution_count": 39,
   "source": [
    "%%time\n",
    "local_translation_x = deepcopy(scene)\n",
    "local_translation_x['gt_boxes'][0], local_translation_x['points'][:,1:] = local_translation_along_x(local_translation_x['gt_boxes'][0], local_translation_x['points'][:, 1:], [10, 15])"
   ],
   "outputs": [
    {
     "output_type": "stream",
     "name": "stdout",
     "text": [
      "CPU times: user 2.92 ms, sys: 0 ns, total: 2.92 ms\n",
      "Wall time: 2.2 ms\n"
     ]
    }
   ],
   "metadata": {}
  },
  {
   "cell_type": "code",
   "execution_count": 40,
   "source": [
    "currfig = show_pc(local_translation_x)\n",
    "mlab.savefig('figs/translation_local_x.png', size=(1280,720))\n",
    "mlab.savefig('3d_renders/translation_local_x.obj')\n",
    "currfig"
   ],
   "outputs": [
    {
     "output_type": "display_data",
     "data": {
      "text/plain": [
       "Image(value=b'\\x89PNG\\r\\n\\x1a\\n\\x00\\x00\\x00\\rIHDR\\x00\\x00\\x02X\\x00\\x00\\x02X\\x08\\x02\\x00\\x00\\x001\\x04\\x0f\\x8b\\x…"
      ],
      "application/vnd.jupyter.widget-view+json": {
       "version_major": 2,
       "version_minor": 0,
       "model_id": "5cdcd90a2194407e828d7568c42f53f2"
      }
     },
     "metadata": {}
    }
   ],
   "metadata": {
    "tags": []
   }
  },
  {
   "cell_type": "code",
   "execution_count": 41,
   "source": [
    "%%time\n",
    "local_translation_y = deepcopy(scene)\n",
    "local_translation_y['gt_boxes'][0], local_translation_y['points'][:,1:] = local_translation_along_y(local_translation_y['gt_boxes'][0], local_translation_y['points'][:, 1:], [10, 15])"
   ],
   "outputs": [
    {
     "output_type": "stream",
     "name": "stdout",
     "text": [
      "CPU times: user 3.53 ms, sys: 0 ns, total: 3.53 ms\n",
      "Wall time: 2.64 ms\n"
     ]
    }
   ],
   "metadata": {}
  },
  {
   "cell_type": "code",
   "execution_count": 42,
   "source": [
    "currfig = show_pc(local_translation_y)\n",
    "mlab.savefig('figs/translation_local_y.png', size=(1280,720))\n",
    "mlab.savefig('3d_renders/translation_local_y.obj')\n",
    "currfig"
   ],
   "outputs": [
    {
     "output_type": "display_data",
     "data": {
      "text/plain": [
       "Image(value=b'\\x89PNG\\r\\n\\x1a\\n\\x00\\x00\\x00\\rIHDR\\x00\\x00\\x02X\\x00\\x00\\x02X\\x08\\x02\\x00\\x00\\x001\\x04\\x0f\\x8b\\x…"
      ],
      "application/vnd.jupyter.widget-view+json": {
       "version_major": 2,
       "version_minor": 0,
       "model_id": "56f048607e354f9c9cdd223a3d0cf5ad"
      }
     },
     "metadata": {}
    }
   ],
   "metadata": {}
  },
  {
   "cell_type": "code",
   "execution_count": 43,
   "source": [
    "%%time\n",
    "local_translation_z = deepcopy(scene)\n",
    "local_translation_z['gt_boxes'][0], local_translation_z['points'][:,1:] = local_translation_along_z(local_translation_z['gt_boxes'][0], local_translation_z['points'][:, 1:], [10, 15])"
   ],
   "outputs": [
    {
     "output_type": "stream",
     "name": "stdout",
     "text": [
      "CPU times: user 3.25 ms, sys: 0 ns, total: 3.25 ms\n",
      "Wall time: 2.59 ms\n"
     ]
    }
   ],
   "metadata": {}
  },
  {
   "cell_type": "code",
   "execution_count": 44,
   "source": [
    "currfig = show_pc(local_translation_z)\n",
    "mlab.savefig('figs/translation_local_z.png', size=(1280,720))\n",
    "mlab.savefig('3d_renders/translation_local_z.obj')\n",
    "currfig"
   ],
   "outputs": [
    {
     "output_type": "display_data",
     "data": {
      "text/plain": [
       "Image(value=b'\\x89PNG\\r\\n\\x1a\\n\\x00\\x00\\x00\\rIHDR\\x00\\x00\\x02X\\x00\\x00\\x02X\\x08\\x02\\x00\\x00\\x001\\x04\\x0f\\x8b\\x…"
      ],
      "application/vnd.jupyter.widget-view+json": {
       "version_major": 2,
       "version_minor": 0,
       "model_id": "53ce0eb0aa2a44c6815471bcbf6d3dcf"
      }
     },
     "metadata": {}
    }
   ],
   "metadata": {}
  },
  {
   "cell_type": "markdown",
   "source": [
    "### Local scaling"
   ],
   "metadata": {}
  },
  {
   "cell_type": "code",
   "execution_count": 45,
   "source": [
    "def local_scaling(gt_boxes, points, scale_range):\n",
    "    \"\"\"\n",
    "    Args:\n",
    "        gt_boxes: (N, 7), [x, y, z, dx, dy, dz, heading]\n",
    "        points: (M, 3 + C),\n",
    "        scale_range: [min, max]\n",
    "    Returns:\n",
    "    \"\"\"\n",
    "    if scale_range[1] - scale_range[0] < 1e-3:\n",
    "        return gt_boxes, points\n",
    "\n",
    "    for idx, box in enumerate(gt_boxes):\n",
    "        noise_scale = np.random.uniform(scale_range[0], scale_range[1])\n",
    "        points_in_box, mask = get_points_in_box(points, box)\n",
    "        \n",
    "        # tranlation to axis center\n",
    "        points[mask, 0] -= box[0]\n",
    "        points[mask, 1] -= box[1]\n",
    "        points[mask, 2] -= box[2]\n",
    "\n",
    "        # apply scaling\n",
    "        points[mask, :3] *= noise_scale\n",
    "\n",
    "        # tranlation back to original position\n",
    "        points[mask, 0] += box[0]\n",
    "        points[mask, 1] += box[1]\n",
    "        points[mask, 2] += box[2]\n",
    "\n",
    "        gt_boxes[idx, 3:6] *= noise_scale\n",
    "    return gt_boxes, points"
   ],
   "outputs": [],
   "metadata": {}
  },
  {
   "cell_type": "code",
   "execution_count": 46,
   "source": [
    "%%time\n",
    "scaled_local = deepcopy(scene)\n",
    "scaled_local['gt_boxes'][0], scaled_local['points'][:,1:] = local_scaling(scaled_local['gt_boxes'][0], scaled_local['points'][:, 1:], [0.2, 0.5])"
   ],
   "outputs": [
    {
     "output_type": "stream",
     "name": "stdout",
     "text": [
      "CPU times: user 4.62 ms, sys: 268 µs, total: 4.88 ms\n",
      "Wall time: 4.22 ms\n"
     ]
    }
   ],
   "metadata": {}
  },
  {
   "cell_type": "code",
   "execution_count": 47,
   "source": [
    "currfig = show_pc(scaled_local)\n",
    "mlab.savefig('figs/scaled_local.png', size=(1280,720))\n",
    "mlab.savefig('3d_renders/scaled_local.obj')\n",
    "currfig"
   ],
   "outputs": [
    {
     "output_type": "display_data",
     "data": {
      "text/plain": [
       "Image(value=b'\\x89PNG\\r\\n\\x1a\\n\\x00\\x00\\x00\\rIHDR\\x00\\x00\\x02X\\x00\\x00\\x02X\\x08\\x02\\x00\\x00\\x001\\x04\\x0f\\x8b\\x…"
      ],
      "application/vnd.jupyter.widget-view+json": {
       "version_major": 2,
       "version_minor": 0,
       "model_id": "ed7ca46a9a314e1180679ee7376dc2c5"
      }
     },
     "metadata": {}
    }
   ],
   "metadata": {}
  },
  {
   "cell_type": "markdown",
   "source": [
    "### Local rotation"
   ],
   "metadata": {}
  },
  {
   "cell_type": "code",
   "execution_count": 48,
   "source": [
    "def local_rotation(gt_boxes, points, rot_range):\n",
    "    \"\"\"\n",
    "    Args:\n",
    "        gt_boxes: (N, 7), [x, y, z, dx, dy, dz, heading, [vx], [vy]]\n",
    "        points: (M, 3 + C),\n",
    "        rot_range: [min, max]\n",
    "    Returns:\n",
    "    \"\"\"\n",
    "    \n",
    "    for idx, box in enumerate(gt_boxes):\n",
    "        noise_rotation = np.random.uniform(rot_range[0], rot_range[1])\n",
    "        points_in_box, mask = get_points_in_box(points, box)\n",
    "        \n",
    "        centroid_x = box[0]\n",
    "        centroid_y = box[1]\n",
    "        centroid_z = box[2]\n",
    "\n",
    "        # tranlation to axis center\n",
    "        points[mask, 0] -= centroid_x\n",
    "        points[mask, 1] -= centroid_y\n",
    "        points[mask, 2] -= centroid_z\n",
    "        box[0] -= centroid_x\n",
    "        box[1] -= centroid_y\n",
    "        box[2] -= centroid_z\n",
    "\n",
    "        # apply rotation\n",
    "        points[mask, :] = common_utils.rotate_points_along_z(points[np.newaxis, mask, :], np.array([noise_rotation]))[0]\n",
    "        box[0:3] = common_utils.rotate_points_along_z(box[np.newaxis, np.newaxis, 0:3], np.array([noise_rotation]))[0][0]\n",
    "\n",
    "        # tranlation back to original position\n",
    "        points[mask, 0] += centroid_x\n",
    "        points[mask, 1] += centroid_y\n",
    "        points[mask, 2] += centroid_z\n",
    "        box[0] += centroid_x\n",
    "        box[1] += centroid_y\n",
    "        box[2] += centroid_z\n",
    "\n",
    "        gt_boxes[idx, 6] += noise_rotation\n",
    "        if gt_boxes.shape[1] > 8:\n",
    "            gt_boxes[idx, 7:9] = common_utils.rotate_points_along_z(\n",
    "                np.hstack((gt_boxes[idx, 7:9], np.zeros((gt_boxes.shape[0], 1))))[np.newaxis, :, :],\n",
    "                np.array([noise_rotation])\n",
    "            )[0][:, 0:2]\n",
    "\n",
    "    return gt_boxes, points"
   ],
   "outputs": [],
   "metadata": {}
  },
  {
   "cell_type": "code",
   "execution_count": 49,
   "source": [
    "%%time\n",
    "rotated_local = deepcopy(scene)\n",
    "rotated_local['gt_boxes'][0], rotated_local['points'][:,1:] = local_rotation(rotated_local['gt_boxes'][0],rotated_local['points'][:, 1:], [-0.78539815, 0.78539816])"
   ],
   "outputs": [
    {
     "output_type": "stream",
     "name": "stdout",
     "text": [
      "CPU times: user 5.74 ms, sys: 3.03 ms, total: 8.77 ms\n",
      "Wall time: 7.94 ms\n"
     ]
    }
   ],
   "metadata": {}
  },
  {
   "cell_type": "code",
   "execution_count": 50,
   "source": [
    "currfig = show_pc(rotated_local)\n",
    "mlab.savefig('figs/rotated_local.png', size=(1280,720))\n",
    "mlab.savefig('3d_renders/rotated_local.obj')\n",
    "currfig"
   ],
   "outputs": [
    {
     "output_type": "display_data",
     "data": {
      "text/plain": [
       "Image(value=b'\\x89PNG\\r\\n\\x1a\\n\\x00\\x00\\x00\\rIHDR\\x00\\x00\\x02X\\x00\\x00\\x02X\\x08\\x02\\x00\\x00\\x001\\x04\\x0f\\x8b\\x…"
      ],
      "application/vnd.jupyter.widget-view+json": {
       "version_major": 2,
       "version_minor": 0,
       "model_id": "bb0433032be442579dc500da9514e745"
      }
     },
     "metadata": {}
    }
   ],
   "metadata": {
    "tags": []
   }
  },
  {
   "cell_type": "markdown",
   "source": [
    "### Local frustum dropout"
   ],
   "metadata": {}
  },
  {
   "cell_type": "code",
   "execution_count": 51,
   "source": [
    "def local_frustum_dropout_top(gt_boxes, points, intensity_range):\n",
    "    \"\"\"\n",
    "    Args:\n",
    "        gt_boxes: (N, 7), [x, y, z, dx, dy, dz, heading, [vx], [vy]],\n",
    "        points: (M, 3 + C),\n",
    "        intensity: [min, max]\n",
    "    Returns:\n",
    "    \"\"\"\n",
    "    for idx, box in enumerate(gt_boxes):\n",
    "        x, y, z, dx, dy, dz = box[0], box[1], box[2], box[3], box[4], box[5]\n",
    "\n",
    "        intensity = np.random.uniform(intensity_range[0], intensity_range[1])\n",
    "        points_in_box = get_points_in_box(points, box)\n",
    "        threshold = (z + dz/2) - intensity * dz\n",
    "\n",
    "        points = points[np.logical_not( \\\n",
    "        np.logical_and(points[:,1] <= y + dy/2, \\\n",
    "        np.logical_and(points[:,1] >= y - dy/2, \\\n",
    "            np.logical_and(points[:,0] <= x + dx/2, \\\n",
    "                np.logical_and(points[:,0] >= x - dx/2, \\\n",
    "                    np.logical_and(points[:,2] <= z + dz/2, points[:,2] >= threshold))))))]\n",
    "\n",
    "    return gt_boxes, points\n",
    "\n",
    "def local_frustum_dropout_bottom(gt_boxes, points, intensity_range):\n",
    "    \"\"\"\n",
    "    Args:\n",
    "        gt_boxes: (N, 7), [x, y, z, dx, dy, dz, heading, [vx], [vy]],\n",
    "        points: (M, 3 + C),\n",
    "        intensity: [min, max]\n",
    "    Returns:\n",
    "    \"\"\"\n",
    "    for idx, box in enumerate(gt_boxes):\n",
    "        x, y, z, dx, dy, dz = box[0], box[1], box[2], box[3], box[4], box[5]\n",
    "\n",
    "        intensity = np.random.uniform(intensity_range[0], intensity_range[1])\n",
    "        points_in_box = get_points_in_box(points, box)\n",
    "        threshold = (z - dz/2) + intensity * dz\n",
    "        points = points[np.logical_not( \\\n",
    "            np.logical_and(points[:,1] <= y + dy/2, \\\n",
    "            np.logical_and(points[:,1] >= y - dy/2, \\\n",
    "                np.logical_and(points[:,0] <= x + dx/2, \\\n",
    "                    np.logical_and(points[:,0] >= x - dx/2, \\\n",
    "                        np.logical_and(points[:,2] <= threshold, points[:,2] >= z - dz/2))))))]\n",
    "\n",
    "    return gt_boxes, points\n",
    "\n",
    "def local_frustum_dropout_left(gt_boxes, points, intensity_range):\n",
    "    \"\"\"\n",
    "    Args:\n",
    "        gt_boxes: (N, 7), [x, y, z, dx, dy, dz, heading, [vx], [vy]],\n",
    "        points: (M, 3 + C),\n",
    "        intensity: [min, max]\n",
    "    Returns:\n",
    "    \"\"\"\n",
    "    for idx, box in enumerate(gt_boxes):\n",
    "        x, y, z, dx, dy, dz = box[0], box[1], box[2], box[3], box[4], box[5]\n",
    "\n",
    "        intensity = np.random.uniform(intensity_range[0], intensity_range[1])\n",
    "        points_in_box = get_points_in_box(points, box)\n",
    "        threshold = (y + dy/2) - intensity * dy\n",
    "\n",
    "        points = points[np.logical_not( \\\n",
    "            np.logical_and(points[:,1] <= y + dy/2, \\\n",
    "            np.logical_and(points[:,1] >= threshold, \\\n",
    "                np.logical_and(points[:,0] <= x + dx/2, \\\n",
    "                    np.logical_and(points[:,0] >= x - dx/2, \\\n",
    "                        np.logical_and(points[:,2] <= z + dz/2, points[:,2] >= z - dz/2))))))]\n",
    "\n",
    "    return gt_boxes, points\n",
    "\n",
    "def local_frustum_dropout_right(gt_boxes, points, intensity_range):\n",
    "    \"\"\"\n",
    "    Args:\n",
    "        gt_boxes: (N, 7), [x, y, z, dx, dy, dz, heading, [vx], [vy]],\n",
    "        points: (M, 3 + C),\n",
    "        intensity: [min, max]\n",
    "    Returns:\n",
    "    \"\"\"\n",
    "    for idx, box in enumerate(gt_boxes):\n",
    "        x, y, z, dx, dy, dz = box[0], box[1], box[2], box[3], box[4], box[5]\n",
    "\n",
    "        intensity = np.random.uniform(intensity_range[0], intensity_range[1])\n",
    "        points_in_box = get_points_in_box(points, box)\n",
    "        threshold = (y - dy/2) + intensity * dy\n",
    "\n",
    "        points = points[np.logical_not( \\\n",
    "            np.logical_and(points[:,1] <= threshold, \\\n",
    "            np.logical_and(points[:,1] >= y - dy/2, \\\n",
    "                np.logical_and(points[:,0] <= x + dx/2, \\\n",
    "                    np.logical_and(points[:,0] >= x - dx/2, \\\n",
    "                        np.logical_and(points[:,2] <= z + dz/2, points[:,2] >= z - dz/2))))))]\n",
    "\n",
    "    return gt_boxes, points"
   ],
   "outputs": [],
   "metadata": {}
  },
  {
   "cell_type": "code",
   "execution_count": 52,
   "source": [
    "%%time\n",
    "frustum_dropout = deepcopy(scene)\n",
    "frustum_dropout['gt_boxes'], frustum_dropout['points'] = local_frustum_dropout_top(frustum_dropout['gt_boxes'][0], frustum_dropout['points'][:, 1:], [0.5, 0.5])"
   ],
   "outputs": [
    {
     "output_type": "stream",
     "name": "stdout",
     "text": [
      "CPU times: user 4.93 ms, sys: 383 µs, total: 5.31 ms\n",
      "Wall time: 4.37 ms\n"
     ]
    }
   ],
   "metadata": {}
  },
  {
   "cell_type": "code",
   "execution_count": 53,
   "source": [
    "V.draw_scenes(\n",
    "        points=frustum_dropout['points'], gt_boxes=frustum_dropout['gt_boxes']\n",
    "    )\n",
    "\n",
    "mlab.savefig('figs/local_frustum_dropout_top.png')\n",
    "mlab.savefig('3d_renders/local_frustum_dropout_top.obj')\n",
    "currfig"
   ],
   "outputs": [
    {
     "output_type": "display_data",
     "data": {
      "text/plain": [
       "Image(value=b'\\x89PNG\\r\\n\\x1a\\n\\x00\\x00\\x00\\rIHDR\\x00\\x00\\x02X\\x00\\x00\\x02X\\x08\\x02\\x00\\x00\\x001\\x04\\x0f\\x8b\\x…"
      ],
      "application/vnd.jupyter.widget-view+json": {
       "version_major": 2,
       "version_minor": 0,
       "model_id": "fd677ee0d66a48edbef612673e10bc4d"
      }
     },
     "metadata": {}
    }
   ],
   "metadata": {}
  },
  {
   "cell_type": "code",
   "execution_count": 54,
   "source": [
    "%%time\n",
    "frustum_dropout = deepcopy(scene)\n",
    "frustum_dropout['gt_boxes'], frustum_dropout['points'] = local_frustum_dropout_bottom(frustum_dropout['gt_boxes'][0], frustum_dropout['points'][:, 1:], [0.3, 0.4])"
   ],
   "outputs": [
    {
     "output_type": "stream",
     "name": "stdout",
     "text": [
      "CPU times: user 13.4 ms, sys: 554 µs, total: 13.9 ms\n",
      "Wall time: 11.7 ms\n"
     ]
    }
   ],
   "metadata": {}
  },
  {
   "cell_type": "code",
   "execution_count": 55,
   "source": [
    "V.draw_scenes(\n",
    "        points=frustum_dropout['points'], gt_boxes=frustum_dropout['gt_boxes']\n",
    "    )\n",
    "\n",
    "mlab.savefig('figs/local_frustum_dropout_bottom.png')\n",
    "mlab.savefig('3d_renders/local_frustum_dropout_bottom.obj')\n",
    "currfig"
   ],
   "outputs": [
    {
     "output_type": "display_data",
     "data": {
      "text/plain": [
       "Image(value=b'\\x89PNG\\r\\n\\x1a\\n\\x00\\x00\\x00\\rIHDR\\x00\\x00\\x02X\\x00\\x00\\x02X\\x08\\x02\\x00\\x00\\x001\\x04\\x0f\\x8b\\x…"
      ],
      "application/vnd.jupyter.widget-view+json": {
       "version_major": 2,
       "version_minor": 0,
       "model_id": "236278ad5fe3407483c3118073b5a916"
      }
     },
     "metadata": {}
    }
   ],
   "metadata": {}
  },
  {
   "cell_type": "code",
   "execution_count": 56,
   "source": [
    "%%time\n",
    "frustum_dropout = deepcopy(scene)\n",
    "frustum_dropout['gt_boxes'], frustum_dropout['points'] = local_frustum_dropout_left(frustum_dropout['gt_boxes'][0], frustum_dropout['points'][:, 1:], [0.3, 0.4])"
   ],
   "outputs": [
    {
     "output_type": "stream",
     "name": "stdout",
     "text": [
      "CPU times: user 12.1 ms, sys: 412 µs, total: 12.5 ms\n",
      "Wall time: 10.6 ms\n"
     ]
    }
   ],
   "metadata": {}
  },
  {
   "cell_type": "code",
   "execution_count": 57,
   "source": [
    "V.draw_scenes(\n",
    "        points=frustum_dropout['points'], gt_boxes=frustum_dropout['gt_boxes']\n",
    "    )\n",
    "\n",
    "mlab.savefig('figs/local_frustum_dropout_left.png')\n",
    "mlab.savefig('3d_renders/local_frustum_dropout_left.obj')\n",
    "currfig"
   ],
   "outputs": [
    {
     "output_type": "display_data",
     "data": {
      "text/plain": [
       "Image(value=b'\\x89PNG\\r\\n\\x1a\\n\\x00\\x00\\x00\\rIHDR\\x00\\x00\\x02X\\x00\\x00\\x02X\\x08\\x02\\x00\\x00\\x001\\x04\\x0f\\x8b\\x…"
      ],
      "application/vnd.jupyter.widget-view+json": {
       "version_major": 2,
       "version_minor": 0,
       "model_id": "29eb0e346c6c4039b0a0e369f416c825"
      }
     },
     "metadata": {}
    }
   ],
   "metadata": {}
  },
  {
   "cell_type": "code",
   "execution_count": 58,
   "source": [
    "%%time\n",
    "frustum_dropout = deepcopy(scene)\n",
    "frustum_dropout['gt_boxes'], frustum_dropout['points'] = local_frustum_dropout_right(frustum_dropout['gt_boxes'][0], frustum_dropout['points'][:, 1:], [0.3, 0.4])"
   ],
   "outputs": [
    {
     "output_type": "stream",
     "name": "stdout",
     "text": [
      "CPU times: user 0 ns, sys: 5.46 ms, total: 5.46 ms\n",
      "Wall time: 4.57 ms\n"
     ]
    }
   ],
   "metadata": {}
  },
  {
   "cell_type": "code",
   "execution_count": 59,
   "source": [
    "V.draw_scenes(\n",
    "        points=frustum_dropout['points'], gt_boxes=frustum_dropout['gt_boxes']\n",
    "    )\n",
    "\n",
    "mlab.savefig('figs/local_frustum_dropout_right.png')\n",
    "mlab.savefig('3d_renders/local_frustum_dropout_right.obj')\n",
    "currfig"
   ],
   "outputs": [
    {
     "output_type": "display_data",
     "data": {
      "text/plain": [
       "Image(value=b'\\x89PNG\\r\\n\\x1a\\n\\x00\\x00\\x00\\rIHDR\\x00\\x00\\x02X\\x00\\x00\\x02X\\x08\\x02\\x00\\x00\\x001\\x04\\x0f\\x8b\\x…"
      ],
      "application/vnd.jupyter.widget-view+json": {
       "version_major": 2,
       "version_minor": 0,
       "model_id": "12164521e4c042198ce13ff3ef25eb54"
      }
     },
     "metadata": {}
    }
   ],
   "metadata": {}
  },
  {
   "cell_type": "code",
   "execution_count": null,
   "source": [],
   "outputs": [],
   "metadata": {}
  }
 ]
}