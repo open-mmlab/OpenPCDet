{
 "metadata": {
  "language_info": {
   "codemirror_mode": {
    "name": "ipython",
    "version": 3
   },
   "file_extension": ".py",
   "mimetype": "text/x-python",
   "name": "python",
   "nbconvert_exporter": "python",
   "pygments_lexer": "ipython3",
   "version": "3.8.5"
  },
  "orig_nbformat": 2,
  "kernelspec": {
   "name": "python38564bitbe64631982d24ffbb2f77ea698e3ac22",
   "display_name": "Python 3.8.5 64-bit"
  },
  "metadata": {
   "interpreter": {
    "hash": "e7370f93d1d0cde622a1f8e1c04877d8463912d04d973331ad4851f04de6915a"
   }
  }
 },
 "nbformat": 4,
 "nbformat_minor": 2,
 "cells": [
  {
   "source": [
    "# KITTI Dataset augmentation visualization"
   ],
   "cell_type": "markdown",
   "metadata": {}
  },
  {
   "source": [
    "## Dataset structure\n",
    "\n",
    "```\n",
    "📦gta\n",
    "┗ 📂training\n",
    "  ┣ 📂calib\n",
    "  ┃ ┣ 📜<file_id>.txt\n",
    "  ┃ ┗ 📜 ...\n",
    "  ┣ 📂image_2\n",
    "  ┃ ┣ 📜<file_id>.png\n",
    "  ┃ ┗ 📜 ...\n",
    "  ┣ 📂label_2\n",
    "  ┃ ┣ 📜<file_id>.txt\n",
    "  ┃ ┗ 📜 ...\n",
    "  ┗ 📂velodyne\n",
    "    ┣ 📜<file_id>.bin\n",
    "    ┗ 📜 ...\n",
    "```"
   ],
   "cell_type": "markdown",
   "metadata": {}
  },
  {
   "cell_type": "code",
   "execution_count": 1,
   "metadata": {},
   "outputs": [
    {
     "output_type": "stream",
     "name": "stdout",
     "text": [
      "Notebook initialized with ipy backend.\n"
     ]
    }
   ],
   "source": [
    "import os\n",
    "import mayavi.mlab as mlab\n",
    "import numpy as np\n",
    "from copy import deepcopy\n",
    "import pickle\n",
    "import logging\n",
    "\n",
    "import pcdet.datasets.augmentor\n",
    "\n",
    "from pcdet.config import cfg, cfg_from_yaml_file\n",
    "from pcdet.datasets import build_dataloader\n",
    "from pcdet.utils import common_utils\n",
    "from pcdet.models import build_network\n",
    "from tools.visual_utils import visualize_utils as V\n",
    "\n",
    "mlab.init_notebook()"
   ]
  },
  {
   "cell_type": "code",
   "execution_count": 2,
   "metadata": {},
   "outputs": [],
   "source": [
    "# generate pickles from the kitti data\n",
    "# os.system(\"python -m pcdet.datasets.kitti.kitti_dataset create_kitti_infos tools/cfgs/dataset_configs/kitti_dataset.yaml\")"
   ]
  },
  {
   "source": [
    "## Visualizing the LiDAR point cloud with labels"
   ],
   "cell_type": "markdown",
   "metadata": {}
  },
  {
   "cell_type": "code",
   "execution_count": 2,
   "metadata": {},
   "outputs": [],
   "source": [
    "logger = common_utils.create_logger(log_level=logging.DEBUG)"
   ]
  },
  {
   "cell_type": "code",
   "execution_count": 3,
   "metadata": {
    "tags": [
     "outputPrepend"
    ]
   },
   "outputs": [
    {
     "output_type": "stream",
     "name": "stderr",
     "text": [
      "from frame 000010 to frame 100051\n",
      "2021-05-11 18:34:08,777  DEBUG  Added Car_3 from frame 000095 to frame 100051\n",
      "2021-05-11 18:34:08,779  DEBUG  Added Car_1 from frame 000029 to frame 100051\n",
      "2021-05-11 18:34:08,805  DEBUG  Added Car_0 from frame 000084 to frame 100051\n",
      "2021-05-11 18:34:08,807  DEBUG  Added Pedestrian_0 from frame 000000 to frame 100051\n",
      "2021-05-11 18:34:08,810  DEBUG  Added Pedestrian_2 from frame 000043 to frame 100051\n",
      "2021-05-11 18:34:08,812  DEBUG  Added Pedestrian_1 from frame 000073 to frame 100051\n",
      "2021-05-11 18:34:08,814  DEBUG  Added Pedestrian_2 from frame 000074 to frame 100051\n",
      "2021-05-11 18:34:08,827  DEBUG  Added Pedestrian_2 from frame 000010 to frame 100051\n",
      "2021-05-11 18:34:08,828  DEBUG  Added Pedestrian_2 from frame 000073 to frame 100051\n",
      "2021-05-11 18:34:08,828  DEBUG  Added Pedestrian_0 from frame 000011 to frame 100051\n",
      "2021-05-11 18:34:08,829  DEBUG  Added Pedestrian_3 from frame 000087 to frame 100051\n",
      "2021-05-11 18:34:08,838  DEBUG  Added Pedestrian_0 from frame 000070 to frame 100051\n",
      "2021-05-11 18:34:08,839  DEBUG  Added Pedestrian_3 from frame 000011 to frame 100051\n",
      "2021-05-11 18:34:08,839  DEBUG  Added Pedestrian_0 from frame 000073 to frame 100051\n",
      "2021-05-11 18:34:08,841  DEBUG  Added Pedestrian_3 from frame 000043 to frame 100051\n",
      "2021-05-11 18:34:08,843  DEBUG  Added Cyclist_3 from frame 000007 to frame 100051\n",
      "2021-05-11 18:34:08,843  DEBUG  Added Cyclist_4 from frame 000073 to frame 100051\n",
      "2021-05-11 18:34:08,844  DEBUG  Added Cyclist_3 from frame 000073 to frame 100051\n",
      "2021-05-11 18:34:08,844  DEBUG  Added Cyclist_3 from frame 000060 to frame 100051\n",
      "2021-05-11 18:34:08,845  DEBUG  Added Cyclist_11 from frame 000068 to frame 100051\n",
      "2021-05-11 18:34:08,963  DEBUG  Sample 100051 was created from frame 000051 with the following augmentations: {\n",
      "  \"random_local_rotation\": {\n",
      "    \"LOCAL_ROT_ANGLE\": {\n",
      "      \"object_0\": 0.4349274707540016,\n",
      "      \"object_1\": -0.12685379468750368,\n",
      "      \"object_2\": 0.264277083202175,\n",
      "      \"object_3\": 0.04517111331658907,\n",
      "      \"object_4\": -0.6163325411677276,\n",
      "      \"object_5\": -0.00831263712868835,\n",
      "      \"object_6\": 0.2976974294015027,\n",
      "      \"object_7\": -0.5403320810113746,\n",
      "      \"object_8\": 0.7587056569044428,\n",
      "      \"object_9\": 0.2723328434487695,\n",
      "      \"object_10\": 0.053298396474815934,\n",
      "      \"object_11\": 0.35551033642611984,\n",
      "      \"object_12\": -0.20273463555572335,\n",
      "      \"object_13\": -0.7338064482297669,\n",
      "      \"object_14\": 0.6803443534039242,\n",
      "      \"object_15\": 0.506913702781614,\n",
      "      \"object_16\": 0.6986505009289548,\n",
      "      \"object_17\": 0.21053904207949803,\n",
      "      \"object_18\": -0.40811556575608926,\n",
      "      \"object_19\": 0.602652570853047,\n",
      "      \"object_20\": 0.6388608957315036,\n",
      "      \"object_21\": 0.08592839848899714,\n",
      "      \"object_22\": 0.7443795890871614,\n",
      "      \"object_23\": -0.019047066668117618,\n",
      "      \"object_24\": -0.10351189044745435,\n",
      "      \"object_25\": -0.735509228509391,\n",
      "      \"object_26\": -0.551944500148556,\n",
      "      \"object_27\": -0.47397342866188347\n",
      "    }\n",
      "  },\n",
      "  \"random_local_scaling\": {\n",
      "    \"LOCAL_SCALE\": {\n",
      "      \"object_0\": 0.994288038338928,\n",
      "      \"object_1\": 1.0138416277432407,\n",
      "      \"object_2\": 1.0367473434650347,\n",
      "      \"object_3\": 1.0123629758772683,\n",
      "      \"object_4\": 1.0412648878416038,\n",
      "      \"object_5\": 1.027420776911036,\n",
      "      \"object_6\": 0.9598754127569465,\n",
      "      \"object_7\": 1.0321623552952146,\n",
      "      \"object_8\": 0.9646475260640399,\n",
      "      \"object_9\": 1.0038541034394228,\n",
      "      \"object_10\": 1.0423630291254211,\n",
      "      \"object_11\": 1.0129712875130674,\n",
      "      \"object_12\": 0.959108575687435,\n",
      "      \"object_13\": 0.9585865628690674,\n",
      "      \"object_14\": 0.9592041657054577,\n",
      "      \"object_15\": 0.9907109961799965,\n",
      "      \"object_16\": 0.9950534419023831,\n",
      "      \"object_17\": 1.0384460049217497,\n",
      "      \"object_18\": 1.0070583525254269,\n",
      "      \"object_19\": 1.0162941500503724,\n",
      "      \"object_20\": 0.9705403670577691,\n",
      "      \"object_21\": 1.0195944311812615,\n",
      "      \"object_22\": 1.0147383149190197,\n",
      "      \"object_23\": 0.9664067970335266,\n",
      "      \"object_24\": 0.9510091097927446,\n",
      "      \"object_25\": 1.002347301086773,\n",
      "      \"object_26\": 1.0354873154347726,\n",
      "      \"object_27\": 0.9744028633289167\n",
      "    }\n",
      "  },\n",
      "  \"random_world_flip\": {\n",
      "    \"ALONG_AXIS_x\": \"True\"\n",
      "  },\n",
      "  \"random_world_rotation\": {\n",
      "    \"WORLD_ROT_ANGLE\": -0.710736601473843,\n",
      "    \"WORLD_SCALE\": 0.9872569093435569\n",
      "  },\n",
      "  \"random_world_translation\": {\n",
      "    \"ALONG_AXIS_x\": -0.9485486861807451,\n",
      "    \"ALONG_AXIS_y\": 0.48402034634139945\n",
      "  },\n",
      "  \"random_local_translation\": {\n",
      "    \"ALONG_AXIS_x\": {\n",
      "      \"object_0\": -0.275698473498289,\n",
      "      \"object_1\": 0.32553082585027404,\n",
      "      \"object_2\": 0.2922318012839691,\n",
      "      \"object_3\": 0.5018773914011896,\n",
      "      \"object_4\": -0.047916571946708286,\n",
      "      \"object_5\": 0.23028873199812727,\n",
      "      \"object_6\": 0.3265484124337146,\n",
      "      \"object_7\": 0.9456487575027148,\n",
      "      \"object_8\": -0.888516288460685,\n",
      "      \"object_9\": 0.8012011768000411,\n",
      "      \"object_10\": -0.9889566439065384,\n",
      "      \"object_11\": 0.004599372218901054,\n",
      "      \"object_12\": 0.21071273448263583,\n",
      "      \"object_13\": -0.6118810940609882,\n",
      "      \"object_14\": 0.3966139708686063,\n",
      "      \"object_15\": -0.3403686195217023,\n",
      "      \"object_16\": 0.709398144723036,\n",
      "      \"object_17\": 0.3976851709716651,\n",
      "      \"object_18\": 0.404155571161839,\n",
      "      \"object_19\": 0.12731507720923307,\n",
      "      \"object_20\": 0.8906952237809544,\n",
      "      \"object_21\": 0.14881030883232116,\n",
      "      \"object_22\": -0.9754628522782065,\n",
      "      \"object_23\": 0.9440507806830134,\n",
      "      \"object_24\": -0.5841099962188233,\n",
      "      \"object_25\": 0.9094629714468716,\n",
      "      \"object_26\": -0.5519870316772286,\n",
      "      \"object_27\": -0.3340223772570702\n",
      "    },\n",
      "    \"ALONG_AXIS_y\": {\n",
      "      \"object_0\": 0.7127278873478016,\n",
      "      \"object_1\": -0.21300073373653483,\n",
      "      \"object_2\": -0.6950625845213527,\n",
      "      \"object_3\": -0.4811369742813222,\n",
      "      \"object_4\": 0.9868963919460179,\n",
      "      \"object_5\": 0.6418334221810265,\n",
      "      \"object_6\": 0.04755278854649392,\n",
      "      \"object_7\": -0.016715767451797925,\n",
      "      \"object_8\": -0.019949772929563236,\n",
      "      \"object_9\": 0.25483486821818513,\n",
      "      \"object_10\": 0.9618360610836525,\n",
      "      \"object_11\": 0.2977851759283161,\n",
      "      \"object_12\": 0.9703736484224426,\n",
      "      \"object_13\": 0.6611862709834355,\n",
      "      \"object_14\": -0.6891004026518577,\n",
      "      \"object_15\": -0.17633860652767752,\n",
      "      \"object_16\": -0.10387149479309543,\n",
      "      \"object_17\": -0.2726433457542575,\n",
      "      \"object_18\": 0.3605228536209173,\n",
      "      \"object_19\": -0.0863364959726175,\n",
      "      \"object_20\": 0.5948040087242186,\n",
      "      \"object_21\": 0.09076042137881091,\n",
      "      \"object_22\": -0.7633807626205306,\n",
      "      \"object_23\": 1.0358935773768005,\n",
      "      \"object_24\": 0.18002515563792154,\n",
      "      \"object_25\": 1.0433446771756472,\n",
      "      \"object_26\": 0.3560967113475655,\n",
      "      \"object_27\": 0.5295317732898124\n",
      "    }\n",
      "  }\n",
      "}\n",
      "2021-05-11 18:34:08,964   INFO  Loaded sample index: \t85\n",
      "2021-05-11 18:34:08,978  DEBUG  Starting augmentation for sample: 000054\n",
      "2021-05-11 18:34:09,005  DEBUG  Added Car_2 from frame 000055 to frame 100054\n",
      "2021-05-11 18:34:09,006  DEBUG  Added Car_6 from frame 000045 to frame 100054\n",
      "2021-05-11 18:34:09,007  DEBUG  Added Car_0 from frame 000007 to frame 100054\n",
      "2021-05-11 18:34:09,008  DEBUG  Added Car_3 from frame 000016 to frame 100054\n",
      "2021-05-11 18:34:09,008  DEBUG  Added Car_1 from frame 000092 to frame 100054\n",
      "2021-05-11 18:34:09,009  DEBUG  Added Car_7 from frame 000010 to frame 100054\n",
      "2021-05-11 18:34:09,010  DEBUG  Added Car_3 from frame 000045 to frame 100054\n",
      "2021-05-11 18:34:09,011  DEBUG  Added Car_0 from frame 000013 to frame 100054\n",
      "2021-05-11 18:34:09,011  DEBUG  Added Car_1 from frame 000051 to frame 100054\n",
      "2021-05-11 18:34:09,012  DEBUG  Added Car_0 from frame 000022 to frame 100054\n",
      "2021-05-11 18:34:09,013  DEBUG  Added Pedestrian_0 from frame 000074 to frame 100054\n",
      "2021-05-11 18:34:09,014  DEBUG  Added Pedestrian_1 from frame 000074 to frame 100054\n",
      "2021-05-11 18:34:09,014  DEBUG  Added Pedestrian_1 from frame 000011 to frame 100054\n",
      "2021-05-11 18:34:09,015  DEBUG  Added Pedestrian_10 from frame 000049 to frame 100054\n",
      "2021-05-11 18:34:09,016  DEBUG  Added Pedestrian_2 from frame 000085 to frame 100054\n",
      "2021-05-11 18:34:09,017  DEBUG  Added Pedestrian_5 from frame 000011 to frame 100054\n",
      "2021-05-11 18:34:09,018  DEBUG  Added Cyclist_3 from frame 000007 to frame 100054\n",
      "2021-05-11 18:34:09,018  DEBUG  Added Cyclist_11 from frame 000068 to frame 100054\n",
      "2021-05-11 18:34:09,019  DEBUG  Added Cyclist_4 from frame 000073 to frame 100054\n",
      "2021-05-11 18:34:09,020  DEBUG  Added Cyclist_3 from frame 000060 to frame 100054\n",
      "2021-05-11 18:34:09,135  DEBUG  Sample 100054 was created from frame 000054 with the following augmentations: {\n",
      "  \"random_local_rotation\": {\n",
      "    \"LOCAL_ROT_ANGLE\": {\n",
      "      \"object_0\": -0.6813544541230397,\n",
      "      \"object_1\": 0.14697984504041406,\n",
      "      \"object_2\": 0.007319988991849713,\n",
      "      \"object_3\": 0.3376496361300225,\n",
      "      \"object_4\": 0.2655019951726558,\n",
      "      \"object_5\": 0.10651957990006744,\n",
      "      \"object_6\": -0.05001128618549966,\n",
      "      \"object_7\": 0.5767502854508646,\n",
      "      \"object_8\": -0.21640316593723719,\n",
      "      \"object_9\": 0.23770900406235396,\n",
      "      \"object_10\": 0.36837810879893707,\n",
      "      \"object_11\": 0.6749634114589778,\n",
      "      \"object_12\": 0.6558351707112187,\n",
      "      \"object_13\": 0.06004001909370249,\n",
      "      \"object_14\": 0.6170077273714631,\n",
      "      \"object_15\": -0.29906928684464834,\n",
      "      \"object_16\": -0.5303334978029977,\n",
      "      \"object_17\": 0.2114154707181516,\n",
      "      \"object_18\": 0.16981031828723203,\n",
      "      \"object_19\": -0.6740741452471146,\n",
      "      \"object_20\": 0.6203074140094227\n",
      "    }\n",
      "  },\n",
      "  \"random_local_scaling\": {\n",
      "    \"LOCAL_SCALE\": {\n",
      "      \"object_0\": 1.0019001756573127,\n",
      "      \"object_1\": 1.0149118100022554,\n",
      "      \"object_2\": 0.9947438621620642,\n",
      "      \"object_3\": 0.9599405600673484,\n",
      "      \"object_4\": 0.955153717415255,\n",
      "      \"object_5\": 0.973474467984088,\n",
      "      \"object_6\": 1.0308640571216379,\n",
      "      \"object_7\": 1.0392715376130495,\n",
      "      \"object_8\": 1.0162310689472265,\n",
      "      \"object_9\": 0.9593434686003768,\n",
      "      \"object_10\": 0.993155744935614,\n",
      "      \"object_11\": 0.971915992641811,\n",
      "      \"object_12\": 1.0191030830958703,\n",
      "      \"object_13\": 1.0435250901827848,\n",
      "      \"object_14\": 0.9711886622801613,\n",
      "      \"object_15\": 1.013385192640659,\n",
      "      \"object_16\": 1.0475944501434094,\n",
      "      \"object_17\": 1.0349970966988793,\n",
      "      \"object_18\": 0.9768859682536656,\n",
      "      \"object_19\": 0.977105036409969,\n",
      "      \"object_20\": 1.0435886866687303\n",
      "    }\n",
      "  },\n",
      "  \"random_world_flip\": {\n",
      "    \"ALONG_AXIS_x\": \"True\"\n",
      "  },\n",
      "  \"random_world_rotation\": {\n",
      "    \"WORLD_ROT_ANGLE\": 0.06986678002084701,\n",
      "    \"WORLD_SCALE\": 1.0358195755570665\n",
      "  },\n",
      "  \"random_world_translation\": {\n",
      "    \"ALONG_AXIS_x\": 0.1336771819117799,\n",
      "    \"ALONG_AXIS_y\": 0.6231518419425703\n",
      "  },\n",
      "  \"random_local_translation\": {\n",
      "    \"ALONG_AXIS_x\": {\n",
      "      \"object_0\": 0.3849535961218262,\n",
      "      \"object_1\": 0.9460053753874145,\n",
      "      \"object_2\": 0.7009626570456557,\n",
      "      \"object_3\": -0.05981464827725225,\n",
      "      \"object_4\": -0.8928441838094424,\n",
      "      \"object_5\": -0.7162704177961752,\n",
      "      \"object_6\": -0.16407568685407214,\n",
      "      \"object_7\": -0.9622701455074341,\n",
      "      \"object_8\": 0.24997103745546934,\n",
      "      \"object_9\": -0.6056985779139247,\n",
      "      \"object_10\": -0.7170662656605917,\n",
      "      \"object_11\": 1.0336652304281262,\n",
      "      \"object_12\": 0.42087219888933336,\n",
      "      \"object_13\": 0.10997115559067305,\n",
      "      \"object_14\": 0.10090303153947766,\n",
      "      \"object_15\": -0.5585177403607996,\n",
      "      \"object_16\": -0.4750318085912786,\n",
      "      \"object_17\": -0.5262397194117088,\n",
      "      \"object_18\": -0.46156733554853924,\n",
      "      \"object_19\": -0.7524197528062031,\n",
      "      \"object_20\": 0.9331745700494845\n",
      "    },\n",
      "    \"ALONG_AXIS_y\": {\n",
      "      \"object_0\": -0.5224748463426939,\n",
      "      \"object_1\": 0.49844415691565547,\n",
      "      \"object_2\": 0.0575790499378499,\n",
      "      \"object_3\": 0.3199744957170265,\n",
      "      \"object_4\": 0.18122367286047525,\n",
      "      \"object_5\": -0.7402208583566452,\n",
      "      \"object_6\": -0.12133387603371226,\n",
      "      \"object_7\": -0.03210740694191161,\n",
      "      \"object_8\": -0.920288706888283,\n",
      "      \"object_9\": 0.9801629493500179,\n",
      "      \"object_10\": -0.7511236753220427,\n",
      "      \"object_11\": 0.6095872480702875,\n",
      "      \"object_12\": -0.45710680150291927,\n",
      "      \"object_13\": -0.12650117541504513,\n",
      "      \"object_14\": -0.5514842880599352,\n",
      "      \"object_15\": -0.17674311506294582,\n",
      "      \"object_16\": 1.0077608071346538,\n",
      "      \"object_17\": 0.9452263553329103,\n",
      "      \"object_18\": -0.8160404338671244,\n",
      "      \"object_19\": 0.9942411030981677,\n",
      "      \"object_20\": -0.45364928156802375\n",
      "    }\n",
      "  }\n",
      "}\n",
      "2021-05-11 18:34:09,136   INFO  Loaded sample index: \t86\n",
      "2021-05-11 18:34:09,153  DEBUG  Starting augmentation for sample: 000055\n",
      "2021-05-11 18:34:09,185  DEBUG  Added Car_5 from frame 000046 to frame 100055\n",
      "2021-05-11 18:34:09,186  DEBUG  Added Car_4 from frame 000079 to frame 100055\n",
      "2021-05-11 18:34:09,191  DEBUG  Added Car_5 from frame 000038 to frame 100055\n",
      "2021-05-11 18:34:09,192  DEBUG  Added Car_3 from frame 000067 to frame 100055\n",
      "2021-05-11 18:34:09,194  DEBUG  Added Car_8 from frame 000095 to frame 100055\n",
      "2021-05-11 18:34:09,195  DEBUG  Added Car_11 from frame 000049 to frame 100055\n",
      "2021-05-11 18:34:09,196  DEBUG  Added Car_0 from frame 000071 to frame 100055\n",
      "2021-05-11 18:34:09,197  DEBUG  Added Car_2 from frame 000038 to frame 100055\n",
      "2021-05-11 18:34:09,197  DEBUG  Added Pedestrian_0 from frame 000054 to frame 100055\n",
      "2021-05-11 18:34:09,204  DEBUG  Added Pedestrian_0 from frame 000073 to frame 100055\n",
      "2021-05-11 18:34:09,205  DEBUG  Added Pedestrian_2 from frame 000074 to frame 100055\n",
      "2021-05-11 18:34:09,206  DEBUG  Added Pedestrian_6 from frame 000073 to frame 100055\n",
      "2021-05-11 18:34:09,207  DEBUG  Added Pedestrian_3 from frame 000043 to frame 100055\n",
      "2021-05-11 18:34:09,207  DEBUG  Added Pedestrian_2 from frame 000085 to frame 100055\n",
      "2021-05-11 18:34:09,208  DEBUG  Added Pedestrian_2 from frame 000043 to frame 100055\n",
      "2021-05-11 18:34:09,209  DEBUG  Added Pedestrian_0 from frame 000074 to frame 100055\n",
      "2021-05-11 18:34:09,210  DEBUG  Added Pedestrian_3 from frame 000087 to frame 100055\n",
      "2021-05-11 18:34:09,211  DEBUG  Added Pedestrian_5 from frame 000011 to frame 100055\n",
      "2021-05-11 18:34:09,211  DEBUG  Added Pedestrian_2 from frame 000100 to frame 100055\n",
      "2021-05-11 18:34:09,212  DEBUG  Added Pedestrian_2 from frame 000073 to frame 100055\n",
      "2021-05-11 18:34:09,213  DEBUG  Added Pedestrian_3 from frame 000011 to frame 100055\n",
      "2021-05-11 18:34:09,214  DEBUG  Added Cyclist_4 from frame 000073 to frame 100055\n",
      "2021-05-11 18:34:09,214  DEBUG  Added Cyclist_3 from frame 000007 to frame 100055\n",
      "2021-05-11 18:34:09,215  DEBUG  Added Cyclist_3 from frame 000060 to frame 100055\n",
      "2021-05-11 18:34:09,216  DEBUG  Added Cyclist_3 from frame 000073 to frame 100055\n",
      "2021-05-11 18:34:09,216  DEBUG  Added Cyclist_11 from frame 000068 to frame 100055\n",
      "2021-05-11 18:34:09,353  DEBUG  Sample 100055 was created from frame 000055 with the following augmentations: {\n",
      "  \"random_local_rotation\": {\n",
      "    \"LOCAL_ROT_ANGLE\": {\n",
      "      \"object_0\": -0.6239845976895657,\n",
      "      \"object_1\": 0.5244247117302876,\n",
      "      \"object_2\": -0.6020689683500792,\n",
      "      \"object_3\": 0.12771342981672407,\n",
      "      \"object_4\": 0.7536138854207857,\n",
      "      \"object_5\": -0.7576666715584957,\n",
      "      \"object_6\": 0.6737653478983765,\n",
      "      \"object_7\": 0.5845916089507905,\n",
      "      \"object_8\": 0.08940458607462987,\n",
      "      \"object_9\": -0.5744438940825203,\n",
      "      \"object_10\": 0.2749836601748412,\n",
      "      \"object_11\": 0.4743848778309496,\n",
      "      \"object_12\": -0.6306276306840202,\n",
      "      \"object_13\": 0.7852285206882625,\n",
      "      \"object_14\": 0.09932087541561052,\n",
      "      \"object_15\": -0.3765203881813135,\n",
      "      \"object_16\": 0.6836627611869579,\n",
      "      \"object_17\": -0.04275412474794704,\n",
      "      \"object_18\": 0.14338634374268944,\n",
      "      \"object_19\": -0.2273115361471829,\n",
      "      \"object_20\": -0.35067480970934617,\n",
      "      \"object_21\": -0.2465514005674817,\n",
      "      \"object_22\": -0.2548953783208069,\n",
      "      \"object_23\": 0.40736277467286275,\n",
      "      \"object_24\": 0.35023278338061936,\n",
      "      \"object_25\": 0.3014691905914131,\n",
      "      \"object_26\": -0.1682062285741759,\n",
      "      \"object_27\": -0.31336696362925026,\n",
      "      \"object_28\": -0.38410892794394197,\n",
      "      \"object_29\": 0.19264816352394565\n",
      "    }\n",
      "  },\n",
      "  \"random_local_scaling\": {\n",
      "    \"LOCAL_SCALE\": {\n",
      "      \"object_0\": 1.041957507940377,\n",
      "      \"object_1\": 1.0079507860885109,\n",
      "      \"object_2\": 1.0198212187912674,\n",
      "      \"object_3\": 0.985591090861406,\n",
      "      \"object_4\": 0.9846452848880656,\n",
      "      \"object_5\": 0.9611286821601307,\n",
      "      \"object_6\": 1.0478561161932307,\n",
      "      \"object_7\": 0.9531190613972322,\n",
      "      \"object_8\": 0.951527193714876,\n",
      "      \"object_9\": 0.9534014484414929,\n",
      "      \"object_10\": 1.0448886362213758,\n",
      "      \"object_11\": 0.957245432126793,\n",
      "      \"object_12\": 1.0339962439879833,\n",
      "      \"object_13\": 1.0008297738097767,\n",
      "      \"object_14\": 1.0352685958743308,\n",
      "      \"object_15\": 1.0389344456483134,\n",
      "      \"object_16\": 0.9995296090460776,\n",
      "      \"object_17\": 0.9587650819031549,\n",
      "      \"object_18\": 1.0037659068002447,\n",
      "      \"object_19\": 1.0466073094947366,\n",
      "      \"object_20\": 1.0189192184122646,\n",
      "      \"object_21\": 1.0402120956370147,\n",
      "      \"object_22\": 1.0456434058114081,\n",
      "      \"object_23\": 1.0068600196832522,\n",
      "      \"object_24\": 0.9506343354101783,\n",
      "      \"object_25\": 0.9969379230628748,\n",
      "      \"object_26\": 0.9544869808394798,\n",
      "      \"object_27\": 0.9791542596695133,\n",
      "      \"object_28\": 1.01574508263342,\n",
      "      \"object_29\": 0.9534676225395108\n",
      "    }\n",
      "  },\n",
      "  \"random_world_flip\": {\n",
      "    \"ALONG_AXIS_x\": \"False\"\n",
      "  },\n",
      "  \"random_world_rotation\": {\n",
      "    \"WORLD_ROT_ANGLE\": 0.5263511547558719,\n",
      "    \"WORLD_SCALE\": 1.0046491633594683\n",
      "  },\n",
      "  \"random_world_translation\": {\n",
      "    \"ALONG_AXIS_x\": -0.8998512540945234,\n",
      "    \"ALONG_AXIS_y\": 0.48446071543106606\n",
      "  },\n",
      "  \"random_local_translation\": {\n",
      "    \"ALONG_AXIS_x\": {\n",
      "      \"object_0\": 0.12416624000166876,\n",
      "      \"object_1\": 0.4140621063515122,\n",
      "      \"object_2\": -0.05021250117340759,\n",
      "      \"object_3\": 0.4960322115265179,\n",
      "      \"object_4\": -0.11204627832108116,\n",
      "      \"object_5\": -0.5640762913330585,\n",
      "      \"object_6\": 0.133709426539542,\n",
      "      \"object_7\": -0.40965094712812544,\n",
      "      \"object_8\": 0.7967531260917184,\n",
      "      \"object_9\": 0.9819377701402259,\n",
      "      \"object_10\": -0.4822225762575125,\n",
      "      \"object_11\": -0.3682067377365401,\n",
      "      \"object_12\": 0.9219622271640269,\n",
      "      \"object_13\": -0.08669182071755765,\n",
      "      \"object_14\": -0.8489226910780673,\n",
      "      \"object_15\": 0.6750159849527402,\n",
      "      \"object_16\": -0.6925861452525359,\n",
      "      \"object_17\": -0.01748013653305036,\n",
      "      \"object_18\": -0.11581955020293544,\n",
      "      \"object_19\": -0.3128046930619639,\n",
      "      \"object_20\": -0.4732146269047308,\n",
      "      \"object_21\": -0.5176340429999028,\n",
      "      \"object_22\": -0.17775304383401946,\n",
      "      \"object_23\": -0.023840709589277864,\n",
      "      \"object_24\": -0.6013640357931831,\n",
      "      \"object_25\": 1.049749213431858,\n",
      "      \"object_26\": -0.9614509305553826,\n",
      "      \"object_27\": -0.5694804937138609,\n",
      "      \"object_28\": 0.1727825510914447,\n",
      "      \"object_29\": 0.3384122177754225\n",
      "    },\n",
      "    \"ALONG_AXIS_y\": {\n",
      "      \"object_0\": 0.4005102674330385,\n",
      "      \"object_1\": 0.8996312540665368,\n",
      "      \"object_2\": -0.4551567435782983,\n",
      "      \"object_3\": 0.5104611465092272,\n",
      "      \"object_4\": -0.6771000825778066,\n",
      "      \"object_5\": 0.0637811257028651,\n",
      "      \"object_6\": 0.9083141203014631,\n",
      "      \"object_7\": 0.14784779419260907,\n",
      "      \"object_8\": 0.6275798761482321,\n",
      "      \"object_9\": -0.8151145769089115,\n",
      "      \"object_10\": 0.8292932632317642,\n",
      "      \"object_11\": 0.4703407648431217,\n",
      "      \"object_12\": 0.2833204698479699,\n",
      "      \"object_13\": 0.972363793939633,\n",
      "      \"object_14\": 0.3121653145281118,\n",
      "      \"object_15\": 0.3792723877753734,\n",
      "      \"object_16\": 0.6306158218461209,\n",
      "      \"object_17\": -0.8787860544535724,\n",
      "      \"object_18\": -0.04848623357362869,\n",
      "      \"object_19\": -0.8401489330863778,\n",
      "      \"object_20\": -0.5682985966787351,\n",
      "      \"object_21\": 0.13902278826917547,\n",
      "      \"object_22\": -0.15892536230036647,\n",
      "      \"object_23\": 0.7557447744389514,\n",
      "      \"object_24\": -0.42175448738546706,\n",
      "      \"object_25\": 1.0195227688982487,\n",
      "      \"object_26\": 0.1136214837995666,\n",
      "      \"object_27\": 0.4186812394726267,\n",
      "      \"object_28\": -0.9485589274398538,\n",
      "      \"object_29\": 0.026357481467271127\n",
      "    }\n",
      "  }\n",
      "}\n",
      "2021-05-11 18:34:09,353   INFO  Loaded sample index: \t87\n"
     ]
    }
   ],
   "source": [
    "cfg_from_yaml_file('tools/cfgs/dataset_configs/kitti_dataset.yaml', cfg)\n",
    "# cfg_from_yaml_file('tools/cfgs/kitti_models/pointpillar_augs.yaml', cfg)\n",
    "\n",
    "cfg.DATA_PATH = 'data/kitti'\n",
    "\n",
    "train_set, train_loader, train_sampler = build_dataloader(\n",
    "    dataset_cfg=cfg,\n",
    "    class_names=['Car', 'Pedestrian', 'Cyclist'],\n",
    "    batch_size=1,\n",
    "    dist=False,\n",
    "    workers=4,\n",
    "    logger=logger,\n",
    "    training=True,\n",
    "    merge_all_iters_to_one_epoch=False,\n",
    "    total_epochs=0\n",
    ")\n",
    "\n",
    "logger.info(f'Total number of samples: \\t{len(train_set)}')\n",
    "\n",
    "data_dict_list = []\n",
    "logger.info('Loading samples')\n",
    "for idx, data_dict in enumerate(train_set):\n",
    "    logger.info(f'Loaded sample index: \\t{idx + 1}')\n",
    "    data_dict = train_set.collate_batch([data_dict])\n",
    "    data_dict_list.append(data_dict)\n",
    "    #if idx > 8: break\n"
   ]
  },
  {
   "cell_type": "code",
   "execution_count": 5,
   "metadata": {},
   "outputs": [
    {
     "output_type": "execute_result",
     "data": {
      "text/plain": [
       "''"
      ]
     },
     "metadata": {},
     "execution_count": 5
    }
   ],
   "source": [
    "cfg_from_yaml_file('tools/cfgs/kitti_models/pointpillar_augs.yaml', cfg)\n",
    ";"
   ]
  },
  {
   "cell_type": "code",
   "execution_count": 6,
   "metadata": {},
   "outputs": [
    {
     "output_type": "error",
     "ename": "AssertionError",
     "evalue": "",
     "traceback": [
      "\u001b[0;31m---------------------------------------------------------------------------\u001b[0m",
      "\u001b[0;31mAssertionError\u001b[0m                            Traceback (most recent call last)",
      "\u001b[0;32m<ipython-input-6-b487fa39338d>\u001b[0m in \u001b[0;36m<module>\u001b[0;34m\u001b[0m\n\u001b[0;32m----> 1\u001b[0;31m \u001b[0mmodel\u001b[0m \u001b[0;34m=\u001b[0m \u001b[0mbuild_network\u001b[0m\u001b[0;34m(\u001b[0m\u001b[0mmodel_cfg\u001b[0m\u001b[0;34m=\u001b[0m\u001b[0mcfg\u001b[0m\u001b[0;34m.\u001b[0m\u001b[0mMODEL\u001b[0m\u001b[0;34m,\u001b[0m \u001b[0mnum_class\u001b[0m\u001b[0;34m=\u001b[0m\u001b[0mlen\u001b[0m\u001b[0;34m(\u001b[0m\u001b[0mcfg\u001b[0m\u001b[0;34m.\u001b[0m\u001b[0mCLASS_NAMES\u001b[0m\u001b[0;34m)\u001b[0m\u001b[0;34m,\u001b[0m \u001b[0mdataset\u001b[0m\u001b[0;34m=\u001b[0m\u001b[0mtrain_set\u001b[0m\u001b[0;34m)\u001b[0m\u001b[0;34m\u001b[0m\u001b[0;34m\u001b[0m\u001b[0m\n\u001b[0m",
      "\u001b[0;32m~/Desktop/thesis/OpenPCDet/pcdet/models/__init__.py\u001b[0m in \u001b[0;36mbuild_network\u001b[0;34m(model_cfg, num_class, dataset)\u001b[0m\n\u001b[1;32m      8\u001b[0m \u001b[0;34m\u001b[0m\u001b[0m\n\u001b[1;32m      9\u001b[0m \u001b[0;32mdef\u001b[0m \u001b[0mbuild_network\u001b[0m\u001b[0;34m(\u001b[0m\u001b[0mmodel_cfg\u001b[0m\u001b[0;34m,\u001b[0m \u001b[0mnum_class\u001b[0m\u001b[0;34m,\u001b[0m \u001b[0mdataset\u001b[0m\u001b[0;34m)\u001b[0m\u001b[0;34m:\u001b[0m\u001b[0;34m\u001b[0m\u001b[0;34m\u001b[0m\u001b[0m\n\u001b[0;32m---> 10\u001b[0;31m     model = build_detector(\n\u001b[0m\u001b[1;32m     11\u001b[0m         \u001b[0mmodel_cfg\u001b[0m\u001b[0;34m=\u001b[0m\u001b[0mmodel_cfg\u001b[0m\u001b[0;34m,\u001b[0m \u001b[0mnum_class\u001b[0m\u001b[0;34m=\u001b[0m\u001b[0mnum_class\u001b[0m\u001b[0;34m,\u001b[0m \u001b[0mdataset\u001b[0m\u001b[0;34m=\u001b[0m\u001b[0mdataset\u001b[0m\u001b[0;34m\u001b[0m\u001b[0;34m\u001b[0m\u001b[0m\n\u001b[1;32m     12\u001b[0m     )\n",
      "\u001b[0;32m~/Desktop/thesis/OpenPCDet/pcdet/models/detectors/__init__.py\u001b[0m in \u001b[0;36mbuild_detector\u001b[0;34m(model_cfg, num_class, dataset)\u001b[0m\n\u001b[1;32m     17\u001b[0m \u001b[0;34m\u001b[0m\u001b[0m\n\u001b[1;32m     18\u001b[0m \u001b[0;32mdef\u001b[0m \u001b[0mbuild_detector\u001b[0m\u001b[0;34m(\u001b[0m\u001b[0mmodel_cfg\u001b[0m\u001b[0;34m,\u001b[0m \u001b[0mnum_class\u001b[0m\u001b[0;34m,\u001b[0m \u001b[0mdataset\u001b[0m\u001b[0;34m)\u001b[0m\u001b[0;34m:\u001b[0m\u001b[0;34m\u001b[0m\u001b[0;34m\u001b[0m\u001b[0m\n\u001b[0;32m---> 19\u001b[0;31m     model = __all__[model_cfg.NAME](\n\u001b[0m\u001b[1;32m     20\u001b[0m         \u001b[0mmodel_cfg\u001b[0m\u001b[0;34m=\u001b[0m\u001b[0mmodel_cfg\u001b[0m\u001b[0;34m,\u001b[0m \u001b[0mnum_class\u001b[0m\u001b[0;34m=\u001b[0m\u001b[0mnum_class\u001b[0m\u001b[0;34m,\u001b[0m \u001b[0mdataset\u001b[0m\u001b[0;34m=\u001b[0m\u001b[0mdataset\u001b[0m\u001b[0;34m\u001b[0m\u001b[0;34m\u001b[0m\u001b[0m\n\u001b[1;32m     21\u001b[0m     )\n",
      "\u001b[0;32m~/Desktop/thesis/OpenPCDet/pcdet/models/detectors/pointpillar.py\u001b[0m in \u001b[0;36m__init__\u001b[0;34m(self, model_cfg, num_class, dataset)\u001b[0m\n\u001b[1;32m      5\u001b[0m     \u001b[0;32mdef\u001b[0m \u001b[0m__init__\u001b[0m\u001b[0;34m(\u001b[0m\u001b[0mself\u001b[0m\u001b[0;34m,\u001b[0m \u001b[0mmodel_cfg\u001b[0m\u001b[0;34m,\u001b[0m \u001b[0mnum_class\u001b[0m\u001b[0;34m,\u001b[0m \u001b[0mdataset\u001b[0m\u001b[0;34m)\u001b[0m\u001b[0;34m:\u001b[0m\u001b[0;34m\u001b[0m\u001b[0;34m\u001b[0m\u001b[0m\n\u001b[1;32m      6\u001b[0m         \u001b[0msuper\u001b[0m\u001b[0;34m(\u001b[0m\u001b[0;34m)\u001b[0m\u001b[0;34m.\u001b[0m\u001b[0m__init__\u001b[0m\u001b[0;34m(\u001b[0m\u001b[0mmodel_cfg\u001b[0m\u001b[0;34m=\u001b[0m\u001b[0mmodel_cfg\u001b[0m\u001b[0;34m,\u001b[0m \u001b[0mnum_class\u001b[0m\u001b[0;34m=\u001b[0m\u001b[0mnum_class\u001b[0m\u001b[0;34m,\u001b[0m \u001b[0mdataset\u001b[0m\u001b[0;34m=\u001b[0m\u001b[0mdataset\u001b[0m\u001b[0;34m)\u001b[0m\u001b[0;34m\u001b[0m\u001b[0;34m\u001b[0m\u001b[0m\n\u001b[0;32m----> 7\u001b[0;31m         \u001b[0mself\u001b[0m\u001b[0;34m.\u001b[0m\u001b[0mmodule_list\u001b[0m \u001b[0;34m=\u001b[0m \u001b[0mself\u001b[0m\u001b[0;34m.\u001b[0m\u001b[0mbuild_networks\u001b[0m\u001b[0;34m(\u001b[0m\u001b[0;34m)\u001b[0m\u001b[0;34m\u001b[0m\u001b[0;34m\u001b[0m\u001b[0m\n\u001b[0m\u001b[1;32m      8\u001b[0m \u001b[0;34m\u001b[0m\u001b[0m\n\u001b[1;32m      9\u001b[0m     \u001b[0;32mdef\u001b[0m \u001b[0mforward\u001b[0m\u001b[0;34m(\u001b[0m\u001b[0mself\u001b[0m\u001b[0;34m,\u001b[0m \u001b[0mbatch_dict\u001b[0m\u001b[0;34m)\u001b[0m\u001b[0;34m:\u001b[0m\u001b[0;34m\u001b[0m\u001b[0;34m\u001b[0m\u001b[0m\n",
      "\u001b[0;32m~/Desktop/thesis/OpenPCDet/pcdet/models/detectors/detector3d_template.py\u001b[0m in \u001b[0;36mbuild_networks\u001b[0;34m(self)\u001b[0m\n\u001b[1;32m     42\u001b[0m         }\n\u001b[1;32m     43\u001b[0m         \u001b[0;32mfor\u001b[0m \u001b[0mmodule_name\u001b[0m \u001b[0;32min\u001b[0m \u001b[0mself\u001b[0m\u001b[0;34m.\u001b[0m\u001b[0mmodule_topology\u001b[0m\u001b[0;34m:\u001b[0m\u001b[0;34m\u001b[0m\u001b[0;34m\u001b[0m\u001b[0m\n\u001b[0;32m---> 44\u001b[0;31m             module, model_info_dict = getattr(self, 'build_%s' % module_name)(\n\u001b[0m\u001b[1;32m     45\u001b[0m                 \u001b[0mmodel_info_dict\u001b[0m\u001b[0;34m=\u001b[0m\u001b[0mmodel_info_dict\u001b[0m\u001b[0;34m\u001b[0m\u001b[0;34m\u001b[0m\u001b[0m\n\u001b[1;32m     46\u001b[0m             )\n",
      "\u001b[0;32m~/Desktop/thesis/OpenPCDet/pcdet/models/detectors/detector3d_template.py\u001b[0m in \u001b[0;36mbuild_map_to_bev_module\u001b[0;34m(self, model_info_dict)\u001b[0m\n\u001b[1;32m     81\u001b[0m             \u001b[0;32mreturn\u001b[0m \u001b[0;32mNone\u001b[0m\u001b[0;34m,\u001b[0m \u001b[0mmodel_info_dict\u001b[0m\u001b[0;34m\u001b[0m\u001b[0;34m\u001b[0m\u001b[0m\n\u001b[1;32m     82\u001b[0m \u001b[0;34m\u001b[0m\u001b[0m\n\u001b[0;32m---> 83\u001b[0;31m         map_to_bev_module = map_to_bev.__all__[self.model_cfg.MAP_TO_BEV.NAME](\n\u001b[0m\u001b[1;32m     84\u001b[0m             \u001b[0mmodel_cfg\u001b[0m\u001b[0;34m=\u001b[0m\u001b[0mself\u001b[0m\u001b[0;34m.\u001b[0m\u001b[0mmodel_cfg\u001b[0m\u001b[0;34m.\u001b[0m\u001b[0mMAP_TO_BEV\u001b[0m\u001b[0;34m,\u001b[0m\u001b[0;34m\u001b[0m\u001b[0;34m\u001b[0m\u001b[0m\n\u001b[1;32m     85\u001b[0m             \u001b[0mgrid_size\u001b[0m\u001b[0;34m=\u001b[0m\u001b[0mmodel_info_dict\u001b[0m\u001b[0;34m[\u001b[0m\u001b[0;34m'grid_size'\u001b[0m\u001b[0;34m]\u001b[0m\u001b[0;34m\u001b[0m\u001b[0;34m\u001b[0m\u001b[0m\n",
      "\u001b[0;32m~/Desktop/thesis/OpenPCDet/pcdet/models/backbones_2d/map_to_bev/pointpillar_scatter.py\u001b[0m in \u001b[0;36m__init__\u001b[0;34m(self, model_cfg, grid_size, **kwargs)\u001b[0m\n\u001b[1;32m     10\u001b[0m         \u001b[0mself\u001b[0m\u001b[0;34m.\u001b[0m\u001b[0mnum_bev_features\u001b[0m \u001b[0;34m=\u001b[0m \u001b[0mself\u001b[0m\u001b[0;34m.\u001b[0m\u001b[0mmodel_cfg\u001b[0m\u001b[0;34m.\u001b[0m\u001b[0mNUM_BEV_FEATURES\u001b[0m\u001b[0;34m\u001b[0m\u001b[0;34m\u001b[0m\u001b[0m\n\u001b[1;32m     11\u001b[0m         \u001b[0mself\u001b[0m\u001b[0;34m.\u001b[0m\u001b[0mnx\u001b[0m\u001b[0;34m,\u001b[0m \u001b[0mself\u001b[0m\u001b[0;34m.\u001b[0m\u001b[0mny\u001b[0m\u001b[0;34m,\u001b[0m \u001b[0mself\u001b[0m\u001b[0;34m.\u001b[0m\u001b[0mnz\u001b[0m \u001b[0;34m=\u001b[0m \u001b[0mgrid_size\u001b[0m\u001b[0;34m\u001b[0m\u001b[0;34m\u001b[0m\u001b[0m\n\u001b[0;32m---> 12\u001b[0;31m         \u001b[0;32massert\u001b[0m \u001b[0mself\u001b[0m\u001b[0;34m.\u001b[0m\u001b[0mnz\u001b[0m \u001b[0;34m==\u001b[0m \u001b[0;36m1\u001b[0m\u001b[0;34m\u001b[0m\u001b[0;34m\u001b[0m\u001b[0m\n\u001b[0m\u001b[1;32m     13\u001b[0m \u001b[0;34m\u001b[0m\u001b[0m\n\u001b[1;32m     14\u001b[0m     \u001b[0;32mdef\u001b[0m \u001b[0mforward\u001b[0m\u001b[0;34m(\u001b[0m\u001b[0mself\u001b[0m\u001b[0;34m,\u001b[0m \u001b[0mbatch_dict\u001b[0m\u001b[0;34m,\u001b[0m \u001b[0;34m**\u001b[0m\u001b[0mkwargs\u001b[0m\u001b[0;34m)\u001b[0m\u001b[0;34m:\u001b[0m\u001b[0;34m\u001b[0m\u001b[0;34m\u001b[0m\u001b[0m\n",
      "\u001b[0;31mAssertionError\u001b[0m: "
     ]
    }
   ],
   "source": [
    "model = build_network(model_cfg=cfg.MODEL, num_class=len(cfg.CLASS_NAMES), dataset=train_set)"
   ]
  },
  {
   "cell_type": "code",
   "execution_count": null,
   "metadata": {},
   "outputs": [],
   "source": [
    "batch_dict = data_dict_list[2]\n",
    "pred_dicts = None\n",
    "#annos = dataset.generate_prediction_dicts(batch_dict, pred_dicts, ['Car', 'Pedestrian', 'Cyclist'])"
   ]
  },
  {
   "cell_type": "code",
   "execution_count": null,
   "metadata": {},
   "outputs": [],
   "source": [
    "info = train_set.get_infos()\n",
    ";"
   ]
  },
  {
   "cell_type": "code",
   "execution_count": null,
   "metadata": {},
   "outputs": [],
   "source": [
    "info[0]"
   ]
  },
  {
   "cell_type": "code",
   "execution_count": null,
   "metadata": {},
   "outputs": [],
   "source": [
    "train_set[2]"
   ]
  },
  {
   "cell_type": "code",
   "execution_count": null,
   "metadata": {},
   "outputs": [],
   "source": [
    "with open('data/kitti/kitti_infos_train.pkl', \"rb\") as pickle_file:\n",
    "    info = pickle.load(pickle_file)"
   ]
  },
  {
   "cell_type": "code",
   "execution_count": 4,
   "metadata": {},
   "outputs": [],
   "source": [
    "scene = data_dict_list[2]"
   ]
  },
  {
   "cell_type": "code",
   "execution_count": 5,
   "metadata": {},
   "outputs": [
    {
     "output_type": "execute_result",
     "data": {
      "text/plain": [
       "{'points': array([[  0.   ,   6.619,   0.612,  -1.683,   0.25 ],\n",
       "        [  0.   ,  12.1  ,   2.789,  -1.616,   0.29 ],\n",
       "        [  0.   ,  44.345,   9.378,   1.454,   0.32 ],\n",
       "        ...,\n",
       "        [  0.   ,  34.898,  16.211,   1.085,   0.   ],\n",
       "        [  0.   ,  15.821, -13.499,  -1.229,   0.42 ],\n",
       "        [  0.   ,  42.839,  16.324,   0.67 ,   0.   ]], dtype=float32),\n",
       " 'frame_id': array(['000007'], dtype='<U6'),\n",
       " 'calib': array([<pcdet.utils.calibration_kitti.Calibration object at 0x7f19b44c6fa0>],\n",
       "       dtype=object),\n",
       " 'gt_boxes': array([[[ 2.5299036e+01,  7.0895809e-01, -6.8842334e-01,  3.2000000e+00,\n",
       "           1.6600000e+00,  1.6100000e+00,  1.9203663e-02,  1.0000000e+00],\n",
       "         [ 4.7838207e+01,  7.4533925e+00, -6.7663211e-01,  3.7000000e+00,\n",
       "           1.5100000e+00,  1.4000000e+00, -3.1207962e+00,  1.0000000e+00],\n",
       "         [ 6.0806362e+01,  4.7333612e+00, -3.6983013e-01,  4.0500002e+00,\n",
       "           1.6600000e+00,  1.4600000e+00, -3.1307964e+00,  1.0000000e+00],\n",
       "         [ 3.4377724e+01,  1.2651429e+01, -6.0237658e-01,  1.9500000e+00,\n",
       "           5.0000000e-01,  1.7200000e+00, -3.1107965e+00,  3.0000000e+00]]],\n",
       "       dtype=float32),\n",
       " 'use_lead_xyz': array([ True]),\n",
       " 'voxels': array([[[  6.619,   0.612,  -1.683,   0.25 ],\n",
       "         [  6.611,   0.632,  -1.682,   0.17 ],\n",
       "         [  0.   ,   0.   ,   0.   ,   0.   ],\n",
       "         [  0.   ,   0.   ,   0.   ,   0.   ],\n",
       "         [  0.   ,   0.   ,   0.   ,   0.   ]],\n",
       " \n",
       "        [[ 12.1  ,   2.789,  -1.616,   0.29 ],\n",
       "         [  0.   ,   0.   ,   0.   ,   0.   ],\n",
       "         [  0.   ,   0.   ,   0.   ,   0.   ],\n",
       "         [  0.   ,   0.   ,   0.   ,   0.   ],\n",
       "         [  0.   ,   0.   ,   0.   ,   0.   ]],\n",
       " \n",
       "        [[ 34.522,  16.438,   0.789,   0.31 ],\n",
       "         [  0.   ,   0.   ,   0.   ,   0.   ],\n",
       "         [  0.   ,   0.   ,   0.   ,   0.   ],\n",
       "         [  0.   ,   0.   ,   0.   ,   0.   ],\n",
       "         [  0.   ,   0.   ,   0.   ,   0.   ]],\n",
       " \n",
       "        ...,\n",
       " \n",
       "        [[ 17.836, -13.303,  -1.584,   0.34 ],\n",
       "         [  0.   ,   0.   ,   0.   ,   0.   ],\n",
       "         [  0.   ,   0.   ,   0.   ,   0.   ],\n",
       "         [  0.   ,   0.   ,   0.   ,   0.   ],\n",
       "         [  0.   ,   0.   ,   0.   ,   0.   ]],\n",
       " \n",
       "        [[ 15.821, -13.499,  -1.229,   0.42 ],\n",
       "         [  0.   ,   0.   ,   0.   ,   0.   ],\n",
       "         [  0.   ,   0.   ,   0.   ,   0.   ],\n",
       "         [  0.   ,   0.   ,   0.   ,   0.   ],\n",
       "         [  0.   ,   0.   ,   0.   ,   0.   ]],\n",
       " \n",
       "        [[ 42.839,  16.324,   0.67 ,   0.   ],\n",
       "         [  0.   ,   0.   ,   0.   ,   0.   ],\n",
       "         [  0.   ,   0.   ,   0.   ,   0.   ],\n",
       "         [  0.   ,   0.   ,   0.   ,   0.   ],\n",
       "         [  0.   ,   0.   ,   0.   ,   0.   ]]], dtype=float32),\n",
       " 'voxel_coords': array([[   0,   13,  812,  132],\n",
       "        [   0,   13,  855,  242],\n",
       "        [   0,   37, 1128,  690],\n",
       "        ...,\n",
       "        [   0,   14,  533,  356],\n",
       "        [   0,   17,  530,  316],\n",
       "        [   0,   36, 1126,  856]], dtype=int32),\n",
       " 'voxel_num_points': array([2, 1, 1, ..., 1, 1, 1], dtype=int32),\n",
       " 'image_shape': array([[ 375, 1242]], dtype=int32),\n",
       " 'batch_size': 1}"
      ]
     },
     "metadata": {},
     "execution_count": 5
    }
   ],
   "source": [
    "scene"
   ]
  },
  {
   "cell_type": "code",
   "execution_count": 6,
   "metadata": {},
   "outputs": [],
   "source": [
    "def show_pc(data_dict):\n",
    "    V.draw_scenes(\n",
    "        points=data_dict['points'][:, 1:], gt_boxes=data_dict['gt_boxes'][0]\n",
    "    )\n",
    "\n",
    "    return mlab.test_plot3d()\n"
   ]
  },
  {
   "source": [
    "## Visualizing the original scene\n",
    "![Original Camera Image](data/kitti/training/image_2/000004.png)\n"
   ],
   "cell_type": "markdown",
   "metadata": {}
  },
  {
   "cell_type": "code",
   "execution_count": 14,
   "metadata": {},
   "outputs": [
    {
     "output_type": "display_data",
     "data": {
      "text/plain": "Image(value=b'\\x89PNG\\r\\n\\x1a\\n\\x00\\x00\\x00\\rIHDR\\x00\\x00\\x02X\\x00\\x00\\x02X\\x08\\x02\\x00\\x00\\x001\\x04\\x0f\\x8b\\x…",
      "application/vnd.jupyter.widget-view+json": {
       "version_major": 2,
       "version_minor": 0,
       "model_id": "96883ad2bc5d4cbabf4feab1f7d24fac"
      }
     },
     "metadata": {}
    }
   ],
   "source": [
    "show_pc(data_dict_list[32])\n",
    "mlab.savefig('3d_renders/aug_pipeline_output.obj')\n",
    "mlab.savefig('figs/aug_pipeline_output.png')\n",
    "mlab.test_plot3d()"
   ]
  },
  {
   "cell_type": "code",
   "execution_count": null,
   "metadata": {},
   "outputs": [],
   "source": [
    "for scene in data_dict_list:\n",
    "    label_text = \"\"\n",
    "    for idx, name in enumerate(scene['gt_names']):\n",
    "        label_text = label_text+'%s %.2f %d %.2f %.2f %.2f %.2f %.2f %.2f %.2f %.2f %.2f %.2f %.2f %.2f %.2f'\n",
    "    % (name, scene['truncation'][idx], scene['occlusionA'][idx], scene['alpha'][idx], bbox[idx][0], bbox[idx][1], bbox[idx][2], bbox[idx][3],\n",
    "    dims[idx][1], dims[idx][2], dims[idx][0], loc[idx][0], loc[idx][1], loc[idx][2],\n",
    "    single_pred_dict['rotation_y'][idx], single_pred_dict['score'][idx])\n",
    "    with open(f'data/augmented_kitti/training/label_2/{}.txt', 'w') as label_file:\n",
    "        "
   ]
  },
  {
   "source": [
    "## Augmentation methods"
   ],
   "cell_type": "markdown",
   "metadata": {}
  },
  {
   "source": [
    "### Random flip"
   ],
   "cell_type": "markdown",
   "metadata": {}
  },
  {
   "cell_type": "code",
   "execution_count": null,
   "metadata": {},
   "outputs": [],
   "source": [
    "def random_flip_along_x(gt_boxes, points):\n",
    "    \"\"\"\n",
    "    Args:\n",
    "        gt_boxes: (N, 7 + C), [x, y, z, dx, dy, dz, heading, [vx], [vy]]\n",
    "        points: (M, 3 + C)\n",
    "    Returns:\n",
    "    \"\"\"\n",
    "    enable = True\n",
    "    if enable:\n",
    "        gt_boxes[:, 1] = -gt_boxes[:, 1]\n",
    "        gt_boxes[:, 6] = -gt_boxes[:, 6]\n",
    "        points[:, 1] = -points[:, 1]\n",
    "\n",
    "        if gt_boxes.shape[1] > 8:\n",
    "            gt_boxes[:, 8] = -gt_boxes[:, 8]\n",
    "\n",
    "    return gt_boxes, points\n",
    "\n",
    "def random_flip_along_y(gt_boxes, points):\n",
    "    \"\"\"\n",
    "    Args:\n",
    "        gt_boxes: (N, 7 + C), [x, y, z, dx, dy, dz, heading, [vx], [vy]]\n",
    "        points: (M, 3 + C)\n",
    "    Returns:\n",
    "    \"\"\"\n",
    "    enable = True\n",
    "    if enable:\n",
    "        gt_boxes[:, 0] = -gt_boxes[:, 0]\n",
    "        gt_boxes[:, 6] = -(gt_boxes[:, 6] + np.pi)\n",
    "        points[:, 0] = -points[:, 0]\n",
    "\n",
    "        if gt_boxes.shape[1] > 7:\n",
    "            gt_boxes[:, 7] = -gt_boxes[:, 7]\n",
    "\n",
    "    return gt_boxes, points"
   ]
  },
  {
   "cell_type": "code",
   "execution_count": null,
   "metadata": {},
   "outputs": [],
   "source": [
    "%%time\n",
    "flipped_y = deepcopy(scene)\n",
    "flipped_y['gt_boxes'][0], flipped_y['points'][:,1:] = random_flip_along_y(flipped_y['gt_boxes'][0], flipped_y['points'][:,1:])"
   ]
  },
  {
   "cell_type": "code",
   "execution_count": null,
   "metadata": {},
   "outputs": [],
   "source": [
    "show_pc(flipped_y)\n",
    "mlab.savefig('figs/flipped_y.png')\n",
    "mlab.test_plot3d()"
   ]
  },
  {
   "cell_type": "code",
   "execution_count": null,
   "metadata": {},
   "outputs": [],
   "source": [
    "%%time\n",
    "flipped_x = deepcopy(scene)\n",
    "flipped_x['gt_boxes'][0], flipped_x['points'][:,1:] = random_flip_along_x(flipped_x['gt_boxes'][0], flipped_x['points'][:,1:])"
   ]
  },
  {
   "cell_type": "code",
   "execution_count": null,
   "metadata": {},
   "outputs": [],
   "source": [
    "show_pc(flipped_x)\n",
    "mlab.savefig('figs/flipped_x.png')\n",
    "mlab.test_plot3d()"
   ]
  },
  {
   "source": [
    "### Global rotation"
   ],
   "cell_type": "markdown",
   "metadata": {}
  },
  {
   "cell_type": "code",
   "execution_count": null,
   "metadata": {},
   "outputs": [],
   "source": [
    "def global_rotation(gt_boxes, points, rot_range):\n",
    "    \"\"\"\n",
    "    Args:\n",
    "        gt_boxes: (N, 7 + C), [x, y, z, dx, dy, dz, heading, [vx], [vy]]\n",
    "        points: (M, 3 + C),\n",
    "        rot_range: [min, max]\n",
    "    Returns:\n",
    "    \"\"\"\n",
    "    noise_rotation = np.random.uniform(rot_range[0], rot_range[1])\n",
    "    points = common_utils.rotate_points_along_z(points[np.newaxis, :, :], np.array([noise_rotation]))[0]\n",
    "    gt_boxes[:, 0:3] = common_utils.rotate_points_along_z(gt_boxes[np.newaxis, :, 0:3], np.array([noise_rotation]))[0]\n",
    "    gt_boxes[:, 6] += noise_rotation\n",
    "    if gt_boxes.shape[1] > 8:\n",
    "        gt_boxes[:, 7:9] = common_utils.rotate_points_along_z(\n",
    "            np.hstack((gt_boxes[:, 7:9], np.zeros((gt_boxes.shape[0], 1))))[np.newaxis, :, :],\n",
    "            np.array([noise_rotation])\n",
    "        )[0][:, 0:2]\n",
    "\n",
    "    return gt_boxes, points"
   ]
  },
  {
   "cell_type": "code",
   "execution_count": null,
   "metadata": {},
   "outputs": [],
   "source": [
    "%%time\n",
    "rotated = deepcopy(scene)\n",
    "rotated['gt_boxes'][0], rotated['points'][:,1:] = global_rotation(rotated['gt_boxes'][0], rotated['points'][:,1:], [-0.78539816, 0.78539816])"
   ]
  },
  {
   "cell_type": "code",
   "execution_count": null,
   "metadata": {},
   "outputs": [],
   "source": [
    "show_pc(rotated)\n",
    "mlab.savefig('figs/rotated_global.png')\n",
    "mlab.test_plot3d()"
   ]
  },
  {
   "source": [
    "### Global scaling"
   ],
   "cell_type": "markdown",
   "metadata": {}
  },
  {
   "cell_type": "code",
   "execution_count": null,
   "metadata": {},
   "outputs": [],
   "source": [
    "def global_scaling(gt_boxes, points, scale_range):\n",
    "    \"\"\"\n",
    "    Args:\n",
    "        gt_boxes: (N, 7), [x, y, z, dx, dy, dz, heading]\n",
    "        points: (M, 3 + C),\n",
    "        scale_range: [min, max]\n",
    "    Returns:\n",
    "    \"\"\"\n",
    "    if scale_range[1] - scale_range[0] < 1e-3:\n",
    "        return gt_boxes, points\n",
    "    noise_scale = np.random.uniform(scale_range[0], scale_range[1])\n",
    "    points[:, :3] *= noise_scale\n",
    "    gt_boxes[:, :6] *= noise_scale\n",
    "    return gt_boxes, points"
   ]
  },
  {
   "cell_type": "code",
   "execution_count": null,
   "metadata": {},
   "outputs": [],
   "source": [
    "%%time\n",
    "scaled = deepcopy(scene)\n",
    "scaled['gt_boxes'][0], scaled['points'][:,1:] = global_scaling(scaled['gt_boxes'][0], scaled['points'][:, 1:], [0.2, 0.5])"
   ]
  },
  {
   "cell_type": "code",
   "execution_count": null,
   "metadata": {},
   "outputs": [],
   "source": [
    "show_pc(scaled)\n",
    "mlab.savefig('figs/scaled_global.png')\n",
    "mlab.test_plot3d()"
   ]
  },
  {
   "source": [
    "### Global translation"
   ],
   "cell_type": "markdown",
   "metadata": {}
  },
  {
   "cell_type": "code",
   "execution_count": null,
   "metadata": {},
   "outputs": [],
   "source": [
    "def random_translation_along_x(gt_boxes, points, offset_range):\n",
    "    \"\"\"\n",
    "    Args:\n",
    "        gt_boxes: (N, 7), [x, y, z, dx, dy, dz, heading, [vx], [vy]]\n",
    "        points: (M, 3 + C),\n",
    "        offset_range: [min max]]\n",
    "    Returns:\n",
    "    \"\"\"\n",
    "    offset = np.random.uniform(offset_range[0], offset_range[1])\n",
    "\n",
    "    points[:, 0] += offset\n",
    "    gt_boxes[:, 0] += offset\n",
    "\n",
    "    if gt_boxes.shape[1] > 7:\n",
    "        gt_boxes[:, 7] += offset\n",
    "\n",
    "    return gt_boxes, points\n",
    "\n",
    "def random_translation_along_y(gt_boxes, points, offset_range):\n",
    "    \"\"\"\n",
    "    Args:\n",
    "        gt_boxes: (N, 7), [x, y, z, dx, dy, dz, heading, [vx], [vy]]\n",
    "        points: (M, 3 + C),\n",
    "        offset_range: [min max]]\n",
    "    Returns:\n",
    "    \"\"\"\n",
    "    offset = np.random.uniform(offset_range[0], offset_range[1])\n",
    "\n",
    "    points[:, 1] += offset\n",
    "    gt_boxes[:, 1] += offset\n",
    "\n",
    "    if gt_boxes.shape[1] > 8:\n",
    "        gt_boxes[:, 8] += offset\n",
    "\n",
    "    return gt_boxes, points\n",
    "\n",
    "def random_translation_along_z(gt_boxes, points, offset_range):\n",
    "    \"\"\"\n",
    "    Args:\n",
    "        gt_boxes: (N, 7), [x, y, z, dx, dy, dz, heading, [vx], [vy]]\n",
    "        points: (M, 3 + C),\n",
    "        offset_range: [min max]]\n",
    "    Returns:\n",
    "    \"\"\"\n",
    "    offset = np.random.uniform(offset_range[0], offset_range[1])\n",
    "\n",
    "    points[:, 2] += offset\n",
    "    gt_boxes[:, 2] += offset\n",
    "\n",
    "    return gt_boxes, points"
   ]
  },
  {
   "cell_type": "code",
   "execution_count": null,
   "metadata": {},
   "outputs": [],
   "source": [
    "%%time\n",
    "translation_x = deepcopy(scene)\n",
    "translation_x['gt_boxes'][0], translation_x['points'][:,1:] = random_translation_along_x(translation_x['gt_boxes'][0], translation_x['points'][:, 1:], [15, 20])"
   ]
  },
  {
   "cell_type": "code",
   "execution_count": null,
   "metadata": {},
   "outputs": [],
   "source": [
    "show_pc(translation_x)\n",
    "mlab.savefig('figs/translation_global_x.png')\n",
    "mlab.test_plot3d()"
   ]
  },
  {
   "cell_type": "code",
   "execution_count": null,
   "metadata": {},
   "outputs": [],
   "source": [
    "%%time\n",
    "translation_y = deepcopy(scene)\n",
    "translation_y['gt_boxes'][0], translation_y['points'][:,1:] = random_translation_along_y(translation_y['gt_boxes'][0], translation_y['points'][:, 1:], [15, 20])"
   ]
  },
  {
   "cell_type": "code",
   "execution_count": null,
   "metadata": {},
   "outputs": [],
   "source": [
    "show_pc(translation_y)\n",
    "mlab.savefig('figs/translation_global_y.png')\n",
    "mlab.test_plot3d()"
   ]
  },
  {
   "cell_type": "code",
   "execution_count": null,
   "metadata": {},
   "outputs": [],
   "source": [
    "%%time\n",
    "translation_z = deepcopy(scene)\n",
    "translation_z['gt_boxes'][0], translation_z['points'][:,1:] = random_translation_along_z(translation_z['gt_boxes'][0], translation_z['points'][:, 1:], [15, 20])"
   ]
  },
  {
   "cell_type": "code",
   "execution_count": null,
   "metadata": {},
   "outputs": [],
   "source": [
    "show_pc(translation_z)\n",
    "mlab.savefig('figs/translation_global_z.png')\n",
    "mlab.test_plot3d()"
   ]
  },
  {
   "source": [
    "### Global frustum dropout"
   ],
   "cell_type": "markdown",
   "metadata": {}
  },
  {
   "cell_type": "code",
   "execution_count": null,
   "metadata": {},
   "outputs": [],
   "source": [
    "def global_frustum_dropout_top(gt_boxes, points, intensity_range):\n",
    "    \"\"\"\n",
    "    Args:\n",
    "        gt_boxes: (N, 7), [x, y, z, dx, dy, dz, heading, [vx], [vy]],\n",
    "        points: (M, 3 + C),\n",
    "        intensity: [min, max]\n",
    "    Returns:\n",
    "    \"\"\"\n",
    "    intensity = np.random.uniform(intensity_range[0], intensity_range[1])\n",
    "\n",
    "    threshold = np.max(points[:, 2]) - intensity * (np.max(points[:, 2]) - np.min(points[:, 2]))\n",
    "    points = points[points[:,2] < threshold]\n",
    "    gt_boxes = gt_boxes[gt_boxes[:,2] < threshold]\n",
    "\n",
    "    return gt_boxes, points\n",
    "\n",
    "def global_frustum_dropout_bottom(gt_boxes, points, intensity_range):\n",
    "    \"\"\"\n",
    "    Args:\n",
    "        gt_boxes: (N, 7), [x, y, z, dx, dy, dz, heading, [vx], [vy]],\n",
    "        points: (M, 3 + C),\n",
    "        intensity: [min, max]\n",
    "    Returns:\n",
    "    \"\"\"\n",
    "    intensity = np.random.uniform(intensity_range[0], intensity_range[1])\n",
    "\n",
    "    threshold = np.min(points[:, 2]) + intensity * (np.max(points[:, 2]) - np.min(points[:, 2]))\n",
    "    points = points[points[:,2] > threshold]\n",
    "    gt_boxes = gt_boxes[gt_boxes[:,2] > threshold]\n",
    "\n",
    "    return gt_boxes, points\n",
    "\n",
    "def global_frustum_dropout_left(gt_boxes, points, intensity_range):\n",
    "    \"\"\"\n",
    "    Args:\n",
    "        gt_boxes: (N, 7), [x, y, z, dx, dy, dz, heading, [vx], [vy]],\n",
    "        points: (M, 3 + C),\n",
    "        intensity: [min, max]\n",
    "    Returns:\n",
    "    \"\"\"\n",
    "    intensity = np.random.uniform(intensity_range[0], intensity_range[1])\n",
    "\n",
    "    threshold = np.max(points[:, 1]) - intensity * (np.max(points[:, 1]) - np.min(points[:, 1]))\n",
    "    points = points[points[:,1] < threshold]\n",
    "    gt_boxes = gt_boxes[gt_boxes[:,1] < threshold]\n",
    "\n",
    "    return gt_boxes, points\n",
    "\n",
    "def global_frustum_dropout_right(gt_boxes, points, intensity_range):\n",
    "    \"\"\"\n",
    "    Args:\n",
    "        gt_boxes: (N, 7), [x, y, z, dx, dy, dz, heading, [vx], [vy]],\n",
    "        points: (M, 3 + C),\n",
    "        intensity: [min, max]\n",
    "    Returns:\n",
    "    \"\"\"\n",
    "    intensity = np.random.uniform(intensity_range[0], intensity_range[1])\n",
    "\n",
    "    threshold = np.min(points[:, 1]) + intensity * (np.max(points[:, 1]) - np.min(points[:, 1]))\n",
    "    points = points[points[:,1] > threshold]\n",
    "    gt_boxes = gt_boxes[gt_boxes[:,1] > threshold]\n",
    "\n",
    "    return gt_boxes, points"
   ]
  },
  {
   "cell_type": "code",
   "execution_count": null,
   "metadata": {},
   "outputs": [],
   "source": [
    "%%time\n",
    "frustum_dropout = deepcopy(scene)\n",
    "frustum_dropout['gt_boxes'], frustum_dropout['points'] = global_frustum_dropout_top(frustum_dropout['gt_boxes'][0], frustum_dropout['points'][:, 1:], [0.4, 0.5])"
   ]
  },
  {
   "cell_type": "code",
   "execution_count": null,
   "metadata": {},
   "outputs": [],
   "source": [
    "V.draw_scenes(\n",
    "        points=frustum_dropout['points'], gt_boxes=frustum_dropout['gt_boxes']\n",
    "    )\n",
    "\n",
    "mlab.savefig('figs/frustum_dropout_top.png')\n",
    "mlab.test_plot3d()"
   ]
  },
  {
   "cell_type": "code",
   "execution_count": null,
   "metadata": {},
   "outputs": [],
   "source": [
    "%%time\n",
    "frustum_dropout = deepcopy(scene)\n",
    "frustum_dropout['gt_boxes'], frustum_dropout['points'] = global_frustum_dropout_bottom(frustum_dropout['gt_boxes'][0], frustum_dropout['points'][:, 1:], [0.4, 0.5])"
   ]
  },
  {
   "cell_type": "code",
   "execution_count": null,
   "metadata": {},
   "outputs": [],
   "source": [
    "V.draw_scenes(\n",
    "        points=frustum_dropout['points'], gt_boxes=frustum_dropout['gt_boxes']\n",
    "    )\n",
    "\n",
    "mlab.savefig('figs/frustum_dropout_bottom.png')\n",
    "mlab.test_plot3d()"
   ]
  },
  {
   "cell_type": "code",
   "execution_count": null,
   "metadata": {},
   "outputs": [],
   "source": [
    "%%time\n",
    "frustum_dropout = deepcopy(scene)\n",
    "frustum_dropout['gt_boxes'], frustum_dropout['points'] = global_frustum_dropout_left(frustum_dropout['gt_boxes'][0], frustum_dropout['points'][:, 1:], [0.4, 0.5])"
   ]
  },
  {
   "cell_type": "code",
   "execution_count": null,
   "metadata": {},
   "outputs": [],
   "source": [
    "V.draw_scenes(\n",
    "        points=frustum_dropout['points'], gt_boxes=frustum_dropout['gt_boxes']\n",
    "    )\n",
    "\n",
    "mlab.savefig('figs/frustum_dropout_left.png')\n",
    "mlab.test_plot3d()"
   ]
  },
  {
   "cell_type": "code",
   "execution_count": null,
   "metadata": {},
   "outputs": [],
   "source": [
    "%%time\n",
    "frustum_dropout = deepcopy(scene)\n",
    "frustum_dropout['gt_boxes'], frustum_dropout['points'] = global_frustum_dropout_right(frustum_dropout['gt_boxes'][0], frustum_dropout['points'][:, 1:], [0.4, 0.5])"
   ]
  },
  {
   "cell_type": "code",
   "execution_count": null,
   "metadata": {},
   "outputs": [],
   "source": [
    "V.draw_scenes(\n",
    "        points=frustum_dropout['points'], gt_boxes=frustum_dropout['gt_boxes']\n",
    "    )\n",
    "\n",
    "mlab.savefig('figs/frustum_dropout_right.png')\n",
    "mlab.test_plot3d()"
   ]
  },
  {
   "source": [
    "#### Aux function to find which points are inside a bounding box"
   ],
   "cell_type": "markdown",
   "metadata": {}
  },
  {
   "cell_type": "code",
   "execution_count": null,
   "metadata": {},
   "outputs": [],
   "source": [
    "def get_points_in_box(points, gt_box):\n",
    "    x, y, z, dx, dy, dz = gt_box[0], gt_box[1], gt_box[2], gt_box[3], gt_box[4], gt_box[5]\n",
    "\n",
    "    mask = np.logical_and(points[:,0] <= x + dx/2, \\\n",
    "         np.logical_and(points[:,0] >= x - dx/2, \\\n",
    "             np.logical_and(points[:,1] <= y + dy/2, \\\n",
    "                 np.logical_and(points[:,1] >= y - dy/2, \\\n",
    "                     np.logical_and(points[:,2] <= z + dz/2, points[:,2] >= z - dz/2)))))\n",
    "\n",
    "    points = points[mask]\n",
    "\n",
    "    return points, mask"
   ]
  },
  {
   "cell_type": "code",
   "execution_count": null,
   "metadata": {},
   "outputs": [],
   "source": [
    "%%time\n",
    "points_to_filter = deepcopy(scene)\n",
    "filtered_points, mask = get_points_in_box(points_to_filter['points'][:,1:], points_to_filter['gt_boxes'][0][1])"
   ]
  },
  {
   "cell_type": "code",
   "execution_count": null,
   "metadata": {
    "tags": []
   },
   "outputs": [],
   "source": [
    "V.draw_scenes(\n",
    "        points=filtered_points, gt_boxes=points_to_filter['gt_boxes'][0,1:]\n",
    "    )\n",
    "\n",
    "mlab.savefig('figs/points_in_box.png')\n",
    "mlab.test_plot3d()"
   ]
  },
  {
   "source": [
    "### Local translation"
   ],
   "cell_type": "markdown",
   "metadata": {}
  },
  {
   "cell_type": "code",
   "execution_count": null,
   "metadata": {},
   "outputs": [],
   "source": [
    "def local_translation_along_x(gt_boxes, points, offset_range):\n",
    "    \"\"\"\n",
    "    Args:\n",
    "        gt_boxes: (N, 7), [x, y, z, dx, dy, dz, heading, [vx], [vy]]\n",
    "        points: (M, 3 + C),\n",
    "        offset_range: [min max]]\n",
    "    Returns:\n",
    "    \"\"\"\n",
    "    for idx, box in enumerate(gt_boxes):\n",
    "        offset = np.random.uniform(offset_range[0], offset_range[1])\n",
    "        points_in_box, mask = get_points_in_box(points, box)\n",
    "        points[mask, 0] += offset\n",
    "\n",
    "        gt_boxes[idx, 0] += offset\n",
    "\n",
    "        if gt_boxes.shape[1] > 7:\n",
    "            gt_boxes[idx, 7] += offset\n",
    "\n",
    "    return gt_boxes, points\n",
    "\n",
    "\n",
    "def local_translation_along_y(gt_boxes, points, offset_range):\n",
    "    \"\"\"\n",
    "    Args:\n",
    "        gt_boxes: (N, 7), [x, y, z, dx, dy, dz, heading, [vx], [vy]]\n",
    "        points: (M, 3 + C),\n",
    "        offset_range: [min max]]\n",
    "    Returns:\n",
    "    \"\"\"\n",
    "    for idx, box in enumerate(gt_boxes):\n",
    "        offset = np.random.uniform(offset_range[0], offset_range[1])\n",
    "        points_in_box, mask = get_points_in_box(points, box)\n",
    "        points[mask, 1] += offset\n",
    "\n",
    "        gt_boxes[idx, 1] += offset\n",
    "\n",
    "        if gt_boxes.shape[1] > 8:\n",
    "            gt_boxes[idx, 8] += offset\n",
    "\n",
    "    return gt_boxes, points\n",
    "\n",
    "\n",
    "def local_translation_along_z(gt_boxes, points, offset_range):\n",
    "    \"\"\"\n",
    "    Args:\n",
    "        gt_boxes: (N, 7), [x, y, z, dx, dy, dz, heading, [vx], [vy]]\n",
    "        points: (M, 3 + C),\n",
    "        offset_range: [min max]]\n",
    "    Returns:\n",
    "    \"\"\"\n",
    "    for idx, box in enumerate(gt_boxes):\n",
    "        offset = np.random.uniform(offset_range[0], offset_range[1])\n",
    "        points_in_box, mask = get_points_in_box(points, box)\n",
    "        points[mask, 2] += offset\n",
    "\n",
    "        gt_boxes[idx, 2] += offset\n",
    "\n",
    "    return gt_boxes, points"
   ]
  },
  {
   "cell_type": "code",
   "execution_count": null,
   "metadata": {},
   "outputs": [],
   "source": [
    "%%time\n",
    "local_translation_x = deepcopy(scene)\n",
    "local_translation_x['gt_boxes'][0], local_translation_x['points'][:,1:] = local_translation_along_x(local_translation_x['gt_boxes'][0], local_translation_x['points'][:, 1:], [10, 15])"
   ]
  },
  {
   "cell_type": "code",
   "execution_count": null,
   "metadata": {
    "tags": []
   },
   "outputs": [],
   "source": [
    "show_pc(local_translation_x)\n",
    "mlab.savefig('figs/translation_local_x.png')\n",
    "mlab.test_plot3d()"
   ]
  },
  {
   "cell_type": "code",
   "execution_count": null,
   "metadata": {},
   "outputs": [],
   "source": [
    "%%time\n",
    "local_translation_y = deepcopy(scene)\n",
    "local_translation_y['gt_boxes'][0], local_translation_y['points'][:,1:] = local_translation_along_y(local_translation_y['gt_boxes'][0], local_translation_y['points'][:, 1:], [10, 15])"
   ]
  },
  {
   "cell_type": "code",
   "execution_count": null,
   "metadata": {},
   "outputs": [],
   "source": [
    "show_pc(local_translation_y)\n",
    "mlab.savefig('figs/translation_local_y.png')\n",
    "mlab.test_plot3d()"
   ]
  },
  {
   "cell_type": "code",
   "execution_count": null,
   "metadata": {},
   "outputs": [],
   "source": [
    "%%time\n",
    "local_translation_z = deepcopy(scene)\n",
    "local_translation_z['gt_boxes'][0], local_translation_z['points'][:,1:] = local_translation_along_z(local_translation_z['gt_boxes'][0], local_translation_z['points'][:, 1:], [10, 15])"
   ]
  },
  {
   "cell_type": "code",
   "execution_count": null,
   "metadata": {},
   "outputs": [],
   "source": [
    "show_pc(local_translation_z)\n",
    "mlab.savefig('figs/translation_local_z.png')\n",
    "mlab.test_plot3d()"
   ]
  },
  {
   "source": [
    "### Local scaling"
   ],
   "cell_type": "markdown",
   "metadata": {}
  },
  {
   "cell_type": "code",
   "execution_count": null,
   "metadata": {},
   "outputs": [],
   "source": [
    "def local_scaling(gt_boxes, points, scale_range):\n",
    "    \"\"\"\n",
    "    Args:\n",
    "        gt_boxes: (N, 7), [x, y, z, dx, dy, dz, heading]\n",
    "        points: (M, 3 + C),\n",
    "        scale_range: [min, max]\n",
    "    Returns:\n",
    "    \"\"\"\n",
    "    if scale_range[1] - scale_range[0] < 1e-3:\n",
    "        return gt_boxes, points\n",
    "\n",
    "    for idx, box in enumerate(gt_boxes):\n",
    "        noise_scale = np.random.uniform(scale_range[0], scale_range[1])\n",
    "        points_in_box, mask = get_points_in_box(points, box)\n",
    "        \n",
    "        # tranlation to axis center\n",
    "        points[mask, 0] -= box[0]\n",
    "        points[mask, 1] -= box[1]\n",
    "        points[mask, 2] -= box[2]\n",
    "\n",
    "        # apply scaling\n",
    "        points[mask, :3] *= noise_scale\n",
    "\n",
    "        # tranlation back to original position\n",
    "        points[mask, 0] += box[0]\n",
    "        points[mask, 1] += box[1]\n",
    "        points[mask, 2] += box[2]\n",
    "\n",
    "        gt_boxes[idx, 3:6] *= noise_scale\n",
    "    return gt_boxes, points"
   ]
  },
  {
   "cell_type": "code",
   "execution_count": null,
   "metadata": {},
   "outputs": [],
   "source": [
    "%%time\n",
    "scaled_local = deepcopy(scene)\n",
    "scaled_local['gt_boxes'][0], scaled_local['points'][:,1:] = local_scaling(scaled_local['gt_boxes'][0], scaled_local['points'][:, 1:], [0.2, 0.5])"
   ]
  },
  {
   "cell_type": "code",
   "execution_count": null,
   "metadata": {},
   "outputs": [],
   "source": [
    "show_pc(scaled_local)\n",
    "mlab.savefig('figs/scaled_local.png')\n",
    "mlab.test_plot3d()"
   ]
  },
  {
   "source": [
    "### Local rotation"
   ],
   "cell_type": "markdown",
   "metadata": {}
  },
  {
   "cell_type": "code",
   "execution_count": null,
   "metadata": {},
   "outputs": [],
   "source": [
    "def local_rotation(gt_boxes, points, rot_range):\n",
    "    \"\"\"\n",
    "    Args:\n",
    "        gt_boxes: (N, 7), [x, y, z, dx, dy, dz, heading, [vx], [vy]]\n",
    "        points: (M, 3 + C),\n",
    "        rot_range: [min, max]\n",
    "    Returns:\n",
    "    \"\"\"\n",
    "    \n",
    "    for idx, box in enumerate(gt_boxes):\n",
    "        noise_rotation = np.random.uniform(rot_range[0], rot_range[1])\n",
    "        points_in_box, mask = get_points_in_box(points, box)\n",
    "        \n",
    "        centroid_x = box[0]\n",
    "        centroid_y = box[1]\n",
    "        centroid_z = box[2]\n",
    "\n",
    "        # tranlation to axis center\n",
    "        points[mask, 0] -= centroid_x\n",
    "        points[mask, 1] -= centroid_y\n",
    "        points[mask, 2] -= centroid_z\n",
    "        box[0] -= centroid_x\n",
    "        box[1] -= centroid_y\n",
    "        box[2] -= centroid_z\n",
    "\n",
    "        # apply rotation\n",
    "        points[mask, :] = common_utils.rotate_points_along_z(points[np.newaxis, mask, :], np.array([noise_rotation]))[0]\n",
    "        box[0:3] = common_utils.rotate_points_along_z(box[np.newaxis, np.newaxis, 0:3], np.array([noise_rotation]))[0][0]\n",
    "\n",
    "        # tranlation back to original position\n",
    "        points[mask, 0] += centroid_x\n",
    "        points[mask, 1] += centroid_y\n",
    "        points[mask, 2] += centroid_z\n",
    "        box[0] += centroid_x\n",
    "        box[1] += centroid_y\n",
    "        box[2] += centroid_z\n",
    "\n",
    "        gt_boxes[idx, 6] += noise_rotation\n",
    "        if gt_boxes.shape[1] > 8:\n",
    "            gt_boxes[idx, 7:9] = common_utils.rotate_points_along_z(\n",
    "                np.hstack((gt_boxes[idx, 7:9], np.zeros((gt_boxes.shape[0], 1))))[np.newaxis, :, :],\n",
    "                np.array([noise_rotation])\n",
    "            )[0][:, 0:2]\n",
    "\n",
    "    return gt_boxes, points"
   ]
  },
  {
   "cell_type": "code",
   "execution_count": null,
   "metadata": {},
   "outputs": [],
   "source": [
    "%%time\n",
    "rotated_local = deepcopy(scene)\n",
    "rotated_local['gt_boxes'][0], rotated_local['points'][:,1:] = local_rotation(rotated_local['gt_boxes'][0],rotated_local['points'][:, 1:], [-0.78539815, 0.78539816])"
   ]
  },
  {
   "cell_type": "code",
   "execution_count": null,
   "metadata": {
    "tags": []
   },
   "outputs": [],
   "source": [
    "show_pc(rotated_local)\n",
    "mlab.savefig('figs/rotated_local.png')\n",
    "mlab.test_plot3d()"
   ]
  },
  {
   "source": [
    "### Local frustum dropout"
   ],
   "cell_type": "markdown",
   "metadata": {}
  },
  {
   "cell_type": "code",
   "execution_count": null,
   "metadata": {},
   "outputs": [],
   "source": [
    "def local_frustum_dropout_top(gt_boxes, points, intensity_range):\n",
    "    \"\"\"\n",
    "    Args:\n",
    "        gt_boxes: (N, 7), [x, y, z, dx, dy, dz, heading, [vx], [vy]],\n",
    "        points: (M, 3 + C),\n",
    "        intensity: [min, max]\n",
    "    Returns:\n",
    "    \"\"\"\n",
    "    for idx, box in enumerate(gt_boxes):\n",
    "        x, y, z, dx, dy, dz = box[0], box[1], box[2], box[3], box[4], box[5]\n",
    "\n",
    "        intensity = np.random.uniform(intensity_range[0], intensity_range[1])\n",
    "        points_in_box = get_points_in_box(points, box)\n",
    "        threshold = (z + dz/2) - intensity * dz\n",
    "\n",
    "        points = points[np.logical_not( \\\n",
    "        np.logical_and(points[:,1] <= y + dy/2, \\\n",
    "        np.logical_and(points[:,1] >= y - dy/2, \\\n",
    "            np.logical_and(points[:,0] <= x + dx/2, \\\n",
    "                np.logical_and(points[:,0] >= x - dx/2, \\\n",
    "                    np.logical_and(points[:,2] <= z + dz/2, points[:,2] >= threshold))))))]\n",
    "\n",
    "    return gt_boxes, points\n",
    "\n",
    "def local_frustum_dropout_bottom(gt_boxes, points, intensity_range):\n",
    "    \"\"\"\n",
    "    Args:\n",
    "        gt_boxes: (N, 7), [x, y, z, dx, dy, dz, heading, [vx], [vy]],\n",
    "        points: (M, 3 + C),\n",
    "        intensity: [min, max]\n",
    "    Returns:\n",
    "    \"\"\"\n",
    "    for idx, box in enumerate(gt_boxes):\n",
    "        x, y, z, dx, dy, dz = box[0], box[1], box[2], box[3], box[4], box[5]\n",
    "\n",
    "        intensity = np.random.uniform(intensity_range[0], intensity_range[1])\n",
    "        points_in_box = get_points_in_box(points, box)\n",
    "        threshold = (z - dz/2) + intensity * dz\n",
    "        points = points[np.logical_not( \\\n",
    "            np.logical_and(points[:,1] <= y + dy/2, \\\n",
    "            np.logical_and(points[:,1] >= y - dy/2, \\\n",
    "                np.logical_and(points[:,0] <= x + dx/2, \\\n",
    "                    np.logical_and(points[:,0] >= x - dx/2, \\\n",
    "                        np.logical_and(points[:,2] <= threshold, points[:,2] >= z - dz/2))))))]\n",
    "\n",
    "    return gt_boxes, points\n",
    "\n",
    "def local_frustum_dropout_left(gt_boxes, points, intensity_range):\n",
    "    \"\"\"\n",
    "    Args:\n",
    "        gt_boxes: (N, 7), [x, y, z, dx, dy, dz, heading, [vx], [vy]],\n",
    "        points: (M, 3 + C),\n",
    "        intensity: [min, max]\n",
    "    Returns:\n",
    "    \"\"\"\n",
    "    for idx, box in enumerate(gt_boxes):\n",
    "        x, y, z, dx, dy, dz = box[0], box[1], box[2], box[3], box[4], box[5]\n",
    "\n",
    "        intensity = np.random.uniform(intensity_range[0], intensity_range[1])\n",
    "        points_in_box = get_points_in_box(points, box)\n",
    "        threshold = (y + dy/2) - intensity * dy\n",
    "\n",
    "        points = points[np.logical_not( \\\n",
    "            np.logical_and(points[:,1] <= y + dy/2, \\\n",
    "            np.logical_and(points[:,1] >= threshold, \\\n",
    "                np.logical_and(points[:,0] <= x + dx/2, \\\n",
    "                    np.logical_and(points[:,0] >= x - dx/2, \\\n",
    "                        np.logical_and(points[:,2] <= z + dz/2, points[:,2] >= z - dz/2))))))]\n",
    "\n",
    "    return gt_boxes, points\n",
    "\n",
    "def local_frustum_dropout_right(gt_boxes, points, intensity_range):\n",
    "    \"\"\"\n",
    "    Args:\n",
    "        gt_boxes: (N, 7), [x, y, z, dx, dy, dz, heading, [vx], [vy]],\n",
    "        points: (M, 3 + C),\n",
    "        intensity: [min, max]\n",
    "    Returns:\n",
    "    \"\"\"\n",
    "    for idx, box in enumerate(gt_boxes):\n",
    "        x, y, z, dx, dy, dz = box[0], box[1], box[2], box[3], box[4], box[5]\n",
    "\n",
    "        intensity = np.random.uniform(intensity_range[0], intensity_range[1])\n",
    "        points_in_box = get_points_in_box(points, box)\n",
    "        threshold = (y - dy/2) + intensity * dy\n",
    "\n",
    "        points = points[np.logical_not( \\\n",
    "            np.logical_and(points[:,1] <= threshold, \\\n",
    "            np.logical_and(points[:,1] >= y - dy/2, \\\n",
    "                np.logical_and(points[:,0] <= x + dx/2, \\\n",
    "                    np.logical_and(points[:,0] >= x - dx/2, \\\n",
    "                        np.logical_and(points[:,2] <= z + dz/2, points[:,2] >= z - dz/2))))))]\n",
    "\n",
    "    return gt_boxes, points"
   ]
  },
  {
   "cell_type": "code",
   "execution_count": null,
   "metadata": {},
   "outputs": [],
   "source": [
    "%%time\n",
    "frustum_dropout = deepcopy(scene)\n",
    "frustum_dropout['gt_boxes'], frustum_dropout['points'] = local_frustum_dropout_top(frustum_dropout['gt_boxes'][0], frustum_dropout['points'][:, 1:], [0.5, 0.5])"
   ]
  },
  {
   "cell_type": "code",
   "execution_count": null,
   "metadata": {},
   "outputs": [],
   "source": [
    "V.draw_scenes(\n",
    "        points=frustum_dropout['points'], gt_boxes=frustum_dropout['gt_boxes']\n",
    "    )\n",
    "\n",
    "mlab.savefig('figs/local_frustum_dropout_top.png')\n",
    "mlab.test_plot3d()"
   ]
  },
  {
   "cell_type": "code",
   "execution_count": null,
   "metadata": {},
   "outputs": [],
   "source": [
    "%%time\n",
    "frustum_dropout = deepcopy(scene)\n",
    "frustum_dropout['gt_boxes'], frustum_dropout['points'] = local_frustum_dropout_bottom(frustum_dropout['gt_boxes'][0], frustum_dropout['points'][:, 1:], [0.3, 0.4])"
   ]
  },
  {
   "cell_type": "code",
   "execution_count": null,
   "metadata": {},
   "outputs": [],
   "source": [
    "V.draw_scenes(\n",
    "        points=frustum_dropout['points'], gt_boxes=frustum_dropout['gt_boxes']\n",
    "    )\n",
    "\n",
    "mlab.savefig('figs/local_frustum_dropout_bottom.png')\n",
    "mlab.test_plot3d()"
   ]
  },
  {
   "cell_type": "code",
   "execution_count": null,
   "metadata": {},
   "outputs": [],
   "source": [
    "%%time\n",
    "frustum_dropout = deepcopy(scene)\n",
    "frustum_dropout['gt_boxes'], frustum_dropout['points'] = local_frustum_dropout_left(frustum_dropout['gt_boxes'][0], frustum_dropout['points'][:, 1:], [0.3, 0.4])"
   ]
  },
  {
   "cell_type": "code",
   "execution_count": null,
   "metadata": {},
   "outputs": [],
   "source": [
    "V.draw_scenes(\n",
    "        points=frustum_dropout['points'], gt_boxes=frustum_dropout['gt_boxes']\n",
    "    )\n",
    "\n",
    "mlab.savefig('figs/local_frustum_dropout_left.png')\n",
    "mlab.test_plot3d()"
   ]
  },
  {
   "cell_type": "code",
   "execution_count": null,
   "metadata": {},
   "outputs": [],
   "source": [
    "%%time\n",
    "frustum_dropout = deepcopy(scene)\n",
    "frustum_dropout['gt_boxes'], frustum_dropout['points'] = local_frustum_dropout_right(frustum_dropout['gt_boxes'][0], frustum_dropout['points'][:, 1:], [0.3, 0.4])"
   ]
  },
  {
   "cell_type": "code",
   "execution_count": null,
   "metadata": {},
   "outputs": [],
   "source": [
    "V.draw_scenes(\n",
    "        points=frustum_dropout['points'], gt_boxes=frustum_dropout['gt_boxes']\n",
    "    )\n",
    "\n",
    "mlab.savefig('figs/local_frustum_dropout_right.png')\n",
    "mlab.test_plot3d()"
   ]
  },
  {
   "cell_type": "code",
   "execution_count": null,
   "metadata": {},
   "outputs": [],
   "source": []
  },
  {
   "cell_type": "code",
   "execution_count": null,
   "metadata": {},
   "outputs": [],
   "source": [
    "def saveKittiVelodyneFile(tuple_list, filename, directory):\n",
    "    '''\n",
    "    Saves pointcloud in binary file and is independent of the number of properties in the pointcloud points\n",
    "    (x, y, z, reflectance)\n",
    "    '''\n",
    "    with open(directory + filename, \"wb\") as f:\n",
    "        for point in tuple_list:\n",
    "            s = struct.pack('f'*len(point), *point)\n",
    "            f.write(s)"
   ]
  },
  {
   "cell_type": "code",
   "execution_count": null,
   "metadata": {},
   "outputs": [],
   "source": [
    "def saveLabelInfo(self, dirname, filename):        \n",
    "    '''\n",
    "    (1 value) label_name: 'Car', 'Van', 'Truck', 'Pedestrian', 'Person_sitting', 'Cyclist', 'Tram', 'Misc' or 'DontCare'\n",
    "    (1 value) trucanted: [0, 1], evaluates how much an object  isn't within the image boundaries\n",
    "    (1 value) occluded: {0, 1, 2, 3}, fully-visible, partly occluded, largely-occuled, unknown\n",
    "    (1 value) alpha: [-pi, pi], observation angle of the object\n",
    "    (4 values) bbox: {left, top, right, bottom}, 2d bounding box of the object in the image\n",
    "    (3 values) dimensions: {height, width, length}, 3d object dimensions in meters\n",
    "    (3 values) location: {x, y, z}, 3d object location in camera coordinates in meters\n",
    "    (1 value) rotation_y: [-pi, pi], rotation around Y-axis (up axis) in camera coordinates\n",
    "    '''\n",
    "\n",
    "def saveListIntoTxtFile(self, list_of_str, dirname, filename):\n",
    "        '''\n",
    "        Store list of strings into a file\n",
    "        '''\n",
    "        with open(os.path.join(dirname, filename), \"w\") as the_file:\n",
    "            for i in range(0, len(list_of_str)):\n",
    "                the_file.write(list_of_str[i] + \"\\n\")"
   ]
  }
 ]
}