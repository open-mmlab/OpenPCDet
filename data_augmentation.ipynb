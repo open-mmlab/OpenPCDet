{
 "cells": [
  {
   "cell_type": "markdown",
   "metadata": {},
   "source": [
    "# KITTI Dataset augmentation visualization"
   ]
  },
  {
   "cell_type": "markdown",
   "metadata": {},
   "source": [
    "## Dataset structure\n",
    "\n",
    "```\n",
    "📦gta\n",
    "┗ 📂training\n",
    "  ┣ 📂calib\n",
    "  ┃ ┣ 📜<file_id>.txt\n",
    "  ┃ ┗ 📜 ...\n",
    "  ┣ 📂image_2\n",
    "  ┃ ┣ 📜<file_id>.png\n",
    "  ┃ ┗ 📜 ...\n",
    "  ┣ 📂label_2\n",
    "  ┃ ┣ 📜<file_id>.txt\n",
    "  ┃ ┗ 📜 ...\n",
    "  ┗ 📂velodyne\n",
    "    ┣ 📜<file_id>.bin\n",
    "    ┗ 📜 ...\n",
    "```"
   ]
  },
  {
   "cell_type": "code",
   "execution_count": 1,
   "metadata": {},
   "outputs": [
    {
     "name": "stdout",
     "output_type": "stream",
     "text": [
      "Notebook initialized with ipy backend.\n"
     ]
    }
   ],
   "source": [
    "import os\n",
    "import mayavi.mlab as mlab\n",
    "import numpy as np\n",
    "from copy import deepcopy\n",
    "import pickle\n",
    "import logging\n",
    "\n",
    "import pcdet.datasets.augmentor\n",
    "\n",
    "from pcdet.config import cfg, cfg_from_yaml_file\n",
    "from pcdet.datasets import build_dataloader\n",
    "from pcdet.utils import common_utils\n",
    "from pcdet.models import build_network\n",
    "from tools.visual_utils import visualize_utils as V\n",
    "\n",
    "from PIL import Image, ImageDraw\n",
    "\n",
    "mlab.init_notebook()"
   ]
  },
  {
   "cell_type": "code",
   "execution_count": 2,
   "metadata": {},
   "outputs": [],
   "source": [
    "# generate pickles from the kitti data\n",
    "# os.system(\"python -m pcdet.datasets.kitti.kitti_dataset create_kitti_infos tools/cfgs/dataset_configs/kitti_dataset.yaml\")"
   ]
  },
  {
   "cell_type": "markdown",
   "metadata": {},
   "source": [
    "## Visualizing the LiDAR point cloud with labels"
   ]
  },
  {
   "cell_type": "code",
   "execution_count": 3,
   "metadata": {},
   "outputs": [],
   "source": [
    "logger = common_utils.create_logger(log_level=logging.INFO)"
   ]
  },
  {
   "cell_type": "code",
   "execution_count": 4,
   "metadata": {
    "tags": []
   },
   "outputs": [
    {
     "name": "stderr",
     "output_type": "stream",
     "text": [
      "2021-09-08 15:27:46,407   INFO  Database filter by min points Car: 189 => 154\n",
      "2021-09-08 15:27:46,408   INFO  Database filter by difficulty Car: 154 => 128\n",
      "2021-09-08 15:27:46,409   INFO  Database filter by difficulty Pedestrian: 25 => 24\n",
      "2021-09-08 15:27:46,409   INFO  Database filter by difficulty Cyclist: 10 => 9\n",
      "2021-09-08 15:27:46,458   INFO  Loading KITTI dataset\n",
      "2021-09-08 15:27:46,467   INFO  Total samples for KITTI dataset: 58\n",
      "2021-09-08 15:27:46,468   INFO  Total number of samples: \t116\n",
      "2021-09-08 15:27:46,468   INFO  Loading samples\n",
      "2021-09-08 15:27:46,527   INFO  Loaded sample index: \t1\n",
      "2021-09-08 15:27:46,551   INFO  Loaded sample index: \t2\n",
      "2021-09-08 15:27:46,586   INFO  Loaded sample index: \t3\n",
      "2021-09-08 15:27:46,628   INFO  Loaded sample index: \t4\n",
      "2021-09-08 15:27:46,656   INFO  Loaded sample index: \t5\n",
      "2021-09-08 15:27:46,683   INFO  Loaded sample index: \t6\n",
      "2021-09-08 15:27:46,716   INFO  Loaded sample index: \t7\n",
      "2021-09-08 15:27:46,750   INFO  Loaded sample index: \t8\n",
      "2021-09-08 15:27:46,776   INFO  Loaded sample index: \t9\n",
      "2021-09-08 15:27:46,807   INFO  Loaded sample index: \t10\n",
      "2021-09-08 15:27:46,836   INFO  Loaded sample index: \t11\n",
      "2021-09-08 15:27:46,862   INFO  Loaded sample index: \t12\n",
      "2021-09-08 15:27:46,890   INFO  Loaded sample index: \t13\n",
      "2021-09-08 15:27:46,923   INFO  Loaded sample index: \t14\n",
      "2021-09-08 15:27:46,954   INFO  Loaded sample index: \t15\n",
      "2021-09-08 15:27:46,984   INFO  Loaded sample index: \t16\n",
      "2021-09-08 15:27:47,010   INFO  Loaded sample index: \t17\n",
      "2021-09-08 15:27:47,041   INFO  Loaded sample index: \t18\n",
      "2021-09-08 15:27:47,067   INFO  Loaded sample index: \t19\n",
      "2021-09-08 15:27:47,091   INFO  Loaded sample index: \t20\n",
      "2021-09-08 15:27:47,120   INFO  Loaded sample index: \t21\n",
      "2021-09-08 15:27:47,145   INFO  Loaded sample index: \t22\n",
      "2021-09-08 15:27:47,173   INFO  Loaded sample index: \t23\n",
      "2021-09-08 15:27:47,201   INFO  Loaded sample index: \t24\n",
      "2021-09-08 15:27:47,232   INFO  Loaded sample index: \t25\n",
      "2021-09-08 15:27:47,261   INFO  Loaded sample index: \t26\n",
      "2021-09-08 15:27:47,287   INFO  Loaded sample index: \t27\n",
      "2021-09-08 15:27:47,325   INFO  Loaded sample index: \t28\n",
      "2021-09-08 15:27:47,354   INFO  Loaded sample index: \t29\n",
      "2021-09-08 15:27:47,380   INFO  Loaded sample index: \t30\n",
      "2021-09-08 15:27:47,405   INFO  Loaded sample index: \t31\n",
      "2021-09-08 15:27:47,430   INFO  Loaded sample index: \t32\n",
      "2021-09-08 15:27:47,455   INFO  Loaded sample index: \t33\n",
      "2021-09-08 15:27:47,485   INFO  Loaded sample index: \t34\n",
      "2021-09-08 15:27:47,519   INFO  Loaded sample index: \t35\n",
      "2021-09-08 15:27:47,560   INFO  Loaded sample index: \t36\n"
     ]
    }
   ],
   "source": [
    "cfg_from_yaml_file('tools/cfgs/dataset_configs/kitti_dataset.yaml', cfg)\n",
    "# cfg_from_yaml_file('tools/cfgs/kitti_models/pointpillar_augs.yaml', cfg)\n",
    "\n",
    "cfg.DATA_PATH = 'data/kitti'\n",
    "\n",
    "train_set, train_loader, train_sampler = build_dataloader(\n",
    "    dataset_cfg=cfg,\n",
    "    class_names=['Car', 'Pedestrian', 'Cyclist'],\n",
    "    batch_size=1,\n",
    "    dist=False,\n",
    "    workers=4,\n",
    "    logger=logger,\n",
    "    training=True,\n",
    "    merge_all_iters_to_one_epoch=False,\n",
    "    total_epochs=0\n",
    ")\n",
    "\n",
    "logger.info(f'Total number of samples: \\t{len(train_set)}')\n",
    "\n",
    "data_dict_list = []\n",
    "logger.info('Loading samples')\n",
    "for idx, data_dict in enumerate(train_set):\n",
    "    logger.info(f'Loaded sample index: \\t{idx + 1}')\n",
    "    data_dict = train_set.collate_batch([data_dict])\n",
    "    data_dict_list.append(data_dict)\n",
    "    if idx >= 35: break\n"
   ]
  },
  {
   "cell_type": "code",
   "execution_count": 5,
   "metadata": {},
   "outputs": [],
   "source": [
    "scene = data_dict_list[2]"
   ]
  },
  {
   "cell_type": "code",
   "execution_count": 6,
   "metadata": {},
   "outputs": [],
   "source": [
    "def show_pc(data_dict):\n",
    "    currfig = mlab.figure(size=(1280,720))\n",
    "\n",
    "    V.draw_scenes(\n",
    "        points=data_dict['points'][:, 1:], gt_boxes=data_dict['gt_boxes'][0]\n",
    "    )\n",
    "\n",
    "    cam = currfig.scene.camera\n",
    "    cam.zoom(2)\n",
    "    return currfig\n"
   ]
  },
  {
   "cell_type": "code",
   "execution_count": 7,
   "metadata": {},
   "outputs": [],
   "source": [
    "def show_bev(data_dict):\n",
    "    currfig = mlab.figure(size=(1280,1280))\n",
    "\n",
    "    V.draw_scenes(\n",
    "        points=data_dict['points'][:, 1:], gt_boxes=data_dict['gt_boxes'][0]\n",
    "    )\n",
    "\n",
    "    mlab.view(azimuth=-179, elevation=0, distance=120.0, roll=90.0)\n",
    "    \n",
    "    cam = currfig.scene.camera\n",
    "    cam.zoom(2)\n",
    "\n",
    "    return currfig"
   ]
  },
  {
   "cell_type": "code",
   "execution_count": 8,
   "metadata": {},
   "outputs": [
    {
     "name": "stderr",
     "output_type": "stream",
     "text": [
      "2021-09-08 15:27:51,466   INFO  Saved mosaic_0.png\n",
      "2021-09-08 15:27:53,468   INFO  Saved mosaic_1.png\n",
      "2021-09-08 15:27:56,317   INFO  Saved mosaic_2.png\n",
      "2021-09-08 15:27:58,763   INFO  Saved mosaic_3.png\n",
      "2021-09-08 15:28:03,041   INFO  Saved mosaic_4.png\n",
      "2021-09-08 15:28:06,488   INFO  Saved mosaic_5.png\n",
      "2021-09-08 15:28:08,225   INFO  Saved mosaic_6.png\n",
      "2021-09-08 15:28:09,930   INFO  Saved mosaic_7.png\n",
      "2021-09-08 15:28:12,055   INFO  Saved mosaic_8.png\n",
      "2021-09-08 15:28:14,598   INFO  Saved mosaic_9.png\n",
      "2021-09-08 15:28:16,303   INFO  Saved mosaic_10.png\n",
      "2021-09-08 15:28:18,614   INFO  Saved mosaic_11.png\n",
      "2021-09-08 15:28:20,614   INFO  Saved mosaic_12.png\n",
      "2021-09-08 15:28:22,451   INFO  Saved mosaic_13.png\n",
      "2021-09-08 15:28:24,335   INFO  Saved mosaic_14.png\n",
      "2021-09-08 15:28:26,883   INFO  Saved mosaic_15.png\n",
      "2021-09-08 15:28:30,215   INFO  Saved mosaic_16.png\n",
      "2021-09-08 15:28:32,362   INFO  Saved mosaic_17.png\n",
      "2021-09-08 15:28:36,031   INFO  Saved mosaic_18.png\n",
      "2021-09-08 15:28:41,987   INFO  Saved mosaic_19.png\n",
      "2021-09-08 15:28:43,874   INFO  Saved mosaic_20.png\n",
      "2021-09-08 15:28:46,618   INFO  Saved mosaic_21.png\n",
      "2021-09-08 15:28:48,767   INFO  Saved mosaic_22.png\n",
      "2021-09-08 15:28:53,440   INFO  Saved mosaic_23.png\n",
      "2021-09-08 15:28:56,696   INFO  Saved mosaic_24.png\n",
      "2021-09-08 15:29:03,315   INFO  Saved mosaic_25.png\n",
      "2021-09-08 15:29:05,463   INFO  Saved mosaic_26.png\n",
      "2021-09-08 15:29:07,295   INFO  Saved mosaic_27.png\n",
      "2021-09-08 15:29:11,379   INFO  Saved mosaic_28.png\n",
      "2021-09-08 15:29:13,233   INFO  Saved mosaic_29.png\n",
      "2021-09-08 15:29:15,331   INFO  Saved mosaic_30.png\n",
      "2021-09-08 15:29:17,698   INFO  Saved mosaic_31.png\n",
      "2021-09-08 15:29:20,111   INFO  Saved mosaic_32.png\n",
      "2021-09-08 15:29:23,087   INFO  Saved mosaic_33.png\n",
      "2021-09-08 15:29:27,340   INFO  Saved mosaic_34.png\n",
      "2021-09-08 15:29:29,533   INFO  Saved mosaic_35.png\n"
     ]
    }
   ],
   "source": [
    "for idx, scene in enumerate(data_dict_list):\n",
    "    currfig = show_bev(scene)\n",
    "    mlab.savefig('figs/mosaic/mosaic_%d.png' % idx, size=(1280,1280))\n",
    "    logger.info('Saved mosaic_%d.png' % idx)\n"
   ]
  },
  {
   "cell_type": "code",
   "execution_count": 9,
   "metadata": {},
   "outputs": [],
   "source": [
    "collage = Image.new(\"RGBA\", (3000,3000), color=(255,255,255,255))\n",
    "\n",
    "c=0\n",
    "for i in range(0,3000,500):\n",
    "    for j in range(0,3000,500):\n",
    "        file = 'figs/mosaic/mosaic_%d.png' % c\n",
    "        photo = Image.open(file).convert(\"RGBA\")\n",
    "        photo = photo.resize((500,500))        \n",
    "        \n",
    "        collage.paste(photo, (i,j))\n",
    "        c+=1\n",
    "collage.save('figs/mosaic/collage.png')"
   ]
  },
  {
   "cell_type": "code",
   "execution_count": 14,
   "metadata": {},
   "outputs": [
    {
     "data": {
      "application/vnd.jupyter.widget-view+json": {
       "model_id": "56057c87eba64f10b96383fd2c9748fa",
       "version_major": 2,
       "version_minor": 0
      },
      "text/plain": [
       "Image(value=b'\\x89PNG\\r\\n\\x1a\\n\\x00\\x00\\x00\\rIHDR\\x00\\x00\\x02X\\x00\\x00\\x02X\\x08\\x02\\x00\\x00\\x001\\x04\\x0f\\x8b\\x…"
      ]
     },
     "metadata": {},
     "output_type": "display_data"
    }
   ],
   "source": [
    "currfig = show_bev(data_dict_list[2])\n",
    "mlab.savefig('3d_renders/original.obj')\n",
    "mlab.savefig('figs/original.png', size=(1280,720))\n",
    "currfig"
   ]
  },
  {
   "cell_type": "code",
   "execution_count": null,
   "metadata": {},
   "outputs": [],
   "source": []
  },
  {
   "cell_type": "markdown",
   "metadata": {},
   "source": [
    "## Visualizing the original scene\n",
    "![Original Camera Image](data/kitti/training/image_2/000007.png)\n"
   ]
  },
  {
   "cell_type": "code",
   "execution_count": 6,
   "metadata": {},
   "outputs": [
    {
     "ename": "NameError",
     "evalue": "name 'show_pc' is not defined",
     "output_type": "error",
     "traceback": [
      "\u001b[0;31m---------------------------------------------------------------------------\u001b[0m",
      "\u001b[0;31mNameError\u001b[0m                                 Traceback (most recent call last)",
      "\u001b[0;32m<ipython-input-6-d8f50847eea9>\u001b[0m in \u001b[0;36m<module>\u001b[0;34m\u001b[0m\n\u001b[0;32m----> 1\u001b[0;31m \u001b[0mcurrfig\u001b[0m \u001b[0;34m=\u001b[0m \u001b[0mshow_pc\u001b[0m\u001b[0;34m(\u001b[0m\u001b[0mdata_dict_list\u001b[0m\u001b[0;34m[\u001b[0m\u001b[0;36m60\u001b[0m\u001b[0;34m]\u001b[0m\u001b[0;34m)\u001b[0m\u001b[0;34m\u001b[0m\u001b[0;34m\u001b[0m\u001b[0m\n\u001b[0m\u001b[1;32m      2\u001b[0m \u001b[0mmlab\u001b[0m\u001b[0;34m.\u001b[0m\u001b[0msavefig\u001b[0m\u001b[0;34m(\u001b[0m\u001b[0;34m'3d_renders/aug_pipeline_output.obj'\u001b[0m\u001b[0;34m)\u001b[0m\u001b[0;34m\u001b[0m\u001b[0;34m\u001b[0m\u001b[0m\n\u001b[1;32m      3\u001b[0m \u001b[0mmlab\u001b[0m\u001b[0;34m.\u001b[0m\u001b[0msavefig\u001b[0m\u001b[0;34m(\u001b[0m\u001b[0;34m'figs/aug_pipeline_output.png'\u001b[0m\u001b[0;34m,\u001b[0m \u001b[0msize\u001b[0m\u001b[0;34m=\u001b[0m\u001b[0;34m(\u001b[0m\u001b[0;36m1280\u001b[0m\u001b[0;34m,\u001b[0m\u001b[0;36m720\u001b[0m\u001b[0;34m)\u001b[0m\u001b[0;34m)\u001b[0m\u001b[0;34m\u001b[0m\u001b[0;34m\u001b[0m\u001b[0m\n\u001b[1;32m      4\u001b[0m \u001b[0mcurrfig\u001b[0m\u001b[0;34m\u001b[0m\u001b[0;34m\u001b[0m\u001b[0m\n",
      "\u001b[0;31mNameError\u001b[0m: name 'show_pc' is not defined"
     ]
    }
   ],
   "source": [
    "currfig = show_pc(data_dict_list[60])\n",
    "mlab.savefig('3d_renders/aug_pipeline_output.obj')\n",
    "mlab.savefig('figs/aug_pipeline_output.png', size=(1280,720))\n",
    "currfig"
   ]
  },
  {
   "cell_type": "markdown",
   "metadata": {},
   "source": [
    "## Augmentation methods"
   ]
  },
  {
   "cell_type": "markdown",
   "metadata": {},
   "source": [
    "### Random flip"
   ]
  },
  {
   "cell_type": "code",
   "execution_count": 9,
   "metadata": {},
   "outputs": [],
   "source": [
    "def random_flip_along_x(gt_boxes, points):\n",
    "    \"\"\"\n",
    "    Args:\n",
    "        gt_boxes: (N, 7 + C), [x, y, z, dx, dy, dz, heading, [vx], [vy]]\n",
    "        points: (M, 3 + C)\n",
    "    Returns:\n",
    "    \"\"\"\n",
    "    enable = True\n",
    "    if enable:\n",
    "        gt_boxes[:, 1] = -gt_boxes[:, 1]\n",
    "        gt_boxes[:, 6] = -gt_boxes[:, 6]\n",
    "        points[:, 1] = -points[:, 1]\n",
    "\n",
    "        if gt_boxes.shape[1] > 8:\n",
    "            gt_boxes[:, 8] = -gt_boxes[:, 8]\n",
    "\n",
    "    return gt_boxes, points\n",
    "\n",
    "def random_flip_along_y(gt_boxes, points):\n",
    "    \"\"\"\n",
    "    Args:\n",
    "        gt_boxes: (N, 7 + C), [x, y, z, dx, dy, dz, heading, [vx], [vy]]\n",
    "        points: (M, 3 + C)\n",
    "    Returns:\n",
    "    \"\"\"\n",
    "    enable = True\n",
    "    if enable:\n",
    "        gt_boxes[:, 0] = -gt_boxes[:, 0]\n",
    "        gt_boxes[:, 6] = -(gt_boxes[:, 6] + np.pi)\n",
    "        points[:, 0] = -points[:, 0]\n",
    "\n",
    "        if gt_boxes.shape[1] > 7:\n",
    "            gt_boxes[:, 7] = -gt_boxes[:, 7]\n",
    "\n",
    "    return gt_boxes, points"
   ]
  },
  {
   "cell_type": "code",
   "execution_count": 10,
   "metadata": {},
   "outputs": [
    {
     "name": "stdout",
     "output_type": "stream",
     "text": [
      "CPU times: user 1.3 ms, sys: 999 µs, total: 2.3 ms\n",
      "Wall time: 1.08 ms\n"
     ]
    }
   ],
   "source": [
    "%%time\n",
    "flipped_y = deepcopy(scene)\n",
    "flipped_y['gt_boxes'][0], flipped_y['points'][:,1:] = random_flip_along_y(flipped_y['gt_boxes'][0], flipped_y['points'][:,1:])"
   ]
  },
  {
   "cell_type": "code",
   "execution_count": 11,
   "metadata": {},
   "outputs": [
    {
     "data": {
      "application/vnd.jupyter.widget-view+json": {
       "model_id": "bcf374c5e6454f4a97e57c7a8e4485b3",
       "version_major": 2,
       "version_minor": 0
      },
      "text/plain": [
       "Image(value=b'\\x89PNG\\r\\n\\x1a\\n\\x00\\x00\\x00\\rIHDR\\x00\\x00\\x02X\\x00\\x00\\x02X\\x08\\x02\\x00\\x00\\x001\\x04\\x0f\\x8b\\x…"
      ]
     },
     "metadata": {},
     "output_type": "display_data"
    }
   ],
   "source": [
    "currfig = show_pc(flipped_y)\n",
    "mlab.savefig('figs/flipped_y.png', size=(1280,720))\n",
    "mlab.savefig('3d_renders/flipped_y.obj')\n",
    "currfig"
   ]
  },
  {
   "cell_type": "code",
   "execution_count": 12,
   "metadata": {},
   "outputs": [
    {
     "name": "stdout",
     "output_type": "stream",
     "text": [
      "CPU times: user 41 µs, sys: 1.33 ms, total: 1.37 ms\n",
      "Wall time: 813 µs\n"
     ]
    }
   ],
   "source": [
    "%%time\n",
    "flipped_x = deepcopy(scene)\n",
    "flipped_x['gt_boxes'][0], flipped_x['points'][:,1:] = random_flip_along_x(flipped_x['gt_boxes'][0], flipped_x['points'][:,1:])"
   ]
  },
  {
   "cell_type": "code",
   "execution_count": 13,
   "metadata": {},
   "outputs": [
    {
     "data": {
      "application/vnd.jupyter.widget-view+json": {
       "model_id": "e9bfbde4348741bb950edfb5b05767e0",
       "version_major": 2,
       "version_minor": 0
      },
      "text/plain": [
       "Image(value=b'\\x89PNG\\r\\n\\x1a\\n\\x00\\x00\\x00\\rIHDR\\x00\\x00\\x02X\\x00\\x00\\x02X\\x08\\x02\\x00\\x00\\x001\\x04\\x0f\\x8b\\x…"
      ]
     },
     "metadata": {},
     "output_type": "display_data"
    }
   ],
   "source": [
    "currfig = show_pc(flipped_x)\n",
    "mlab.savefig('figs/flipped_x.png', size=(1280,720))\n",
    "mlab.savefig('3d_renders/flipped_x.obj')\n",
    "currfig"
   ]
  },
  {
   "cell_type": "markdown",
   "metadata": {},
   "source": [
    "### Global rotation"
   ]
  },
  {
   "cell_type": "code",
   "execution_count": 14,
   "metadata": {},
   "outputs": [],
   "source": [
    "def global_rotation(gt_boxes, points, rot_range):\n",
    "    \"\"\"\n",
    "    Args:\n",
    "        gt_boxes: (N, 7 + C), [x, y, z, dx, dy, dz, heading, [vx], [vy]]\n",
    "        points: (M, 3 + C),\n",
    "        rot_range: [min, max]\n",
    "    Returns:\n",
    "    \"\"\"\n",
    "    noise_rotation = np.random.uniform(rot_range[0], rot_range[1])\n",
    "    points = common_utils.rotate_points_along_z(points[np.newaxis, :, :], np.array([noise_rotation]))[0]\n",
    "    gt_boxes[:, 0:3] = common_utils.rotate_points_along_z(gt_boxes[np.newaxis, :, 0:3], np.array([noise_rotation]))[0]\n",
    "    gt_boxes[:, 6] += noise_rotation\n",
    "    if gt_boxes.shape[1] > 8:\n",
    "        gt_boxes[:, 7:9] = common_utils.rotate_points_along_z(\n",
    "            np.hstack((gt_boxes[:, 7:9], np.zeros((gt_boxes.shape[0], 1))))[np.newaxis, :, :],\n",
    "            np.array([noise_rotation])\n",
    "        )[0][:, 0:2]\n",
    "\n",
    "    return gt_boxes, points"
   ]
  },
  {
   "cell_type": "code",
   "execution_count": 15,
   "metadata": {},
   "outputs": [
    {
     "name": "stdout",
     "output_type": "stream",
     "text": [
      "CPU times: user 2.67 ms, sys: 3.19 ms, total: 5.86 ms\n",
      "Wall time: 2.39 ms\n"
     ]
    }
   ],
   "source": [
    "%%time\n",
    "rotated = deepcopy(scene)\n",
    "rotated['gt_boxes'][0], rotated['points'][:,1:] = global_rotation(rotated['gt_boxes'][0], rotated['points'][:,1:], [-0.78539816, 0.78539816])"
   ]
  },
  {
   "cell_type": "code",
   "execution_count": 16,
   "metadata": {},
   "outputs": [
    {
     "data": {
      "application/vnd.jupyter.widget-view+json": {
       "model_id": "07b3bf7b14d141cb8fcf40927a091e08",
       "version_major": 2,
       "version_minor": 0
      },
      "text/plain": [
       "Image(value=b'\\x89PNG\\r\\n\\x1a\\n\\x00\\x00\\x00\\rIHDR\\x00\\x00\\x02X\\x00\\x00\\x02X\\x08\\x02\\x00\\x00\\x001\\x04\\x0f\\x8b\\x…"
      ]
     },
     "metadata": {},
     "output_type": "display_data"
    }
   ],
   "source": [
    "currfig = show_pc(rotated)\n",
    "mlab.savefig('figs/rotated_global.png', size=(1280,720))\n",
    "mlab.savefig('3d_renders/rotated_global.obj')\n",
    "currfig"
   ]
  },
  {
   "cell_type": "markdown",
   "metadata": {},
   "source": [
    "### Global scaling"
   ]
  },
  {
   "cell_type": "code",
   "execution_count": 17,
   "metadata": {},
   "outputs": [],
   "source": [
    "def global_scaling(gt_boxes, points, scale_range):\n",
    "    \"\"\"\n",
    "    Args:\n",
    "        gt_boxes: (N, 7), [x, y, z, dx, dy, dz, heading]\n",
    "        points: (M, 3 + C),\n",
    "        scale_range: [min, max]\n",
    "    Returns:\n",
    "    \"\"\"\n",
    "    if scale_range[1] - scale_range[0] < 1e-3:\n",
    "        return gt_boxes, points\n",
    "    noise_scale = np.random.uniform(scale_range[0], scale_range[1])\n",
    "    points[:, :3] *= noise_scale\n",
    "    gt_boxes[:, :6] *= noise_scale\n",
    "    return gt_boxes, points"
   ]
  },
  {
   "cell_type": "code",
   "execution_count": 18,
   "metadata": {},
   "outputs": [
    {
     "name": "stdout",
     "output_type": "stream",
     "text": [
      "CPU times: user 2.18 ms, sys: 0 ns, total: 2.18 ms\n",
      "Wall time: 1.22 ms\n"
     ]
    }
   ],
   "source": [
    "%%time\n",
    "scaled = deepcopy(scene)\n",
    "scaled['gt_boxes'][0], scaled['points'][:,1:] = global_scaling(scaled['gt_boxes'][0], scaled['points'][:, 1:], [0.4, 0.5])"
   ]
  },
  {
   "cell_type": "code",
   "execution_count": 19,
   "metadata": {},
   "outputs": [
    {
     "data": {
      "application/vnd.jupyter.widget-view+json": {
       "model_id": "121674831c144b91abc34fe0e1170d2f",
       "version_major": 2,
       "version_minor": 0
      },
      "text/plain": [
       "Image(value=b'\\x89PNG\\r\\n\\x1a\\n\\x00\\x00\\x00\\rIHDR\\x00\\x00\\x02X\\x00\\x00\\x02X\\x08\\x02\\x00\\x00\\x001\\x04\\x0f\\x8b\\x…"
      ]
     },
     "metadata": {},
     "output_type": "display_data"
    }
   ],
   "source": [
    "currfig = show_pc(scaled)\n",
    "mlab.savefig('figs/scaled_global.png', size=(1280,720))\n",
    "mlab.savefig('3d_renders/scaled_global.obj')\n",
    "currfig"
   ]
  },
  {
   "cell_type": "markdown",
   "metadata": {},
   "source": [
    "### Global translation"
   ]
  },
  {
   "cell_type": "code",
   "execution_count": 20,
   "metadata": {},
   "outputs": [],
   "source": [
    "def random_translation_along_x(gt_boxes, points, offset_range):\n",
    "    \"\"\"\n",
    "    Args:\n",
    "        gt_boxes: (N, 7), [x, y, z, dx, dy, dz, heading, [vx], [vy]]\n",
    "        points: (M, 3 + C),\n",
    "        offset_range: [min max]]\n",
    "    Returns:\n",
    "    \"\"\"\n",
    "    offset = np.random.uniform(offset_range[0], offset_range[1])\n",
    "\n",
    "    points[:, 0] += offset\n",
    "    gt_boxes[:, 0] += offset\n",
    "\n",
    "    if gt_boxes.shape[1] > 7:\n",
    "        gt_boxes[:, 7] += offset\n",
    "\n",
    "    return gt_boxes, points\n",
    "\n",
    "def random_translation_along_y(gt_boxes, points, offset_range):\n",
    "    \"\"\"\n",
    "    Args:\n",
    "        gt_boxes: (N, 7), [x, y, z, dx, dy, dz, heading, [vx], [vy]]\n",
    "        points: (M, 3 + C),\n",
    "        offset_range: [min max]]\n",
    "    Returns:\n",
    "    \"\"\"\n",
    "    offset = np.random.uniform(offset_range[0], offset_range[1])\n",
    "\n",
    "    points[:, 1] += offset\n",
    "    gt_boxes[:, 1] += offset\n",
    "\n",
    "    if gt_boxes.shape[1] > 8:\n",
    "        gt_boxes[:, 8] += offset\n",
    "\n",
    "    return gt_boxes, points\n",
    "\n",
    "def random_translation_along_z(gt_boxes, points, offset_range):\n",
    "    \"\"\"\n",
    "    Args:\n",
    "        gt_boxes: (N, 7), [x, y, z, dx, dy, dz, heading, [vx], [vy]]\n",
    "        points: (M, 3 + C),\n",
    "        offset_range: [min max]]\n",
    "    Returns:\n",
    "    \"\"\"\n",
    "    offset = np.random.uniform(offset_range[0], offset_range[1])\n",
    "\n",
    "    points[:, 2] += offset\n",
    "    gt_boxes[:, 2] += offset\n",
    "\n",
    "    return gt_boxes, points"
   ]
  },
  {
   "cell_type": "code",
   "execution_count": 21,
   "metadata": {},
   "outputs": [
    {
     "name": "stdout",
     "output_type": "stream",
     "text": [
      "CPU times: user 1.08 ms, sys: 556 µs, total: 1.63 ms\n",
      "Wall time: 1.06 ms\n"
     ]
    }
   ],
   "source": [
    "%%time\n",
    "translation_x = deepcopy(scene)\n",
    "translation_x['gt_boxes'][0], translation_x['points'][:,1:] = random_translation_along_x(translation_x['gt_boxes'][0], translation_x['points'][:, 1:], [15, 20])"
   ]
  },
  {
   "cell_type": "code",
   "execution_count": 22,
   "metadata": {},
   "outputs": [
    {
     "data": {
      "application/vnd.jupyter.widget-view+json": {
       "model_id": "0aa3a33d9a2d43b3965dadc3bc3ccbd4",
       "version_major": 2,
       "version_minor": 0
      },
      "text/plain": [
       "Image(value=b'\\x89PNG\\r\\n\\x1a\\n\\x00\\x00\\x00\\rIHDR\\x00\\x00\\x02X\\x00\\x00\\x02X\\x08\\x02\\x00\\x00\\x001\\x04\\x0f\\x8b\\x…"
      ]
     },
     "metadata": {},
     "output_type": "display_data"
    }
   ],
   "source": [
    "currfig = show_pc(translation_x)\n",
    "mlab.savefig('figs/translation_global_x.png', size=(1280,720))\n",
    "mlab.savefig('3d_renders/translation_global_x.obj')\n",
    "currfig"
   ]
  },
  {
   "cell_type": "code",
   "execution_count": 23,
   "metadata": {},
   "outputs": [
    {
     "name": "stdout",
     "output_type": "stream",
     "text": [
      "CPU times: user 1.69 ms, sys: 0 ns, total: 1.69 ms\n",
      "Wall time: 1.01 ms\n"
     ]
    }
   ],
   "source": [
    "%%time\n",
    "translation_y = deepcopy(scene)\n",
    "translation_y['gt_boxes'][0], translation_y['points'][:,1:] = random_translation_along_y(translation_y['gt_boxes'][0], translation_y['points'][:, 1:], [15, 20])"
   ]
  },
  {
   "cell_type": "code",
   "execution_count": 24,
   "metadata": {},
   "outputs": [
    {
     "data": {
      "application/vnd.jupyter.widget-view+json": {
       "model_id": "e566b8a3f634445885851762cfa2edae",
       "version_major": 2,
       "version_minor": 0
      },
      "text/plain": [
       "Image(value=b'\\x89PNG\\r\\n\\x1a\\n\\x00\\x00\\x00\\rIHDR\\x00\\x00\\x02X\\x00\\x00\\x02X\\x08\\x02\\x00\\x00\\x001\\x04\\x0f\\x8b\\x…"
      ]
     },
     "metadata": {},
     "output_type": "display_data"
    }
   ],
   "source": [
    "currfig = show_pc(translation_y)\n",
    "mlab.savefig('figs/translation_global_y.png', size=(1280,720))\n",
    "mlab.savefig('3d_renders/translation_global_y.obj')\n",
    "currfig"
   ]
  },
  {
   "cell_type": "code",
   "execution_count": 25,
   "metadata": {},
   "outputs": [
    {
     "name": "stdout",
     "output_type": "stream",
     "text": [
      "CPU times: user 1.74 ms, sys: 0 ns, total: 1.74 ms\n",
      "Wall time: 895 µs\n"
     ]
    }
   ],
   "source": [
    "%%time\n",
    "translation_z = deepcopy(scene)\n",
    "translation_z['gt_boxes'][0], translation_z['points'][:,1:] = random_translation_along_z(translation_z['gt_boxes'][0], translation_z['points'][:, 1:], [15, 20])"
   ]
  },
  {
   "cell_type": "code",
   "execution_count": 26,
   "metadata": {},
   "outputs": [
    {
     "data": {
      "application/vnd.jupyter.widget-view+json": {
       "model_id": "9954d404fd9c46579e374f3c1184d3e0",
       "version_major": 2,
       "version_minor": 0
      },
      "text/plain": [
       "Image(value=b'\\x89PNG\\r\\n\\x1a\\n\\x00\\x00\\x00\\rIHDR\\x00\\x00\\x02X\\x00\\x00\\x02X\\x08\\x02\\x00\\x00\\x001\\x04\\x0f\\x8b\\x…"
      ]
     },
     "metadata": {},
     "output_type": "display_data"
    }
   ],
   "source": [
    "currfig = show_pc(translation_z)\n",
    "mlab.savefig('figs/translation_global_z.png', size=(1280,720))\n",
    "mlab.savefig('3d_renders/translation_global_z.obj')\n",
    "currfig"
   ]
  },
  {
   "cell_type": "markdown",
   "metadata": {},
   "source": [
    "### Global frustum dropout"
   ]
  },
  {
   "cell_type": "code",
   "execution_count": 27,
   "metadata": {},
   "outputs": [],
   "source": [
    "def global_frustum_dropout_top(gt_boxes, points, intensity_range):\n",
    "    \"\"\"\n",
    "    Args:\n",
    "        gt_boxes: (N, 7), [x, y, z, dx, dy, dz, heading, [vx], [vy]],\n",
    "        points: (M, 3 + C),\n",
    "        intensity: [min, max]\n",
    "    Returns:\n",
    "    \"\"\"\n",
    "    intensity = np.random.uniform(intensity_range[0], intensity_range[1])\n",
    "\n",
    "    threshold = np.max(points[:, 2]) - intensity * (np.max(points[:, 2]) - np.min(points[:, 2]))\n",
    "    points = points[points[:,2] < threshold]\n",
    "    gt_boxes = gt_boxes[gt_boxes[:,2] < threshold]\n",
    "\n",
    "    return gt_boxes, points\n",
    "\n",
    "def global_frustum_dropout_bottom(gt_boxes, points, intensity_range):\n",
    "    \"\"\"\n",
    "    Args:\n",
    "        gt_boxes: (N, 7), [x, y, z, dx, dy, dz, heading, [vx], [vy]],\n",
    "        points: (M, 3 + C),\n",
    "        intensity: [min, max]\n",
    "    Returns:\n",
    "    \"\"\"\n",
    "    intensity = np.random.uniform(intensity_range[0], intensity_range[1])\n",
    "\n",
    "    threshold = np.min(points[:, 2]) + intensity * (np.max(points[:, 2]) - np.min(points[:, 2]))\n",
    "    points = points[points[:,2] > threshold]\n",
    "    gt_boxes = gt_boxes[gt_boxes[:,2] > threshold]\n",
    "\n",
    "    return gt_boxes, points\n",
    "\n",
    "def global_frustum_dropout_left(gt_boxes, points, intensity_range):\n",
    "    \"\"\"\n",
    "    Args:\n",
    "        gt_boxes: (N, 7), [x, y, z, dx, dy, dz, heading, [vx], [vy]],\n",
    "        points: (M, 3 + C),\n",
    "        intensity: [min, max]\n",
    "    Returns:\n",
    "    \"\"\"\n",
    "    intensity = np.random.uniform(intensity_range[0], intensity_range[1])\n",
    "\n",
    "    threshold = np.max(points[:, 1]) - intensity * (np.max(points[:, 1]) - np.min(points[:, 1]))\n",
    "    points = points[points[:,1] < threshold]\n",
    "    gt_boxes = gt_boxes[gt_boxes[:,1] < threshold]\n",
    "\n",
    "    return gt_boxes, points\n",
    "\n",
    "def global_frustum_dropout_right(gt_boxes, points, intensity_range):\n",
    "    \"\"\"\n",
    "    Args:\n",
    "        gt_boxes: (N, 7), [x, y, z, dx, dy, dz, heading, [vx], [vy]],\n",
    "        points: (M, 3 + C),\n",
    "        intensity: [min, max]\n",
    "    Returns:\n",
    "    \"\"\"\n",
    "    intensity = np.random.uniform(intensity_range[0], intensity_range[1])\n",
    "\n",
    "    threshold = np.min(points[:, 1]) + intensity * (np.max(points[:, 1]) - np.min(points[:, 1]))\n",
    "    points = points[points[:,1] > threshold]\n",
    "    gt_boxes = gt_boxes[gt_boxes[:,1] > threshold]\n",
    "\n",
    "    return gt_boxes, points"
   ]
  },
  {
   "cell_type": "code",
   "execution_count": 28,
   "metadata": {},
   "outputs": [
    {
     "name": "stdout",
     "output_type": "stream",
     "text": [
      "CPU times: user 3.37 ms, sys: 0 ns, total: 3.37 ms\n",
      "Wall time: 2.38 ms\n"
     ]
    }
   ],
   "source": [
    "%%time\n",
    "frustum_dropout = deepcopy(scene)\n",
    "frustum_dropout['gt_boxes'], frustum_dropout['points'] = global_frustum_dropout_top(frustum_dropout['gt_boxes'][0], frustum_dropout['points'][:, 1:], [0.4, 0.5])"
   ]
  },
  {
   "cell_type": "code",
   "execution_count": 29,
   "metadata": {},
   "outputs": [
    {
     "data": {
      "application/vnd.jupyter.widget-view+json": {
       "model_id": "26e7926e41d84151a9d686dd34270398",
       "version_major": 2,
       "version_minor": 0
      },
      "text/plain": [
       "Image(value=b'\\x89PNG\\r\\n\\x1a\\n\\x00\\x00\\x00\\rIHDR\\x00\\x00\\x02X\\x00\\x00\\x02X\\x08\\x02\\x00\\x00\\x001\\x04\\x0f\\x8b\\x…"
      ]
     },
     "metadata": {},
     "output_type": "display_data"
    }
   ],
   "source": [
    "V.draw_scenes(\n",
    "        points=frustum_dropout['points'], gt_boxes=frustum_dropout['gt_boxes']\n",
    "    )\n",
    "\n",
    "mlab.savefig('figs/frustum_dropout_top.png')\n",
    "mlab.savefig('3d_renders/frustum_dropout_top.obj')\n",
    "currfig"
   ]
  },
  {
   "cell_type": "code",
   "execution_count": 30,
   "metadata": {},
   "outputs": [
    {
     "name": "stdout",
     "output_type": "stream",
     "text": [
      "CPU times: user 1.84 ms, sys: 0 ns, total: 1.84 ms\n",
      "Wall time: 1.1 ms\n"
     ]
    }
   ],
   "source": [
    "%%time\n",
    "frustum_dropout = deepcopy(scene)\n",
    "frustum_dropout['gt_boxes'], frustum_dropout['points'] = global_frustum_dropout_bottom(frustum_dropout['gt_boxes'][0], frustum_dropout['points'][:, 1:], [0.4, 0.5])"
   ]
  },
  {
   "cell_type": "code",
   "execution_count": 31,
   "metadata": {},
   "outputs": [
    {
     "data": {
      "application/vnd.jupyter.widget-view+json": {
       "model_id": "6abc6a5db424492aaa5c5cb3ffd1df6c",
       "version_major": 2,
       "version_minor": 0
      },
      "text/plain": [
       "Image(value=b'\\x89PNG\\r\\n\\x1a\\n\\x00\\x00\\x00\\rIHDR\\x00\\x00\\x02X\\x00\\x00\\x02X\\x08\\x02\\x00\\x00\\x001\\x04\\x0f\\x8b\\x…"
      ]
     },
     "metadata": {},
     "output_type": "display_data"
    }
   ],
   "source": [
    "V.draw_scenes(\n",
    "        points=frustum_dropout['points'], gt_boxes=frustum_dropout['gt_boxes']\n",
    "    )\n",
    "\n",
    "mlab.savefig('figs/frustum_dropout_bottom.png')\n",
    "mlab.savefig('3d_renders/frustum_dropout_bottom.obj')\n",
    "currfig"
   ]
  },
  {
   "cell_type": "code",
   "execution_count": 32,
   "metadata": {},
   "outputs": [
    {
     "name": "stdout",
     "output_type": "stream",
     "text": [
      "CPU times: user 1.66 ms, sys: 651 µs, total: 2.31 ms\n",
      "Wall time: 1.43 ms\n"
     ]
    }
   ],
   "source": [
    "%%time\n",
    "frustum_dropout = deepcopy(scene)\n",
    "frustum_dropout['gt_boxes'], frustum_dropout['points'] = global_frustum_dropout_left(frustum_dropout['gt_boxes'][0], frustum_dropout['points'][:, 1:], [0.4, 0.5])"
   ]
  },
  {
   "cell_type": "code",
   "execution_count": 33,
   "metadata": {},
   "outputs": [
    {
     "data": {
      "application/vnd.jupyter.widget-view+json": {
       "model_id": "27c4c470d8454201b48d1e9db5f477b9",
       "version_major": 2,
       "version_minor": 0
      },
      "text/plain": [
       "Image(value=b'\\x89PNG\\r\\n\\x1a\\n\\x00\\x00\\x00\\rIHDR\\x00\\x00\\x02X\\x00\\x00\\x02X\\x08\\x02\\x00\\x00\\x001\\x04\\x0f\\x8b\\x…"
      ]
     },
     "metadata": {},
     "output_type": "display_data"
    }
   ],
   "source": [
    "V.draw_scenes(\n",
    "        points=frustum_dropout['points'], gt_boxes=frustum_dropout['gt_boxes']\n",
    "    )\n",
    "\n",
    "mlab.savefig('figs/frustum_dropout_left.png')\n",
    "mlab.savefig('figs/frustum_dropout_bottom.obj')\n",
    "currfig"
   ]
  },
  {
   "cell_type": "code",
   "execution_count": 34,
   "metadata": {},
   "outputs": [
    {
     "name": "stdout",
     "output_type": "stream",
     "text": [
      "CPU times: user 2.87 ms, sys: 0 ns, total: 2.87 ms\n",
      "Wall time: 1.87 ms\n"
     ]
    }
   ],
   "source": [
    "%%time\n",
    "frustum_dropout = deepcopy(scene)\n",
    "frustum_dropout['gt_boxes'], frustum_dropout['points'] = global_frustum_dropout_right(frustum_dropout['gt_boxes'][0], frustum_dropout['points'][:, 1:], [0.4, 0.5])"
   ]
  },
  {
   "cell_type": "code",
   "execution_count": 35,
   "metadata": {},
   "outputs": [
    {
     "data": {
      "application/vnd.jupyter.widget-view+json": {
       "model_id": "9d51d634ab0942a0b0b2f5ec5d8ca5dc",
       "version_major": 2,
       "version_minor": 0
      },
      "text/plain": [
       "Image(value=b'\\x89PNG\\r\\n\\x1a\\n\\x00\\x00\\x00\\rIHDR\\x00\\x00\\x02X\\x00\\x00\\x02X\\x08\\x02\\x00\\x00\\x001\\x04\\x0f\\x8b\\x…"
      ]
     },
     "metadata": {},
     "output_type": "display_data"
    }
   ],
   "source": [
    "V.draw_scenes(\n",
    "        points=frustum_dropout['points'], gt_boxes=frustum_dropout['gt_boxes']\n",
    "    )\n",
    "\n",
    "mlab.savefig('figs/frustum_dropout_right.png')\n",
    "mlab.savefig('figs/frustum_dropout_right.obj')\n",
    "currfig"
   ]
  },
  {
   "cell_type": "markdown",
   "metadata": {},
   "source": [
    "#### Aux function to find which points are inside a bounding box"
   ]
  },
  {
   "cell_type": "code",
   "execution_count": 36,
   "metadata": {},
   "outputs": [],
   "source": [
    "def get_points_in_box(points, gt_box):\n",
    "    x, y, z, dx, dy, dz = gt_box[0], gt_box[1], gt_box[2], gt_box[3], gt_box[4], gt_box[5]\n",
    "\n",
    "    mask = np.logical_and(points[:,0] <= x + dx/2, \\\n",
    "         np.logical_and(points[:,0] >= x - dx/2, \\\n",
    "             np.logical_and(points[:,1] <= y + dy/2, \\\n",
    "                 np.logical_and(points[:,1] >= y - dy/2, \\\n",
    "                     np.logical_and(points[:,2] <= z + dz/2, points[:,2] >= z - dz/2)))))\n",
    "\n",
    "    points = points[mask]\n",
    "\n",
    "    return points, mask"
   ]
  },
  {
   "cell_type": "code",
   "execution_count": 37,
   "metadata": {},
   "outputs": [
    {
     "name": "stdout",
     "output_type": "stream",
     "text": [
      "CPU times: user 2.06 ms, sys: 751 µs, total: 2.81 ms\n",
      "Wall time: 1.93 ms\n"
     ]
    }
   ],
   "source": [
    "%%time\n",
    "points_to_filter = deepcopy(scene)\n",
    "filtered_points, mask = get_points_in_box(points_to_filter['points'][:,1:], points_to_filter['gt_boxes'][0][1])"
   ]
  },
  {
   "cell_type": "code",
   "execution_count": 38,
   "metadata": {
    "tags": []
   },
   "outputs": [
    {
     "data": {
      "application/vnd.jupyter.widget-view+json": {
       "model_id": "6c84e9412cee41c5800ac5ed110b7df7",
       "version_major": 2,
       "version_minor": 0
      },
      "text/plain": [
       "Image(value=b'\\x89PNG\\r\\n\\x1a\\n\\x00\\x00\\x00\\rIHDR\\x00\\x00\\x02X\\x00\\x00\\x02X\\x08\\x02\\x00\\x00\\x001\\x04\\x0f\\x8b\\x…"
      ]
     },
     "metadata": {},
     "output_type": "display_data"
    }
   ],
   "source": [
    "V.draw_scenes(\n",
    "        points=filtered_points, gt_boxes=points_to_filter['gt_boxes'][0,1:]\n",
    "    )\n",
    "\n",
    "mlab.savefig('figs/points_in_box.png')\n",
    "mlab.savefig('3d_renders/points_in_box.obj')\n",
    "currfig"
   ]
  },
  {
   "cell_type": "markdown",
   "metadata": {},
   "source": [
    "### Local translation"
   ]
  },
  {
   "cell_type": "code",
   "execution_count": 39,
   "metadata": {},
   "outputs": [],
   "source": [
    "def local_translation_along_x(gt_boxes, points, offset_range):\n",
    "    \"\"\"\n",
    "    Args:\n",
    "        gt_boxes: (N, 7), [x, y, z, dx, dy, dz, heading, [vx], [vy]]\n",
    "        points: (M, 3 + C),\n",
    "        offset_range: [min max]]\n",
    "    Returns:\n",
    "    \"\"\"\n",
    "    for idx, box in enumerate(gt_boxes):\n",
    "        offset = np.random.uniform(offset_range[0], offset_range[1])\n",
    "        points_in_box, mask = get_points_in_box(points, box)\n",
    "        points[mask, 0] += offset\n",
    "\n",
    "        gt_boxes[idx, 0] += offset\n",
    "\n",
    "        if gt_boxes.shape[1] > 7:\n",
    "            gt_boxes[idx, 7] += offset\n",
    "\n",
    "    return gt_boxes, points\n",
    "\n",
    "\n",
    "def local_translation_along_y(gt_boxes, points, offset_range):\n",
    "    \"\"\"\n",
    "    Args:\n",
    "        gt_boxes: (N, 7), [x, y, z, dx, dy, dz, heading, [vx], [vy]]\n",
    "        points: (M, 3 + C),\n",
    "        offset_range: [min max]]\n",
    "    Returns:\n",
    "    \"\"\"\n",
    "    for idx, box in enumerate(gt_boxes):\n",
    "        offset = np.random.uniform(offset_range[0], offset_range[1])\n",
    "        points_in_box, mask = get_points_in_box(points, box)\n",
    "        points[mask, 1] += offset\n",
    "\n",
    "        gt_boxes[idx, 1] += offset\n",
    "\n",
    "        if gt_boxes.shape[1] > 8:\n",
    "            gt_boxes[idx, 8] += offset\n",
    "\n",
    "    return gt_boxes, points\n",
    "\n",
    "\n",
    "def local_translation_along_z(gt_boxes, points, offset_range):\n",
    "    \"\"\"\n",
    "    Args:\n",
    "        gt_boxes: (N, 7), [x, y, z, dx, dy, dz, heading, [vx], [vy]]\n",
    "        points: (M, 3 + C),\n",
    "        offset_range: [min max]]\n",
    "    Returns:\n",
    "    \"\"\"\n",
    "    for idx, box in enumerate(gt_boxes):\n",
    "        offset = np.random.uniform(offset_range[0], offset_range[1])\n",
    "        points_in_box, mask = get_points_in_box(points, box)\n",
    "        points[mask, 2] += offset\n",
    "\n",
    "        gt_boxes[idx, 2] += offset\n",
    "\n",
    "    return gt_boxes, points"
   ]
  },
  {
   "cell_type": "code",
   "execution_count": 40,
   "metadata": {},
   "outputs": [
    {
     "name": "stdout",
     "output_type": "stream",
     "text": [
      "CPU times: user 3.7 ms, sys: 0 ns, total: 3.7 ms\n",
      "Wall time: 2.82 ms\n"
     ]
    }
   ],
   "source": [
    "%%time\n",
    "local_translation_x = deepcopy(scene)\n",
    "local_translation_x['gt_boxes'][0], local_translation_x['points'][:,1:] = local_translation_along_x(local_translation_x['gt_boxes'][0], local_translation_x['points'][:, 1:], [-5, 5])"
   ]
  },
  {
   "cell_type": "code",
   "execution_count": 41,
   "metadata": {
    "tags": []
   },
   "outputs": [
    {
     "data": {
      "application/vnd.jupyter.widget-view+json": {
       "model_id": "d8b24af5d2a5440286e3472efebea2df",
       "version_major": 2,
       "version_minor": 0
      },
      "text/plain": [
       "Image(value=b'\\x89PNG\\r\\n\\x1a\\n\\x00\\x00\\x00\\rIHDR\\x00\\x00\\x02X\\x00\\x00\\x02X\\x08\\x02\\x00\\x00\\x001\\x04\\x0f\\x8b\\x…"
      ]
     },
     "metadata": {},
     "output_type": "display_data"
    }
   ],
   "source": [
    "currfig = show_pc(local_translation_x)\n",
    "mlab.savefig('figs/translation_local_x.png', size=(1280,720))\n",
    "mlab.savefig('3d_renders/translation_local_x.obj')\n",
    "currfig"
   ]
  },
  {
   "cell_type": "code",
   "execution_count": 44,
   "metadata": {},
   "outputs": [
    {
     "name": "stdout",
     "output_type": "stream",
     "text": [
      "CPU times: user 2.75 ms, sys: 870 µs, total: 3.62 ms\n",
      "Wall time: 2.48 ms\n"
     ]
    }
   ],
   "source": [
    "%%time\n",
    "local_translation_y = deepcopy(scene)\n",
    "local_translation_y['gt_boxes'][0], local_translation_y['points'][:,1:] = local_translation_along_y(local_translation_y['gt_boxes'][0], local_translation_y['points'][:, 1:], [-5, 10])"
   ]
  },
  {
   "cell_type": "code",
   "execution_count": 45,
   "metadata": {},
   "outputs": [
    {
     "data": {
      "application/vnd.jupyter.widget-view+json": {
       "model_id": "46f38741387f47a4820ce6a1b0b562be",
       "version_major": 2,
       "version_minor": 0
      },
      "text/plain": [
       "Image(value=b'\\x89PNG\\r\\n\\x1a\\n\\x00\\x00\\x00\\rIHDR\\x00\\x00\\x02X\\x00\\x00\\x02X\\x08\\x02\\x00\\x00\\x001\\x04\\x0f\\x8b\\x…"
      ]
     },
     "metadata": {},
     "output_type": "display_data"
    }
   ],
   "source": [
    "currfig = show_pc(local_translation_y)\n",
    "mlab.savefig('figs/translation_local_y.png', size=(1280,720))\n",
    "mlab.savefig('3d_renders/translation_local_y.obj')\n",
    "currfig"
   ]
  },
  {
   "cell_type": "code",
   "execution_count": 48,
   "metadata": {},
   "outputs": [
    {
     "name": "stdout",
     "output_type": "stream",
     "text": [
      "CPU times: user 5.1 ms, sys: 3.03 ms, total: 8.13 ms\n",
      "Wall time: 6.25 ms\n"
     ]
    }
   ],
   "source": [
    "%%time\n",
    "local_translation_z = deepcopy(scene)\n",
    "local_translation_z['gt_boxes'][0], local_translation_z['points'][:,1:] = local_translation_along_z(local_translation_z['gt_boxes'][0], local_translation_z['points'][:, 1:], [-5, 5])"
   ]
  },
  {
   "cell_type": "code",
   "execution_count": 49,
   "metadata": {},
   "outputs": [
    {
     "data": {
      "application/vnd.jupyter.widget-view+json": {
       "model_id": "71c8c626852e4fa0b4ade05f5b56547b",
       "version_major": 2,
       "version_minor": 0
      },
      "text/plain": [
       "Image(value=b'\\x89PNG\\r\\n\\x1a\\n\\x00\\x00\\x00\\rIHDR\\x00\\x00\\x02X\\x00\\x00\\x02X\\x08\\x02\\x00\\x00\\x001\\x04\\x0f\\x8b\\x…"
      ]
     },
     "metadata": {},
     "output_type": "display_data"
    }
   ],
   "source": [
    "currfig = show_pc(local_translation_z)\n",
    "mlab.savefig('figs/translation_local_z.png', size=(1280,720))\n",
    "mlab.savefig('3d_renders/translation_local_z.obj')\n",
    "currfig"
   ]
  },
  {
   "cell_type": "markdown",
   "metadata": {},
   "source": [
    "### Local scaling"
   ]
  },
  {
   "cell_type": "code",
   "execution_count": 50,
   "metadata": {},
   "outputs": [],
   "source": [
    "def local_scaling(gt_boxes, points, scale_range):\n",
    "    \"\"\"\n",
    "    Args:\n",
    "        gt_boxes: (N, 7), [x, y, z, dx, dy, dz, heading]\n",
    "        points: (M, 3 + C),\n",
    "        scale_range: [min, max]\n",
    "    Returns:\n",
    "    \"\"\"\n",
    "    if scale_range[1] - scale_range[0] < 1e-3:\n",
    "        return gt_boxes, points\n",
    "\n",
    "    for idx, box in enumerate(gt_boxes):\n",
    "        noise_scale = np.random.uniform(scale_range[0], scale_range[1])\n",
    "        points_in_box, mask = get_points_in_box(points, box)\n",
    "        \n",
    "        # tranlation to axis center\n",
    "        points[mask, 0] -= box[0]\n",
    "        points[mask, 1] -= box[1]\n",
    "        points[mask, 2] -= box[2]\n",
    "\n",
    "        # apply scaling\n",
    "        points[mask, :3] *= noise_scale\n",
    "\n",
    "        # tranlation back to original position\n",
    "        points[mask, 0] += box[0]\n",
    "        points[mask, 1] += box[1]\n",
    "        points[mask, 2] += box[2]\n",
    "\n",
    "        gt_boxes[idx, 3:6] *= noise_scale\n",
    "    return gt_boxes, points"
   ]
  },
  {
   "cell_type": "code",
   "execution_count": 51,
   "metadata": {},
   "outputs": [
    {
     "name": "stdout",
     "output_type": "stream",
     "text": [
      "CPU times: user 4.92 ms, sys: 291 µs, total: 5.21 ms\n",
      "Wall time: 4.48 ms\n"
     ]
    }
   ],
   "source": [
    "%%time\n",
    "scaled_local = deepcopy(scene)\n",
    "scaled_local['gt_boxes'][0], scaled_local['points'][:,1:] = local_scaling(scaled_local['gt_boxes'][0], scaled_local['points'][:, 1:], [0.4, 0.5])"
   ]
  },
  {
   "cell_type": "code",
   "execution_count": 52,
   "metadata": {},
   "outputs": [
    {
     "data": {
      "application/vnd.jupyter.widget-view+json": {
       "model_id": "7b20f8b4742f4207b002447c2e317586",
       "version_major": 2,
       "version_minor": 0
      },
      "text/plain": [
       "Image(value=b'\\x89PNG\\r\\n\\x1a\\n\\x00\\x00\\x00\\rIHDR\\x00\\x00\\x02X\\x00\\x00\\x02X\\x08\\x02\\x00\\x00\\x001\\x04\\x0f\\x8b\\x…"
      ]
     },
     "metadata": {},
     "output_type": "display_data"
    }
   ],
   "source": [
    "currfig = show_pc(scaled_local)\n",
    "mlab.savefig('figs/scaled_local.png', size=(1280,720))\n",
    "mlab.savefig('3d_renders/scaled_local.obj')\n",
    "currfig"
   ]
  },
  {
   "cell_type": "markdown",
   "metadata": {},
   "source": [
    "### Local rotation"
   ]
  },
  {
   "cell_type": "code",
   "execution_count": 53,
   "metadata": {},
   "outputs": [],
   "source": [
    "def local_rotation(gt_boxes, points, rot_range):\n",
    "    \"\"\"\n",
    "    Args:\n",
    "        gt_boxes: (N, 7), [x, y, z, dx, dy, dz, heading, [vx], [vy]]\n",
    "        points: (M, 3 + C),\n",
    "        rot_range: [min, max]\n",
    "    Returns:\n",
    "    \"\"\"\n",
    "    \n",
    "    for idx, box in enumerate(gt_boxes):\n",
    "        noise_rotation = np.random.uniform(rot_range[0], rot_range[1])\n",
    "        points_in_box, mask = get_points_in_box(points, box)\n",
    "        \n",
    "        centroid_x = box[0]\n",
    "        centroid_y = box[1]\n",
    "        centroid_z = box[2]\n",
    "\n",
    "        # tranlation to axis center\n",
    "        points[mask, 0] -= centroid_x\n",
    "        points[mask, 1] -= centroid_y\n",
    "        points[mask, 2] -= centroid_z\n",
    "        box[0] -= centroid_x\n",
    "        box[1] -= centroid_y\n",
    "        box[2] -= centroid_z\n",
    "\n",
    "        # apply rotation\n",
    "        points[mask, :] = common_utils.rotate_points_along_z(points[np.newaxis, mask, :], np.array([noise_rotation]))[0]\n",
    "        box[0:3] = common_utils.rotate_points_along_z(box[np.newaxis, np.newaxis, 0:3], np.array([noise_rotation]))[0][0]\n",
    "\n",
    "        # tranlation back to original position\n",
    "        points[mask, 0] += centroid_x\n",
    "        points[mask, 1] += centroid_y\n",
    "        points[mask, 2] += centroid_z\n",
    "        box[0] += centroid_x\n",
    "        box[1] += centroid_y\n",
    "        box[2] += centroid_z\n",
    "\n",
    "        gt_boxes[idx, 6] += noise_rotation\n",
    "        if gt_boxes.shape[1] > 8:\n",
    "            gt_boxes[idx, 7:9] = common_utils.rotate_points_along_z(\n",
    "                np.hstack((gt_boxes[idx, 7:9], np.zeros((gt_boxes.shape[0], 1))))[np.newaxis, :, :],\n",
    "                np.array([noise_rotation])\n",
    "            )[0][:, 0:2]\n",
    "\n",
    "    return gt_boxes, points"
   ]
  },
  {
   "cell_type": "code",
   "execution_count": 54,
   "metadata": {},
   "outputs": [
    {
     "name": "stdout",
     "output_type": "stream",
     "text": [
      "CPU times: user 8.55 ms, sys: 166 µs, total: 8.71 ms\n",
      "Wall time: 7.15 ms\n"
     ]
    }
   ],
   "source": [
    "%%time\n",
    "rotated_local = deepcopy(scene)\n",
    "rotated_local['gt_boxes'][0], rotated_local['points'][:,1:] = local_rotation(rotated_local['gt_boxes'][0],rotated_local['points'][:, 1:], [-0.78539815, 0.78539816])"
   ]
  },
  {
   "cell_type": "code",
   "execution_count": 55,
   "metadata": {
    "tags": []
   },
   "outputs": [
    {
     "data": {
      "application/vnd.jupyter.widget-view+json": {
       "model_id": "a636f1323e524f56afe2b0effef7ff52",
       "version_major": 2,
       "version_minor": 0
      },
      "text/plain": [
       "Image(value=b'\\x89PNG\\r\\n\\x1a\\n\\x00\\x00\\x00\\rIHDR\\x00\\x00\\x02X\\x00\\x00\\x02X\\x08\\x02\\x00\\x00\\x001\\x04\\x0f\\x8b\\x…"
      ]
     },
     "metadata": {},
     "output_type": "display_data"
    }
   ],
   "source": [
    "currfig = show_pc(rotated_local)\n",
    "mlab.savefig('figs/rotated_local.png', size=(1280,720))\n",
    "mlab.savefig('3d_renders/rotated_local.obj')\n",
    "currfig"
   ]
  },
  {
   "cell_type": "markdown",
   "metadata": {},
   "source": [
    "### Local frustum dropout"
   ]
  },
  {
   "cell_type": "code",
   "execution_count": 56,
   "metadata": {},
   "outputs": [],
   "source": [
    "def local_frustum_dropout_top(gt_boxes, points, intensity_range):\n",
    "    \"\"\"\n",
    "    Args:\n",
    "        gt_boxes: (N, 7), [x, y, z, dx, dy, dz, heading, [vx], [vy]],\n",
    "        points: (M, 3 + C),\n",
    "        intensity: [min, max]\n",
    "    Returns:\n",
    "    \"\"\"\n",
    "    for idx, box in enumerate(gt_boxes):\n",
    "        x, y, z, dx, dy, dz = box[0], box[1], box[2], box[3], box[4], box[5]\n",
    "\n",
    "        intensity = np.random.uniform(intensity_range[0], intensity_range[1])\n",
    "        points_in_box = get_points_in_box(points, box)\n",
    "        threshold = (z + dz/2) - intensity * dz\n",
    "\n",
    "        points = points[np.logical_not( \\\n",
    "        np.logical_and(points[:,1] <= y + dy/2, \\\n",
    "        np.logical_and(points[:,1] >= y - dy/2, \\\n",
    "            np.logical_and(points[:,0] <= x + dx/2, \\\n",
    "                np.logical_and(points[:,0] >= x - dx/2, \\\n",
    "                    np.logical_and(points[:,2] <= z + dz/2, points[:,2] >= threshold))))))]\n",
    "\n",
    "    return gt_boxes, points\n",
    "\n",
    "def local_frustum_dropout_bottom(gt_boxes, points, intensity_range):\n",
    "    \"\"\"\n",
    "    Args:\n",
    "        gt_boxes: (N, 7), [x, y, z, dx, dy, dz, heading, [vx], [vy]],\n",
    "        points: (M, 3 + C),\n",
    "        intensity: [min, max]\n",
    "    Returns:\n",
    "    \"\"\"\n",
    "    for idx, box in enumerate(gt_boxes):\n",
    "        x, y, z, dx, dy, dz = box[0], box[1], box[2], box[3], box[4], box[5]\n",
    "\n",
    "        intensity = np.random.uniform(intensity_range[0], intensity_range[1])\n",
    "        points_in_box = get_points_in_box(points, box)\n",
    "        threshold = (z - dz/2) + intensity * dz\n",
    "        points = points[np.logical_not( \\\n",
    "            np.logical_and(points[:,1] <= y + dy/2, \\\n",
    "            np.logical_and(points[:,1] >= y - dy/2, \\\n",
    "                np.logical_and(points[:,0] <= x + dx/2, \\\n",
    "                    np.logical_and(points[:,0] >= x - dx/2, \\\n",
    "                        np.logical_and(points[:,2] <= threshold, points[:,2] >= z - dz/2))))))]\n",
    "\n",
    "    return gt_boxes, points\n",
    "\n",
    "def local_frustum_dropout_left(gt_boxes, points, intensity_range):\n",
    "    \"\"\"\n",
    "    Args:\n",
    "        gt_boxes: (N, 7), [x, y, z, dx, dy, dz, heading, [vx], [vy]],\n",
    "        points: (M, 3 + C),\n",
    "        intensity: [min, max]\n",
    "    Returns:\n",
    "    \"\"\"\n",
    "    for idx, box in enumerate(gt_boxes):\n",
    "        x, y, z, dx, dy, dz = box[0], box[1], box[2], box[3], box[4], box[5]\n",
    "\n",
    "        intensity = np.random.uniform(intensity_range[0], intensity_range[1])\n",
    "        points_in_box = get_points_in_box(points, box)\n",
    "        threshold = (y + dy/2) - intensity * dy\n",
    "\n",
    "        points = points[np.logical_not( \\\n",
    "            np.logical_and(points[:,1] <= y + dy/2, \\\n",
    "            np.logical_and(points[:,1] >= threshold, \\\n",
    "                np.logical_and(points[:,0] <= x + dx/2, \\\n",
    "                    np.logical_and(points[:,0] >= x - dx/2, \\\n",
    "                        np.logical_and(points[:,2] <= z + dz/2, points[:,2] >= z - dz/2))))))]\n",
    "\n",
    "    return gt_boxes, points\n",
    "\n",
    "def local_frustum_dropout_right(gt_boxes, points, intensity_range):\n",
    "    \"\"\"\n",
    "    Args:\n",
    "        gt_boxes: (N, 7), [x, y, z, dx, dy, dz, heading, [vx], [vy]],\n",
    "        points: (M, 3 + C),\n",
    "        intensity: [min, max]\n",
    "    Returns:\n",
    "    \"\"\"\n",
    "    for idx, box in enumerate(gt_boxes):\n",
    "        x, y, z, dx, dy, dz = box[0], box[1], box[2], box[3], box[4], box[5]\n",
    "\n",
    "        intensity = np.random.uniform(intensity_range[0], intensity_range[1])\n",
    "        points_in_box = get_points_in_box(points, box)\n",
    "        threshold = (y - dy/2) + intensity * dy\n",
    "\n",
    "        points = points[np.logical_not( \\\n",
    "            np.logical_and(points[:,1] <= threshold, \\\n",
    "            np.logical_and(points[:,1] >= y - dy/2, \\\n",
    "                np.logical_and(points[:,0] <= x + dx/2, \\\n",
    "                    np.logical_and(points[:,0] >= x - dx/2, \\\n",
    "                        np.logical_and(points[:,2] <= z + dz/2, points[:,2] >= z - dz/2))))))]\n",
    "\n",
    "    return gt_boxes, points"
   ]
  },
  {
   "cell_type": "code",
   "execution_count": 57,
   "metadata": {},
   "outputs": [
    {
     "name": "stdout",
     "output_type": "stream",
     "text": [
      "CPU times: user 5.68 ms, sys: 302 µs, total: 5.99 ms\n",
      "Wall time: 5.19 ms\n"
     ]
    }
   ],
   "source": [
    "%%time\n",
    "frustum_dropout = deepcopy(scene)\n",
    "frustum_dropout['gt_boxes'], frustum_dropout['points'] = local_frustum_dropout_top(frustum_dropout['gt_boxes'][0], frustum_dropout['points'][:, 1:], [0.5, 0.5])"
   ]
  },
  {
   "cell_type": "code",
   "execution_count": 58,
   "metadata": {},
   "outputs": [
    {
     "data": {
      "application/vnd.jupyter.widget-view+json": {
       "model_id": "4921958eabdb403da175f5f98acf054e",
       "version_major": 2,
       "version_minor": 0
      },
      "text/plain": [
       "Image(value=b'\\x89PNG\\r\\n\\x1a\\n\\x00\\x00\\x00\\rIHDR\\x00\\x00\\x02X\\x00\\x00\\x02X\\x08\\x02\\x00\\x00\\x001\\x04\\x0f\\x8b\\x…"
      ]
     },
     "metadata": {},
     "output_type": "display_data"
    }
   ],
   "source": [
    "V.draw_scenes(\n",
    "        points=frustum_dropout['points'], gt_boxes=frustum_dropout['gt_boxes']\n",
    "    )\n",
    "\n",
    "mlab.savefig('figs/local_frustum_dropout_top.png')\n",
    "mlab.savefig('3d_renders/local_frustum_dropout_top.obj')\n",
    "currfig"
   ]
  },
  {
   "cell_type": "code",
   "execution_count": 59,
   "metadata": {},
   "outputs": [
    {
     "name": "stdout",
     "output_type": "stream",
     "text": [
      "CPU times: user 1.72 ms, sys: 3.35 ms, total: 5.07 ms\n",
      "Wall time: 4.31 ms\n"
     ]
    }
   ],
   "source": [
    "%%time\n",
    "frustum_dropout = deepcopy(scene)\n",
    "frustum_dropout['gt_boxes'], frustum_dropout['points'] = local_frustum_dropout_bottom(frustum_dropout['gt_boxes'][0], frustum_dropout['points'][:, 1:], [0.3, 0.4])"
   ]
  },
  {
   "cell_type": "code",
   "execution_count": 60,
   "metadata": {},
   "outputs": [
    {
     "data": {
      "application/vnd.jupyter.widget-view+json": {
       "model_id": "36e43dbee6db4df0a5d5822cd9b3c25f",
       "version_major": 2,
       "version_minor": 0
      },
      "text/plain": [
       "Image(value=b'\\x89PNG\\r\\n\\x1a\\n\\x00\\x00\\x00\\rIHDR\\x00\\x00\\x02X\\x00\\x00\\x02X\\x08\\x02\\x00\\x00\\x001\\x04\\x0f\\x8b\\x…"
      ]
     },
     "metadata": {},
     "output_type": "display_data"
    }
   ],
   "source": [
    "V.draw_scenes(\n",
    "        points=frustum_dropout['points'], gt_boxes=frustum_dropout['gt_boxes']\n",
    "    )\n",
    "\n",
    "mlab.savefig('figs/local_frustum_dropout_bottom.png')\n",
    "mlab.savefig('3d_renders/local_frustum_dropout_bottom.obj')\n",
    "currfig"
   ]
  },
  {
   "cell_type": "code",
   "execution_count": 61,
   "metadata": {},
   "outputs": [
    {
     "name": "stdout",
     "output_type": "stream",
     "text": [
      "CPU times: user 8.87 ms, sys: 0 ns, total: 8.87 ms\n",
      "Wall time: 7.2 ms\n"
     ]
    }
   ],
   "source": [
    "%%time\n",
    "frustum_dropout = deepcopy(scene)\n",
    "frustum_dropout['gt_boxes'], frustum_dropout['points'] = local_frustum_dropout_left(frustum_dropout['gt_boxes'][0], frustum_dropout['points'][:, 1:], [0.3, 0.4])"
   ]
  },
  {
   "cell_type": "code",
   "execution_count": 62,
   "metadata": {},
   "outputs": [
    {
     "data": {
      "application/vnd.jupyter.widget-view+json": {
       "model_id": "a7f99162eec64d2085c4201c4491e733",
       "version_major": 2,
       "version_minor": 0
      },
      "text/plain": [
       "Image(value=b'\\x89PNG\\r\\n\\x1a\\n\\x00\\x00\\x00\\rIHDR\\x00\\x00\\x02X\\x00\\x00\\x02X\\x08\\x02\\x00\\x00\\x001\\x04\\x0f\\x8b\\x…"
      ]
     },
     "metadata": {},
     "output_type": "display_data"
    }
   ],
   "source": [
    "V.draw_scenes(\n",
    "        points=frustum_dropout['points'], gt_boxes=frustum_dropout['gt_boxes']\n",
    "    )\n",
    "\n",
    "mlab.savefig('figs/local_frustum_dropout_left.png')\n",
    "mlab.savefig('3d_renders/local_frustum_dropout_left.obj')\n",
    "currfig"
   ]
  },
  {
   "cell_type": "code",
   "execution_count": 63,
   "metadata": {},
   "outputs": [
    {
     "name": "stdout",
     "output_type": "stream",
     "text": [
      "CPU times: user 1.59 ms, sys: 3.36 ms, total: 4.95 ms\n",
      "Wall time: 5.87 ms\n"
     ]
    }
   ],
   "source": [
    "%%time\n",
    "frustum_dropout = deepcopy(scene)\n",
    "frustum_dropout['gt_boxes'], frustum_dropout['points'] = local_frustum_dropout_right(frustum_dropout['gt_boxes'][0], frustum_dropout['points'][:, 1:], [0.3, 0.4])"
   ]
  },
  {
   "cell_type": "code",
   "execution_count": 64,
   "metadata": {},
   "outputs": [
    {
     "data": {
      "application/vnd.jupyter.widget-view+json": {
       "model_id": "b58fc14f364240b9ae218045486443e2",
       "version_major": 2,
       "version_minor": 0
      },
      "text/plain": [
       "Image(value=b'\\x89PNG\\r\\n\\x1a\\n\\x00\\x00\\x00\\rIHDR\\x00\\x00\\x02X\\x00\\x00\\x02X\\x08\\x02\\x00\\x00\\x001\\x04\\x0f\\x8b\\x…"
      ]
     },
     "metadata": {},
     "output_type": "display_data"
    }
   ],
   "source": [
    "V.draw_scenes(\n",
    "        points=frustum_dropout['points'], gt_boxes=frustum_dropout['gt_boxes']\n",
    "    )\n",
    "\n",
    "mlab.savefig('figs/local_frustum_dropout_right.png')\n",
    "mlab.savefig('3d_renders/local_frustum_dropout_right.obj')\n",
    "currfig"
   ]
  },
  {
   "cell_type": "code",
   "execution_count": null,
   "metadata": {},
   "outputs": [],
   "source": []
  }
 ],
 "metadata": {
  "interpreter": {
   "hash": "e7370f93d1d0cde622a1f8e1c04877d8463912d04d973331ad4851f04de6915a"
  },
  "kernelspec": {
   "display_name": "Python 3.8.10 64-bit",
   "name": "python3"
  },
  "language_info": {
   "codemirror_mode": {
    "name": "ipython",
    "version": 3
   },
   "file_extension": ".py",
   "mimetype": "text/x-python",
   "name": "python",
   "nbconvert_exporter": "python",
   "pygments_lexer": "ipython3",
   "version": "3.8.10"
  },
  "metadata": {
   "interpreter": {
    "hash": "e7370f93d1d0cde622a1f8e1c04877d8463912d04d973331ad4851f04de6915a"
   }
  },
  "orig_nbformat": 2
 },
 "nbformat": 4,
 "nbformat_minor": 2
}
